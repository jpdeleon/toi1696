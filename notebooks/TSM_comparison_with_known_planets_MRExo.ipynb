{
 "cells": [
  {
   "cell_type": "code",
   "execution_count": 1,
   "metadata": {
    "ExecuteTime": {
     "end_time": "2022-02-24T03:05:26.088785Z",
     "start_time": "2022-02-24T03:05:25.294158Z"
    }
   },
   "outputs": [],
   "source": [
    "%matplotlib inline\n",
    "import numpy as np\n",
    "import matplotlib.pyplot as pl\n",
    "from astropy.io import fits\n",
    "from astropy import wcs\n",
    "import pandas as pd\n",
    "import sys\n",
    "from tqdm import tqdm\n",
    "from astropy.visualization import ZScaleInterval\n",
    "from glob import glob\n",
    "import csv\n",
    "#import seaborn as sns\n",
    "\n",
    "from multiprocessing import Pool\n",
    "import time as tm\n",
    "\n",
    "from uncertainties import ufloat\n",
    "from scipy import constants as con\n",
    "from astropy import constants as ascon\n",
    "from astropy import units as u\n",
    "#import pyregion"
   ]
  },
  {
   "cell_type": "raw",
   "metadata": {
    "ExecuteTime": {
     "end_time": "2022-02-24T03:05:38.232377Z",
     "start_time": "2022-02-24T03:05:34.252419Z"
    }
   },
   "source": [
    "!pip install mrexo"
   ]
  },
  {
   "cell_type": "code",
   "execution_count": 2,
   "metadata": {
    "ExecuteTime": {
     "end_time": "2022-02-24T03:05:38.571981Z",
     "start_time": "2022-02-24T03:05:38.238100Z"
    }
   },
   "outputs": [],
   "source": [
    "from mrexo import predict_from_measurement, generate_lookup_table"
   ]
  },
  {
   "cell_type": "markdown",
   "metadata": {},
   "source": [
    "# TSM\n",
    "\n",
    "https://arxiv.org/pdf/1805.03671.pdf"
   ]
  },
  {
   "cell_type": "code",
   "execution_count": 3,
   "metadata": {
    "ExecuteTime": {
     "end_time": "2022-02-24T03:05:40.394688Z",
     "start_time": "2022-02-24T03:05:40.383713Z"
    }
   },
   "outputs": [],
   "source": [
    "def TSM(rp, mp, teq, rs, m_J) :\n",
    "    \n",
    "    if rp < 1.5:\n",
    "        scale = 0.190\n",
    "    elif rp < 2.75:\n",
    "        scale = 1.26\n",
    "    elif rp < 4.0:\n",
    "        scale = 1.28\n",
    "    else: \n",
    "        scale = 1.15\n",
    "        \n",
    "    return scale*rp**3 * teq / (mp * rs **2) * 10**(-m_J/5.)"
   ]
  },
  {
   "cell_type": "code",
   "execution_count": 4,
   "metadata": {
    "ExecuteTime": {
     "end_time": "2022-02-24T03:05:40.641756Z",
     "start_time": "2022-02-24T03:05:40.637296Z"
    }
   },
   "outputs": [],
   "source": [
    "def MR_relation(Rp):\n",
    "    \"\"\"Eq. 2 in Kempton+2018\n",
    "    https://arxiv.org/pdf/1805.03671.pdf\n",
    "    which is based on Chen & Kipping+2017\n",
    "    \"\"\"\n",
    "    if Rp < 1.23:\n",
    "        Mp = 0.9718*Rp**3.58\n",
    "    elif 1.23 < Rp < 14.26:\n",
    "        Mp =  1.436*Rp**1.70\n",
    "    else:\n",
    "        raise ValueError\n",
    "    return Mp"
   ]
  },
  {
   "cell_type": "raw",
   "metadata": {
    "collapsed": true
   },
   "source": [
    "h = con.h\n",
    "pi = con.pi\n",
    "c = con.c\n",
    "k = con.k\n",
    "\n",
    "def planck(wav, T):\n",
    "    a = 2.0*h*c**2\n",
    "    b = h*c/(wav*k*T)\n",
    "    intensity = a/ ( (wav**5) * (np.exp(b) - 1.0) )\n",
    "    return intensity\n",
    "\n",
    "def ESM(rp, teq, rs, teff, m_K) :\n",
    "    tday = 1.1*teq\n",
    "    \n",
    "    bb_tday=planck(7.5e-6, tday)\n",
    "    bb_teff=planck(7.5e-6, teff)\n",
    "    \n",
    "    #Here, Rp/Rs is in absolute value...\n",
    "    \n",
    "    rp_rs=(rp*6.3781e8)/(rs*6.957e10)\n",
    "    #rp_rs=((rp*u.earthRad.cgs)/(rs*u.solRad.cgs)).value\n",
    "    \n",
    "    esm= 4.29e6* bb_tday/bb_teff * (rp_rs)**2 * 10**(-m_K/5)\n",
    "    \n",
    "    return esm"
   ]
  },
  {
   "cell_type": "markdown",
   "metadata": {},
   "source": [
    "## TOI 1696.01\t/ TIC 470381900.01"
   ]
  },
  {
   "cell_type": "code",
   "execution_count": 8,
   "metadata": {
    "ExecuteTime": {
     "end_time": "2022-02-24T03:05:45.407211Z",
     "start_time": "2022-02-24T03:05:45.396208Z"
    }
   },
   "outputs": [],
   "source": [
    "Rp_tg = 3.09 #Rearth \n",
    "Rp_err_tg = 0.11\n",
    "\n",
    "Teq_tg  = 489 #pm 24, K\n",
    "Per_tg = 2.500311\n",
    "\n",
    "Teff_tg  = 3185\n",
    "Rs_tg  = 0.2775\n",
    "\n",
    "mJ_tg  =12.233\n",
    "mK_tg  = 11.331\n",
    "\n",
    "dep_tg=((Rp_tg*6.3781e8)/(Rs_tg*6.957e10))**2"
   ]
  },
  {
   "cell_type": "code",
   "execution_count": 9,
   "metadata": {
    "ExecuteTime": {
     "end_time": "2022-02-24T03:05:48.797624Z",
     "start_time": "2022-02-24T03:05:48.783850Z"
    }
   },
   "outputs": [
    {
     "data": {
      "text/plain": [
       "9.774259271734227"
      ]
     },
     "execution_count": 9,
     "metadata": {},
     "output_type": "execute_result"
    }
   ],
   "source": [
    "MR_relation(Rp_tg)"
   ]
  },
  {
   "cell_type": "code",
   "execution_count": 39,
   "metadata": {
    "ExecuteTime": {
     "end_time": "2022-02-24T03:05:52.618902Z",
     "start_time": "2022-02-24T03:05:52.479308Z"
    }
   },
   "outputs": [],
   "source": [
    "Mp_tg, Mp_qtls_tg, iron_planet = predict_from_measurement(measurement=Rp_tg , measurement_sigma=Rp_err_tg, dataset='mdwarf',  is_posterior=False, show_plot=False)\n",
    "#print(Mp_tg, Mp_qtls_tg)"
   ]
  },
  {
   "cell_type": "code",
   "execution_count": 40,
   "metadata": {},
   "outputs": [
    {
     "data": {
      "text/plain": [
       "8.122301691112247"
      ]
     },
     "execution_count": 40,
     "metadata": {},
     "output_type": "execute_result"
    }
   ],
   "source": [
    "Mp_tg"
   ]
  },
  {
   "cell_type": "code",
   "execution_count": 38,
   "metadata": {
    "ExecuteTime": {
     "end_time": "2022-02-24T03:05:52.700932Z",
     "start_time": "2022-02-24T03:05:52.694702Z"
    }
   },
   "outputs": [
    {
     "data": {
      "text/plain": [
       "array([ 3.75282338, 20.25896994])"
      ]
     },
     "execution_count": 38,
     "metadata": {},
     "output_type": "execute_result"
    }
   ],
   "source": [
    "Mp_qtls_tg"
   ]
  },
  {
   "cell_type": "code",
   "execution_count": 12,
   "metadata": {
    "ExecuteTime": {
     "end_time": "2022-02-24T03:05:53.161592Z",
     "start_time": "2022-02-24T03:05:53.156554Z"
    },
    "scrolled": true
   },
   "outputs": [
    {
     "data": {
      "text/plain": [
       "105.58182763822548"
      ]
     },
     "execution_count": 12,
     "metadata": {},
     "output_type": "execute_result"
    }
   ],
   "source": [
    "TSM_tg=TSM(Rp_tg , Mp_tg , Teq_tg , Rs_tg , mJ_tg )\n",
    "TSM_tg"
   ]
  },
  {
   "cell_type": "markdown",
   "metadata": {},
   "source": [
    "## Importing data from NASA Exoplanet Archive"
   ]
  },
  {
   "cell_type": "code",
   "execution_count": 13,
   "metadata": {
    "ExecuteTime": {
     "end_time": "2022-02-24T03:05:54.857702Z",
     "start_time": "2022-02-24T03:05:53.983920Z"
    }
   },
   "outputs": [
    {
     "data": {
      "text/html": [
       "<div>\n",
       "<style scoped>\n",
       "    .dataframe tbody tr th:only-of-type {\n",
       "        vertical-align: middle;\n",
       "    }\n",
       "\n",
       "    .dataframe tbody tr th {\n",
       "        vertical-align: top;\n",
       "    }\n",
       "\n",
       "    .dataframe thead th {\n",
       "        text-align: right;\n",
       "    }\n",
       "</style>\n",
       "<table border=\"1\" class=\"dataframe\">\n",
       "  <thead>\n",
       "    <tr style=\"text-align: right;\">\n",
       "      <th></th>\n",
       "      <th>pl_name</th>\n",
       "      <th>hostname</th>\n",
       "      <th>pl_letter</th>\n",
       "      <th>hd_name</th>\n",
       "      <th>hip_name</th>\n",
       "      <th>tic_id</th>\n",
       "      <th>gaia_id</th>\n",
       "      <th>default_flag</th>\n",
       "      <th>sy_snum</th>\n",
       "      <th>sy_pnum</th>\n",
       "      <th>...</th>\n",
       "      <th>sy_kepmagerr2</th>\n",
       "      <th>rowupdate</th>\n",
       "      <th>pl_pubdate</th>\n",
       "      <th>releasedate</th>\n",
       "      <th>pl_nnotes</th>\n",
       "      <th>st_nphot</th>\n",
       "      <th>st_nrvc</th>\n",
       "      <th>st_nspec</th>\n",
       "      <th>pl_nespec</th>\n",
       "      <th>pl_ntranspec</th>\n",
       "    </tr>\n",
       "  </thead>\n",
       "  <tbody>\n",
       "    <tr>\n",
       "      <th>0</th>\n",
       "      <td>11 Com b</td>\n",
       "      <td>11 Com</td>\n",
       "      <td>b</td>\n",
       "      <td>HD 107383</td>\n",
       "      <td>HIP 60202</td>\n",
       "      <td>TIC 72437047</td>\n",
       "      <td>Gaia DR2 3946945413106333696</td>\n",
       "      <td>1</td>\n",
       "      <td>2</td>\n",
       "      <td>1</td>\n",
       "      <td>...</td>\n",
       "      <td>NaN</td>\n",
       "      <td>2014-05-14</td>\n",
       "      <td>2008-01</td>\n",
       "      <td>2014-05-14</td>\n",
       "      <td>2</td>\n",
       "      <td>1</td>\n",
       "      <td>2</td>\n",
       "      <td>0</td>\n",
       "      <td>0</td>\n",
       "      <td>0</td>\n",
       "    </tr>\n",
       "    <tr>\n",
       "      <th>1</th>\n",
       "      <td>11 Com b</td>\n",
       "      <td>11 Com</td>\n",
       "      <td>b</td>\n",
       "      <td>HD 107383</td>\n",
       "      <td>HIP 60202</td>\n",
       "      <td>TIC 72437047</td>\n",
       "      <td>Gaia DR2 3946945413106333696</td>\n",
       "      <td>0</td>\n",
       "      <td>2</td>\n",
       "      <td>1</td>\n",
       "      <td>...</td>\n",
       "      <td>NaN</td>\n",
       "      <td>2014-07-23</td>\n",
       "      <td>2011-08</td>\n",
       "      <td>2014-07-23</td>\n",
       "      <td>2</td>\n",
       "      <td>1</td>\n",
       "      <td>2</td>\n",
       "      <td>0</td>\n",
       "      <td>0</td>\n",
       "      <td>0</td>\n",
       "    </tr>\n",
       "    <tr>\n",
       "      <th>2</th>\n",
       "      <td>11 UMi b</td>\n",
       "      <td>11 UMi</td>\n",
       "      <td>b</td>\n",
       "      <td>HD 136726</td>\n",
       "      <td>HIP 74793</td>\n",
       "      <td>TIC 230061010</td>\n",
       "      <td>Gaia DR2 1696798367260229376</td>\n",
       "      <td>0</td>\n",
       "      <td>1</td>\n",
       "      <td>1</td>\n",
       "      <td>...</td>\n",
       "      <td>NaN</td>\n",
       "      <td>2018-04-25</td>\n",
       "      <td>2011-08</td>\n",
       "      <td>2014-07-23</td>\n",
       "      <td>0</td>\n",
       "      <td>1</td>\n",
       "      <td>1</td>\n",
       "      <td>0</td>\n",
       "      <td>0</td>\n",
       "      <td>0</td>\n",
       "    </tr>\n",
       "    <tr>\n",
       "      <th>3</th>\n",
       "      <td>11 UMi b</td>\n",
       "      <td>11 UMi</td>\n",
       "      <td>b</td>\n",
       "      <td>HD 136726</td>\n",
       "      <td>HIP 74793</td>\n",
       "      <td>TIC 230061010</td>\n",
       "      <td>Gaia DR2 1696798367260229376</td>\n",
       "      <td>1</td>\n",
       "      <td>1</td>\n",
       "      <td>1</td>\n",
       "      <td>...</td>\n",
       "      <td>NaN</td>\n",
       "      <td>2018-09-04</td>\n",
       "      <td>2017-03</td>\n",
       "      <td>2018-09-06</td>\n",
       "      <td>0</td>\n",
       "      <td>1</td>\n",
       "      <td>1</td>\n",
       "      <td>0</td>\n",
       "      <td>0</td>\n",
       "      <td>0</td>\n",
       "    </tr>\n",
       "    <tr>\n",
       "      <th>4</th>\n",
       "      <td>11 UMi b</td>\n",
       "      <td>11 UMi</td>\n",
       "      <td>b</td>\n",
       "      <td>HD 136726</td>\n",
       "      <td>HIP 74793</td>\n",
       "      <td>TIC 230061010</td>\n",
       "      <td>Gaia DR2 1696798367260229376</td>\n",
       "      <td>0</td>\n",
       "      <td>1</td>\n",
       "      <td>1</td>\n",
       "      <td>...</td>\n",
       "      <td>NaN</td>\n",
       "      <td>2018-04-25</td>\n",
       "      <td>2009-10</td>\n",
       "      <td>2014-05-14</td>\n",
       "      <td>0</td>\n",
       "      <td>1</td>\n",
       "      <td>1</td>\n",
       "      <td>0</td>\n",
       "      <td>0</td>\n",
       "      <td>0</td>\n",
       "    </tr>\n",
       "    <tr>\n",
       "      <th>...</th>\n",
       "      <td>...</td>\n",
       "      <td>...</td>\n",
       "      <td>...</td>\n",
       "      <td>...</td>\n",
       "      <td>...</td>\n",
       "      <td>...</td>\n",
       "      <td>...</td>\n",
       "      <td>...</td>\n",
       "      <td>...</td>\n",
       "      <td>...</td>\n",
       "      <td>...</td>\n",
       "      <td>...</td>\n",
       "      <td>...</td>\n",
       "      <td>...</td>\n",
       "      <td>...</td>\n",
       "      <td>...</td>\n",
       "      <td>...</td>\n",
       "      <td>...</td>\n",
       "      <td>...</td>\n",
       "      <td>...</td>\n",
       "      <td>...</td>\n",
       "    </tr>\n",
       "    <tr>\n",
       "      <th>32052</th>\n",
       "      <td>ups And d</td>\n",
       "      <td>ups And</td>\n",
       "      <td>d</td>\n",
       "      <td>HD 9826</td>\n",
       "      <td>HIP 7513</td>\n",
       "      <td>TIC 189576919</td>\n",
       "      <td>Gaia DR2 348020448377061376</td>\n",
       "      <td>0</td>\n",
       "      <td>2</td>\n",
       "      <td>3</td>\n",
       "      <td>...</td>\n",
       "      <td>NaN</td>\n",
       "      <td>2021-09-20</td>\n",
       "      <td>2021-05</td>\n",
       "      <td>2021-09-20</td>\n",
       "      <td>0</td>\n",
       "      <td>1</td>\n",
       "      <td>10</td>\n",
       "      <td>1</td>\n",
       "      <td>0</td>\n",
       "      <td>0</td>\n",
       "    </tr>\n",
       "    <tr>\n",
       "      <th>32053</th>\n",
       "      <td>ups And d</td>\n",
       "      <td>ups And</td>\n",
       "      <td>d</td>\n",
       "      <td>HD 9826</td>\n",
       "      <td>HIP 7513</td>\n",
       "      <td>TIC 189576919</td>\n",
       "      <td>Gaia DR2 348020448377061376</td>\n",
       "      <td>0</td>\n",
       "      <td>2</td>\n",
       "      <td>3</td>\n",
       "      <td>...</td>\n",
       "      <td>NaN</td>\n",
       "      <td>2021-08-03</td>\n",
       "      <td>2010-06</td>\n",
       "      <td>2021-08-03</td>\n",
       "      <td>0</td>\n",
       "      <td>1</td>\n",
       "      <td>10</td>\n",
       "      <td>1</td>\n",
       "      <td>0</td>\n",
       "      <td>0</td>\n",
       "    </tr>\n",
       "    <tr>\n",
       "      <th>32054</th>\n",
       "      <td>ups Leo b</td>\n",
       "      <td>ups Leo</td>\n",
       "      <td>b</td>\n",
       "      <td>NaN</td>\n",
       "      <td>NaN</td>\n",
       "      <td>TIC 49430557</td>\n",
       "      <td>Gaia DR2 3794167001116433152</td>\n",
       "      <td>1</td>\n",
       "      <td>1</td>\n",
       "      <td>1</td>\n",
       "      <td>...</td>\n",
       "      <td>NaN</td>\n",
       "      <td>2022-01-10</td>\n",
       "      <td>2021-12</td>\n",
       "      <td>2022-01-10</td>\n",
       "      <td>0</td>\n",
       "      <td>0</td>\n",
       "      <td>0</td>\n",
       "      <td>0</td>\n",
       "      <td>0</td>\n",
       "      <td>0</td>\n",
       "    </tr>\n",
       "    <tr>\n",
       "      <th>32055</th>\n",
       "      <td>xi Aql b</td>\n",
       "      <td>xi Aql</td>\n",
       "      <td>b</td>\n",
       "      <td>HD 188310</td>\n",
       "      <td>HIP 97938</td>\n",
       "      <td>TIC 375464367</td>\n",
       "      <td>Gaia DR2 4298361114750843904</td>\n",
       "      <td>0</td>\n",
       "      <td>1</td>\n",
       "      <td>1</td>\n",
       "      <td>...</td>\n",
       "      <td>NaN</td>\n",
       "      <td>2014-07-23</td>\n",
       "      <td>2011-08</td>\n",
       "      <td>2014-07-23</td>\n",
       "      <td>1</td>\n",
       "      <td>1</td>\n",
       "      <td>1</td>\n",
       "      <td>0</td>\n",
       "      <td>0</td>\n",
       "      <td>0</td>\n",
       "    </tr>\n",
       "    <tr>\n",
       "      <th>32056</th>\n",
       "      <td>xi Aql b</td>\n",
       "      <td>xi Aql</td>\n",
       "      <td>b</td>\n",
       "      <td>HD 188310</td>\n",
       "      <td>HIP 97938</td>\n",
       "      <td>TIC 375464367</td>\n",
       "      <td>Gaia DR2 4298361114750843904</td>\n",
       "      <td>1</td>\n",
       "      <td>1</td>\n",
       "      <td>1</td>\n",
       "      <td>...</td>\n",
       "      <td>NaN</td>\n",
       "      <td>2014-05-14</td>\n",
       "      <td>2008-06</td>\n",
       "      <td>2014-05-14</td>\n",
       "      <td>1</td>\n",
       "      <td>1</td>\n",
       "      <td>1</td>\n",
       "      <td>0</td>\n",
       "      <td>0</td>\n",
       "      <td>0</td>\n",
       "    </tr>\n",
       "  </tbody>\n",
       "</table>\n",
       "<p>32057 rows × 286 columns</p>\n",
       "</div>"
      ],
      "text/plain": [
       "         pl_name hostname pl_letter    hd_name   hip_name         tic_id  \\\n",
       "0       11 Com b   11 Com         b  HD 107383  HIP 60202   TIC 72437047   \n",
       "1       11 Com b   11 Com         b  HD 107383  HIP 60202   TIC 72437047   \n",
       "2       11 UMi b   11 UMi         b  HD 136726  HIP 74793  TIC 230061010   \n",
       "3       11 UMi b   11 UMi         b  HD 136726  HIP 74793  TIC 230061010   \n",
       "4       11 UMi b   11 UMi         b  HD 136726  HIP 74793  TIC 230061010   \n",
       "...          ...      ...       ...        ...        ...            ...   \n",
       "32052  ups And d  ups And         d    HD 9826   HIP 7513  TIC 189576919   \n",
       "32053  ups And d  ups And         d    HD 9826   HIP 7513  TIC 189576919   \n",
       "32054  ups Leo b  ups Leo         b        NaN        NaN   TIC 49430557   \n",
       "32055   xi Aql b   xi Aql         b  HD 188310  HIP 97938  TIC 375464367   \n",
       "32056   xi Aql b   xi Aql         b  HD 188310  HIP 97938  TIC 375464367   \n",
       "\n",
       "                            gaia_id  default_flag  sy_snum  sy_pnum  ...  \\\n",
       "0      Gaia DR2 3946945413106333696             1        2        1  ...   \n",
       "1      Gaia DR2 3946945413106333696             0        2        1  ...   \n",
       "2      Gaia DR2 1696798367260229376             0        1        1  ...   \n",
       "3      Gaia DR2 1696798367260229376             1        1        1  ...   \n",
       "4      Gaia DR2 1696798367260229376             0        1        1  ...   \n",
       "...                             ...           ...      ...      ...  ...   \n",
       "32052   Gaia DR2 348020448377061376             0        2        3  ...   \n",
       "32053   Gaia DR2 348020448377061376             0        2        3  ...   \n",
       "32054  Gaia DR2 3794167001116433152             1        1        1  ...   \n",
       "32055  Gaia DR2 4298361114750843904             0        1        1  ...   \n",
       "32056  Gaia DR2 4298361114750843904             1        1        1  ...   \n",
       "\n",
       "       sy_kepmagerr2   rowupdate pl_pubdate  releasedate pl_nnotes st_nphot  \\\n",
       "0                NaN  2014-05-14    2008-01   2014-05-14         2        1   \n",
       "1                NaN  2014-07-23    2011-08   2014-07-23         2        1   \n",
       "2                NaN  2018-04-25    2011-08   2014-07-23         0        1   \n",
       "3                NaN  2018-09-04    2017-03   2018-09-06         0        1   \n",
       "4                NaN  2018-04-25    2009-10   2014-05-14         0        1   \n",
       "...              ...         ...        ...          ...       ...      ...   \n",
       "32052            NaN  2021-09-20    2021-05   2021-09-20         0        1   \n",
       "32053            NaN  2021-08-03    2010-06   2021-08-03         0        1   \n",
       "32054            NaN  2022-01-10    2021-12   2022-01-10         0        0   \n",
       "32055            NaN  2014-07-23    2011-08   2014-07-23         1        1   \n",
       "32056            NaN  2014-05-14    2008-06   2014-05-14         1        1   \n",
       "\n",
       "      st_nrvc st_nspec pl_nespec pl_ntranspec  \n",
       "0           2        0         0            0  \n",
       "1           2        0         0            0  \n",
       "2           1        0         0            0  \n",
       "3           1        0         0            0  \n",
       "4           1        0         0            0  \n",
       "...       ...      ...       ...          ...  \n",
       "32052      10        1         0            0  \n",
       "32053      10        1         0            0  \n",
       "32054       0        0         0            0  \n",
       "32055       1        0         0            0  \n",
       "32056       1        0         0            0  \n",
       "\n",
       "[32057 rows x 286 columns]"
      ]
     },
     "execution_count": 13,
     "metadata": {},
     "output_type": "execute_result"
    }
   ],
   "source": [
    "all_planets = pd.read_csv('../data/PS_2022.01.28_05.09.39.csv', skiprows=290)\n",
    "all_planets"
   ]
  },
  {
   "cell_type": "code",
   "execution_count": 14,
   "metadata": {
    "ExecuteTime": {
     "end_time": "2022-02-24T03:05:54.874413Z",
     "start_time": "2022-02-24T03:05:54.859069Z"
    }
   },
   "outputs": [
    {
     "data": {
      "text/plain": [
       "4908"
      ]
     },
     "execution_count": 14,
     "metadata": {},
     "output_type": "execute_result"
    }
   ],
   "source": [
    "all_planets=all_planets[all_planets['default_flag']==1]\n",
    "len(all_planets)"
   ]
  },
  {
   "cell_type": "code",
   "execution_count": 15,
   "metadata": {
    "ExecuteTime": {
     "end_time": "2022-02-24T03:05:54.941039Z",
     "start_time": "2022-02-24T03:05:54.935512Z"
    }
   },
   "outputs": [
    {
     "data": {
      "text/plain": [
       "358"
      ]
     },
     "execution_count": 15,
     "metadata": {},
     "output_type": "execute_result"
    }
   ],
   "source": [
    "planets=all_planets[all_planets['st_teff']<4000]\n",
    "len(planets)"
   ]
  },
  {
   "cell_type": "code",
   "execution_count": 16,
   "metadata": {
    "ExecuteTime": {
     "end_time": "2022-02-24T03:06:46.328179Z",
     "start_time": "2022-02-24T03:06:46.300766Z"
    }
   },
   "outputs": [
    {
     "data": {
      "text/plain": [
       "130"
      ]
     },
     "execution_count": 16,
     "metadata": {},
     "output_type": "execute_result"
    }
   ],
   "source": [
    "planets=all_planets[all_planets['st_teff']<3800]\n",
    "\n",
    "#TSM\n",
    "planets=planets[planets['pl_rade'].notna()]\n",
    "planets=planets[planets['pl_rade']<10]\n",
    "\n",
    "planets=planets[planets['pl_orbsmax'].notna()]  \n",
    "planets=planets[planets['st_rad'].notna()]\n",
    "\n",
    "planets=planets[planets['sy_jmag'].notna()]\n",
    "planets=planets.reset_index()\n",
    "len(planets)"
   ]
  },
  {
   "cell_type": "markdown",
   "metadata": {},
   "source": [
    "### mass calculation"
   ]
  },
  {
   "cell_type": "code",
   "execution_count": 17,
   "metadata": {
    "ExecuteTime": {
     "end_time": "2022-02-24T03:06:58.779165Z",
     "start_time": "2022-02-24T03:06:46.794407Z"
    }
   },
   "outputs": [
    {
     "name": "stdout",
     "output_type": "stream",
     "text": [
      "Mass of 100% Iron planet of 1.047 Earth Radii = 2.9532555947705807 Earth Mass (Fortney, Marley and Barnes 2007)\n",
      "Mass of 100% Iron planet of 1.13 Earth Radii = 4.063133338971838 Earth Mass (Fortney, Marley and Barnes 2007)\n",
      "Mass of 100% Iron planet of 1.193 Earth Radii = 5.129589837922454 Earth Mass (Fortney, Marley and Barnes 2007)\n",
      "Mass of 100% Iron planet of 1.264 Earth Radii = 6.614501710423345 Earth Mass (Fortney, Marley and Barnes 2007)\n",
      "Mass of 100% Iron planet of 1.217 Earth Radii = 5.595278563380514 Earth Mass (Fortney, Marley and Barnes 2007)\n",
      "Mass of 100% Iron planet of 0.718 Earth Radii = 0.6963610159547223 Earth Mass (Fortney, Marley and Barnes 2007)\n",
      "Mass of 100% Iron planet of 1.04 Earth Radii = 2.87290802874415 Earth Mass (Fortney, Marley and Barnes 2007)\n",
      "Mass of 100% Iron planet of 0.89 Earth Radii = 1.5451807019906942 Earth Mass (Fortney, Marley and Barnes 2007)\n",
      "Mass of 100% Iron planet of 1.1 Earth Radii = 3.626567898484023 Earth Mass (Fortney, Marley and Barnes 2007)\n",
      "Mass of 100% Iron planet of 1.0 Earth Radii = 2.4486475267139136 Earth Mass (Fortney, Marley and Barnes 2007)\n",
      "Mass of 100% Iron planet of 1.1 Earth Radii = 3.626567898484023 Earth Mass (Fortney, Marley and Barnes 2007)\n",
      "Mass of 100% Iron planet of 0.83 Earth Radii = 1.1842915586390945 Earth Mass (Fortney, Marley and Barnes 2007)\n",
      "Mass of 100% Iron planet of 1.15 Earth Radii = 4.378694921945564 Earth Mass (Fortney, Marley and Barnes 2007)\n",
      "Mass of 100% Iron planet of 1.08 Earth Radii = 3.358481898592295 Earth Mass (Fortney, Marley and Barnes 2007)\n",
      "Mass of 100% Iron planet of 1.16 Earth Radii = 4.54425240012481 Earth Mass (Fortney, Marley and Barnes 2007)\n",
      "Mass of 100% Iron planet of 1.01 Earth Radii = 2.5493459245048107 Earth Mass (Fortney, Marley and Barnes 2007)\n",
      "Mass of 100% Iron planet of 1.29 Earth Radii = 7.244889165386345 Earth Mass (Fortney, Marley and Barnes 2007)\n",
      "Mass of 100% Iron planet of 1.23 Earth Radii = 5.8625091597484875 Earth Mass (Fortney, Marley and Barnes 2007)\n",
      "Mass of 100% Iron planet of 0.615 Earth Radii = 0.40637587578888795 Earth Mass (Fortney, Marley and Barnes 2007)\n",
      "Mass of 100% Iron planet of 1.1 Earth Radii = 3.626567898484023 Earth Mass (Fortney, Marley and Barnes 2007)\n",
      "Mass of 100% Iron planet of 0.51 Earth Radii = 0.21910335349977603 Earth Mass (Fortney, Marley and Barnes 2007)\n",
      "Mass of 100% Iron planet of 1.07 Earth Radii = 3.2309442682176086 Earth Mass (Fortney, Marley and Barnes 2007)\n",
      "Mass of 100% Iron planet of 1.25 Earth Radii = 6.295278327861518 Earth Mass (Fortney, Marley and Barnes 2007)\n",
      "Mass of 100% Iron planet of 1.27 Earth Radii = 6.755566431296274 Earth Mass (Fortney, Marley and Barnes 2007)\n",
      "Mass of 100% Iron planet of 1.17 Earth Radii = 4.715189692995704 Earth Mass (Fortney, Marley and Barnes 2007)\n",
      "Mass of 100% Iron planet of 1.2 Earth Radii = 5.261809133568432 Earth Mass (Fortney, Marley and Barnes 2007)\n",
      "Mass of 100% Iron planet of 1.09 Earth Radii = 3.4903150516785653 Earth Mass (Fortney, Marley and Barnes 2007)\n",
      "Mass of 100% Iron planet of 1.11 Earth Radii = 3.7673677178931375 Earth Mass (Fortney, Marley and Barnes 2007)\n",
      "Mass of 100% Iron planet of 1.03 Earth Radii = 2.761370627269408 Earth Mass (Fortney, Marley and Barnes 2007)\n",
      "Mass of 100% Iron planet of 1.13 Earth Radii = 4.063133338971838 Earth Mass (Fortney, Marley and Barnes 2007)\n",
      "Mass of 100% Iron planet of 0.78 Earth Radii = 0.9399958353660746 Earth Mass (Fortney, Marley and Barnes 2007)\n",
      "Mass of 100% Iron planet of 0.73 Earth Radii = 0.7389312516502379 Earth Mass (Fortney, Marley and Barnes 2007)\n",
      "Mass of 100% Iron planet of 0.57 Earth Radii = 0.31498946626385005 Earth Mass (Fortney, Marley and Barnes 2007)\n",
      "Mass of 100% Iron planet of 1.12 Earth Radii = 3.9128449647024945 Earth Mass (Fortney, Marley and Barnes 2007)\n",
      "Mass of 100% Iron planet of 0.85 Earth Radii = 1.2957648844293956 Earth Mass (Fortney, Marley and Barnes 2007)\n",
      "Mass of 100% Iron planet of 1.242 Earth Radii = 6.118950887474408 Earth Mass (Fortney, Marley and Barnes 2007)\n",
      "Mass of 100% Iron planet of 0.696 Earth Radii = 0.6235182845395748 Earth Mass (Fortney, Marley and Barnes 2007)\n",
      "Mass of 100% Iron planet of 0.982 Earth Radii = 2.2759076141117482 Earth Mass (Fortney, Marley and Barnes 2007)\n",
      "Mass of 100% Iron planet of 1.088 Earth Radii = 3.463598863362778 Earth Mass (Fortney, Marley and Barnes 2007)\n",
      "Mass of 100% Iron planet of 1.12 Earth Radii = 3.9128449647024945 Earth Mass (Fortney, Marley and Barnes 2007)\n",
      "Mass of 100% Iron planet of 1.147 Earth Radii = 4.330054612606374 Earth Mass (Fortney, Marley and Barnes 2007)\n",
      "Mass of 100% Iron planet of 1.206 Earth Radii = 5.377480219531522 Earth Mass (Fortney, Marley and Barnes 2007)\n",
      "Mass of 100% Iron planet of 0.903 Earth Radii = 1.6344370482418538 Earth Mass (Fortney, Marley and Barnes 2007)\n",
      "Mass of 100% Iron planet of 1.037 Earth Radii = 2.8390498456291047 Earth Mass (Fortney, Marley and Barnes 2007)\n",
      "Mass of 100% Iron planet of 1.144 Earth Radii = 4.281881278976534 Earth Mass (Fortney, Marley and Barnes 2007)\n",
      "Mass of 100% Iron planet of 1.116 Earth Radii = 3.854084291397894 Earth Mass (Fortney, Marley and Barnes 2007)\n",
      "Mass of 100% Iron planet of 1.097 Earth Radii = 3.585220464312025 Earth Mass (Fortney, Marley and Barnes 2007)\n",
      "Mass of 100% Iron planet of 0.788 Earth Radii = 0.9759946423115765 Earth Mass (Fortney, Marley and Barnes 2007)\n",
      "Mass of 100% Iron planet of 0.92 Earth Radii = 1.7576737147755745 Earth Mass (Fortney, Marley and Barnes 2007)\n",
      "Mass of 100% Iron planet of 1.045 Earth Radii = 2.9301054964527506 Earth Mass (Fortney, Marley and Barnes 2007)\n",
      "Mass of 100% Iron planet of 1.129 Earth Radii = 4.047884122166961 Earth Mass (Fortney, Marley and Barnes 2007)\n",
      "Mass of 100% Iron planet of 0.755 Earth Radii = 0.8344908654077237 Earth Mass (Fortney, Marley and Barnes 2007)\n"
     ]
    }
   ],
   "source": [
    "#this will take several minutes\n",
    "mass_list = []\n",
    "\n",
    "for r, re in zip(planets['pl_rade'], planets['pl_radeerr1']):\n",
    "    mass, _, _ = predict_from_measurement(measurement=r , measurement_sigma=re, dataset='mdwarf',  is_posterior=False, show_plot=False)\n",
    "    mass_list.append(mass)"
   ]
  },
  {
   "cell_type": "code",
   "execution_count": 18,
   "metadata": {
    "ExecuteTime": {
     "end_time": "2022-02-24T03:06:58.783944Z",
     "start_time": "2022-02-24T03:06:58.780776Z"
    }
   },
   "outputs": [],
   "source": [
    "planets['mass_calc'] = mass_list"
   ]
  },
  {
   "cell_type": "code",
   "execution_count": 19,
   "metadata": {
    "ExecuteTime": {
     "end_time": "2022-02-24T03:06:59.002216Z",
     "start_time": "2022-02-24T03:06:58.786500Z"
    }
   },
   "outputs": [
    {
     "data": {
      "text/plain": [
       "(0.0, 30.0)"
      ]
     },
     "execution_count": 19,
     "metadata": {},
     "output_type": "execute_result"
    },
    {
     "data": {
      "image/png": "[encoded data removed]",
      "text/plain": [
       "<Figure size 432x288 with 1 Axes>"
      ]
     },
     "metadata": {
      "needs_background": "light"
     },
     "output_type": "display_data"
    }
   ],
   "source": [
    "pl.plot(planets['pl_rade'],planets['mass_calc'], '.')\n",
    "pl.plot(planets['pl_rade'],planets['pl_masse'], '.')\n",
    "pl.ylim(0, 30)"
   ]
  },
  {
   "cell_type": "code",
   "execution_count": 20,
   "metadata": {
    "ExecuteTime": {
     "end_time": "2022-02-24T03:06:59.006395Z",
     "start_time": "2022-02-24T03:06:59.003891Z"
    }
   },
   "outputs": [],
   "source": [
    "import math"
   ]
  },
  {
   "cell_type": "code",
   "execution_count": 21,
   "metadata": {
    "ExecuteTime": {
     "end_time": "2022-02-24T03:06:59.031817Z",
     "start_time": "2022-02-24T03:06:59.007872Z"
    }
   },
   "outputs": [],
   "source": [
    "planets['mass_combine'] = planets['pl_masse']\n",
    "\n",
    "for i in range(len(planets)):\n",
    "    if math.isnan(planets['pl_masse'][i])==True:\n",
    "        planets['mass_combine'][i] =planets['mass_calc'][i]"
   ]
  },
  {
   "cell_type": "code",
   "execution_count": 22,
   "metadata": {
    "ExecuteTime": {
     "end_time": "2022-02-24T03:06:59.192305Z",
     "start_time": "2022-02-24T03:06:59.033849Z"
    }
   },
   "outputs": [
    {
     "data": {
      "text/plain": [
       "(0.0, 30.0)"
      ]
     },
     "execution_count": 22,
     "metadata": {},
     "output_type": "execute_result"
    },
    {
     "data": {
      "image/png": "[encoded data removed]",
      "text/plain": [
       "<Figure size 432x288 with 1 Axes>"
      ]
     },
     "metadata": {
      "needs_background": "light"
     },
     "output_type": "display_data"
    }
   ],
   "source": [
    "pl.plot(planets['pl_rade'],planets['mass_combine'], '.')\n",
    "pl.ylim(0, 30)"
   ]
  },
  {
   "cell_type": "markdown",
   "metadata": {},
   "source": [
    "### Teq Calculation"
   ]
  },
  {
   "cell_type": "code",
   "execution_count": 23,
   "metadata": {
    "ExecuteTime": {
     "end_time": "2022-02-24T03:06:59.199197Z",
     "start_time": "2022-02-24T03:06:59.193646Z"
    }
   },
   "outputs": [],
   "source": [
    "def Teq(Teff, R_s, semi): #[L_sol]\n",
    "    R_s_m = R_s * ascon.R_sun\n",
    "    semi_m = semi * ascon.au\n",
    "    return Teff * (R_s_m/2./semi_m)**0.5\n",
    "\n",
    "teff_s = planets['st_teff']\n",
    "rs_s = planets['st_rad']\n",
    "a_s = planets['pl_orbsmax']\n",
    "\n",
    "planets['teq_calc'] = Teq(teff_s, rs_s, a_s)"
   ]
  },
  {
   "cell_type": "code",
   "execution_count": 24,
   "metadata": {
    "ExecuteTime": {
     "end_time": "2022-02-24T03:06:59.209160Z",
     "start_time": "2022-02-24T03:06:59.201220Z"
    }
   },
   "outputs": [
    {
     "data": {
      "text/plain": [
       "130"
      ]
     },
     "execution_count": 24,
     "metadata": {},
     "output_type": "execute_result"
    }
   ],
   "source": [
    "len(planets)"
   ]
  },
  {
   "cell_type": "code",
   "execution_count": 25,
   "metadata": {
    "ExecuteTime": {
     "end_time": "2022-02-24T03:06:59.220484Z",
     "start_time": "2022-02-24T03:06:59.211120Z"
    }
   },
   "outputs": [
    {
     "data": {
      "text/plain": [
       "79"
      ]
     },
     "execution_count": 25,
     "metadata": {},
     "output_type": "execute_result"
    }
   ],
   "source": [
    "len(planets[planets['pl_eqt'].notna()])"
   ]
  },
  {
   "cell_type": "code",
   "execution_count": 26,
   "metadata": {
    "ExecuteTime": {
     "end_time": "2022-02-24T03:06:59.454610Z",
     "start_time": "2022-02-24T03:06:59.222807Z"
    }
   },
   "outputs": [
    {
     "data": {
      "text/plain": [
       "[<matplotlib.lines.Line2D at 0x7f5cc2126e80>]"
      ]
     },
     "execution_count": 26,
     "metadata": {},
     "output_type": "execute_result"
    },
    {
     "data": {
      "image/png": "[encoded data removed]",
      "text/plain": [
       "<Figure size 432x288 with 1 Axes>"
      ]
     },
     "metadata": {
      "needs_background": "light"
     },
     "output_type": "display_data"
    }
   ],
   "source": [
    "pl.plot(planets['st_teff'], planets['pl_eqt'],'.')\n",
    "pl.plot(planets['st_teff'], planets['teq_calc'],'.')\n",
    "#pl.ylim(0,1000)"
   ]
  },
  {
   "cell_type": "code",
   "execution_count": 27,
   "metadata": {
    "ExecuteTime": {
     "end_time": "2022-02-24T03:06:59.470086Z",
     "start_time": "2022-02-24T03:06:59.457048Z"
    }
   },
   "outputs": [],
   "source": [
    "planets['teq_combine'] = planets['pl_eqt']\n",
    "\n",
    "for i in range(len(planets)):\n",
    "    if math.isnan(planets['pl_eqt'][i])==True:\n",
    "        planets['teq_combine'][i] =planets['teq_calc'][i]"
   ]
  },
  {
   "cell_type": "code",
   "execution_count": 28,
   "metadata": {
    "ExecuteTime": {
     "end_time": "2022-02-24T03:06:59.629239Z",
     "start_time": "2022-02-24T03:06:59.472186Z"
    }
   },
   "outputs": [
    {
     "data": {
      "text/plain": [
       "[<matplotlib.lines.Line2D at 0x7f5cc2101a90>]"
      ]
     },
     "execution_count": 28,
     "metadata": {},
     "output_type": "execute_result"
    },
    {
     "data": {
      "image/png": "[encoded data removed]",
      "text/plain": [
       "<Figure size 432x288 with 1 Axes>"
      ]
     },
     "metadata": {
      "needs_background": "light"
     },
     "output_type": "display_data"
    }
   ],
   "source": [
    "pl.plot(planets['st_teff'], planets['teq_combine'],'.')"
   ]
  },
  {
   "cell_type": "markdown",
   "metadata": {},
   "source": [
    "# TSM Calculation"
   ]
  },
  {
   "cell_type": "code",
   "execution_count": 29,
   "metadata": {
    "ExecuteTime": {
     "end_time": "2022-02-24T03:06:59.644519Z",
     "start_time": "2022-02-24T03:06:59.632460Z"
    }
   },
   "outputs": [],
   "source": [
    "Rp = planets['pl_rade']\n",
    "\n",
    "#Mp = planets['pl_masse']\n",
    "Mp = planets['mass_combine']\n",
    "\n",
    "#Teq = planets['pl_eqt']\n",
    "Teq = planets['teq_combine']\n",
    "\n",
    "Rs = planets['st_rad']\n",
    "mJ = planets['sy_jmag']\n",
    "\n",
    "tsm=[]\n",
    "for n in range(len(Rp)):\n",
    "    tsm.append(TSM(Rp[n], Mp[n], Teq[n], Rs[n], mJ[n]))\n",
    "\n",
    "planets['TSM'] = tsm\n",
    "planets_TSM = planets"
   ]
  },
  {
   "cell_type": "code",
   "execution_count": 30,
   "metadata": {
    "ExecuteTime": {
     "end_time": "2022-02-24T03:10:00.391004Z",
     "start_time": "2022-02-24T03:10:00.367668Z"
    }
   },
   "outputs": [
    {
     "data": {
      "text/html": [
       "<div>\n",
       "<style scoped>\n",
       "    .dataframe tbody tr th:only-of-type {\n",
       "        vertical-align: middle;\n",
       "    }\n",
       "\n",
       "    .dataframe tbody tr th {\n",
       "        vertical-align: top;\n",
       "    }\n",
       "\n",
       "    .dataframe thead th {\n",
       "        text-align: right;\n",
       "    }\n",
       "</style>\n",
       "<table border=\"1\" class=\"dataframe\">\n",
       "  <thead>\n",
       "    <tr style=\"text-align: right;\">\n",
       "      <th></th>\n",
       "      <th>index</th>\n",
       "      <th>pl_name</th>\n",
       "      <th>TSM</th>\n",
       "      <th>pl_eqt</th>\n",
       "      <th>pl_rade</th>\n",
       "      <th>pl_orbper</th>\n",
       "    </tr>\n",
       "  </thead>\n",
       "  <tbody>\n",
       "    <tr>\n",
       "      <th>0</th>\n",
       "      <td>5</td>\n",
       "      <td>GJ 1214 b</td>\n",
       "      <td>482.123733</td>\n",
       "      <td>596.0</td>\n",
       "      <td>2.742</td>\n",
       "      <td>1.580404</td>\n",
       "    </tr>\n",
       "    <tr>\n",
       "      <th>1</th>\n",
       "      <td>0</td>\n",
       "      <td>AU Mic b</td>\n",
       "      <td>393.336558</td>\n",
       "      <td>593.0</td>\n",
       "      <td>4.070</td>\n",
       "      <td>8.463000</td>\n",
       "    </tr>\n",
       "    <tr>\n",
       "      <th>2</th>\n",
       "      <td>89</td>\n",
       "      <td>L 98-59 d</td>\n",
       "      <td>273.657452</td>\n",
       "      <td>416.0</td>\n",
       "      <td>1.521</td>\n",
       "      <td>7.450724</td>\n",
       "    </tr>\n",
       "    <tr>\n",
       "      <th>3</th>\n",
       "      <td>7</td>\n",
       "      <td>GJ 3470 b</td>\n",
       "      <td>270.204580</td>\n",
       "      <td>594.0</td>\n",
       "      <td>4.570</td>\n",
       "      <td>3.336650</td>\n",
       "    </tr>\n",
       "    <tr>\n",
       "      <th>4</th>\n",
       "      <td>117</td>\n",
       "      <td>TOI-674 b</td>\n",
       "      <td>215.148782</td>\n",
       "      <td>635.0</td>\n",
       "      <td>5.250</td>\n",
       "      <td>1.977143</td>\n",
       "    </tr>\n",
       "    <tr>\n",
       "      <th>...</th>\n",
       "      <td>...</td>\n",
       "      <td>...</td>\n",
       "      <td>...</td>\n",
       "      <td>...</td>\n",
       "      <td>...</td>\n",
       "      <td>...</td>\n",
       "    </tr>\n",
       "    <tr>\n",
       "      <th>125</th>\n",
       "      <td>86</td>\n",
       "      <td>Kepler-438 b</td>\n",
       "      <td>0.830265</td>\n",
       "      <td>NaN</td>\n",
       "      <td>1.120</td>\n",
       "      <td>35.233190</td>\n",
       "    </tr>\n",
       "    <tr>\n",
       "      <th>126</th>\n",
       "      <td>64</td>\n",
       "      <td>Kepler-225 b</td>\n",
       "      <td>0.770719</td>\n",
       "      <td>NaN</td>\n",
       "      <td>1.200</td>\n",
       "      <td>6.738975</td>\n",
       "    </tr>\n",
       "    <tr>\n",
       "      <th>127</th>\n",
       "      <td>63</td>\n",
       "      <td>Kepler-186 f</td>\n",
       "      <td>0.485162</td>\n",
       "      <td>NaN</td>\n",
       "      <td>1.170</td>\n",
       "      <td>129.944100</td>\n",
       "    </tr>\n",
       "    <tr>\n",
       "      <th>128</th>\n",
       "      <td>23</td>\n",
       "      <td>K2-137 b</td>\n",
       "      <td>0.028423</td>\n",
       "      <td>1471.0</td>\n",
       "      <td>0.890</td>\n",
       "      <td>0.179715</td>\n",
       "    </tr>\n",
       "    <tr>\n",
       "      <th>129</th>\n",
       "      <td>57</td>\n",
       "      <td>KOI-4777.01</td>\n",
       "      <td>0.004251</td>\n",
       "      <td>1180.0</td>\n",
       "      <td>0.510</td>\n",
       "      <td>0.412000</td>\n",
       "    </tr>\n",
       "  </tbody>\n",
       "</table>\n",
       "<p>130 rows × 6 columns</p>\n",
       "</div>"
      ],
      "text/plain": [
       "     index       pl_name         TSM  pl_eqt  pl_rade   pl_orbper\n",
       "0        5     GJ 1214 b  482.123733   596.0    2.742    1.580404\n",
       "1        0      AU Mic b  393.336558   593.0    4.070    8.463000\n",
       "2       89     L 98-59 d  273.657452   416.0    1.521    7.450724\n",
       "3        7     GJ 3470 b  270.204580   594.0    4.570    3.336650\n",
       "4      117     TOI-674 b  215.148782   635.0    5.250    1.977143\n",
       "..     ...           ...         ...     ...      ...         ...\n",
       "125     86  Kepler-438 b    0.830265     NaN    1.120   35.233190\n",
       "126     64  Kepler-225 b    0.770719     NaN    1.200    6.738975\n",
       "127     63  Kepler-186 f    0.485162     NaN    1.170  129.944100\n",
       "128     23      K2-137 b    0.028423  1471.0    0.890    0.179715\n",
       "129     57   KOI-4777.01    0.004251  1180.0    0.510    0.412000\n",
       "\n",
       "[130 rows x 6 columns]"
      ]
     },
     "execution_count": 30,
     "metadata": {},
     "output_type": "execute_result"
    }
   ],
   "source": [
    "df=planets_TSM.sort_values('TSM', ascending=False).loc[:,['pl_name','TSM', 'pl_eqt', 'pl_rade' ,'pl_orbper']].reset_index()\n",
    "df"
   ]
  },
  {
   "cell_type": "raw",
   "metadata": {
    "ExecuteTime": {
     "end_time": "2022-02-24T03:07:08.964416Z",
     "start_time": "2022-02-24T03:07:06.526030Z"
    }
   },
   "source": [
    "!pip install adjustText"
   ]
  },
  {
   "cell_type": "code",
   "execution_count": 31,
   "metadata": {
    "ExecuteTime": {
     "end_time": "2022-02-24T03:10:02.711145Z",
     "start_time": "2022-02-24T03:10:02.696958Z"
    }
   },
   "outputs": [],
   "source": [
    "Rp_plot = list(df['pl_rade'])\n",
    "Rp_plot.append(Rp_tg)\n",
    "\n",
    "Per_plot = list(df['pl_orbper'])\n",
    "Per_plot.append(Per_tg)\n",
    "\n",
    "eq_plot = list(df['pl_eqt'])\n",
    "eq_plot.append(Teq_tg)\n",
    "#eq_plot\n",
    "\n",
    "tsm_plot=list(df['TSM'])\n",
    "tsm_plot.append(TSM_tg)\n",
    "\n",
    "# hmag_plot = list(df['sy_hmag'])\n",
    "#hmag_plot.append(11.604)"
   ]
  },
  {
   "cell_type": "code",
   "execution_count": 32,
   "metadata": {
    "ExecuteTime": {
     "end_time": "2022-02-24T03:10:12.432433Z",
     "start_time": "2022-02-24T03:10:07.265564Z"
    }
   },
   "outputs": [
    {
     "ename": "ValueError",
     "evalue": "Image size of 447191x506 pixels is too large. It must be less than 2^16 in each direction.",
     "output_type": "error",
     "traceback": [
      "\u001b[0;31m---------------------------------------------------------------------------\u001b[0m",
      "\u001b[0;31mValueError\u001b[0m                                Traceback (most recent call last)",
      "\u001b[0;32m~/miniconda3/envs/py3/lib/python3.8/site-packages/IPython/core/formatters.py\u001b[0m in \u001b[0;36m__call__\u001b[0;34m(self, obj)\u001b[0m\n\u001b[1;32m    339\u001b[0m                 \u001b[0;32mpass\u001b[0m\u001b[0;34m\u001b[0m\u001b[0;34m\u001b[0m\u001b[0m\n\u001b[1;32m    340\u001b[0m             \u001b[0;32melse\u001b[0m\u001b[0;34m:\u001b[0m\u001b[0;34m\u001b[0m\u001b[0;34m\u001b[0m\u001b[0m\n\u001b[0;32m--> 341\u001b[0;31m                 \u001b[0;32mreturn\u001b[0m \u001b[0mprinter\u001b[0m\u001b[0;34m(\u001b[0m\u001b[0mobj\u001b[0m\u001b[0;34m)\u001b[0m\u001b[0;34m\u001b[0m\u001b[0;34m\u001b[0m\u001b[0m\n\u001b[0m\u001b[1;32m    342\u001b[0m             \u001b[0;31m# Finally look for special method names\u001b[0m\u001b[0;34m\u001b[0m\u001b[0;34m\u001b[0m\u001b[0;34m\u001b[0m\u001b[0m\n\u001b[1;32m    343\u001b[0m             \u001b[0mmethod\u001b[0m \u001b[0;34m=\u001b[0m \u001b[0mget_real_method\u001b[0m\u001b[0;34m(\u001b[0m\u001b[0mobj\u001b[0m\u001b[0;34m,\u001b[0m \u001b[0mself\u001b[0m\u001b[0;34m.\u001b[0m\u001b[0mprint_method\u001b[0m\u001b[0;34m)\u001b[0m\u001b[0;34m\u001b[0m\u001b[0;34m\u001b[0m\u001b[0m\n",
      "\u001b[0;32m~/miniconda3/envs/py3/lib/python3.8/site-packages/IPython/core/pylabtools.py\u001b[0m in \u001b[0;36m<lambda>\u001b[0;34m(fig)\u001b[0m\n\u001b[1;32m    246\u001b[0m \u001b[0;34m\u001b[0m\u001b[0m\n\u001b[1;32m    247\u001b[0m     \u001b[0;32mif\u001b[0m \u001b[0;34m'png'\u001b[0m \u001b[0;32min\u001b[0m \u001b[0mformats\u001b[0m\u001b[0;34m:\u001b[0m\u001b[0;34m\u001b[0m\u001b[0;34m\u001b[0m\u001b[0m\n\u001b[0;32m--> 248\u001b[0;31m         \u001b[0mpng_formatter\u001b[0m\u001b[0;34m.\u001b[0m\u001b[0mfor_type\u001b[0m\u001b[0;34m(\u001b[0m\u001b[0mFigure\u001b[0m\u001b[0;34m,\u001b[0m \u001b[0;32mlambda\u001b[0m \u001b[0mfig\u001b[0m\u001b[0;34m:\u001b[0m \u001b[0mprint_figure\u001b[0m\u001b[0;34m(\u001b[0m\u001b[0mfig\u001b[0m\u001b[0;34m,\u001b[0m \u001b[0;34m'png'\u001b[0m\u001b[0;34m,\u001b[0m \u001b[0;34m**\u001b[0m\u001b[0mkwargs\u001b[0m\u001b[0;34m)\u001b[0m\u001b[0;34m)\u001b[0m\u001b[0;34m\u001b[0m\u001b[0;34m\u001b[0m\u001b[0m\n\u001b[0m\u001b[1;32m    249\u001b[0m     \u001b[0;32mif\u001b[0m \u001b[0;34m'retina'\u001b[0m \u001b[0;32min\u001b[0m \u001b[0mformats\u001b[0m \u001b[0;32mor\u001b[0m \u001b[0;34m'png2x'\u001b[0m \u001b[0;32min\u001b[0m \u001b[0mformats\u001b[0m\u001b[0;34m:\u001b[0m\u001b[0;34m\u001b[0m\u001b[0;34m\u001b[0m\u001b[0m\n\u001b[1;32m    250\u001b[0m         \u001b[0mpng_formatter\u001b[0m\u001b[0;34m.\u001b[0m\u001b[0mfor_type\u001b[0m\u001b[0;34m(\u001b[0m\u001b[0mFigure\u001b[0m\u001b[0;34m,\u001b[0m \u001b[0;32mlambda\u001b[0m \u001b[0mfig\u001b[0m\u001b[0;34m:\u001b[0m \u001b[0mretina_figure\u001b[0m\u001b[0;34m(\u001b[0m\u001b[0mfig\u001b[0m\u001b[0;34m,\u001b[0m \u001b[0;34m**\u001b[0m\u001b[0mkwargs\u001b[0m\u001b[0;34m)\u001b[0m\u001b[0;34m)\u001b[0m\u001b[0;34m\u001b[0m\u001b[0;34m\u001b[0m\u001b[0m\n",
      "\u001b[0;32m~/miniconda3/envs/py3/lib/python3.8/site-packages/IPython/core/pylabtools.py\u001b[0m in \u001b[0;36mprint_figure\u001b[0;34m(fig, fmt, bbox_inches, **kwargs)\u001b[0m\n\u001b[1;32m    130\u001b[0m         \u001b[0mFigureCanvasBase\u001b[0m\u001b[0;34m(\u001b[0m\u001b[0mfig\u001b[0m\u001b[0;34m)\u001b[0m\u001b[0;34m\u001b[0m\u001b[0;34m\u001b[0m\u001b[0m\n\u001b[1;32m    131\u001b[0m \u001b[0;34m\u001b[0m\u001b[0m\n\u001b[0;32m--> 132\u001b[0;31m     \u001b[0mfig\u001b[0m\u001b[0;34m.\u001b[0m\u001b[0mcanvas\u001b[0m\u001b[0;34m.\u001b[0m\u001b[0mprint_figure\u001b[0m\u001b[0;34m(\u001b[0m\u001b[0mbytes_io\u001b[0m\u001b[0;34m,\u001b[0m \u001b[0;34m**\u001b[0m\u001b[0mkw\u001b[0m\u001b[0;34m)\u001b[0m\u001b[0;34m\u001b[0m\u001b[0;34m\u001b[0m\u001b[0m\n\u001b[0m\u001b[1;32m    133\u001b[0m     \u001b[0mdata\u001b[0m \u001b[0;34m=\u001b[0m \u001b[0mbytes_io\u001b[0m\u001b[0;34m.\u001b[0m\u001b[0mgetvalue\u001b[0m\u001b[0;34m(\u001b[0m\u001b[0;34m)\u001b[0m\u001b[0;34m\u001b[0m\u001b[0;34m\u001b[0m\u001b[0m\n\u001b[1;32m    134\u001b[0m     \u001b[0;32mif\u001b[0m \u001b[0mfmt\u001b[0m \u001b[0;34m==\u001b[0m \u001b[0;34m'svg'\u001b[0m\u001b[0;34m:\u001b[0m\u001b[0;34m\u001b[0m\u001b[0;34m\u001b[0m\u001b[0m\n",
      "\u001b[0;32m~/miniconda3/envs/py3/lib/python3.8/site-packages/matplotlib/backend_bases.py\u001b[0m in \u001b[0;36mprint_figure\u001b[0;34m(self, filename, dpi, facecolor, edgecolor, orientation, format, bbox_inches, pad_inches, bbox_extra_artists, backend, **kwargs)\u001b[0m\n\u001b[1;32m   2208\u001b[0m \u001b[0;34m\u001b[0m\u001b[0m\n\u001b[1;32m   2209\u001b[0m             \u001b[0;32mtry\u001b[0m\u001b[0;34m:\u001b[0m\u001b[0;34m\u001b[0m\u001b[0;34m\u001b[0m\u001b[0m\n\u001b[0;32m-> 2210\u001b[0;31m                 result = print_method(\n\u001b[0m\u001b[1;32m   2211\u001b[0m                     \u001b[0mfilename\u001b[0m\u001b[0;34m,\u001b[0m\u001b[0;34m\u001b[0m\u001b[0;34m\u001b[0m\u001b[0m\n\u001b[1;32m   2212\u001b[0m                     \u001b[0mdpi\u001b[0m\u001b[0;34m=\u001b[0m\u001b[0mdpi\u001b[0m\u001b[0;34m,\u001b[0m\u001b[0;34m\u001b[0m\u001b[0;34m\u001b[0m\u001b[0m\n",
      "\u001b[0;32m~/miniconda3/envs/py3/lib/python3.8/site-packages/matplotlib/backend_bases.py\u001b[0m in \u001b[0;36mwrapper\u001b[0;34m(*args, **kwargs)\u001b[0m\n\u001b[1;32m   1637\u001b[0m             \u001b[0mkwargs\u001b[0m\u001b[0;34m.\u001b[0m\u001b[0mpop\u001b[0m\u001b[0;34m(\u001b[0m\u001b[0marg\u001b[0m\u001b[0;34m)\u001b[0m\u001b[0;34m\u001b[0m\u001b[0;34m\u001b[0m\u001b[0m\n\u001b[1;32m   1638\u001b[0m \u001b[0;34m\u001b[0m\u001b[0m\n\u001b[0;32m-> 1639\u001b[0;31m         \u001b[0;32mreturn\u001b[0m \u001b[0mfunc\u001b[0m\u001b[0;34m(\u001b[0m\u001b[0;34m*\u001b[0m\u001b[0margs\u001b[0m\u001b[0;34m,\u001b[0m \u001b[0;34m**\u001b[0m\u001b[0mkwargs\u001b[0m\u001b[0;34m)\u001b[0m\u001b[0;34m\u001b[0m\u001b[0;34m\u001b[0m\u001b[0m\n\u001b[0m\u001b[1;32m   1640\u001b[0m \u001b[0;34m\u001b[0m\u001b[0m\n\u001b[1;32m   1641\u001b[0m     \u001b[0;32mreturn\u001b[0m \u001b[0mwrapper\u001b[0m\u001b[0;34m\u001b[0m\u001b[0;34m\u001b[0m\u001b[0m\n",
      "\u001b[0;32m~/miniconda3/envs/py3/lib/python3.8/site-packages/matplotlib/backends/backend_agg.py\u001b[0m in \u001b[0;36mprint_png\u001b[0;34m(self, filename_or_obj, metadata, pil_kwargs, *args)\u001b[0m\n\u001b[1;32m    507\u001b[0m             \u001b[0;34m*\u001b[0m\u001b[0mmetadata\u001b[0m\u001b[0;34m*\u001b[0m\u001b[0;34m,\u001b[0m \u001b[0mincluding\u001b[0m \u001b[0mthe\u001b[0m \u001b[0mdefault\u001b[0m \u001b[0;34m'Software'\u001b[0m \u001b[0mkey\u001b[0m\u001b[0;34m.\u001b[0m\u001b[0;34m\u001b[0m\u001b[0;34m\u001b[0m\u001b[0m\n\u001b[1;32m    508\u001b[0m         \"\"\"\n\u001b[0;32m--> 509\u001b[0;31m         \u001b[0mFigureCanvasAgg\u001b[0m\u001b[0;34m.\u001b[0m\u001b[0mdraw\u001b[0m\u001b[0;34m(\u001b[0m\u001b[0mself\u001b[0m\u001b[0;34m)\u001b[0m\u001b[0;34m\u001b[0m\u001b[0;34m\u001b[0m\u001b[0m\n\u001b[0m\u001b[1;32m    510\u001b[0m         mpl.image.imsave(\n\u001b[1;32m    511\u001b[0m             \u001b[0mfilename_or_obj\u001b[0m\u001b[0;34m,\u001b[0m \u001b[0mself\u001b[0m\u001b[0;34m.\u001b[0m\u001b[0mbuffer_rgba\u001b[0m\u001b[0;34m(\u001b[0m\u001b[0;34m)\u001b[0m\u001b[0;34m,\u001b[0m \u001b[0mformat\u001b[0m\u001b[0;34m=\u001b[0m\u001b[0;34m\"png\"\u001b[0m\u001b[0;34m,\u001b[0m \u001b[0morigin\u001b[0m\u001b[0;34m=\u001b[0m\u001b[0;34m\"upper\"\u001b[0m\u001b[0;34m,\u001b[0m\u001b[0;34m\u001b[0m\u001b[0;34m\u001b[0m\u001b[0m\n",
      "\u001b[0;32m~/miniconda3/envs/py3/lib/python3.8/site-packages/matplotlib/backends/backend_agg.py\u001b[0m in \u001b[0;36mdraw\u001b[0;34m(self)\u001b[0m\n\u001b[1;32m    400\u001b[0m     \u001b[0;32mdef\u001b[0m \u001b[0mdraw\u001b[0m\u001b[0;34m(\u001b[0m\u001b[0mself\u001b[0m\u001b[0;34m)\u001b[0m\u001b[0;34m:\u001b[0m\u001b[0;34m\u001b[0m\u001b[0;34m\u001b[0m\u001b[0m\n\u001b[1;32m    401\u001b[0m         \u001b[0;31m# docstring inherited\u001b[0m\u001b[0;34m\u001b[0m\u001b[0;34m\u001b[0m\u001b[0;34m\u001b[0m\u001b[0m\n\u001b[0;32m--> 402\u001b[0;31m         \u001b[0mself\u001b[0m\u001b[0;34m.\u001b[0m\u001b[0mrenderer\u001b[0m \u001b[0;34m=\u001b[0m \u001b[0mself\u001b[0m\u001b[0;34m.\u001b[0m\u001b[0mget_renderer\u001b[0m\u001b[0;34m(\u001b[0m\u001b[0mcleared\u001b[0m\u001b[0;34m=\u001b[0m\u001b[0;32mTrue\u001b[0m\u001b[0;34m)\u001b[0m\u001b[0;34m\u001b[0m\u001b[0;34m\u001b[0m\u001b[0m\n\u001b[0m\u001b[1;32m    403\u001b[0m         \u001b[0;31m# Acquire a lock on the shared font cache.\u001b[0m\u001b[0;34m\u001b[0m\u001b[0;34m\u001b[0m\u001b[0;34m\u001b[0m\u001b[0m\n\u001b[1;32m    404\u001b[0m         \u001b[0;32mwith\u001b[0m \u001b[0mRendererAgg\u001b[0m\u001b[0;34m.\u001b[0m\u001b[0mlock\u001b[0m\u001b[0;34m,\u001b[0m\u001b[0;31m \u001b[0m\u001b[0;31m\\\u001b[0m\u001b[0;34m\u001b[0m\u001b[0;34m\u001b[0m\u001b[0m\n",
      "\u001b[0;32m~/miniconda3/envs/py3/lib/python3.8/site-packages/matplotlib/backends/backend_agg.py\u001b[0m in \u001b[0;36mget_renderer\u001b[0;34m(self, cleared)\u001b[0m\n\u001b[1;32m    416\u001b[0m                           and getattr(self, \"_lastKey\", None) == key)\n\u001b[1;32m    417\u001b[0m         \u001b[0;32mif\u001b[0m \u001b[0;32mnot\u001b[0m \u001b[0mreuse_renderer\u001b[0m\u001b[0;34m:\u001b[0m\u001b[0;34m\u001b[0m\u001b[0;34m\u001b[0m\u001b[0m\n\u001b[0;32m--> 418\u001b[0;31m             \u001b[0mself\u001b[0m\u001b[0;34m.\u001b[0m\u001b[0mrenderer\u001b[0m \u001b[0;34m=\u001b[0m \u001b[0mRendererAgg\u001b[0m\u001b[0;34m(\u001b[0m\u001b[0mw\u001b[0m\u001b[0;34m,\u001b[0m \u001b[0mh\u001b[0m\u001b[0;34m,\u001b[0m \u001b[0mself\u001b[0m\u001b[0;34m.\u001b[0m\u001b[0mfigure\u001b[0m\u001b[0;34m.\u001b[0m\u001b[0mdpi\u001b[0m\u001b[0;34m)\u001b[0m\u001b[0;34m\u001b[0m\u001b[0;34m\u001b[0m\u001b[0m\n\u001b[0m\u001b[1;32m    419\u001b[0m             \u001b[0mself\u001b[0m\u001b[0;34m.\u001b[0m\u001b[0m_lastKey\u001b[0m \u001b[0;34m=\u001b[0m \u001b[0mkey\u001b[0m\u001b[0;34m\u001b[0m\u001b[0;34m\u001b[0m\u001b[0m\n\u001b[1;32m    420\u001b[0m         \u001b[0;32melif\u001b[0m \u001b[0mcleared\u001b[0m\u001b[0;34m:\u001b[0m\u001b[0;34m\u001b[0m\u001b[0;34m\u001b[0m\u001b[0m\n",
      "\u001b[0;32m~/miniconda3/envs/py3/lib/python3.8/site-packages/matplotlib/backends/backend_agg.py\u001b[0m in \u001b[0;36m__init__\u001b[0;34m(self, width, height, dpi)\u001b[0m\n\u001b[1;32m     94\u001b[0m         \u001b[0mself\u001b[0m\u001b[0;34m.\u001b[0m\u001b[0mwidth\u001b[0m \u001b[0;34m=\u001b[0m \u001b[0mwidth\u001b[0m\u001b[0;34m\u001b[0m\u001b[0;34m\u001b[0m\u001b[0m\n\u001b[1;32m     95\u001b[0m         \u001b[0mself\u001b[0m\u001b[0;34m.\u001b[0m\u001b[0mheight\u001b[0m \u001b[0;34m=\u001b[0m \u001b[0mheight\u001b[0m\u001b[0;34m\u001b[0m\u001b[0;34m\u001b[0m\u001b[0m\n\u001b[0;32m---> 96\u001b[0;31m         \u001b[0mself\u001b[0m\u001b[0;34m.\u001b[0m\u001b[0m_renderer\u001b[0m \u001b[0;34m=\u001b[0m \u001b[0m_RendererAgg\u001b[0m\u001b[0;34m(\u001b[0m\u001b[0mint\u001b[0m\u001b[0;34m(\u001b[0m\u001b[0mwidth\u001b[0m\u001b[0;34m)\u001b[0m\u001b[0;34m,\u001b[0m \u001b[0mint\u001b[0m\u001b[0;34m(\u001b[0m\u001b[0mheight\u001b[0m\u001b[0;34m)\u001b[0m\u001b[0;34m,\u001b[0m \u001b[0mdpi\u001b[0m\u001b[0;34m)\u001b[0m\u001b[0;34m\u001b[0m\u001b[0;34m\u001b[0m\u001b[0m\n\u001b[0m\u001b[1;32m     97\u001b[0m         \u001b[0mself\u001b[0m\u001b[0;34m.\u001b[0m\u001b[0m_filter_renderers\u001b[0m \u001b[0;34m=\u001b[0m \u001b[0;34m[\u001b[0m\u001b[0;34m]\u001b[0m\u001b[0;34m\u001b[0m\u001b[0;34m\u001b[0m\u001b[0m\n\u001b[1;32m     98\u001b[0m \u001b[0;34m\u001b[0m\u001b[0m\n",
      "\u001b[0;31mValueError\u001b[0m: Image size of 447191x506 pixels is too large. It must be less than 2^16 in each direction."
     ]
    },
    {
     "data": {
      "text/plain": [
       "<Figure size 864x576 with 1 Axes>"
      ]
     },
     "metadata": {
      "needs_background": "light"
     },
     "output_type": "display_data"
    }
   ],
   "source": [
    "from adjustText import adjust_text\n",
    "\n",
    "pl.rcParams['font.size'] = 18\n",
    "f = pl.figure(figsize=(12,8))\n",
    "\n",
    "legends,labels = [],[]\n",
    "for i in [100,50,10]:\n",
    "    l = pl.scatter([],[], s=i, facecolor='None', edgecolors='gray')\n",
    "    legends.append(l)\n",
    "    labels.append(str(i))\n",
    "\n",
    "sc = pl.scatter(Per_plot, Rp_plot,  alpha=1, s=tsm_plot,  \n",
    "               facecolor='None', edgecolors='gray'\n",
    "              )\n",
    "\n",
    "pl.scatter(Per_tg, Rp_tg,  c='C1', s=TSM_tg)\n",
    "pl.text(Per_tg+0.1, Rp_tg+0.1, 'TOI-1696 b', c='C1')\n",
    "\n",
    "texts = []\n",
    "for n,row in planets_TSM.iterrows():\n",
    "    if row['TSM']>TSM_tg:\n",
    "        t = pl.text(row['pl_orbper'],\n",
    "                    row['pl_rade'],\n",
    "                    row['pl_name']\n",
    "                   )\n",
    "        texts.append(t)\n",
    "adjust_text(texts, \n",
    "#             arrowprops=dict(arrowstyle='-', color='red', lw=0.5),\n",
    "#             autoalign='', \n",
    "#             only_move={'points':'x', 'text':'x'}\n",
    "           )\n",
    "\n",
    "pl.xlabel('Orbital Period (days)')\n",
    "pl.ylabel(r'Planet radius $(R_\\oplus)$')\n",
    "leg = pl.legend(legends, labels, \n",
    "                ncol=1, \n",
    "                frameon=False, \n",
    "#                 handlelength=2, \n",
    "#                 loc=1, \n",
    "#                 borderpad=1.8,\n",
    "                handletextpad=1, \n",
    "                title='TSM', \n",
    "                scatterpoints=1)\n",
    "\n",
    "pl.loglog()\n",
    "pl.xlim(1,10**1.5)\n",
    "pl.ylim(1, 10**1)\n",
    "\n",
    "f.savefig('../paper/figures/TSM_scatter.png')"
   ]
  },
  {
   "cell_type": "code",
   "execution_count": 33,
   "metadata": {},
   "outputs": [],
   "source": [
    "eq_ad = np.array(planets_TSM[planets_TSM['TSM']>TSM_tg]['pl_eqt'])\n",
    "Rp_ad = np.array(planets_TSM[planets_TSM['TSM']>TSM_tg]['pl_rade'])\n",
    "tsm_ad = np.array(planets_TSM[planets_TSM['TSM']>TSM_tg]['TSM'])"
   ]
  },
  {
   "cell_type": "code",
   "execution_count": 34,
   "metadata": {
    "ExecuteTime": {
     "end_time": "2022-02-24T03:11:38.750695Z",
     "start_time": "2022-02-24T03:11:36.786212Z"
    },
    "scrolled": false
   },
   "outputs": [
    {
     "data": {
      "image/png": "[encoded data removed]",
      "text/plain": [
       "<Figure size 864x576 with 1 Axes>"
      ]
     },
     "metadata": {
      "needs_background": "light"
     },
     "output_type": "display_data"
    }
   ],
   "source": [
    "from adjustText import adjust_text\n",
    "import matplotlib.ticker as mticker\n",
    "\n",
    "pl.rcParams['font.size'] = 20\n",
    "\n",
    "f, ax = pl.subplots(figsize=(12,8))\n",
    "\n",
    "legends,labels = [],[]\n",
    "for i in [100,50,10]:\n",
    "    l = pl.scatter([],[], s=i, facecolor='None', edgecolors='gray')\n",
    "    legends.append(l)\n",
    "    labels.append(str(i))\n",
    "\n",
    "ax.scatter(eq_plot, Rp_plot,  alpha=1, s=tsm_plot,  facecolor='None', edgecolors='gray')\n",
    "ax.scatter(eq_ad, Rp_ad,  alpha=1, s=tsm_ad,  facecolor='None', edgecolors='red')\n",
    "ax.scatter(Teq_tg, Rp_tg,  s=TSM_tg, c='C0')\n",
    "#ax.text(Teq_tg+5, Rp_tg+0.1, 'TOI-1696 b', c='C0')\n",
    "\n",
    "\n",
    "texts = []\n",
    "for n,row in planets_TSM.iterrows():\n",
    "    if row['TSM']>TSM_tg:\n",
    "        t = pl.text(row['pl_eqt'],\n",
    "                    row['pl_rade'],\n",
    "                    row['pl_name']\n",
    "                   )\n",
    "#        texts.append(t)\n",
    "#adjust_text(texts, \n",
    "#             arrowprops=dict(arrowstyle='-', color='red'),\n",
    "#             autoalign='',\n",
    "#             only_move={'points':'x', 'text':'x'},\n",
    "#             expand_text=(1, 2), # We want them to be quite compact, so reducing expansion makes sense\n",
    "#           force_text=(0, 0.5), force_objects=(5, 0), #With default forces it takes a very long time to converge\n",
    "#          )\n",
    "\n",
    "ax.set_xlabel('Equilibrium Temperature (K)')\n",
    "ax.set_ylabel(r'Planet radius $(R_\\oplus)$')\n",
    "leg = pl.legend(legends, labels, \n",
    "                loc='upper left',\n",
    "                ncol=1, \n",
    "                frameon=False, \n",
    "#                 handlelength=2, \n",
    "#                 loc=1, \n",
    "#                 borderpad=1.8,\n",
    "                handletextpad=1, \n",
    "                title='TSM', \n",
    "                scatterpoints=1)\n",
    "\n",
    "\n",
    "ax.set_xlim(250,950)\n",
    "ax.set_ylim(0.99, 8)\n",
    "pl.loglog()\n",
    "# ax.xaxis.set_major_formatter(mticker.ScalarFormatter())\n",
    "ax.xaxis.set_minor_formatter(mticker.ScalarFormatter())\n",
    "ax.yaxis.set_minor_formatter(mticker.ScalarFormatter())\n",
    "f.savefig('../paper/figures/TSM_scatter_new.png', bbox_inches='tight')"
   ]
  },
  {
   "cell_type": "code",
   "execution_count": 36,
   "metadata": {},
   "outputs": [
    {
     "data": {
      "text/plain": [
       "489"
      ]
     },
     "execution_count": 36,
     "metadata": {},
     "output_type": "execute_result"
    }
   ],
   "source": [
    "Teq_tg"
   ]
  },
  {
   "cell_type": "code",
   "execution_count": 35,
   "metadata": {},
   "outputs": [
    {
     "data": {
      "image/png": "[encoded data removed]",
      "text/plain": [
       "<Figure size 864x576 with 1 Axes>"
      ]
     },
     "metadata": {
      "needs_background": "light"
     },
     "output_type": "display_data"
    }
   ],
   "source": [
    "pl.rcParams['font.size'] = 20\n",
    "\n",
    "f, ax = pl.subplots(figsize=(12,8))\n",
    "\n",
    "legends,labels = [],[]\n",
    "for i in [100,50,10]:\n",
    "    l = pl.scatter([],[], s=i, facecolor='None', edgecolors='gray')\n",
    "    legends.append(l)\n",
    "    labels.append(str(i))\n",
    "\n",
    "ax.scatter(eq_plot, Rp_plot,  alpha=1, s=tsm_plot,  facecolor='None', edgecolors='gray')\n",
    "ax.scatter(eq_ad, Rp_ad,  alpha=1, s=tsm_ad,  facecolor='None', edgecolors='k')\n",
    "ax.scatter(Teq_tg, Rp_tg,  s=TSM_tg, facecolor='skyblue', edgecolors='k')\n",
    "#ax.text(Teq_tg+5, Rp_tg+0.1, 'TOI-1696 b', c='C0')\n",
    "\n",
    "\n",
    "#texts = []\n",
    "#for n,row in planets_TSM.iterrows():\n",
    " #   if row['TSM']>TSM_tg:\n",
    "  #      t = pl.text(row['pl_eqt'],\n",
    "   #                 row['pl_rade'],\n",
    "    #                row['pl_name']\n",
    "    #               )\n",
    "#        texts.append(t)\n",
    "#adjust_text(texts, \n",
    "#             arrowprops=dict(arrowstyle='-', color='red'),\n",
    "#             autoalign='',\n",
    "#             only_move={'points':'x', 'text':'x'},\n",
    "#             expand_text=(1, 2), # We want them to be quite compact, so reducing expansion makes sense\n",
    "#           force_text=(0, 0.5), force_objects=(5, 0), #With default forces it takes a very long time to converge\n",
    "#          )\n",
    "\n",
    "ax.set_xlabel('Equilibrium Temperature (K)')\n",
    "ax.set_ylabel(r'Planet radius $(R_\\oplus)$')\n",
    "leg = pl.legend(legends, labels, \n",
    "                loc='upper left',\n",
    "                ncol=1, \n",
    "                frameon=False, \n",
    "#                 handlelength=2, \n",
    "#                 loc=1, \n",
    "#                 borderpad=1.8,\n",
    "                handletextpad=1, \n",
    "                title='TSM', \n",
    "                scatterpoints=1)\n",
    "\n",
    "\n",
    "ax.set_xlim(250,950)\n",
    "ax.set_ylim(0.99, 8)\n",
    "pl.loglog()\n",
    "# ax.xaxis.set_major_formatter(mticker.ScalarFormatter())\n",
    "ax.xaxis.set_minor_formatter(mticker.ScalarFormatter())\n",
    "ax.yaxis.set_minor_formatter(mticker.ScalarFormatter())\n",
    "f.savefig('../paper/figures/TSM_scatter_new.png', bbox_inches='tight')"
   ]
  },
  {
   "cell_type": "code",
   "execution_count": null,
   "metadata": {},
   "outputs": [],
   "source": []
  }
 ],
 "metadata": {
  "kernelspec": {
   "display_name": "Python 3",
   "language": "python",
   "name": "python3"
  },
  "language_info": {
   "codemirror_mode": {
    "name": "ipython",
    "version": 3
   },
   "file_extension": ".py",
   "mimetype": "text/x-python",
   "name": "python",
   "nbconvert_exporter": "python",
   "pygments_lexer": "ipython3",
   "version": "3.8.5"
  },
  "toc": {
   "base_numbering": 1,
   "nav_menu": {},
   "number_sections": true,
   "sideBar": true,
   "skip_h1_title": false,
   "title_cell": "Table of Contents",
   "title_sidebar": "Contents",
   "toc_cell": false,
   "toc_position": {
    "height": "calc(100% - 180px)",
    "left": "10px",
    "top": "150px",
    "width": "188px"
   },
   "toc_section_display": true,
   "toc_window_display": true
  }
 },
 "nbformat": 4,
 "nbformat_minor": 4
}
