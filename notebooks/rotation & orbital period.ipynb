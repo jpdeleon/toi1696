{
 "cells": [
  {
   "cell_type": "code",
   "execution_count": 1,
   "id": "7b673366",
   "metadata": {},
   "outputs": [],
   "source": [
    "import numpy as np\n",
    "from astropy import units as u\n",
    "from astropy import constants as con"
   ]
  },
  {
   "cell_type": "markdown",
   "id": "c671f22c",
   "metadata": {},
   "source": [
    "# To see if velocity can be distinguished by IRD CCF"
   ]
  },
  {
   "cell_type": "code",
   "execution_count": 23,
   "id": "90a906b1",
   "metadata": {},
   "outputs": [],
   "source": [
    "M = 0.255 * con.M_sun\n",
    "m = 10 * con.M_earth\n",
    "P = 2.5 * u.day\n",
    "a = 0.0229 * con.au"
   ]
  },
  {
   "cell_type": "code",
   "execution_count": 24,
   "id": "0d20f979",
   "metadata": {},
   "outputs": [],
   "source": [
    "v1 = 2 * np.pi * a / P"
   ]
  },
  {
   "cell_type": "code",
   "execution_count": 25,
   "id": "7c1271dd",
   "metadata": {},
   "outputs": [
    {
     "data": {
      "text/latex": [
       "$99.652228 \\; \\mathrm{\\frac{km}{s}}$"
      ],
      "text/plain": [
       "<Quantity 99.65222768 km / s>"
      ]
     },
     "execution_count": 25,
     "metadata": {},
     "output_type": "execute_result"
    }
   ],
   "source": [
    "v.to(u.km/u.s)"
   ]
  },
  {
   "cell_type": "code",
   "execution_count": 26,
   "id": "87daa836",
   "metadata": {},
   "outputs": [
    {
     "data": {
      "text/latex": [
       "$99.390634 \\; \\mathrm{\\frac{km}{s}}$"
      ],
      "text/plain": [
       "<Quantity 99.3906338 km / s>"
      ]
     },
     "execution_count": 26,
     "metadata": {},
     "output_type": "execute_result"
    }
   ],
   "source": [
    "v2 = (con.G * M / a)**0.5\n",
    "v2.to(u.km/u.s)"
   ]
  },
  {
   "cell_type": "markdown",
   "id": "9c4e3950",
   "metadata": {},
   "source": [
    "remove semimajor axis, from Kepler's law"
   ]
  },
  {
   "cell_type": "code",
   "execution_count": 27,
   "id": "dcdff80b",
   "metadata": {
    "scrolled": true
   },
   "outputs": [
    {
     "data": {
      "text/latex": [
       "$0.022860804 \\; \\mathrm{AU}$"
      ],
      "text/plain": [
       "<Quantity 0.0228608 AU>"
      ]
     },
     "execution_count": 27,
     "metadata": {},
     "output_type": "execute_result"
    }
   ],
   "source": [
    "a2 = ((con.G * (M+m) ) / (4*np.pi**2)* P**2)**(1/3.)\n",
    "a2.to(u.au)"
   ]
  },
  {
   "cell_type": "code",
   "execution_count": 29,
   "id": "4aaa7a0a",
   "metadata": {},
   "outputs": [
    {
     "data": {
      "text/latex": [
       "$99.481661 \\; \\mathrm{\\frac{km}{s}}$"
      ],
      "text/plain": [
       "<Quantity 99.48166084 km / s>"
      ]
     },
     "execution_count": 29,
     "metadata": {},
     "output_type": "execute_result"
    }
   ],
   "source": [
    "v_calc =  2 * np.pi * ((con.G * (M+m) ) / (4*np.pi**2)* P**2)**(1/3.) / P\n",
    "v_calc.to(u.km/u.s)"
   ]
  },
  {
   "cell_type": "code",
   "execution_count": 48,
   "id": "331102fe",
   "metadata": {},
   "outputs": [],
   "source": [
    "def v_from_m(m, P=2.5, M=0.255):\n",
    "    P = P * u.day\n",
    "    M = M * con.M_sun\n",
    "    m = m * con.M_sun\n",
    "    v_calc =  2 * np.pi * ((con.G * (M+m) ) / (4*np.pi**2)* P**2)**(1/3.) / P\n",
    "    return v_calc.to(u.km/u.s).value"
   ]
  },
  {
   "cell_type": "code",
   "execution_count": 50,
   "id": "46dd7117",
   "metadata": {},
   "outputs": [
    {
     "data": {
      "text/plain": [
       "array([99.47775537])"
      ]
     },
     "execution_count": 50,
     "metadata": {},
     "output_type": "execute_result"
    }
   ],
   "source": [
    "v_from_m([0])"
   ]
  },
  {
   "cell_type": "code",
   "execution_count": 51,
   "id": "1555f352",
   "metadata": {},
   "outputs": [],
   "source": [
    "def v_from_m2(m, P=2.5, M=0.255):\n",
    "    P = P * u.day\n",
    "    M = M * con.M_sun\n",
    "    m = m * con.M_earth\n",
    "    v_calc =  ((2 * np.pi * con.G * (M+m)) / P)**(1/3.)\n",
    "    return v_calc.to(u.km/u.s).value"
   ]
  },
  {
   "cell_type": "code",
   "execution_count": 52,
   "id": "fb1d7ee8",
   "metadata": {},
   "outputs": [
    {
     "data": {
      "text/plain": [
       "99.48087977093284"
      ]
     },
     "execution_count": 52,
     "metadata": {},
     "output_type": "execute_result"
    }
   ],
   "source": [
    "v_from_m2(8)"
   ]
  },
  {
   "cell_type": "markdown",
   "id": "dd268315",
   "metadata": {},
   "source": [
    "# See the rotational signal "
   ]
  },
  {
   "cell_type": "code",
   "execution_count": 35,
   "id": "fa79b7d9",
   "metadata": {},
   "outputs": [
    {
     "ename": "ImportError",
     "evalue": "cannot import name 'MetaAttribute'",
     "output_type": "error",
     "traceback": [
      "\u001b[0;31m---------------------------------------------------------------------------\u001b[0m",
      "\u001b[0;31mImportError\u001b[0m                               Traceback (most recent call last)",
      "\u001b[0;32m<ipython-input-35-3c91bbb82a4b>\u001b[0m in \u001b[0;36m<module>\u001b[0;34m\u001b[0m\n\u001b[0;32m----> 1\u001b[0;31m \u001b[0;32mfrom\u001b[0m \u001b[0mlightkurve\u001b[0m \u001b[0;32mimport\u001b[0m \u001b[0msearch_targetpixelfile\u001b[0m\u001b[0;34m\u001b[0m\u001b[0;34m\u001b[0m\u001b[0m\n\u001b[0m",
      "\u001b[0;32m/usr/local/Caskroom/miniconda/base/envs/py3/lib/python3.6/site-packages/lightkurve/__init__.py\u001b[0m in \u001b[0;36m<module>\u001b[0;34m\u001b[0m\n\u001b[1;32m     50\u001b[0m \u001b[0;32mfrom\u001b[0m \u001b[0;34m.\u001b[0m \u001b[0;32mimport\u001b[0m \u001b[0munits\u001b[0m  \u001b[0;31m# enable ppt and ppm as units\u001b[0m\u001b[0;34m\u001b[0m\u001b[0;34m\u001b[0m\u001b[0m\n\u001b[1;32m     51\u001b[0m \u001b[0;32mfrom\u001b[0m \u001b[0;34m.\u001b[0m\u001b[0mtime\u001b[0m \u001b[0;32mimport\u001b[0m \u001b[0;34m*\u001b[0m\u001b[0;34m\u001b[0m\u001b[0;34m\u001b[0m\u001b[0m\n\u001b[0;32m---> 52\u001b[0;31m \u001b[0;32mfrom\u001b[0m \u001b[0;34m.\u001b[0m\u001b[0mlightcurve\u001b[0m \u001b[0;32mimport\u001b[0m \u001b[0;34m*\u001b[0m\u001b[0;34m\u001b[0m\u001b[0;34m\u001b[0m\u001b[0m\n\u001b[0m\u001b[1;32m     53\u001b[0m \u001b[0;32mfrom\u001b[0m \u001b[0;34m.\u001b[0m\u001b[0mlightcurvefile\u001b[0m \u001b[0;32mimport\u001b[0m \u001b[0;34m*\u001b[0m\u001b[0;34m\u001b[0m\u001b[0;34m\u001b[0m\u001b[0m\n\u001b[1;32m     54\u001b[0m \u001b[0;32mfrom\u001b[0m \u001b[0;34m.\u001b[0m\u001b[0mcorrectors\u001b[0m \u001b[0;32mimport\u001b[0m \u001b[0;34m*\u001b[0m\u001b[0;34m\u001b[0m\u001b[0;34m\u001b[0m\u001b[0m\n",
      "\u001b[0;32m/usr/local/Caskroom/miniconda/base/envs/py3/lib/python3.6/site-packages/lightkurve/lightcurve.py\u001b[0m in \u001b[0;36m<module>\u001b[0;34m\u001b[0m\n\u001b[1;32m     13\u001b[0m \u001b[0;32mfrom\u001b[0m \u001b[0mcopy\u001b[0m \u001b[0;32mimport\u001b[0m \u001b[0mdeepcopy\u001b[0m\u001b[0;34m\u001b[0m\u001b[0;34m\u001b[0m\u001b[0m\n\u001b[1;32m     14\u001b[0m \u001b[0;34m\u001b[0m\u001b[0m\n\u001b[0;32m---> 15\u001b[0;31m \u001b[0;32mfrom\u001b[0m \u001b[0mastropy\u001b[0m\u001b[0;34m.\u001b[0m\u001b[0mtable\u001b[0m \u001b[0;32mimport\u001b[0m \u001b[0mTable\u001b[0m\u001b[0;34m,\u001b[0m \u001b[0mColumn\u001b[0m\u001b[0;34m,\u001b[0m \u001b[0mMaskedColumn\u001b[0m\u001b[0;34m\u001b[0m\u001b[0;34m\u001b[0m\u001b[0m\n\u001b[0m\u001b[1;32m     16\u001b[0m \u001b[0;32mfrom\u001b[0m \u001b[0mastropy\u001b[0m\u001b[0;34m.\u001b[0m\u001b[0mio\u001b[0m \u001b[0;32mimport\u001b[0m \u001b[0mfits\u001b[0m\u001b[0;34m\u001b[0m\u001b[0;34m\u001b[0m\u001b[0m\n\u001b[1;32m     17\u001b[0m \u001b[0;32mfrom\u001b[0m \u001b[0mastropy\u001b[0m\u001b[0;34m.\u001b[0m\u001b[0mtime\u001b[0m \u001b[0;32mimport\u001b[0m \u001b[0mTime\u001b[0m\u001b[0;34m,\u001b[0m \u001b[0mTimeDelta\u001b[0m\u001b[0;34m\u001b[0m\u001b[0;34m\u001b[0m\u001b[0m\n",
      "\u001b[0;32m/usr/local/Caskroom/miniconda/base/envs/py3/lib/python3.6/site-packages/astropy/table/__init__.py\u001b[0m in \u001b[0;36m<module>\u001b[0;34m\u001b[0m\n\u001b[1;32m     47\u001b[0m \u001b[0;34m\u001b[0m\u001b[0m\n\u001b[1;32m     48\u001b[0m \u001b[0;32mfrom\u001b[0m \u001b[0;34m.\u001b[0m\u001b[0mgroups\u001b[0m \u001b[0;32mimport\u001b[0m \u001b[0mTableGroups\u001b[0m\u001b[0;34m,\u001b[0m \u001b[0mColumnGroups\u001b[0m\u001b[0;34m\u001b[0m\u001b[0;34m\u001b[0m\u001b[0m\n\u001b[0;32m---> 49\u001b[0;31m from .table import (Table, QTable, TableColumns, Row, TableFormatter,\n\u001b[0m\u001b[1;32m     50\u001b[0m                     NdarrayMixin, TableReplaceWarning, TableAttribute)\n\u001b[1;32m     51\u001b[0m from .operations import (join, setdiff, hstack, dstack, vstack, unique, TableMergeError,\n",
      "\u001b[0;32m/usr/local/Caskroom/miniconda/base/envs/py3/lib/python3.6/site-packages/astropy/table/table.py\u001b[0m in \u001b[0;36m<module>\u001b[0;34m\u001b[0m\n\u001b[1;32m     18\u001b[0m \u001b[0;32mfrom\u001b[0m \u001b[0mastropy\u001b[0m\u001b[0;34m.\u001b[0m\u001b[0mutils\u001b[0m \u001b[0;32mimport\u001b[0m \u001b[0misiterable\u001b[0m\u001b[0;34m,\u001b[0m \u001b[0mShapedLikeNDArray\u001b[0m\u001b[0;34m\u001b[0m\u001b[0;34m\u001b[0m\u001b[0m\n\u001b[1;32m     19\u001b[0m \u001b[0;32mfrom\u001b[0m \u001b[0mastropy\u001b[0m\u001b[0;34m.\u001b[0m\u001b[0mutils\u001b[0m\u001b[0;34m.\u001b[0m\u001b[0mconsole\u001b[0m \u001b[0;32mimport\u001b[0m \u001b[0mcolor_print\u001b[0m\u001b[0;34m\u001b[0m\u001b[0;34m\u001b[0m\u001b[0m\n\u001b[0;32m---> 20\u001b[0;31m \u001b[0;32mfrom\u001b[0m \u001b[0mastropy\u001b[0m\u001b[0;34m.\u001b[0m\u001b[0mutils\u001b[0m\u001b[0;34m.\u001b[0m\u001b[0mmetadata\u001b[0m \u001b[0;32mimport\u001b[0m \u001b[0mMetaData\u001b[0m\u001b[0;34m,\u001b[0m \u001b[0mMetaAttribute\u001b[0m\u001b[0;34m\u001b[0m\u001b[0;34m\u001b[0m\u001b[0m\n\u001b[0m\u001b[1;32m     21\u001b[0m \u001b[0;32mfrom\u001b[0m \u001b[0mastropy\u001b[0m\u001b[0;34m.\u001b[0m\u001b[0mutils\u001b[0m\u001b[0;34m.\u001b[0m\u001b[0mdata_info\u001b[0m \u001b[0;32mimport\u001b[0m \u001b[0mBaseColumnInfo\u001b[0m\u001b[0;34m,\u001b[0m \u001b[0mMixinInfo\u001b[0m\u001b[0;34m,\u001b[0m \u001b[0mParentDtypeInfo\u001b[0m\u001b[0;34m,\u001b[0m \u001b[0mDataInfo\u001b[0m\u001b[0;34m\u001b[0m\u001b[0;34m\u001b[0m\u001b[0m\n\u001b[1;32m     22\u001b[0m \u001b[0;32mfrom\u001b[0m \u001b[0mastropy\u001b[0m\u001b[0;34m.\u001b[0m\u001b[0mutils\u001b[0m\u001b[0;34m.\u001b[0m\u001b[0mdecorators\u001b[0m \u001b[0;32mimport\u001b[0m \u001b[0mformat_doc\u001b[0m\u001b[0;34m\u001b[0m\u001b[0;34m\u001b[0m\u001b[0m\n",
      "\u001b[0;31mImportError\u001b[0m: cannot import name 'MetaAttribute'"
     ]
    }
   ],
   "source": [
    "from lightkurve import search_targetpixelfile"
   ]
  },
  {
   "cell_type": "code",
   "execution_count": null,
   "id": "81c46779",
   "metadata": {},
   "outputs": [],
   "source": []
  }
 ],
 "metadata": {
  "kernelspec": {
   "display_name": "Python 3",
   "language": "python",
   "name": "python3"
  },
  "language_info": {
   "codemirror_mode": {
    "name": "ipython",
    "version": 3
   },
   "file_extension": ".py",
   "mimetype": "text/x-python",
   "name": "python",
   "nbconvert_exporter": "python",
   "pygments_lexer": "ipython3",
   "version": "3.6.13"
  }
 },
 "nbformat": 4,
 "nbformat_minor": 5
}
