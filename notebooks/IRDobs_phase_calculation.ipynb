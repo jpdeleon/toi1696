{
 "cells": [
  {
   "cell_type": "markdown",
   "metadata": {},
   "source": [
    "# Conversion UT to GJD"
   ]
  },
  {
   "cell_type": "code",
   "execution_count": 1,
   "metadata": {},
   "outputs": [],
   "source": [
    "%matplotlib inline\n",
    "import numpy as np\n",
    "import matplotlib.pyplot as pl"
   ]
  },
  {
   "cell_type": "code",
   "execution_count": 2,
   "metadata": {},
   "outputs": [],
   "source": [
    "from astropy.time import Time\n",
    "from astropy.time import TimezoneInfo\n",
    "import astropy.units as u"
   ]
  },
  {
   "cell_type": "markdown",
   "metadata": {},
   "source": [
    "細かいことは気にしない GJDでいくし観測開始時刻でいきます  \n",
    "今後図とかにするならば観測開始時刻 + exposure time/2の時間でだします? (そのときにはfits headerのJDつかえばいいのか)"
   ]
  },
  {
   "cell_type": "code",
   "execution_count": 3,
   "metadata": {},
   "outputs": [],
   "source": [
    "#HST/UCT is in a format like \"YYYY-MM-DD HH:MM\""
   ]
  },
  {
   "cell_type": "code",
   "execution_count": 4,
   "metadata": {},
   "outputs": [],
   "source": [
    "def HSTtoUTC(HST_list):\n",
    "    UTC_list=[]\n",
    "    for HST in HST_list:\n",
    "        hr = str(int(HST[11:13])-14).zfill(2)\n",
    "        day = str(int(HST[8:10])+1).zfill(2)\n",
    "        UTC_list.append(HST[:8]+day+' '+hr+HST[-3:])\n",
    "    return UTC_list\n",
    "\n",
    "def UTCtoGJD(UTC_list):\n",
    "    JD_list=[]\n",
    "    for UTC in UTC_list: \n",
    "        JD_list.append(Time(UTC).jd)\n",
    "    return JD_list\n",
    "\n",
    "def HSTtoGJD(HST_list):\n",
    "    UTC_list = HSTtoUTC(HST_list)\n",
    "    JD_list = UTCtoGJD(UTC_list)\n",
    "    return JD_list"
   ]
  },
  {
   "cell_type": "code",
   "execution_count": 5,
   "metadata": {},
   "outputs": [
    {
     "data": {
      "text/plain": [
       "[2459529.5256944443]"
      ]
     },
     "execution_count": 5,
     "metadata": {},
     "output_type": "execute_result"
    }
   ],
   "source": [
    "#example\n",
    "HSTtoGJD([\"2021-11-10 14:37\"])"
   ]
  },
  {
   "cell_type": "markdown",
   "metadata": {},
   "source": [
    "# Transit Prediction"
   ]
  },
  {
   "cell_type": "code",
   "execution_count": 6,
   "metadata": {},
   "outputs": [],
   "source": [
    "def phase(OBS_JD, T0, P):\n",
    "    n = np.floor((OBS_JD-T0)/P)\n",
    "    tr_before = T0 + n * P             #the JD of the last transit (phase=0) before the observation\n",
    "    ph = (OBS_JD - tr_before)/P\n",
    "    return ph"
   ]
  },
  {
   "cell_type": "code",
   "execution_count": 12,
   "metadata": {},
   "outputs": [],
   "source": [
    "def phase_l(OBS_JD_list, T0, P):\n",
    "    li =[]\n",
    "    for OBS_JD in OBS_JD_list:\n",
    "        li.append(phase(OBS_JD, T0, P))\n",
    "    return li"
   ]
  },
  {
   "cell_type": "markdown",
   "metadata": {},
   "source": [
    "## Parameter"
   ]
  },
  {
   "cell_type": "code",
   "execution_count": 13,
   "metadata": {},
   "outputs": [],
   "source": [
    "T0_before = 2458816.697706 #previous: from NASA exoplanet archive\n",
    "P_before = 2.500715"
   ]
  },
  {
   "cell_type": "code",
   "execution_count": 14,
   "metadata": {},
   "outputs": [],
   "source": [
    "T0_new = 2459206.74743329\n",
    "P_new = 2.50032476  #From John's updated ephemeris"
   ]
  },
  {
   "cell_type": "markdown",
   "metadata": {},
   "source": [
    "## Previous IRD observation "
   ]
  },
  {
   "cell_type": "code",
   "execution_count": 16,
   "metadata": {},
   "outputs": [
    {
     "data": {
      "text/plain": [
       "[2459244.8701388887,\n",
       " 2459466.967361111,\n",
       " 2459487.9375,\n",
       " 2459503.0416666665,\n",
       " 2459507.896527778,\n",
       " 2459508.046527778,\n",
       " 2459509.8722222224,\n",
       " 2459510.0416666665,\n",
       " 2459514.902083333,\n",
       " 2459515.1006944445]"
      ]
     },
     "execution_count": 16,
     "metadata": {},
     "output_type": "execute_result"
    }
   ],
   "source": [
    "HST_past_obs=['2021-01-29 22:53', '2021-09-08 25:13', '2021-09-29 24:30', '2021-10-14 27:00',\\\n",
    "          '2021-10-19 23:31', '2021-10-19 27:07', \\\n",
    "          '2021-10-21 22:56', '2021-10-21 27:00',\\\n",
    "          '2021-10-26 23:39', '2021-10-26 28:25']\n",
    "#2021-10-14: instrument problem\n",
    "JD_past_obs=HSTtoGJD(HST_past_obs)\n",
    "JD_past_obs"
   ]
  },
  {
   "cell_type": "code",
   "execution_count": 17,
   "metadata": {},
   "outputs": [
    {
     "data": {
      "text/plain": [
       "[0.24710158001806168,\n",
       " 0.07445144100394838,\n",
       " 0.46141749614685906,\n",
       " 0.502299427976005,\n",
       " 0.4439916388646974,\n",
       " 0.5039838455998208,\n",
       " 0.2341667697137693,\n",
       " 0.3019357439024085,\n",
       " 0.2458498884290656,\n",
       " 0.3252840141704592]"
      ]
     },
     "execution_count": 17,
     "metadata": {},
     "output_type": "execute_result"
    }
   ],
   "source": [
    "phase_past_obs=phase_l(JD_past_obs, T0_new, P_new)\n",
    "phase_past_obs"
   ]
  },
  {
   "cell_type": "code",
   "execution_count": 20,
   "metadata": {},
   "outputs": [
    {
     "data": {
      "text/plain": [
       "Text(0, 0.5, 'predicted RV (Normalized)')"
      ]
     },
     "execution_count": 20,
     "metadata": {},
     "output_type": "execute_result"
    },
    {
     "data": {
      "image/png": "[encoded data removed]",
      "text/plain": [
       "<Figure size 432x288 with 1 Axes>"
      ]
     },
     "metadata": {
      "needs_background": "light"
     },
     "output_type": "display_data"
    }
   ],
   "source": [
    "x = np.linspace(0, 1, 10000)\n",
    "pl.plot(x, np.sin(x*2*np.pi))\n",
    "\n",
    "pl.plot(phase_past_obs, np.sin(np.array(phase_past_obs)*2*np.pi),'o')\n",
    "#pl.plot(phase_list[-1], np.sin(np.array(phase_list[-1])*2*np.pi),'o',color='r')\n",
    "pl.xlabel('phase')\n",
    "pl.ylabel('predicted RV (Normalized)')"
   ]
  },
  {
   "cell_type": "code",
   "execution_count": 22,
   "metadata": {},
   "outputs": [],
   "source": [
    "HST_future_obs = ['2021-11-11 21:15', '2021-11-11 27:15', '2022-01-07 22:00', '2022-01-08 22:00', '2022-01-23 22:00']\n",
    "JD_future_obs=HSTtoGJD(HST_future_obs)\n",
    "phase_future_obs=phase_l(JD_future_obs, T0_new, P_new)"
   ]
  },
  {
   "cell_type": "code",
   "execution_count": 31,
   "metadata": {},
   "outputs": [
    {
     "data": {
      "text/plain": [
       "Text(0, 0.5, 'predicted RV (Normalized)')"
      ]
     },
     "execution_count": 31,
     "metadata": {},
     "output_type": "execute_result"
    },
    {
     "data": {
      "image/png": "[encoded data removed]",
      "text/plain": [
       "<Figure size 432x288 with 1 Axes>"
      ]
     },
     "metadata": {
      "needs_background": "light"
     },
     "output_type": "display_data"
    }
   ],
   "source": [
    "x = np.linspace(0, 1, 10000)\n",
    "pl.plot(x, np.sin(x*2*np.pi))\n",
    "\n",
    "pl.plot(phase_past_obs, np.sin(np.array(phase_past_obs)*2*np.pi),'o')\n",
    "pl.plot(phase_future_obs, np.sin(np.array(phase_future_obs)*2*np.pi),'o', color='r')\n",
    "\n",
    "for tag, phase in zip(HST_future_obs, phase_future_obs):\n",
    "    pl.text(phase, np.sin(phase*2*np.pi), tag[5:-5])\n",
    "\n",
    "pl.xlabel('phase')\n",
    "pl.ylabel('predicted RV (Normalized)')"
   ]
  },
  {
   "cell_type": "code",
   "execution_count": null,
   "metadata": {
    "collapsed": true
   },
   "outputs": [],
   "source": []
  }
 ],
 "metadata": {
  "kernelspec": {
   "display_name": "Python 3",
   "language": "python",
   "name": "python3"
  },
  "language_info": {
   "codemirror_mode": {
    "name": "ipython",
    "version": 3
   },
   "file_extension": ".py",
   "mimetype": "text/x-python",
   "name": "python",
   "nbconvert_exporter": "python",
   "pygments_lexer": "ipython3",
   "version": "3.8.5"
  },
  "toc": {
   "base_numbering": 1,
   "nav_menu": {},
   "number_sections": true,
   "sideBar": true,
   "skip_h1_title": false,
   "title_cell": "Table of Contents",
   "title_sidebar": "Contents",
   "toc_cell": false,
   "toc_position": {},
   "toc_section_display": true,
   "toc_window_display": true
  }
 },
 "nbformat": 4,
 "nbformat_minor": 4
}
