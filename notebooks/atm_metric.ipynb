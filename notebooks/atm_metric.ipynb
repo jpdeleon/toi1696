{
 "cells": [
  {
   "cell_type": "code",
   "execution_count": 1,
   "metadata": {
    "ExecuteTime": {
     "end_time": "2022-01-28T12:02:35.284445Z",
     "start_time": "2022-01-28T12:02:35.101195Z"
    }
   },
   "outputs": [],
   "source": [
    "from uncertainties import ufloat\n",
    "\n",
    "#values from spitzer allesfitter results\n",
    "Rp = ufloat(2.59,0.05) #Re\n",
    "Mp = None\n",
    "a = ufloat(14.5,2)\n",
    "\n",
    "Teff = ufloat(5241,44)\n",
    "magJ = 7.42\n",
    "Rs = ufloat(0.78,0.1)\n",
    "# Ms = ufloat(0.84,0.1)"
   ]
  },
  {
   "cell_type": "code",
   "execution_count": 2,
   "metadata": {
    "ExecuteTime": {
     "end_time": "2022-01-28T12:02:35.750901Z",
     "start_time": "2022-01-28T12:02:35.739315Z"
    }
   },
   "outputs": [],
   "source": [
    "def TSM(Rp, Teq, Rs, magJ, Mp=None, alpha=1.28):\n",
    "    if Mp is None:\n",
    "        if Rp<1.23:\n",
    "            Mp = 0.9718*Rp**3.58\n",
    "        elif (Rp>1.23) | (Rp<14.26):\n",
    "            Mp = 1.436*Rp**1.7\n",
    "        else:\n",
    "            msg = \"MR relation not applicable for given Rp\"\n",
    "            raise ValueError(msg)\n",
    "    return alpha * (Rp*Teq)/(Mp*Rs**2) * 10**(-magJ/5)\n",
    "\n",
    "def Teq(a,Rs,Teff):\n",
    "    return 0.25**0.25 * Teff * (Rs/a)**0.5"
   ]
  },
  {
   "cell_type": "code",
   "execution_count": 3,
   "metadata": {
    "ExecuteTime": {
     "end_time": "2022-01-28T12:02:37.933168Z",
     "start_time": "2022-01-28T12:02:37.924958Z"
    }
   },
   "outputs": [
    {
     "data": {
      "text/plain": [
       "859.5328157663967+/-81.25137429719484"
      ]
     },
     "execution_count": 3,
     "metadata": {},
     "output_type": "execute_result"
    }
   ],
   "source": [
    "teq = Teq(a,Rs,Teff)\n",
    "teq"
   ]
  },
  {
   "cell_type": "code",
   "execution_count": 4,
   "metadata": {
    "ExecuteTime": {
     "end_time": "2022-01-28T12:02:38.286694Z",
     "start_time": "2022-01-28T12:02:38.280657Z"
    }
   },
   "outputs": [
    {
     "data": {
      "text/plain": [
       "21.22359509717756+/-4.349107080413411"
      ]
     },
     "execution_count": 4,
     "metadata": {},
     "output_type": "execute_result"
    }
   ],
   "source": [
    "TSM(Rp, teq, Rs, magJ, alpha=1.28)"
   ]
  },
  {
   "cell_type": "code",
   "execution_count": null,
   "metadata": {},
   "outputs": [],
   "source": []
  }
 ],
 "metadata": {
  "kernelspec": {
   "display_name": "Python 3",
   "language": "python",
   "name": "python3"
  },
  "language_info": {
   "codemirror_mode": {
    "name": "ipython",
    "version": 3
   },
   "file_extension": ".py",
   "mimetype": "text/x-python",
   "name": "python",
   "nbconvert_exporter": "python",
   "pygments_lexer": "ipython3",
   "version": "3.6.13"
  },
  "toc": {
   "base_numbering": 1,
   "nav_menu": {},
   "number_sections": true,
   "sideBar": true,
   "skip_h1_title": false,
   "title_cell": "Table of Contents",
   "title_sidebar": "Contents",
   "toc_cell": false,
   "toc_position": {},
   "toc_section_display": true,
   "toc_window_display": false
  }
 },
 "nbformat": 4,
 "nbformat_minor": 4
}
