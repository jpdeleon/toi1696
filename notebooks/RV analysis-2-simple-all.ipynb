{
 "cells": [
  {
   "cell_type": "code",
   "execution_count": 18,
   "metadata": {},
   "outputs": [],
   "source": [
    "import os\n",
    "import numpy as np\n",
    "import matplotlib.pyplot as pl\n",
    "import pandas as pd\n",
    "from astropy.time import Time\n",
    "from astropy import units as u\n",
    "from astropy.coordinates import SkyCoord\n",
    "from astropy import constants as con\n",
    "from tqdm import tqdm"
   ]
  },
  {
   "cell_type": "code",
   "execution_count": 19,
   "metadata": {},
   "outputs": [
    {
     "data": {
      "text/html": [
       "<div>\n",
       "<style scoped>\n",
       "    .dataframe tbody tr th:only-of-type {\n",
       "        vertical-align: middle;\n",
       "    }\n",
       "\n",
       "    .dataframe tbody tr th {\n",
       "        vertical-align: top;\n",
       "    }\n",
       "\n",
       "    .dataframe thead th {\n",
       "        text-align: right;\n",
       "    }\n",
       "</style>\n",
       "<table border=\"1\" class=\"dataframe\">\n",
       "  <thead>\n",
       "    <tr style=\"text-align: right;\">\n",
       "      <th></th>\n",
       "      <th>bjd</th>\n",
       "      <th>rv</th>\n",
       "      <th>rv_err</th>\n",
       "    </tr>\n",
       "  </thead>\n",
       "  <tbody>\n",
       "    <tr>\n",
       "      <th>0</th>\n",
       "      <td>2.459245e+06</td>\n",
       "      <td>-0.053392</td>\n",
       "      <td>0.01623</td>\n",
       "    </tr>\n",
       "    <tr>\n",
       "      <th>1</th>\n",
       "      <td>2.459488e+06</td>\n",
       "      <td>-0.029687</td>\n",
       "      <td>0.01424</td>\n",
       "    </tr>\n",
       "    <tr>\n",
       "      <th>2</th>\n",
       "      <td>2.459508e+06</td>\n",
       "      <td>0.068336</td>\n",
       "      <td>0.01874</td>\n",
       "    </tr>\n",
       "    <tr>\n",
       "      <th>3</th>\n",
       "      <td>2.459508e+06</td>\n",
       "      <td>0.061334</td>\n",
       "      <td>0.01405</td>\n",
       "    </tr>\n",
       "    <tr>\n",
       "      <th>4</th>\n",
       "      <td>2.459510e+06</td>\n",
       "      <td>0.105841</td>\n",
       "      <td>0.01895</td>\n",
       "    </tr>\n",
       "    <tr>\n",
       "      <th>5</th>\n",
       "      <td>2.459510e+06</td>\n",
       "      <td>0.045615</td>\n",
       "      <td>0.01487</td>\n",
       "    </tr>\n",
       "    <tr>\n",
       "      <th>6</th>\n",
       "      <td>2.459515e+06</td>\n",
       "      <td>-0.019704</td>\n",
       "      <td>0.01701</td>\n",
       "    </tr>\n",
       "    <tr>\n",
       "      <th>7</th>\n",
       "      <td>2.459515e+06</td>\n",
       "      <td>0.000000</td>\n",
       "      <td>0.01431</td>\n",
       "    </tr>\n",
       "    <tr>\n",
       "      <th>8</th>\n",
       "      <td>2.459531e+06</td>\n",
       "      <td>-0.046459</td>\n",
       "      <td>0.01720</td>\n",
       "    </tr>\n",
       "  </tbody>\n",
       "</table>\n",
       "</div>"
      ],
      "text/plain": [
       "            bjd        rv   rv_err\n",
       "0  2.459245e+06 -0.053392  0.01623\n",
       "1  2.459488e+06 -0.029687  0.01424\n",
       "2  2.459508e+06  0.068336  0.01874\n",
       "3  2.459508e+06  0.061334  0.01405\n",
       "4  2.459510e+06  0.105841  0.01895\n",
       "5  2.459510e+06  0.045615  0.01487\n",
       "6  2.459515e+06 -0.019704  0.01701\n",
       "7  2.459515e+06  0.000000  0.01431\n",
       "8  2.459531e+06 -0.046459  0.01720"
      ]
     },
     "execution_count": 19,
     "metadata": {},
     "output_type": "execute_result"
    }
   ],
   "source": [
    "df_all=pd.read_csv('../data/rv/TOI1696_rv_all.dat', sep=',')\n",
    "df_yj=pd.read_csv('../data/rv/TOI1696_rv_yj.dat', sep=',')\n",
    "df_yj"
   ]
  },
  {
   "cell_type": "code",
   "execution_count": 3,
   "metadata": {},
   "outputs": [],
   "source": [
    "df = df_all"
   ]
  },
  {
   "cell_type": "code",
   "execution_count": 4,
   "metadata": {},
   "outputs": [
    {
     "data": {
      "text/plain": [
       "[<matplotlib.lines.Line2D at 0x7f04cbc4a7f0>]"
      ]
     },
     "execution_count": 4,
     "metadata": {},
     "output_type": "execute_result"
    },
    {
     "data": {
      "image/png": "[encoded data removed]",
      "text/plain": [
       "<Figure size 432x288 with 1 Axes>"
      ]
     },
     "metadata": {
      "needs_background": "light"
     },
     "output_type": "display_data"
    }
   ],
   "source": [
    "pl.plot(df['bjd'],df['rv'], '.')"
   ]
  },
  {
   "cell_type": "code",
   "execution_count": 5,
   "metadata": {},
   "outputs": [],
   "source": [
    "T0 = 2459206.74743\n",
    "P = 2.50079 #day\n",
    "Ms = 0.261#solar mass\n",
    "Mp = 68 #earth mass, tentative\n",
    "\n",
    "a_rs = (0.023 * con.au/ (0.268 * con.R_sun)).value\n",
    "\n",
    "b = 0.49\n",
    "inc = np.arccos(b / a_rs)#rad"
   ]
  },
  {
   "cell_type": "code",
   "execution_count": 6,
   "metadata": {},
   "outputs": [],
   "source": [
    "def rv_model_K(K, t0, p, tm):  \n",
    "    rv = K* np.sin(2 * np.pi / p * (tm-t0))\n",
    "    return rv\n",
    "def rv_model_K_phase(K, ph):\n",
    "    rv = K*np.sin(ph*np.pi*2)\n",
    "    return rv"
   ]
  },
  {
   "cell_type": "code",
   "execution_count": 7,
   "metadata": {},
   "outputs": [],
   "source": [
    "# 横軸phaseでplotするために\n",
    "\n",
    "def phase(OBS_JD, T0, P):\n",
    "    n = np.floor((OBS_JD-T0)/P)\n",
    "    tr_before = T0 + n * P             #the JD of the last transit (phase=0) before the observation\n",
    "    ph = (OBS_JD - tr_before)/P\n",
    "    return ph"
   ]
  },
  {
   "cell_type": "code",
   "execution_count": 8,
   "metadata": {},
   "outputs": [
    {
     "data": {
      "text/plain": [
       "[<matplotlib.lines.Line2D at 0x7f04cbb2e820>]"
      ]
     },
     "execution_count": 8,
     "metadata": {},
     "output_type": "execute_result"
    },
    {
     "data": {
      "image/png": "[encoded data removed]",
      "text/plain": [
       "<Figure size 432x288 with 1 Axes>"
      ]
     },
     "metadata": {
      "needs_background": "light"
     },
     "output_type": "display_data"
    }
   ],
   "source": [
    "phase_obs = phase(df['bjd'], T0, P)\n",
    "phase_pr = np.linspace(0,1,10000)\n",
    "\n",
    "pl.plot(phase_obs, df['rv'], '.')\n",
    "pl.plot(phase_pr, rv_model_K_phase(0.08, phase_pr), '-')"
   ]
  },
  {
   "cell_type": "code",
   "execution_count": 9,
   "metadata": {},
   "outputs": [
    {
     "data": {
      "text/plain": [
       "[<matplotlib.lines.Line2D at 0x7f04cbb14d30>]"
      ]
     },
     "execution_count": 9,
     "metadata": {},
     "output_type": "execute_result"
    },
    {
     "data": {
      "image/png": "[encoded data removed]",
      "text/plain": [
       "<Figure size 432x288 with 1 Axes>"
      ]
     },
     "metadata": {
      "needs_background": "light"
     },
     "output_type": "display_data"
    }
   ],
   "source": [
    "pl.plot(phase_obs, df['rv'], '.')\n",
    "pl.plot(phase_obs, rv_model_K_phase(0.08, phase_obs), '.')\n",
    "pl.plot(phase_pr, rv_model_K_phase(0.08, phase_pr), '-')"
   ]
  },
  {
   "cell_type": "code",
   "execution_count": 10,
   "metadata": {},
   "outputs": [
    {
     "data": {
      "text/html": [
       "<div>\n",
       "<style scoped>\n",
       "    .dataframe tbody tr th:only-of-type {\n",
       "        vertical-align: middle;\n",
       "    }\n",
       "\n",
       "    .dataframe tbody tr th {\n",
       "        vertical-align: top;\n",
       "    }\n",
       "\n",
       "    .dataframe thead th {\n",
       "        text-align: right;\n",
       "    }\n",
       "</style>\n",
       "<table border=\"1\" class=\"dataframe\">\n",
       "  <thead>\n",
       "    <tr style=\"text-align: right;\">\n",
       "      <th></th>\n",
       "      <th>phase</th>\n",
       "      <th>rv_obs</th>\n",
       "      <th>rv_model</th>\n",
       "    </tr>\n",
       "  </thead>\n",
       "  <tbody>\n",
       "    <tr>\n",
       "      <th>0</th>\n",
       "      <td>0.250090</td>\n",
       "      <td>-0.081987</td>\n",
       "      <td>0.080000</td>\n",
       "    </tr>\n",
       "    <tr>\n",
       "      <th>1</th>\n",
       "      <td>0.445876</td>\n",
       "      <td>0.046578</td>\n",
       "      <td>0.026684</td>\n",
       "    </tr>\n",
       "    <tr>\n",
       "      <th>2</th>\n",
       "      <td>0.427791</td>\n",
       "      <td>0.057321</td>\n",
       "      <td>0.035064</td>\n",
       "    </tr>\n",
       "    <tr>\n",
       "      <th>3</th>\n",
       "      <td>0.487738</td>\n",
       "      <td>0.025829</td>\n",
       "      <td>0.006157</td>\n",
       "    </tr>\n",
       "    <tr>\n",
       "      <th>4</th>\n",
       "      <td>0.217534</td>\n",
       "      <td>0.063226</td>\n",
       "      <td>0.078341</td>\n",
       "    </tr>\n",
       "    <tr>\n",
       "      <th>5</th>\n",
       "      <td>0.285627</td>\n",
       "      <td>0.000000</td>\n",
       "      <td>0.078004</td>\n",
       "    </tr>\n",
       "    <tr>\n",
       "      <th>6</th>\n",
       "      <td>0.229187</td>\n",
       "      <td>-0.014359</td>\n",
       "      <td>0.079317</td>\n",
       "    </tr>\n",
       "    <tr>\n",
       "      <th>7</th>\n",
       "      <td>0.308506</td>\n",
       "      <td>-0.029625</td>\n",
       "      <td>0.074655</td>\n",
       "    </tr>\n",
       "    <tr>\n",
       "      <th>8</th>\n",
       "      <td>0.595197</td>\n",
       "      <td>-0.079214</td>\n",
       "      <td>-0.045049</td>\n",
       "    </tr>\n",
       "  </tbody>\n",
       "</table>\n",
       "</div>"
      ],
      "text/plain": [
       "      phase    rv_obs  rv_model\n",
       "0  0.250090 -0.081987  0.080000\n",
       "1  0.445876  0.046578  0.026684\n",
       "2  0.427791  0.057321  0.035064\n",
       "3  0.487738  0.025829  0.006157\n",
       "4  0.217534  0.063226  0.078341\n",
       "5  0.285627  0.000000  0.078004\n",
       "6  0.229187 -0.014359  0.079317\n",
       "7  0.308506 -0.029625  0.074655\n",
       "8  0.595197 -0.079214 -0.045049"
      ]
     },
     "execution_count": 10,
     "metadata": {},
     "output_type": "execute_result"
    }
   ],
   "source": [
    "pd.DataFrame({'phase':phase_obs, 'rv_obs':df['rv'], 'rv_model':rv_model_K_phase(0.08, phase_obs)})"
   ]
  },
  {
   "cell_type": "code",
   "execution_count": 11,
   "metadata": {},
   "outputs": [],
   "source": [
    "def logprob(K):\n",
    "    rv_o = df['rv']\n",
    "    rv_e = df['rv_err']\n",
    "    rv_m = rv_model_K_phase(K, phase_obs)\n",
    "    \n",
    "    return -0.5 * np.sum(((rv_o - rv_m)/rv_e)**2)"
   ]
  },
  {
   "cell_type": "code",
   "execution_count": 12,
   "metadata": {},
   "outputs": [
    {
     "name": "stderr",
     "output_type": "stream",
     "text": [
      "100%|██████████| 1000/1000 [00:54<00:00, 18.88it/s]\n"
     ]
    },
    {
     "data": {
      "text/plain": [
       "State([[-5.91124584e-03]\n",
       " [ 2.46407022e-03]\n",
       " [ 3.32303941e-03]\n",
       " [ 2.84381512e-03]\n",
       " [ 9.93854603e-04]\n",
       " [ 1.77752911e-03]\n",
       " [-4.26946671e-03]\n",
       " [ 1.51012016e-03]\n",
       " [ 7.22346154e-03]\n",
       " [ 3.44561944e-03]\n",
       " [ 4.36607262e-04]\n",
       " [ 4.01657315e-03]\n",
       " [-4.88284530e-04]\n",
       " [-4.21992587e-03]\n",
       " [ 1.37822355e-03]\n",
       " [-5.53419097e-05]\n",
       " [ 2.28496117e-03]\n",
       " [ 1.77073642e-03]\n",
       " [ 8.56411093e-03]\n",
       " [ 3.88591122e-03]\n",
       " [ 1.66175180e-03]\n",
       " [ 2.39911744e-03]\n",
       " [ 5.60094245e-03]\n",
       " [-2.58485696e-03]\n",
       " [ 1.40447357e-03]\n",
       " [ 1.23014503e-03]\n",
       " [ 1.19486444e-04]\n",
       " [ 3.80148912e-03]\n",
       " [ 6.86939796e-03]\n",
       " [-1.98501688e-03]\n",
       " [ 1.43256813e-03]\n",
       " [ 4.93288680e-03]\n",
       " [-7.82071876e-04]\n",
       " [-1.60299454e-03]\n",
       " [ 4.34952415e-03]\n",
       " [-4.18133033e-04]\n",
       " [ 1.25344027e-04]\n",
       " [ 3.52387571e-03]\n",
       " [ 6.35058918e-03]\n",
       " [ 6.62437856e-04]\n",
       " [ 1.29906072e-03]\n",
       " [-1.02709747e-03]\n",
       " [ 1.06438456e-03]\n",
       " [-1.71674320e-03]\n",
       " [ 1.07025225e-03]\n",
       " [-1.02964265e-03]\n",
       " [ 2.85959362e-03]\n",
       " [-3.01639564e-03]\n",
       " [-3.27467251e-03]\n",
       " [ 5.92743978e-03]\n",
       " [-1.60030122e-03]\n",
       " [-1.15184904e-03]\n",
       " [ 9.48755970e-04]\n",
       " [ 4.06681972e-03]\n",
       " [ 5.04830196e-04]\n",
       " [ 7.00341708e-03]\n",
       " [ 4.66150711e-03]\n",
       " [-3.33148543e-03]\n",
       " [ 2.27168607e-03]\n",
       " [-9.55691758e-04]\n",
       " [ 2.68701247e-03]\n",
       " [ 2.28090262e-03]\n",
       " [-5.60396668e-03]\n",
       " [ 7.02152488e-03]\n",
       " [ 2.79263874e-03]\n",
       " [-5.34162122e-04]\n",
       " [ 2.78255041e-03]\n",
       " [-8.17501254e-04]\n",
       " [ 9.48019345e-03]\n",
       " [-2.27215753e-03]\n",
       " [-3.64970619e-03]\n",
       " [ 4.65398424e-03]\n",
       " [-1.83118153e-03]\n",
       " [-1.27805442e-03]\n",
       " [ 1.27862607e-03]\n",
       " [-5.07013973e-03]\n",
       " [-1.90162688e-03]\n",
       " [ 2.43846677e-03]\n",
       " [-2.26982077e-03]\n",
       " [ 4.46763487e-03]\n",
       " [ 3.17989090e-04]\n",
       " [ 6.92469248e-04]\n",
       " [-4.63180897e-03]\n",
       " [ 2.91216932e-03]\n",
       " [ 3.98133259e-03]\n",
       " [ 2.27692795e-03]\n",
       " [ 2.25746110e-05]\n",
       " [ 1.38355356e-04]\n",
       " [ 2.82498381e-03]\n",
       " [-2.74517457e-03]\n",
       " [-5.20281322e-03]\n",
       " [ 5.10105173e-03]\n",
       " [ 2.20256345e-03]\n",
       " [ 3.44517676e-03]\n",
       " [-4.37636811e-03]\n",
       " [ 7.67228384e-04]\n",
       " [-3.29888338e-03]\n",
       " [-8.76334200e-04]\n",
       " [ 2.59418774e-03]\n",
       " [ 1.41720440e-03]], log_prob=[-181.53847588 -179.4038026  -179.52418322 -179.44923729 -179.34424696\n",
       " -179.35297662 -180.64711708 -179.3440922  -180.86492065 -179.5465092\n",
       " -179.37000419 -179.66743821 -179.47139533 -180.62380457 -179.34196303\n",
       " -179.414823   -179.38665492 -179.35267521 -181.62633309 -179.6373028\n",
       " -179.34837904 -179.39726691 -180.14908916 -179.972217   -179.34226815\n",
       " -179.34134614 -179.39652366 -179.61860874 -180.68950092 -179.79052347\n",
       " -179.34266001 -179.91981276 -179.51891757 -179.69085332 -179.75083204\n",
       " -179.46113997 -179.39595583 -179.56143465 -180.45183078 -179.35636413\n",
       " -179.34139987 -179.56419989 -179.34288098 -179.7192251  -179.34278651\n",
       " -179.56469721 -179.45139208 -180.121971   -180.21922055 -180.27503365\n",
       " -179.69019495 -179.58922814 -179.34534347 -179.67941575 -179.36542359\n",
       " -180.75463876 -179.83758129 -180.24137821 -179.38549323 -179.55047331\n",
       " -179.42898116 -179.38629816 -181.35410549 -180.76355761 -179.44239497\n",
       " -179.47832983 -179.44107259 -179.52514749 -182.23505251 -179.87365836\n",
       " -180.37059305 -179.83539152 -179.74888598 -179.61590292 -179.34134156\n",
       " -181.05301173 -179.76770161 -179.40118322 -179.87295333 -179.78269409\n",
       " -179.37891648 -179.35487894 -180.82400932 -179.45872581 -179.6591666\n",
       " -179.38595014 -179.40634444 -179.394705   -179.44669347 -180.02599091\n",
       " -181.12556666 -179.97393081 -179.37968802 -179.54642626 -180.69813726\n",
       " -179.3515169  -180.22862929 -179.53572993 -179.41798108 -179.34243735], blobs=None, random_state=('MT19937', array([1223637568,  415897027, 2611820575, 3577516961, 4022806694,\n",
       "       4106325453, 2861214670, 1452437878,   87122091, 1774441802,\n",
       "       4244703597, 3182130240, 1255565924, 3730991911, 1852730504,\n",
       "       2567950296, 4262386121, 3437340907, 1035916995, 2022328251,\n",
       "       3064775478, 2141498425, 3807751571,  952106573, 1974790647,\n",
       "       2343986825, 3626040861, 2557666601,  325666828, 1292819404,\n",
       "        599896935,  633735384, 3544786712, 2685946023, 3881964077,\n",
       "       3883718746,  247486896, 2067310331, 2603208679,  279448609,\n",
       "       2232345146, 1854907356,  333448047, 3290256294,  705677339,\n",
       "       1932891111, 2610710149, 1590876821, 1130875166, 1316680178,\n",
       "       3311524857,  217908788, 2260006446, 4153673103, 4128811578,\n",
       "       2539972207, 4136526234, 2666432724, 1709132714, 1186879388,\n",
       "       2192961278, 4037520245, 3635505342, 1677852691,   58588793,\n",
       "       2959190920,  191042908, 1070277319, 2512904578,  218719999,\n",
       "       3866054621, 2764220332, 2359172600, 1929817954, 3185162862,\n",
       "       2958692214, 2351917440, 2480830902, 4165824720, 1233545775,\n",
       "       2998871406, 2863844653, 3434530794, 3220172508,  264499125,\n",
       "       1460874865,  646036002, 1473724392, 2546472121, 3102700715,\n",
       "        958189792, 3606264324, 2303301855, 3430979250, 3973236376,\n",
       "       2348928240, 3748900970,  580822550,  842579343, 3921933471,\n",
       "       2928095669, 2403143759, 2480247002, 3674815673, 3670801756,\n",
       "       2032553439,  729563331, 3285201630, 1350454105, 2801014526,\n",
       "       2715395751, 3292615024, 2369464678, 1206026907, 2689410343,\n",
       "       1963181214,  890717613, 3159389845, 3559412488, 2110574158,\n",
       "       3036514938, 4148847327, 2548551943, 1999237507, 1201948922,\n",
       "       2766904629, 3145218476, 1904153712, 4095182781, 1141892395,\n",
       "       2314290492, 3453866156,  871481379,  137211118, 4196239148,\n",
       "       3834931171, 3403142040, 3767582684,  178565515, 3834271738,\n",
       "       4099806919, 3655467570, 2468155393, 1302232446, 2897809528,\n",
       "       4052852698, 3543073264, 3343349781, 1276894357,  808153429,\n",
       "        391209222, 2627194005,  216303116, 3820486173, 1536914855,\n",
       "        792306484, 1369381589, 4145281498, 3059839304,  329456228,\n",
       "       4026348477, 4164491363,  177525395,  415522464, 1188144277,\n",
       "       4199919328, 1545301592, 1979355458, 1248055441, 1912034078,\n",
       "       2230874492, 2824053414,  625118081, 2453163639, 1410153138,\n",
       "       1640292159, 1090910551,  247667341, 2147082641, 3100661548,\n",
       "       2779705760, 3484529563, 3978683314,  911052010, 3853136391,\n",
       "       3133618105, 3315059384, 3680157066, 3503882948, 1160490441,\n",
       "       1838534285, 2827066163, 2986135555,  898468760, 3737264475,\n",
       "         12833079, 2999334327, 1668459756, 3127051678, 2786274186,\n",
       "        314815782,  102625747, 2543253623,  291808132, 3800910174,\n",
       "       1183784925, 1600914312, 3071955474, 1506698728,  609642373,\n",
       "         58039368, 3688370388, 2382757907, 1715231436,  543271128,\n",
       "       3840795311, 3946852845, 2964275148,   20345841, 3817334763,\n",
       "       2341246259, 2597872042, 2712008922, 4013353160, 2240787211,\n",
       "       2049972810, 3036852167, 1862138499,  658974061,  128975614,\n",
       "       1824740712, 2318086580, 3568333013,   69273933, 1385433218,\n",
       "       3649452008, 1179660700,   34717359, 4242911293,  333469642,\n",
       "        623821850, 4143916069, 3777574816,  432554091, 4159939258,\n",
       "        784291798,  933459084,  623236390, 3394755298, 1574208842,\n",
       "        271043030, 3251908846, 2697935998, 4205679666, 2669628599,\n",
       "       2230073592,  606873573, 2789475218, 3293057379, 3983155904,\n",
       "       3714742008, 3437853224, 2666454882,  195535272, 3722114109,\n",
       "         77995034, 1783500963,  993283424, 2383969386, 2380665576,\n",
       "       1381391359, 2630955094, 2387323186, 1398067787,  225612734,\n",
       "       3742431194,  297513793, 2448679202, 1897790957, 2941904359,\n",
       "       2131677954,  615373807, 1781267926, 1791097506, 2828742788,\n",
       "       2394560222, 2026989227, 3384965074, 3239842093, 1151572805,\n",
       "        347593467, 2031275941,   23678685, 3925804089, 2576616888,\n",
       "       1915203091, 2262201375, 4137569187, 1286377010,  436812534,\n",
       "        985258779,   60193687, 3207210451,  207374660, 2433382343,\n",
       "        179491315,  911756392,  520426457, 3908316412,  729745724,\n",
       "       3504317315, 2507653589, 1661515017,  121501896, 2456547532,\n",
       "       2853606304, 3764822543, 2675482984, 1013285175, 3380194824,\n",
       "        957755510, 2716309243, 3368793114, 3369357516, 3988172819,\n",
       "        365057449,   20851032, 2213724808, 1906069568, 4206826660,\n",
       "       1851465000, 3611472688, 1360579105,  491381593, 3916197953,\n",
       "       1766668465, 1629684788, 1947065871, 3437237364, 2466928781,\n",
       "       1705820808, 3008564797,  950598487, 3775092687,  529383820,\n",
       "        865601545,  677761077,  498523712, 3230403829, 2496904498,\n",
       "       2144186469,  214104460,  139909463, 1437300803,  475384429,\n",
       "       2508322921, 3915879617, 2030254779, 1860080321, 3406763187,\n",
       "        769676084, 1708410218,  178312958, 3932928311, 1794046217,\n",
       "       3795863316, 3765593185, 2147281943,  123086682, 3316566718,\n",
       "       1790380667,  564246835, 2261509191, 3648206277, 2513351733,\n",
       "       3392114869,  815998777, 3587786778, 1734650535,  436571328,\n",
       "        275039039, 1424120542, 1348560107, 2306465814, 1574287508,\n",
       "       3268813012,  182279833, 3921232105, 3642020711, 4005420153,\n",
       "        900416022,  158142606, 1282761663, 3856597132, 2206243646,\n",
       "       3750090510, 3457510213, 2156016405, 2350730619, 1830930231,\n",
       "       3083499727, 3628299433, 3299421809, 2498864046,  735420086,\n",
       "       3903958169,  753000545, 2418559113,  499091369, 4044911935,\n",
       "       3669960477, 4280853252, 1111870473, 1598074140,  950111580,\n",
       "        389352724, 3601907851,  852287767, 3425793798,  835590280,\n",
       "       4165777165,  842322163,   43903862, 2856366193, 3517267906,\n",
       "        691639433, 3829084011, 3912112990, 3241462944, 2486402121,\n",
       "       1413368754,  831094954, 3757338436,  619825408, 1062111786,\n",
       "        332654111, 3225646789, 2525473839, 2903236937, 3799429156,\n",
       "       1211338201, 3326321075, 2620274133,  328506349, 1772282862,\n",
       "       2045928405, 3458861651, 2877402378, 3620926268, 2215371541,\n",
       "        610557247, 3043884374, 4092513330, 4104940212, 1436476372,\n",
       "        823554505, 3717442414, 2702955468,  978560268,  986702094,\n",
       "       2323525199, 1340399259, 2409733980, 1301794471, 2369479161,\n",
       "       3742496510, 2608847626, 2823193053, 1098286664, 1008541923,\n",
       "        384005761, 3254627892, 1759748699, 3350315860,  462973594,\n",
       "       1819417307, 2368250055, 4141601399, 3197322903, 2249966814,\n",
       "        140751835,  829044216,  467250832, 3267717647, 3478832014,\n",
       "       2468002135, 2955122097,  419549433, 2688384030, 3037023755,\n",
       "       1046956191, 2111358686, 2959630266, 3036701955, 1439042880,\n",
       "       4229127503, 3718354639, 1793135052,  479003475, 2514324299,\n",
       "       1249844120, 4135372324, 4031579719,  674643231,  261701580,\n",
       "       3624143974, 2851456203, 2555937451, 1575076157, 2649357901,\n",
       "       3008571523, 2921128314, 2344512028, 1998684082, 1426794031,\n",
       "       1743130247,  967681645, 3623894222, 4230899555,  407768041,\n",
       "       3658073227, 3388439249, 3444535887, 1077439440, 2613187276,\n",
       "        934141835, 2955755153, 1583047411,  640727777, 2006998592,\n",
       "       2212301043,  245008200,  248628272, 1864875686, 4184838625,\n",
       "        335283687, 2300125147, 1190545711, 1798543294, 1499125186,\n",
       "        113462699, 1156212233, 2977338710, 1954281982, 1964773582,\n",
       "       2787671965, 2600052235, 3793490328, 1746611059,  380748811,\n",
       "       2447565731, 3141328740, 3940259279, 3939371173, 3621121679,\n",
       "       2908651844, 1580540228, 1738843732,  915883277,  223645735,\n",
       "       2689199584, 2864464204, 2977594144, 1413537831, 3163572128,\n",
       "         63307308, 1163216763,  469321656, 1894162931, 2051913281,\n",
       "        249214480, 2233536629, 3032420294,  503149699, 1980150197,\n",
       "         94537192, 3125379644,  804268995, 3296003907,  701931596,\n",
       "       3986424538,  577960188, 3464016504, 1662097274, 4224539129,\n",
       "       1347616494, 1745328625, 1363796874, 3261031227, 1506317657,\n",
       "       1789931277, 4078868753, 1980628651, 2530178372, 1228205889,\n",
       "       3495726241, 4062782758, 3273146207,  173655750,   92460209,\n",
       "        720823974,  820772757, 1317367214,  828723215, 1272221898,\n",
       "       1696321700, 1083852422, 1534999915, 2336518883, 3222944523,\n",
       "       1474564439, 2970404539, 3166912089, 2049782807, 3605809373,\n",
       "       1610473482,  625376830, 1617865440, 1527149881, 1290846076,\n",
       "       1836227251, 3226319638, 3410900730, 3932354149], dtype=uint32), 613, 0, 0.0))"
      ]
     },
     "execution_count": 12,
     "metadata": {},
     "output_type": "execute_result"
    }
   ],
   "source": [
    "import emcee\n",
    "\n",
    "K=[0.05]\n",
    "\n",
    "dim = 1\n",
    "nwalkers = 100\n",
    "nsteps=1000\n",
    "pos0 = [K + 1e-4 * np.random.randn(dim) for i in range(nwalkers)]\n",
    "\n",
    "sampler = emcee.EnsembleSampler(nwalkers, dim, logprob)\n",
    "sampler.run_mcmc(pos0, nsteps, progress=True)"
   ]
  },
  {
   "cell_type": "code",
   "execution_count": 13,
   "metadata": {},
   "outputs": [
    {
     "data": {
      "text/plain": [
       "(100, 1000, 1)"
      ]
     },
     "execution_count": 13,
     "metadata": {},
     "output_type": "execute_result"
    }
   ],
   "source": [
    "sampler.chain[:,:].shape"
   ]
  },
  {
   "cell_type": "code",
   "execution_count": 14,
   "metadata": {},
   "outputs": [
    {
     "data": {
      "text/plain": [
       "[<matplotlib.lines.Line2D at 0x7f04c8b2d5b0>,\n",
       " <matplotlib.lines.Line2D at 0x7f04c8b2d610>,\n",
       " <matplotlib.lines.Line2D at 0x7f04c8b2d6d0>,\n",
       " <matplotlib.lines.Line2D at 0x7f04c8b2d790>,\n",
       " <matplotlib.lines.Line2D at 0x7f04c8b2d850>,\n",
       " <matplotlib.lines.Line2D at 0x7f04c8b2d910>,\n",
       " <matplotlib.lines.Line2D at 0x7f04c8b2d9d0>,\n",
       " <matplotlib.lines.Line2D at 0x7f04c8b2da90>,\n",
       " <matplotlib.lines.Line2D at 0x7f04c8b2db50>,\n",
       " <matplotlib.lines.Line2D at 0x7f04c8b2dc10>,\n",
       " <matplotlib.lines.Line2D at 0x7f04c8b2dcd0>,\n",
       " <matplotlib.lines.Line2D at 0x7f04c8b2dd90>,\n",
       " <matplotlib.lines.Line2D at 0x7f04c8b2de50>,\n",
       " <matplotlib.lines.Line2D at 0x7f04c8b2df10>,\n",
       " <matplotlib.lines.Line2D at 0x7f04c8b2dfd0>,\n",
       " <matplotlib.lines.Line2D at 0x7f04c8b340d0>,\n",
       " <matplotlib.lines.Line2D at 0x7f04c8b34190>,\n",
       " <matplotlib.lines.Line2D at 0x7f04c8b34250>,\n",
       " <matplotlib.lines.Line2D at 0x7f04c8b34310>,\n",
       " <matplotlib.lines.Line2D at 0x7f04c8b343d0>,\n",
       " <matplotlib.lines.Line2D at 0x7f04c8b34490>,\n",
       " <matplotlib.lines.Line2D at 0x7f04c8b34550>,\n",
       " <matplotlib.lines.Line2D at 0x7f04c8b34610>,\n",
       " <matplotlib.lines.Line2D at 0x7f04c8b346d0>,\n",
       " <matplotlib.lines.Line2D at 0x7f04c8b34790>,\n",
       " <matplotlib.lines.Line2D at 0x7f04c8b34850>,\n",
       " <matplotlib.lines.Line2D at 0x7f04c8b34940>,\n",
       " <matplotlib.lines.Line2D at 0x7f04c8b34a00>,\n",
       " <matplotlib.lines.Line2D at 0x7f04c8b34ac0>,\n",
       " <matplotlib.lines.Line2D at 0x7f04c8b34b80>,\n",
       " <matplotlib.lines.Line2D at 0x7f04c8b34c40>,\n",
       " <matplotlib.lines.Line2D at 0x7f04c8b34d00>,\n",
       " <matplotlib.lines.Line2D at 0x7f04c8b34dc0>,\n",
       " <matplotlib.lines.Line2D at 0x7f04c8b34e80>,\n",
       " <matplotlib.lines.Line2D at 0x7f04c8b34f40>,\n",
       " <matplotlib.lines.Line2D at 0x7f04c8b3a040>,\n",
       " <matplotlib.lines.Line2D at 0x7f04c8b3a100>,\n",
       " <matplotlib.lines.Line2D at 0x7f04c8b3a1c0>,\n",
       " <matplotlib.lines.Line2D at 0x7f04c8b3a280>,\n",
       " <matplotlib.lines.Line2D at 0x7f04c8b3a340>,\n",
       " <matplotlib.lines.Line2D at 0x7f04c8b3a400>,\n",
       " <matplotlib.lines.Line2D at 0x7f04c8b3a4c0>,\n",
       " <matplotlib.lines.Line2D at 0x7f04c8b3a580>,\n",
       " <matplotlib.lines.Line2D at 0x7f04c8b3a640>,\n",
       " <matplotlib.lines.Line2D at 0x7f04c8b3a700>,\n",
       " <matplotlib.lines.Line2D at 0x7f04c8b3a7c0>,\n",
       " <matplotlib.lines.Line2D at 0x7f04c8b3a880>,\n",
       " <matplotlib.lines.Line2D at 0x7f04c8b3a940>,\n",
       " <matplotlib.lines.Line2D at 0x7f04c8b3aa00>,\n",
       " <matplotlib.lines.Line2D at 0x7f04c8b3aac0>,\n",
       " <matplotlib.lines.Line2D at 0x7f04c8b3ab80>,\n",
       " <matplotlib.lines.Line2D at 0x7f04c8b3ac40>,\n",
       " <matplotlib.lines.Line2D at 0x7f04c8b3ad00>,\n",
       " <matplotlib.lines.Line2D at 0x7f04c8b3adc0>,\n",
       " <matplotlib.lines.Line2D at 0x7f04c8b3ae80>,\n",
       " <matplotlib.lines.Line2D at 0x7f04c8b3af40>,\n",
       " <matplotlib.lines.Line2D at 0x7f04c8b3f040>,\n",
       " <matplotlib.lines.Line2D at 0x7f04c8b3f100>,\n",
       " <matplotlib.lines.Line2D at 0x7f04c8b3f1c0>,\n",
       " <matplotlib.lines.Line2D at 0x7f04c8b3f280>,\n",
       " <matplotlib.lines.Line2D at 0x7f04c8b3f340>,\n",
       " <matplotlib.lines.Line2D at 0x7f04c8b3f400>,\n",
       " <matplotlib.lines.Line2D at 0x7f04c8b3f4c0>,\n",
       " <matplotlib.lines.Line2D at 0x7f04c8b3f580>,\n",
       " <matplotlib.lines.Line2D at 0x7f04c8b3f640>,\n",
       " <matplotlib.lines.Line2D at 0x7f04c8b3f700>,\n",
       " <matplotlib.lines.Line2D at 0x7f04c8b3f7c0>,\n",
       " <matplotlib.lines.Line2D at 0x7f04c8b3f880>,\n",
       " <matplotlib.lines.Line2D at 0x7f04c8b3f940>,\n",
       " <matplotlib.lines.Line2D at 0x7f04c8b3fa00>,\n",
       " <matplotlib.lines.Line2D at 0x7f04c8b3fac0>,\n",
       " <matplotlib.lines.Line2D at 0x7f04c8b3fb80>,\n",
       " <matplotlib.lines.Line2D at 0x7f04c8b3fc40>,\n",
       " <matplotlib.lines.Line2D at 0x7f04c8b3fd00>,\n",
       " <matplotlib.lines.Line2D at 0x7f04c8b3fdc0>,\n",
       " <matplotlib.lines.Line2D at 0x7f04c8b3fe80>,\n",
       " <matplotlib.lines.Line2D at 0x7f04c8b3ff40>,\n",
       " <matplotlib.lines.Line2D at 0x7f04c8b44040>,\n",
       " <matplotlib.lines.Line2D at 0x7f04c8b44100>,\n",
       " <matplotlib.lines.Line2D at 0x7f04c8b441c0>,\n",
       " <matplotlib.lines.Line2D at 0x7f04c8b44280>,\n",
       " <matplotlib.lines.Line2D at 0x7f04c8b44340>,\n",
       " <matplotlib.lines.Line2D at 0x7f04c8b44400>,\n",
       " <matplotlib.lines.Line2D at 0x7f04c8b444c0>,\n",
       " <matplotlib.lines.Line2D at 0x7f04c8b44580>,\n",
       " <matplotlib.lines.Line2D at 0x7f04c8b44640>,\n",
       " <matplotlib.lines.Line2D at 0x7f04c8b44700>,\n",
       " <matplotlib.lines.Line2D at 0x7f04c8b447c0>,\n",
       " <matplotlib.lines.Line2D at 0x7f04c8b44880>,\n",
       " <matplotlib.lines.Line2D at 0x7f04c8b44940>,\n",
       " <matplotlib.lines.Line2D at 0x7f04c8b44a00>,\n",
       " <matplotlib.lines.Line2D at 0x7f04c8b44ac0>,\n",
       " <matplotlib.lines.Line2D at 0x7f04c8b44b80>,\n",
       " <matplotlib.lines.Line2D at 0x7f04c8b44c40>,\n",
       " <matplotlib.lines.Line2D at 0x7f04c8b44d00>,\n",
       " <matplotlib.lines.Line2D at 0x7f04c8b44dc0>,\n",
       " <matplotlib.lines.Line2D at 0x7f04c8b44e80>,\n",
       " <matplotlib.lines.Line2D at 0x7f04c8b44f40>,\n",
       " <matplotlib.lines.Line2D at 0x7f04c8b4b040>,\n",
       " <matplotlib.lines.Line2D at 0x7f04c8b4b100>]"
      ]
     },
     "execution_count": 14,
     "metadata": {},
     "output_type": "execute_result"
    },
    {
     "data": {
      "image/png": "[encoded data removed]",
      "text/plain": [
       "<Figure size 432x288 with 1 Axes>"
      ]
     },
     "metadata": {
      "needs_background": "light"
     },
     "output_type": "display_data"
    }
   ],
   "source": [
    "pl.plot(sampler.chain[:,:,0].T, color='k', alpha=0.1)"
   ]
  },
  {
   "cell_type": "code",
   "execution_count": 15,
   "metadata": {},
   "outputs": [
    {
     "data": {
      "text/plain": [
       "(array([3.000e+00, 1.000e+00, 6.000e+00, 1.000e+01, 2.400e+01, 4.800e+01,\n",
       "        5.700e+01, 7.300e+01, 1.280e+02, 1.460e+02, 2.780e+02, 3.980e+02,\n",
       "        5.110e+02, 7.840e+02, 9.440e+02, 1.339e+03, 1.754e+03, 2.088e+03,\n",
       "        2.554e+03, 2.994e+03, 3.504e+03, 3.958e+03, 4.331e+03, 4.746e+03,\n",
       "        4.882e+03, 5.023e+03, 5.139e+03, 4.990e+03, 4.520e+03, 4.410e+03,\n",
       "        3.894e+03, 3.512e+03, 2.928e+03, 2.518e+03, 1.982e+03, 1.415e+03,\n",
       "        1.223e+03, 9.260e+02, 6.540e+02, 4.990e+02, 2.630e+02, 1.950e+02,\n",
       "        1.370e+02, 5.500e+01, 5.200e+01, 3.500e+01, 3.700e+01, 1.100e+01,\n",
       "        1.600e+01, 5.000e+00]),\n",
       " array([-0.0128998 , -0.01235345, -0.01180709, -0.01126074, -0.01071439,\n",
       "        -0.01016803, -0.00962168, -0.00907533, -0.00852897, -0.00798262,\n",
       "        -0.00743627, -0.00688992, -0.00634356, -0.00579721, -0.00525086,\n",
       "        -0.0047045 , -0.00415815, -0.0036118 , -0.00306544, -0.00251909,\n",
       "        -0.00197274, -0.00142638, -0.00088003, -0.00033368,  0.00021268,\n",
       "         0.00075903,  0.00130538,  0.00185174,  0.00239809,  0.00294444,\n",
       "         0.00349079,  0.00403715,  0.0045835 ,  0.00512985,  0.00567621,\n",
       "         0.00622256,  0.00676891,  0.00731527,  0.00786162,  0.00840797,\n",
       "         0.00895433,  0.00950068,  0.01004703,  0.01059339,  0.01113974,\n",
       "         0.01168609,  0.01223245,  0.0127788 ,  0.01332515,  0.0138715 ,\n",
       "         0.01441786]),\n",
       " <BarContainer object of 50 artists>)"
      ]
     },
     "execution_count": 15,
     "metadata": {},
     "output_type": "execute_result"
    },
    {
     "data": {
      "image/png": "[encoded data removed]",
      "text/plain": [
       "<Figure size 432x288 with 1 Axes>"
      ]
     },
     "metadata": {
      "needs_background": "light"
     },
     "output_type": "display_data"
    }
   ],
   "source": [
    "samples=sampler.chain[:,200:, :].reshape(-1)\n",
    "df_chain= pd.DataFrame(samples)\n",
    "pl.hist(samples, bins=50)"
   ]
  },
  {
   "cell_type": "code",
   "execution_count": 16,
   "metadata": {},
   "outputs": [
    {
     "name": "stdout",
     "output_type": "stream",
     "text": [
      "0.001242869195831613 0.003457210688355093 0.006790286009769997\n"
     ]
    }
   ],
   "source": [
    "A,B,C,D,E=np.percentile(df_chain[0], [ 2.5, 16, 50, 84, 97.5], axis=0)\n",
    "del1l =C-B   #1sigma\n",
    "del1h=D-C\n",
    "del2l=C-A   #2sigma\n",
    "del2h=E-C \n",
    "\n",
    "best_K = C\n",
    "best_K_err1=max(del1l,del1h)\n",
    "best_K_err2=max(del2l,del2h)\n",
    "\n",
    "print(best_K, best_K_err1, best_K_err2)"
   ]
  },
  {
   "cell_type": "markdown",
   "metadata": {},
   "source": [
    "収束判定まだしてないよ！"
   ]
  },
  {
   "cell_type": "code",
   "execution_count": 17,
   "metadata": {},
   "outputs": [
    {
     "data": {
      "text/plain": [
       "<matplotlib.collections.PolyCollection at 0x7f04c88f9ee0>"
      ]
     },
     "execution_count": 17,
     "metadata": {},
     "output_type": "execute_result"
    },
    {
     "data": {
      "image/png": "[encoded data removed]",
      "text/plain": [
       "<Figure size 432x288 with 1 Axes>"
      ]
     },
     "metadata": {
      "needs_background": "light"
     },
     "output_type": "display_data"
    }
   ],
   "source": [
    "fig, ax = pl.subplots()\n",
    "\n",
    "ax.plot(phase_obs, df['rv'], '.')\n",
    "\n",
    "ax.plot(phase_pr, rv_model_K_phase(best_K, phase_pr), '-', color='k')\n",
    "\n",
    "y1 = rv_model_K_phase(best_K+best_K_err1, phase_pr)\n",
    "y2 = rv_model_K_phase(best_K-best_K_err1, phase_pr)\n",
    "\n",
    "ax.fill_between(phase_pr, y1, y2, color='k', alpha=0.2)"
   ]
  },
  {
   "cell_type": "code",
   "execution_count": null,
   "metadata": {},
   "outputs": [],
   "source": []
  }
 ],
 "metadata": {
  "kernelspec": {
   "display_name": "Python 3",
   "language": "python",
   "name": "python3"
  },
  "language_info": {
   "codemirror_mode": {
    "name": "ipython",
    "version": 3
   },
   "file_extension": ".py",
   "mimetype": "text/x-python",
   "name": "python",
   "nbconvert_exporter": "python",
   "pygments_lexer": "ipython3",
   "version": "3.8.5"
  }
 },
 "nbformat": 4,
 "nbformat_minor": 4
}
