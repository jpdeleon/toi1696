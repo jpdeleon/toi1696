{
 "cells": [
  {
   "cell_type": "markdown",
   "id": "61f224a8",
   "metadata": {},
   "source": [
    "* https://www.allesfitter.com/api#h.p_klB1q1uqAY_p\n",
    "* https://github.com/MNGuenther/allesfitter/blob/master/tutorials/12_injection_recovery_test/run.py"
   ]
  },
  {
   "cell_type": "markdown",
   "id": "ba9d3e01",
   "metadata": {},
   "source": [
    "!pip install allesfitter transitleastsquares"
   ]
  },
  {
   "cell_type": "code",
   "execution_count": 5,
   "id": "48a9b959",
   "metadata": {
    "ExecuteTime": {
     "end_time": "2021-08-19T08:15:38.672434Z",
     "start_time": "2021-08-19T08:15:38.635686Z"
    }
   },
   "outputs": [
    {
     "name": "stdout",
     "output_type": "stream",
     "text": [
      "radius=0.28+/-0.00\n",
      "mass=0.27+/-0.01\n",
      "Teff=3291.18+/-47.12\n",
      "logg=4.97+/-0.01\n",
      "feh=0.05+/-0.05\n",
      "AV_0=0.32+/-0.14\n"
     ]
    }
   ],
   "source": [
    "import pandas as pd\n",
    "import numpy as np\n",
    "\n",
    "samples = pd.read_hdf('../vespa/mist_starmodel_single.h5', key='samples')\n",
    "samples = samples.rename({\n",
    "    'radius_0_0': 'radius',\n",
    "    'mass_0_0': 'mass',\n",
    "    'Teff_0_0': 'Teff',\n",
    "    'logg_0_0': 'logg',\n",
    "    'feh_0': 'feh',\n",
    "    \n",
    "}, axis=1)\n",
    "\n",
    "rstar = samples['radius'].median() \n",
    "urstar = samples['radius'].std() \n",
    "mstar = samples['mass'].median() \n",
    "umstar = samples['mass'].std() \n",
    "\n",
    "teff = samples['Teff'].median()\n",
    "uteff = samples['Teff'].std()\n",
    "logg = samples['logg'].median()\n",
    "ulogg = samples['logg'].std()\n",
    "feh = samples['feh'].median()\n",
    "ufeh = samples['feh'].std()\n",
    "\n",
    "for p in ['radius', 'mass', 'Teff', 'logg', 'feh', 'AV_0']:\n",
    "    x = samples[p].median() \n",
    "    y = samples[p].std() \n",
    "    print(f'{p}={x:.2f}+/-{y:.2f}')"
   ]
  },
  {
   "cell_type": "code",
   "execution_count": 6,
   "id": "eed7c1d2",
   "metadata": {
    "ExecuteTime": {
     "end_time": "2021-08-19T08:15:39.265783Z",
     "start_time": "2021-08-19T08:15:39.226292Z"
    }
   },
   "outputs": [],
   "source": [
    "from allesfitter.transit_search.injection_recovery import inject_and_tls_search\n",
    "import flammkuchen as dd\n",
    "\n",
    "\n",
    "df = dd.load('../allesfitter/tess/allesfit_transit_results.h5')\n",
    "\n",
    "inst = 'tess'\n",
    "time = df[inst]['time']\n",
    "flux = df[inst]['flux']\n",
    "flux_err = df[inst]['flux_err']"
   ]
  },
  {
   "cell_type": "code",
   "execution_count": 7,
   "id": "d6b20cf7",
   "metadata": {
    "ExecuteTime": {
     "end_time": "2021-08-19T08:27:31.017560Z",
     "start_time": "2021-08-19T08:15:39.817822Z"
    }
   },
   "outputs": [
    {
     "name": "stdout",
     "output_type": "stream",
     "text": [
      "\n",
      "\n"
     ]
    },
    {
     "name": "stderr",
     "output_type": "stream",
     "text": [
      "\r",
      "  0%|          | 0/25 [00:00<?, ?it/s]"
     ]
    },
    {
     "name": "stdout",
     "output_type": "stream",
     "text": [
      "\tP = 1 days, Rp = 1 Rearth --> do\n",
      "Transit Least Squares TLS 1.0.28 (13 June 2021)\n",
      "Creating model cache for 42 durations\n",
      "Searching 2330 data points, 8997 periods from 0.173 to 22.839 days\n",
      "Using all 8 CPU threads\n"
     ]
    },
    {
     "name": "stderr",
     "output_type": "stream",
     "text": [
      "\n",
      "! WARNING:\n",
      " Ignoring unknown parameter: quiet\n",
      "type: <class 'UserWarning'>, file: /home/jp/miniconda3/envs/allesfitter/lib/python3.6/site-packages/transitleastsquares/validate.py, line: 55\n",
      "\n",
      "! WARNING:\n",
      " 99 of 109 transits without data. The true period may be twice the given period.\n",
      "type: <class 'UserWarning'>, file: /home/jp/miniconda3/envs/allesfitter/lib/python3.6/site-packages/transitleastsquares/main.py, line: 404\n",
      "  4%|▍         | 1/25 [00:16<06:45, 16.91s/it]"
     ]
    },
    {
     "name": "stdout",
     "output_type": "stream",
     "text": [
      "\tP = 1 days, Rp = 2 Rearth --> do\n",
      "Transit Least Squares TLS 1.0.28 (13 June 2021)\n",
      "Creating model cache for 42 durations\n",
      "Searching 2330 data points, 8997 periods from 0.173 to 22.839 days\n",
      "Using all 8 CPU threads\n"
     ]
    },
    {
     "name": "stderr",
     "output_type": "stream",
     "text": [
      "\n",
      "! WARNING:\n",
      " Ignoring unknown parameter: quiet\n",
      "type: <class 'UserWarning'>, file: /home/jp/miniconda3/envs/allesfitter/lib/python3.6/site-packages/transitleastsquares/validate.py, line: 55\n",
      "\n",
      "! WARNING:\n",
      " 99 of 109 transits without data. The true period may be twice the given period.\n",
      "type: <class 'UserWarning'>, file: /home/jp/miniconda3/envs/allesfitter/lib/python3.6/site-packages/transitleastsquares/main.py, line: 404\n",
      "  8%|▊         | 2/25 [00:37<07:24, 19.31s/it]"
     ]
    },
    {
     "name": "stdout",
     "output_type": "stream",
     "text": [
      "\tP = 1 days, Rp = 3 Rearth --> do\n",
      "Transit Least Squares TLS 1.0.28 (13 June 2021)\n",
      "Creating model cache for 42 durations\n",
      "Searching 2330 data points, 8997 periods from 0.173 to 22.839 days\n",
      "Using all 8 CPU threads\n"
     ]
    },
    {
     "name": "stderr",
     "output_type": "stream",
     "text": [
      "\n",
      "! WARNING:\n",
      " Ignoring unknown parameter: quiet\n",
      "type: <class 'UserWarning'>, file: /home/jp/miniconda3/envs/allesfitter/lib/python3.6/site-packages/transitleastsquares/validate.py, line: 55\n",
      "\n",
      "! WARNING:\n",
      " 99 of 109 transits without data. The true period may be twice the given period.\n",
      "type: <class 'UserWarning'>, file: /home/jp/miniconda3/envs/allesfitter/lib/python3.6/site-packages/transitleastsquares/main.py, line: 404\n",
      " 12%|█▏        | 3/25 [01:03<08:07, 22.14s/it]"
     ]
    },
    {
     "name": "stdout",
     "output_type": "stream",
     "text": [
      "\tP = 1 days, Rp = 4 Rearth --> do\n",
      "Transit Least Squares TLS 1.0.28 (13 June 2021)\n",
      "Creating model cache for 42 durations\n",
      "Searching 2330 data points, 8997 periods from 0.173 to 22.839 days\n",
      "Using all 8 CPU threads\n"
     ]
    },
    {
     "name": "stderr",
     "output_type": "stream",
     "text": [
      "\n",
      "! WARNING:\n",
      " Ignoring unknown parameter: quiet\n",
      "type: <class 'UserWarning'>, file: /home/jp/miniconda3/envs/allesfitter/lib/python3.6/site-packages/transitleastsquares/validate.py, line: 55\n"
     ]
    },
    {
     "name": "stdout",
     "output_type": "stream",
     "text": [
      "Transit Least Squares TLS 1.0.28 (13 June 2021)\n",
      "Creating model cache for 42 durations\n",
      "Searching 2290 data points, 8997 periods from 0.173 to 22.839 days\n",
      "Using all 8 CPU threads\n"
     ]
    },
    {
     "name": "stderr",
     "output_type": "stream",
     "text": [
      "\n",
      "! WARNING:\n",
      " 45 of 50 transits without data. The true period may be twice the given period.\n",
      "type: <class 'UserWarning'>, file: /home/jp/miniconda3/envs/allesfitter/lib/python3.6/site-packages/transitleastsquares/main.py, line: 404\n",
      " 16%|█▌        | 4/25 [01:47<10:45, 30.75s/it]"
     ]
    },
    {
     "name": "stdout",
     "output_type": "stream",
     "text": [
      "\tP = 1 days, Rp = 5 Rearth --> do\n",
      "Transit Least Squares TLS 1.0.28 (13 June 2021)\n",
      "Creating model cache for 42 durations\n",
      "Searching 2330 data points, 8997 periods from 0.173 to 22.839 days\n",
      "Using all 8 CPU threads\n"
     ]
    },
    {
     "name": "stderr",
     "output_type": "stream",
     "text": [
      "\n",
      "! WARNING:\n",
      " Ignoring unknown parameter: quiet\n",
      "type: <class 'UserWarning'>, file: /home/jp/miniconda3/envs/allesfitter/lib/python3.6/site-packages/transitleastsquares/validate.py, line: 55\n",
      "\n",
      "! WARNING:\n",
      " 99 of 109 transits without data. The true period may be twice the given period.\n",
      "type: <class 'UserWarning'>, file: /home/jp/miniconda3/envs/allesfitter/lib/python3.6/site-packages/transitleastsquares/main.py, line: 404\n",
      " 20%|██        | 5/25 [02:05<08:47, 26.37s/it]"
     ]
    },
    {
     "name": "stdout",
     "output_type": "stream",
     "text": [
      "\tP = 2 days, Rp = 1 Rearth --> do\n",
      "Transit Least Squares TLS 1.0.28 (13 June 2021)\n",
      "Creating model cache for 42 durations\n",
      "Searching 2330 data points, 8997 periods from 0.173 to 22.839 days\n",
      "Using all 8 CPU threads\n"
     ]
    },
    {
     "name": "stderr",
     "output_type": "stream",
     "text": [
      "\n",
      "! WARNING:\n",
      " Ignoring unknown parameter: quiet\n",
      "type: <class 'UserWarning'>, file: /home/jp/miniconda3/envs/allesfitter/lib/python3.6/site-packages/transitleastsquares/validate.py, line: 55\n",
      "\n",
      "! WARNING:\n",
      " 99 of 109 transits without data. The true period may be twice the given period.\n",
      "type: <class 'UserWarning'>, file: /home/jp/miniconda3/envs/allesfitter/lib/python3.6/site-packages/transitleastsquares/main.py, line: 404\n",
      " 24%|██▍       | 6/25 [02:25<07:34, 23.94s/it]"
     ]
    },
    {
     "name": "stdout",
     "output_type": "stream",
     "text": [
      "\tP = 2 days, Rp = 2 Rearth --> do\n",
      "Transit Least Squares TLS 1.0.28 (13 June 2021)\n",
      "Creating model cache for 42 durations\n",
      "Searching 2330 data points, 8997 periods from 0.173 to 22.839 days\n",
      "Using all 8 CPU threads\n"
     ]
    },
    {
     "name": "stderr",
     "output_type": "stream",
     "text": [
      "\n",
      "! WARNING:\n",
      " Ignoring unknown parameter: quiet\n",
      "type: <class 'UserWarning'>, file: /home/jp/miniconda3/envs/allesfitter/lib/python3.6/site-packages/transitleastsquares/validate.py, line: 55\n",
      "\n",
      "! WARNING:\n",
      " 99 of 109 transits without data. The true period may be twice the given period.\n",
      "type: <class 'UserWarning'>, file: /home/jp/miniconda3/envs/allesfitter/lib/python3.6/site-packages/transitleastsquares/main.py, line: 404\n",
      " 28%|██▊       | 7/25 [02:46<06:58, 23.24s/it]"
     ]
    },
    {
     "name": "stdout",
     "output_type": "stream",
     "text": [
      "\tP = 2 days, Rp = 3 Rearth --> do\n",
      "Transit Least Squares TLS 1.0.28 (13 June 2021)\n",
      "Creating model cache for 42 durations\n",
      "Searching 2330 data points, 8997 periods from 0.173 to 22.839 days\n",
      "Using all 8 CPU threads\n"
     ]
    },
    {
     "name": "stderr",
     "output_type": "stream",
     "text": [
      "\n",
      "! WARNING:\n",
      " Ignoring unknown parameter: quiet\n",
      "type: <class 'UserWarning'>, file: /home/jp/miniconda3/envs/allesfitter/lib/python3.6/site-packages/transitleastsquares/validate.py, line: 55\n",
      "\n",
      "! WARNING:\n",
      " 99 of 109 transits without data. The true period may be twice the given period.\n",
      "type: <class 'UserWarning'>, file: /home/jp/miniconda3/envs/allesfitter/lib/python3.6/site-packages/transitleastsquares/main.py, line: 404\n",
      " 32%|███▏      | 8/25 [03:20<07:28, 26.38s/it]"
     ]
    },
    {
     "name": "stdout",
     "output_type": "stream",
     "text": [
      "\tP = 2 days, Rp = 4 Rearth --> do\n",
      "Transit Least Squares TLS 1.0.28 (13 June 2021)\n",
      "Creating model cache for 42 durations\n",
      "Searching 2330 data points, 8997 periods from 0.173 to 22.839 days\n",
      "Using all 8 CPU threads\n"
     ]
    },
    {
     "name": "stderr",
     "output_type": "stream",
     "text": [
      "\n",
      "! WARNING:\n",
      " Ignoring unknown parameter: quiet\n",
      "type: <class 'UserWarning'>, file: /home/jp/miniconda3/envs/allesfitter/lib/python3.6/site-packages/transitleastsquares/validate.py, line: 55\n",
      "\n",
      "! WARNING:\n",
      " 99 of 109 transits without data. The true period may be twice the given period.\n",
      "type: <class 'UserWarning'>, file: /home/jp/miniconda3/envs/allesfitter/lib/python3.6/site-packages/transitleastsquares/main.py, line: 404\n",
      " 36%|███▌      | 9/25 [03:47<07:05, 26.58s/it]"
     ]
    },
    {
     "name": "stdout",
     "output_type": "stream",
     "text": [
      "\tP = 2 days, Rp = 5 Rearth --> do\n",
      "Transit Least Squares TLS 1.0.28 (13 June 2021)\n",
      "Creating model cache for 42 durations\n",
      "Searching 2330 data points, 8997 periods from 0.173 to 22.839 days\n",
      "Using all 8 CPU threads\n"
     ]
    },
    {
     "name": "stderr",
     "output_type": "stream",
     "text": [
      "\n",
      "! WARNING:\n",
      " Ignoring unknown parameter: quiet\n",
      "type: <class 'UserWarning'>, file: /home/jp/miniconda3/envs/allesfitter/lib/python3.6/site-packages/transitleastsquares/validate.py, line: 55\n",
      "\n",
      "! WARNING:\n",
      " 99 of 109 transits without data. The true period may be twice the given period.\n",
      "type: <class 'UserWarning'>, file: /home/jp/miniconda3/envs/allesfitter/lib/python3.6/site-packages/transitleastsquares/main.py, line: 404\n",
      " 40%|████      | 10/25 [04:08<06:14, 24.94s/it]"
     ]
    },
    {
     "name": "stdout",
     "output_type": "stream",
     "text": [
      "\tP = 3 days, Rp = 1 Rearth --> do\n",
      "Transit Least Squares TLS 1.0.28 (13 June 2021)\n",
      "Creating model cache for 42 durations\n",
      "Searching 2330 data points, 8997 periods from 0.173 to 22.839 days\n",
      "Using all 8 CPU threads\n"
     ]
    },
    {
     "name": "stderr",
     "output_type": "stream",
     "text": [
      "\n",
      "! WARNING:\n",
      " Ignoring unknown parameter: quiet\n",
      "type: <class 'UserWarning'>, file: /home/jp/miniconda3/envs/allesfitter/lib/python3.6/site-packages/transitleastsquares/validate.py, line: 55\n",
      "\n",
      "! WARNING:\n",
      " 99 of 109 transits without data. The true period may be twice the given period.\n",
      "type: <class 'UserWarning'>, file: /home/jp/miniconda3/envs/allesfitter/lib/python3.6/site-packages/transitleastsquares/main.py, line: 404\n",
      " 44%|████▍     | 11/25 [04:31<05:41, 24.42s/it]"
     ]
    },
    {
     "name": "stdout",
     "output_type": "stream",
     "text": [
      "\tP = 3 days, Rp = 2 Rearth --> do\n",
      "Transit Least Squares TLS 1.0.28 (13 June 2021)\n",
      "Creating model cache for 42 durations\n",
      "Searching 2330 data points, 8997 periods from 0.173 to 22.839 days\n",
      "Using all 8 CPU threads\n"
     ]
    },
    {
     "name": "stderr",
     "output_type": "stream",
     "text": [
      "\n",
      "! WARNING:\n",
      " Ignoring unknown parameter: quiet\n",
      "type: <class 'UserWarning'>, file: /home/jp/miniconda3/envs/allesfitter/lib/python3.6/site-packages/transitleastsquares/validate.py, line: 55\n",
      "\n",
      "! WARNING:\n",
      " 99 of 109 transits without data. The true period may be twice the given period.\n",
      "type: <class 'UserWarning'>, file: /home/jp/miniconda3/envs/allesfitter/lib/python3.6/site-packages/transitleastsquares/main.py, line: 404\n",
      " 48%|████▊     | 12/25 [04:54<05:11, 23.95s/it]"
     ]
    },
    {
     "name": "stdout",
     "output_type": "stream",
     "text": [
      "\tP = 3 days, Rp = 3 Rearth --> do\n",
      "Transit Least Squares TLS 1.0.28 (13 June 2021)\n",
      "Creating model cache for 42 durations\n",
      "Searching 2330 data points, 8997 periods from 0.173 to 22.839 days\n",
      "Using all 8 CPU threads\n"
     ]
    },
    {
     "name": "stderr",
     "output_type": "stream",
     "text": [
      "\n",
      "! WARNING:\n",
      " Ignoring unknown parameter: quiet\n",
      "type: <class 'UserWarning'>, file: /home/jp/miniconda3/envs/allesfitter/lib/python3.6/site-packages/transitleastsquares/validate.py, line: 55\n",
      "\n",
      "! WARNING:\n",
      " 99 of 109 transits without data. The true period may be twice the given period.\n",
      "type: <class 'UserWarning'>, file: /home/jp/miniconda3/envs/allesfitter/lib/python3.6/site-packages/transitleastsquares/main.py, line: 404\n",
      " 52%|█████▏    | 13/25 [05:16<04:42, 23.51s/it]"
     ]
    },
    {
     "name": "stdout",
     "output_type": "stream",
     "text": [
      "\tP = 3 days, Rp = 4 Rearth --> do\n",
      "Transit Least Squares TLS 1.0.28 (13 June 2021)\n",
      "Creating model cache for 42 durations\n",
      "Searching 2330 data points, 8997 periods from 0.173 to 22.839 days\n",
      "Using all 8 CPU threads\n"
     ]
    },
    {
     "name": "stderr",
     "output_type": "stream",
     "text": [
      "\n",
      "! WARNING:\n",
      " Ignoring unknown parameter: quiet\n",
      "type: <class 'UserWarning'>, file: /home/jp/miniconda3/envs/allesfitter/lib/python3.6/site-packages/transitleastsquares/validate.py, line: 55\n",
      "\n",
      "! WARNING:\n",
      " 99 of 109 transits without data. The true period may be twice the given period.\n",
      "type: <class 'UserWarning'>, file: /home/jp/miniconda3/envs/allesfitter/lib/python3.6/site-packages/transitleastsquares/main.py, line: 404\n",
      " 56%|█████▌    | 14/25 [05:40<04:19, 23.57s/it]"
     ]
    },
    {
     "name": "stdout",
     "output_type": "stream",
     "text": [
      "\tP = 3 days, Rp = 5 Rearth --> do\n",
      "Transit Least Squares TLS 1.0.28 (13 June 2021)\n",
      "Creating model cache for 42 durations\n",
      "Searching 2330 data points, 8997 periods from 0.173 to 22.839 days\n",
      "Using all 8 CPU threads\n"
     ]
    },
    {
     "name": "stderr",
     "output_type": "stream",
     "text": [
      "\n",
      "! WARNING:\n",
      " Ignoring unknown parameter: quiet\n",
      "type: <class 'UserWarning'>, file: /home/jp/miniconda3/envs/allesfitter/lib/python3.6/site-packages/transitleastsquares/validate.py, line: 55\n"
     ]
    },
    {
     "name": "stdout",
     "output_type": "stream",
     "text": [
      "Transit Least Squares TLS 1.0.28 (13 June 2021)\n",
      "Creating model cache for 42 durations\n",
      "Searching 2317 data points, 8997 periods from 0.173 to 22.839 days\n",
      "Using all 8 CPU threads\n"
     ]
    },
    {
     "name": "stderr",
     "output_type": "stream",
     "text": [
      "\n",
      "! WARNING:\n",
      " 18 of 20 transits without data. The true period may be twice the given period.\n",
      "type: <class 'UserWarning'>, file: /home/jp/miniconda3/envs/allesfitter/lib/python3.6/site-packages/transitleastsquares/main.py, line: 404\n",
      " 60%|██████    | 15/25 [06:28<05:09, 30.93s/it]"
     ]
    },
    {
     "name": "stdout",
     "output_type": "stream",
     "text": [
      "\tP = 4 days, Rp = 1 Rearth --> do\n",
      "Transit Least Squares TLS 1.0.28 (13 June 2021)\n",
      "Creating model cache for 42 durations\n",
      "Searching 2330 data points, 8997 periods from 0.173 to 22.839 days\n",
      "Using all 8 CPU threads\n"
     ]
    },
    {
     "name": "stderr",
     "output_type": "stream",
     "text": [
      "\n",
      "! WARNING:\n",
      " Ignoring unknown parameter: quiet\n",
      "type: <class 'UserWarning'>, file: /home/jp/miniconda3/envs/allesfitter/lib/python3.6/site-packages/transitleastsquares/validate.py, line: 55\n",
      "\n",
      "! WARNING:\n",
      " 99 of 109 transits without data. The true period may be twice the given period.\n",
      "type: <class 'UserWarning'>, file: /home/jp/miniconda3/envs/allesfitter/lib/python3.6/site-packages/transitleastsquares/main.py, line: 404\n",
      " 64%|██████▍   | 16/25 [06:47<04:06, 27.41s/it]"
     ]
    },
    {
     "name": "stdout",
     "output_type": "stream",
     "text": [
      "\tP = 4 days, Rp = 2 Rearth --> do\n",
      "Transit Least Squares TLS 1.0.28 (13 June 2021)\n",
      "Creating model cache for 42 durations\n",
      "Searching 2330 data points, 8997 periods from 0.173 to 22.839 days\n",
      "Using all 8 CPU threads\n"
     ]
    },
    {
     "name": "stderr",
     "output_type": "stream",
     "text": [
      "\n",
      "! WARNING:\n",
      " Ignoring unknown parameter: quiet\n",
      "type: <class 'UserWarning'>, file: /home/jp/miniconda3/envs/allesfitter/lib/python3.6/site-packages/transitleastsquares/validate.py, line: 55\n",
      "\n",
      "! WARNING:\n",
      " 99 of 109 transits without data. The true period may be twice the given period.\n",
      "type: <class 'UserWarning'>, file: /home/jp/miniconda3/envs/allesfitter/lib/python3.6/site-packages/transitleastsquares/main.py, line: 404\n",
      " 68%|██████▊   | 17/25 [07:07<03:20, 25.07s/it]"
     ]
    },
    {
     "name": "stdout",
     "output_type": "stream",
     "text": [
      "\tP = 4 days, Rp = 3 Rearth --> do\n",
      "Transit Least Squares TLS 1.0.28 (13 June 2021)\n",
      "Creating model cache for 42 durations\n",
      "Searching 2330 data points, 8997 periods from 0.173 to 22.839 days\n",
      "Using all 8 CPU threads\n"
     ]
    },
    {
     "name": "stderr",
     "output_type": "stream",
     "text": [
      "\n",
      "! WARNING:\n",
      " Ignoring unknown parameter: quiet\n",
      "type: <class 'UserWarning'>, file: /home/jp/miniconda3/envs/allesfitter/lib/python3.6/site-packages/transitleastsquares/validate.py, line: 55\n",
      "\n",
      "! WARNING:\n",
      " 99 of 109 transits without data. The true period may be twice the given period.\n",
      "type: <class 'UserWarning'>, file: /home/jp/miniconda3/envs/allesfitter/lib/python3.6/site-packages/transitleastsquares/main.py, line: 404\n",
      " 72%|███████▏  | 18/25 [07:27<02:44, 23.55s/it]"
     ]
    },
    {
     "name": "stdout",
     "output_type": "stream",
     "text": [
      "\tP = 4 days, Rp = 4 Rearth --> do\n",
      "Transit Least Squares TLS 1.0.28 (13 June 2021)\n",
      "Creating model cache for 42 durations\n",
      "Searching 2330 data points, 8997 periods from 0.173 to 22.839 days\n",
      "Using all 8 CPU threads\n"
     ]
    },
    {
     "name": "stderr",
     "output_type": "stream",
     "text": [
      "\n",
      "! WARNING:\n",
      " Ignoring unknown parameter: quiet\n",
      "type: <class 'UserWarning'>, file: /home/jp/miniconda3/envs/allesfitter/lib/python3.6/site-packages/transitleastsquares/validate.py, line: 55\n",
      "\n",
      "! WARNING:\n",
      " 99 of 109 transits without data. The true period may be twice the given period.\n",
      "type: <class 'UserWarning'>, file: /home/jp/miniconda3/envs/allesfitter/lib/python3.6/site-packages/transitleastsquares/main.py, line: 404\n",
      " 76%|███████▌  | 19/25 [07:46<02:12, 22.06s/it]"
     ]
    },
    {
     "name": "stdout",
     "output_type": "stream",
     "text": [
      "\tP = 4 days, Rp = 5 Rearth --> do\n",
      "Transit Least Squares TLS 1.0.28 (13 June 2021)\n",
      "Creating model cache for 42 durations\n",
      "Searching 2330 data points, 8997 periods from 0.173 to 22.839 days\n",
      "Using all 8 CPU threads\n"
     ]
    },
    {
     "name": "stderr",
     "output_type": "stream",
     "text": [
      "\n",
      "! WARNING:\n",
      " Ignoring unknown parameter: quiet\n",
      "type: <class 'UserWarning'>, file: /home/jp/miniconda3/envs/allesfitter/lib/python3.6/site-packages/transitleastsquares/validate.py, line: 55\n",
      "\n",
      "! WARNING:\n",
      " 99 of 109 transits without data. The true period may be twice the given period.\n",
      "type: <class 'UserWarning'>, file: /home/jp/miniconda3/envs/allesfitter/lib/python3.6/site-packages/transitleastsquares/main.py, line: 404\n",
      " 80%|████████  | 20/25 [08:05<01:46, 21.35s/it]"
     ]
    },
    {
     "name": "stdout",
     "output_type": "stream",
     "text": [
      "\tP = 5 days, Rp = 1 Rearth --> do\n",
      "Transit Least Squares TLS 1.0.28 (13 June 2021)\n",
      "Creating model cache for 42 durations\n",
      "Searching 2330 data points, 8997 periods from 0.173 to 22.839 days\n",
      "Using all 8 CPU threads\n"
     ]
    },
    {
     "name": "stderr",
     "output_type": "stream",
     "text": [
      "\n",
      "! WARNING:\n",
      " Ignoring unknown parameter: quiet\n",
      "type: <class 'UserWarning'>, file: /home/jp/miniconda3/envs/allesfitter/lib/python3.6/site-packages/transitleastsquares/validate.py, line: 55\n",
      "\n",
      "! WARNING:\n",
      " 99 of 109 transits without data. The true period may be twice the given period.\n",
      "type: <class 'UserWarning'>, file: /home/jp/miniconda3/envs/allesfitter/lib/python3.6/site-packages/transitleastsquares/main.py, line: 404\n",
      " 84%|████████▍ | 21/25 [08:24<01:22, 20.65s/it]"
     ]
    },
    {
     "name": "stdout",
     "output_type": "stream",
     "text": [
      "\tP = 5 days, Rp = 2 Rearth --> do\n",
      "Transit Least Squares TLS 1.0.28 (13 June 2021)\n",
      "Creating model cache for 42 durations\n",
      "Searching 2330 data points, 8997 periods from 0.173 to 22.839 days\n",
      "Using all 8 CPU threads\n"
     ]
    },
    {
     "name": "stderr",
     "output_type": "stream",
     "text": [
      "\n",
      "! WARNING:\n",
      " Ignoring unknown parameter: quiet\n",
      "type: <class 'UserWarning'>, file: /home/jp/miniconda3/envs/allesfitter/lib/python3.6/site-packages/transitleastsquares/validate.py, line: 55\n",
      "\n",
      "! WARNING:\n",
      " 99 of 109 transits without data. The true period may be twice the given period.\n",
      "type: <class 'UserWarning'>, file: /home/jp/miniconda3/envs/allesfitter/lib/python3.6/site-packages/transitleastsquares/main.py, line: 404\n",
      " 88%|████████▊ | 22/25 [08:43<01:00, 20.12s/it]"
     ]
    },
    {
     "name": "stdout",
     "output_type": "stream",
     "text": [
      "\tP = 5 days, Rp = 3 Rearth --> do\n",
      "Transit Least Squares TLS 1.0.28 (13 June 2021)\n",
      "Creating model cache for 42 durations\n",
      "Searching 2330 data points, 8997 periods from 0.173 to 22.839 days\n",
      "Using all 8 CPU threads\n"
     ]
    },
    {
     "name": "stderr",
     "output_type": "stream",
     "text": [
      "\n",
      "! WARNING:\n",
      " Ignoring unknown parameter: quiet\n",
      "type: <class 'UserWarning'>, file: /home/jp/miniconda3/envs/allesfitter/lib/python3.6/site-packages/transitleastsquares/validate.py, line: 55\n",
      "\n",
      "! WARNING:\n",
      " 99 of 109 transits without data. The true period may be twice the given period.\n",
      "type: <class 'UserWarning'>, file: /home/jp/miniconda3/envs/allesfitter/lib/python3.6/site-packages/transitleastsquares/main.py, line: 404\n",
      " 92%|█████████▏| 23/25 [09:04<00:40, 20.38s/it]"
     ]
    },
    {
     "name": "stdout",
     "output_type": "stream",
     "text": [
      "\tP = 5 days, Rp = 4 Rearth --> do\n",
      "Transit Least Squares TLS 1.0.28 (13 June 2021)\n",
      "Creating model cache for 42 durations\n",
      "Searching 2330 data points, 8997 periods from 0.173 to 22.839 days\n",
      "Using all 8 CPU threads\n"
     ]
    },
    {
     "name": "stderr",
     "output_type": "stream",
     "text": [
      "\n",
      "! WARNING:\n",
      " Ignoring unknown parameter: quiet\n",
      "type: <class 'UserWarning'>, file: /home/jp/miniconda3/envs/allesfitter/lib/python3.6/site-packages/transitleastsquares/validate.py, line: 55\n",
      "\n",
      "! WARNING:\n",
      " 99 of 109 transits without data. The true period may be twice the given period.\n",
      "type: <class 'UserWarning'>, file: /home/jp/miniconda3/envs/allesfitter/lib/python3.6/site-packages/transitleastsquares/main.py, line: 404\n",
      " 96%|█████████▌| 24/25 [09:38<00:24, 24.39s/it]"
     ]
    },
    {
     "name": "stdout",
     "output_type": "stream",
     "text": [
      "\tP = 5 days, Rp = 5 Rearth --> do\n",
      "Transit Least Squares TLS 1.0.28 (13 June 2021)\n",
      "Creating model cache for 42 durations\n",
      "Searching 2330 data points, 8997 periods from 0.173 to 22.839 days\n",
      "Using all 8 CPU threads\n"
     ]
    },
    {
     "name": "stderr",
     "output_type": "stream",
     "text": [
      "\n",
      "! WARNING:\n",
      " Ignoring unknown parameter: quiet\n",
      "type: <class 'UserWarning'>, file: /home/jp/miniconda3/envs/allesfitter/lib/python3.6/site-packages/transitleastsquares/validate.py, line: 55\n"
     ]
    },
    {
     "name": "stdout",
     "output_type": "stream",
     "text": [
      "Transit Least Squares TLS 1.0.28 (13 June 2021)\n",
      "Creating model cache for 42 durations\n",
      "Searching 2264 data points, 8997 periods from 0.173 to 22.839 days\n",
      "Using all 8 CPU threads\n"
     ]
    },
    {
     "name": "stderr",
     "output_type": "stream",
     "text": [
      "\n",
      "! WARNING:\n",
      " 27 of 32 transits without data. The true period may be twice the given period.\n",
      "type: <class 'UserWarning'>, file: /home/jp/miniconda3/envs/allesfitter/lib/python3.6/site-packages/transitleastsquares/main.py, line: 404\n"
     ]
    },
    {
     "name": "stdout",
     "output_type": "stream",
     "text": [
      "Transit Least Squares TLS 1.0.28 (13 June 2021)\n",
      "Creating model cache for 42 durations\n",
      "Searching 2239 data points, 8997 periods from 0.173 to 22.839 days\n",
      "Using all 8 CPU threads\n",
      "Transit Least Squares TLS 1.0.28 (13 June 2021)\n",
      "Creating model cache for 42 durations\n",
      "Searching 2203 data points, 8997 periods from 0.173 to 22.839 days\n",
      "Using all 8 CPU threads\n"
     ]
    },
    {
     "name": "stderr",
     "output_type": "stream",
     "text": [
      "100%|██████████| 25/25 [11:50<00:00, 28.43s/it]\n"
     ]
    },
    {
     "name": "stdout",
     "output_type": "stream",
     "text": [
      "\n",
      "!-- WARNING: not enough samples to create a 2D histogram plot. --!\n",
      "\n",
      "Done.\n"
     ]
    },
    {
     "data": {
      "image/png": "[encoded data removed]",
      "text/plain": [
       "<Figure size 360x360 with 1 Axes>"
      ]
     },
     "metadata": {},
     "output_type": "display_data"
    }
   ],
   "source": [
    "periods = [1,2,3,4,5] #list of injection periods in days\n",
    "rplanets = [1,2,3,4,5] #list of injection rplanets in Rearth\n",
    "logfname = 'injection_recovery_test.csv'\n",
    "\n",
    "inject_and_tls_search(time, flux, flux_err, \n",
    "                      periods, \n",
    "                      rplanets, \n",
    "                      logfname, \n",
    "                      SNR_threshold=5.,\n",
    "                      known_transits=None, \n",
    "                      R_star=rstar, R_star_min=0.1, R_star_max=1, \n",
    "                      M_star=mstar, M_star_min=0.1, M_star_max=1.,\n",
    "                      show_plot=False, \n",
    "                      save_plot=True)"
   ]
  },
  {
   "cell_type": "code",
   "execution_count": null,
   "id": "576d6fde",
   "metadata": {},
   "outputs": [],
   "source": []
  }
 ],
 "metadata": {
  "kernelspec": {
   "display_name": "Python 3",
   "language": "python",
   "name": "python3"
  },
  "language_info": {
   "codemirror_mode": {
    "name": "ipython",
    "version": 3
   },
   "file_extension": ".py",
   "mimetype": "text/x-python",
   "name": "python",
   "nbconvert_exporter": "python",
   "pygments_lexer": "ipython3",
   "version": "3.6.13"
  },
  "toc": {
   "base_numbering": 1,
   "nav_menu": {},
   "number_sections": true,
   "sideBar": true,
   "skip_h1_title": false,
   "title_cell": "Table of Contents",
   "title_sidebar": "Contents",
   "toc_cell": false,
   "toc_position": {},
   "toc_section_display": true,
   "toc_window_display": false
  }
 },
 "nbformat": 4,
 "nbformat_minor": 5
}
