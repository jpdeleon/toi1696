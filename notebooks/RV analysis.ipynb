{
 "cells": [
  {
   "cell_type": "code",
   "execution_count": 2,
   "metadata": {},
   "outputs": [],
   "source": [
    "import os\n",
    "import numpy as np\n",
    "import matplotlib.pyplot as pl\n",
    "import pandas as pd\n",
    "from astropy.time import Time\n",
    "from astropy import units as u\n",
    "from astropy.coordinates import SkyCoord\n",
    "\n",
    "import subprocess\n",
    "from tqdm import tqdm"
   ]
  },
  {
   "cell_type": "code",
   "execution_count": 9,
   "metadata": {},
   "outputs": [
    {
     "data": {
      "text/html": [
       "<div>\n",
       "<style scoped>\n",
       "    .dataframe tbody tr th:only-of-type {\n",
       "        vertical-align: middle;\n",
       "    }\n",
       "\n",
       "    .dataframe tbody tr th {\n",
       "        vertical-align: top;\n",
       "    }\n",
       "\n",
       "    .dataframe thead th {\n",
       "        text-align: right;\n",
       "    }\n",
       "</style>\n",
       "<table border=\"1\" class=\"dataframe\">\n",
       "  <thead>\n",
       "    <tr style=\"text-align: right;\">\n",
       "      <th></th>\n",
       "      <th>0</th>\n",
       "      <th>1</th>\n",
       "      <th>2</th>\n",
       "      <th>3</th>\n",
       "      <th>4</th>\n",
       "      <th>5</th>\n",
       "      <th>6</th>\n",
       "      <th>7</th>\n",
       "      <th>8</th>\n",
       "      <th>9</th>\n",
       "    </tr>\n",
       "  </thead>\n",
       "  <tbody>\n",
       "    <tr>\n",
       "      <th>0</th>\n",
       "      <td>40952</td>\n",
       "      <td>37.79800</td>\n",
       "      <td>0.01623</td>\n",
       "      <td>40952</td>\n",
       "      <td>2.459245e+06</td>\n",
       "      <td>-23.059901</td>\n",
       "      <td>0.00176</td>\n",
       "      <td>0.00194</td>\n",
       "      <td>0.00087</td>\n",
       "      <td>1.399</td>\n",
       "    </tr>\n",
       "    <tr>\n",
       "      <th>1</th>\n",
       "      <td>49800</td>\n",
       "      <td>-11.61193</td>\n",
       "      <td>0.01350</td>\n",
       "      <td>49800</td>\n",
       "      <td>2.459467e+06</td>\n",
       "      <td>26.490993</td>\n",
       "      <td>-0.07777</td>\n",
       "      <td>-0.07037</td>\n",
       "      <td>-0.07830</td>\n",
       "      <td>1.899</td>\n",
       "    </tr>\n",
       "    <tr>\n",
       "      <th>2</th>\n",
       "      <td>50954</td>\n",
       "      <td>-9.26227</td>\n",
       "      <td>0.01424</td>\n",
       "      <td>50954</td>\n",
       "      <td>2.459488e+06</td>\n",
       "      <td>24.024074</td>\n",
       "      <td>-0.02351</td>\n",
       "      <td>-0.02079</td>\n",
       "      <td>-0.02358</td>\n",
       "      <td>1.619</td>\n",
       "    </tr>\n",
       "    <tr>\n",
       "      <th>3</th>\n",
       "      <td>51246</td>\n",
       "      <td>-5.13495</td>\n",
       "      <td>0.03639</td>\n",
       "      <td>51246</td>\n",
       "      <td>2.459503e+06</td>\n",
       "      <td>20.319288</td>\n",
       "      <td>-0.21377</td>\n",
       "      <td>-0.20164</td>\n",
       "      <td>-0.21090</td>\n",
       "      <td>1.548</td>\n",
       "    </tr>\n",
       "    <tr>\n",
       "      <th>4</th>\n",
       "      <td>51252</td>\n",
       "      <td>-5.08602</td>\n",
       "      <td>0.03903</td>\n",
       "      <td>51252</td>\n",
       "      <td>2.459503e+06</td>\n",
       "      <td>20.056578</td>\n",
       "      <td>-0.20616</td>\n",
       "      <td>-0.19399</td>\n",
       "      <td>-0.20375</td>\n",
       "      <td>1.144</td>\n",
       "    </tr>\n",
       "    <tr>\n",
       "      <th>5</th>\n",
       "      <td>51852</td>\n",
       "      <td>-3.90510</td>\n",
       "      <td>0.01874</td>\n",
       "      <td>51852</td>\n",
       "      <td>2.459508e+06</td>\n",
       "      <td>18.764927</td>\n",
       "      <td>-0.24670</td>\n",
       "      <td>-0.23403</td>\n",
       "      <td>-0.24379</td>\n",
       "      <td>1.512</td>\n",
       "    </tr>\n",
       "    <tr>\n",
       "      <th>6</th>\n",
       "      <td>51864</td>\n",
       "      <td>-3.61436</td>\n",
       "      <td>0.01405</td>\n",
       "      <td>51864</td>\n",
       "      <td>2.459508e+06</td>\n",
       "      <td>18.467185</td>\n",
       "      <td>-0.24586</td>\n",
       "      <td>-0.22734</td>\n",
       "      <td>-0.24140</td>\n",
       "      <td>1.147</td>\n",
       "    </tr>\n",
       "    <tr>\n",
       "      <th>7</th>\n",
       "      <td>52480</td>\n",
       "      <td>-3.24096</td>\n",
       "      <td>0.01895</td>\n",
       "      <td>52480</td>\n",
       "      <td>2.459510e+06</td>\n",
       "      <td>18.138292</td>\n",
       "      <td>-0.21938</td>\n",
       "      <td>-0.20220</td>\n",
       "      <td>-0.21673</td>\n",
       "      <td>1.665</td>\n",
       "    </tr>\n",
       "    <tr>\n",
       "      <th>8</th>\n",
       "      <td>52494</td>\n",
       "      <td>-2.97022</td>\n",
       "      <td>0.01487</td>\n",
       "      <td>52494</td>\n",
       "      <td>2.459510e+06</td>\n",
       "      <td>17.807326</td>\n",
       "      <td>-0.21927</td>\n",
       "      <td>-0.20936</td>\n",
       "      <td>-0.21426</td>\n",
       "      <td>1.147</td>\n",
       "    </tr>\n",
       "    <tr>\n",
       "      <th>9</th>\n",
       "      <td>53058</td>\n",
       "      <td>-1.55725</td>\n",
       "      <td>0.01701</td>\n",
       "      <td>53058</td>\n",
       "      <td>2.459515e+06</td>\n",
       "      <td>16.329037</td>\n",
       "      <td>-0.04850</td>\n",
       "      <td>-0.04493</td>\n",
       "      <td>-0.04738</td>\n",
       "      <td>1.374</td>\n",
       "    </tr>\n",
       "    <tr>\n",
       "      <th>10</th>\n",
       "      <td>53076</td>\n",
       "      <td>-1.12836</td>\n",
       "      <td>0.01431</td>\n",
       "      <td>53076</td>\n",
       "      <td>2.459515e+06</td>\n",
       "      <td>15.919851</td>\n",
       "      <td>-0.03036</td>\n",
       "      <td>-0.02711</td>\n",
       "      <td>-0.03027</td>\n",
       "      <td>1.274</td>\n",
       "    </tr>\n",
       "    <tr>\n",
       "      <th>11</th>\n",
       "      <td>53484</td>\n",
       "      <td>4.75816</td>\n",
       "      <td>0.01720</td>\n",
       "      <td>53484</td>\n",
       "      <td>2.459531e+06</td>\n",
       "      <td>9.986872</td>\n",
       "      <td>-0.12457</td>\n",
       "      <td>-0.11598</td>\n",
       "      <td>-0.12197</td>\n",
       "      <td>1.605</td>\n",
       "    </tr>\n",
       "    <tr>\n",
       "      <th>12</th>\n",
       "      <td>53498</td>\n",
       "      <td>4.98185</td>\n",
       "      <td>0.02513</td>\n",
       "      <td>53498</td>\n",
       "      <td>2.459531e+06</td>\n",
       "      <td>9.623672</td>\n",
       "      <td>-0.12145</td>\n",
       "      <td>-0.11384</td>\n",
       "      <td>-0.11956</td>\n",
       "      <td>1.155</td>\n",
       "    </tr>\n",
       "  </tbody>\n",
       "</table>\n",
       "</div>"
      ],
      "text/plain": [
       "        0         1        2      3             4          5        6  \\\n",
       "0   40952  37.79800  0.01623  40952  2.459245e+06 -23.059901  0.00176   \n",
       "1   49800 -11.61193  0.01350  49800  2.459467e+06  26.490993 -0.07777   \n",
       "2   50954  -9.26227  0.01424  50954  2.459488e+06  24.024074 -0.02351   \n",
       "3   51246  -5.13495  0.03639  51246  2.459503e+06  20.319288 -0.21377   \n",
       "4   51252  -5.08602  0.03903  51252  2.459503e+06  20.056578 -0.20616   \n",
       "5   51852  -3.90510  0.01874  51852  2.459508e+06  18.764927 -0.24670   \n",
       "6   51864  -3.61436  0.01405  51864  2.459508e+06  18.467185 -0.24586   \n",
       "7   52480  -3.24096  0.01895  52480  2.459510e+06  18.138292 -0.21938   \n",
       "8   52494  -2.97022  0.01487  52494  2.459510e+06  17.807326 -0.21927   \n",
       "9   53058  -1.55725  0.01701  53058  2.459515e+06  16.329037 -0.04850   \n",
       "10  53076  -1.12836  0.01431  53076  2.459515e+06  15.919851 -0.03036   \n",
       "11  53484   4.75816  0.01720  53484  2.459531e+06   9.986872 -0.12457   \n",
       "12  53498   4.98185  0.02513  53498  2.459531e+06   9.623672 -0.12145   \n",
       "\n",
       "          7        8      9  \n",
       "0   0.00194  0.00087  1.399  \n",
       "1  -0.07037 -0.07830  1.899  \n",
       "2  -0.02079 -0.02358  1.619  \n",
       "3  -0.20164 -0.21090  1.548  \n",
       "4  -0.19399 -0.20375  1.144  \n",
       "5  -0.23403 -0.24379  1.512  \n",
       "6  -0.22734 -0.24140  1.147  \n",
       "7  -0.20220 -0.21673  1.665  \n",
       "8  -0.20936 -0.21426  1.147  \n",
       "9  -0.04493 -0.04738  1.374  \n",
       "10 -0.02711 -0.03027  1.274  \n",
       "11 -0.11598 -0.12197  1.605  \n",
       "12 -0.11384 -0.11956  1.155  "
      ]
     },
     "execution_count": 9,
     "metadata": {},
     "output_type": "execute_result"
    }
   ],
   "source": [
    "df_all=pd.read_csv('../data/rv/stat_TOI1696_rel_202111.dat', sep='\\s+', header=None)\n",
    "df_yj=pd.read_csv('../data/rv/stat_TOI1696_rel_202111_yj.dat', sep='\\s+', header=None)\n",
    "df_yj"
   ]
  },
  {
   "cell_type": "code",
   "execution_count": 11,
   "metadata": {},
   "outputs": [],
   "source": [
    "df = df_all"
   ]
  },
  {
   "cell_type": "code",
   "execution_count": 32,
   "metadata": {},
   "outputs": [
    {
     "data": {
      "image/png": "[encoded data removed]",
      "text/plain": [
       "<Figure size 432x288 with 1 Axes>"
      ]
     },
     "metadata": {
      "needs_background": "light"
     },
     "output_type": "display_data"
    }
   ],
   "source": [
    "for df in [df_all, df_yj]:\n",
    "\n",
    "    time = df[4]  #JD_UTC\n",
    "    rv = df[1]+  df[5]  #relative rv[km/s]\n",
    "    rv_err = df[2]\n",
    "\n",
    "    pl.errorbar(time, rv, rv_err, fmt='.')"
   ]
  },
  {
   "cell_type": "markdown",
   "metadata": {},
   "source": [
    "### JD_UTC to BJD"
   ]
  },
  {
   "cell_type": "code",
   "execution_count": 33,
   "metadata": {},
   "outputs": [
    {
     "data": {
      "text/plain": [
       "array([2459244.8812246, 2459466.9778762, 2459487.9479492, 2459502.9160709,\n",
       "       2459503.052653 , 2459507.907617 , 2459508.0575233, 2459509.8824794,\n",
       "       2459510.0527561, 2459514.9129145, 2459515.1112642, 2459530.8322767,\n",
       "       2459531.0075395])"
      ]
     },
     "execution_count": 33,
     "metadata": {},
     "output_type": "execute_result"
    }
   ],
   "source": [
    "np.array(time)\n",
    "#np.savetxt('TOI1696_GJD.txt', np.array(time), delimiter='\\n', fmt='%.8f')"
   ]
  },
  {
   "cell_type": "code",
   "execution_count": 34,
   "metadata": {},
   "outputs": [],
   "source": [
    "BJD=[2459244.884701762, 2459466.979110371, 2459487.950952001, 2459502.920176458,\\\n",
    "     2459503.056767710, 2459507.912044662, 2459508.061960230, 2459509.887027196,\\\n",
    "     2459510.057314052, 2459514.917748312, 2459515.116108679, 2459530.837803917, 2459531.013072405]\n",
    "df_all['BJD']=BJD\n",
    "df_yj['BJD']=BJD"
   ]
  },
  {
   "cell_type": "markdown",
   "metadata": {},
   "source": [
    "- telluricがきれいにとりのぞけていない RVに影響\n",
    "- 石川さんの解析には関係なさげ  石川さんへの連絡は成田さんからやってもらう\n",
    "- logを見て天気、AOは悪いデータはのぞく photon-weightedの観測中心時刻が露光中心とずれる 1分ずれると地球運動の補正が5mくらい間違える"
   ]
  },
  {
   "cell_type": "code",
   "execution_count": 39,
   "metadata": {},
   "outputs": [
    {
     "data": {
      "text/plain": [
       "6.976050138473511"
      ]
     },
     "execution_count": 39,
     "metadata": {},
     "output_type": "execute_result"
    }
   ],
   "source": [
    "(BJD[10]-time[10])*24*60"
   ]
  },
  {
   "cell_type": "code",
   "execution_count": 44,
   "metadata": {},
   "outputs": [
    {
     "data": {
      "image/png": "[encoded data removed]",
      "text/plain": [
       "<Figure size 864x432 with 1 Axes>"
      ]
     },
     "metadata": {
      "needs_background": "light"
     },
     "output_type": "display_data"
    }
   ],
   "source": [
    "pl.figure(figsize=(12,6))\n",
    "\n",
    "for df in [df_all, df_yj]:\n",
    "\n",
    "    utc = df[4]\n",
    "    bjd = df['BJD'] \n",
    "    rv = df[1]+  df[5]  #relative rv[km/s]\n",
    "    rv_err = df[2]\n",
    "\n",
    "    pl.errorbar(bjd, rv, rv_err, fmt='.')\n",
    "    pl.errorbar(utc, rv, rv_err, fmt='.')\n"
   ]
  },
  {
   "cell_type": "markdown",
   "metadata": {},
   "source": [
    "### remove data points with large systematic noise"
   ]
  },
  {
   "cell_type": "markdown",
   "metadata": {},
   "source": [
    "天気の悪い日を確認"
   ]
  },
  {
   "cell_type": "code",
   "execution_count": 45,
   "metadata": {},
   "outputs": [
    {
     "data": {
      "text/plain": [
       "<ErrorbarContainer object of 3 artists>"
      ]
     },
     "execution_count": 45,
     "metadata": {},
     "output_type": "execute_result"
    },
    {
     "data": {
      "image/png": "[encoded data removed]",
      "text/plain": [
       "<Figure size 864x432 with 1 Axes>"
      ]
     },
     "metadata": {
      "needs_background": "light"
     },
     "output_type": "display_data"
    }
   ],
   "source": [
    "pl.figure(figsize=(12,6))\n",
    "df = df_all\n",
    "\n",
    "bjd = df['BJD'] \n",
    "rv = df[1]+  df[5]  #relative rv[km/s]\n",
    "rv_err = df[2]\n",
    "\n",
    "pl.errorbar(bjd, rv, rv_err, fmt='.')\n"
   ]
  },
  {
   "cell_type": "code",
   "execution_count": 55,
   "metadata": {},
   "outputs": [
    {
     "data": {
      "text/html": [
       "<div>\n",
       "<style scoped>\n",
       "    .dataframe tbody tr th:only-of-type {\n",
       "        vertical-align: middle;\n",
       "    }\n",
       "\n",
       "    .dataframe tbody tr th {\n",
       "        vertical-align: top;\n",
       "    }\n",
       "\n",
       "    .dataframe thead th {\n",
       "        text-align: right;\n",
       "    }\n",
       "</style>\n",
       "<table border=\"1\" class=\"dataframe\">\n",
       "  <thead>\n",
       "    <tr style=\"text-align: right;\">\n",
       "      <th></th>\n",
       "      <th>0</th>\n",
       "      <th>1</th>\n",
       "      <th>2</th>\n",
       "      <th>3</th>\n",
       "      <th>4</th>\n",
       "      <th>5</th>\n",
       "      <th>6</th>\n",
       "      <th>7</th>\n",
       "      <th>8</th>\n",
       "      <th>9</th>\n",
       "      <th>BJD</th>\n",
       "      <th>date_time</th>\n",
       "      <th>memo</th>\n",
       "      <th>caution_flag</th>\n",
       "    </tr>\n",
       "  </thead>\n",
       "  <tbody>\n",
       "    <tr>\n",
       "      <th>0</th>\n",
       "      <td>40952</td>\n",
       "      <td>37.78741</td>\n",
       "      <td>0.00817</td>\n",
       "      <td>40952</td>\n",
       "      <td>2.459245e+06</td>\n",
       "      <td>-23.059901</td>\n",
       "      <td>0.00176</td>\n",
       "      <td>0.00194</td>\n",
       "      <td>0.00087</td>\n",
       "      <td>1.399</td>\n",
       "      <td>2.459245e+06</td>\n",
       "      <td>2021-01-29 22:53</td>\n",
       "      <td>32.9</td>\n",
       "      <td>0.0</td>\n",
       "    </tr>\n",
       "    <tr>\n",
       "      <th>1</th>\n",
       "      <td>49800</td>\n",
       "      <td>-11.63099</td>\n",
       "      <td>0.00701</td>\n",
       "      <td>49800</td>\n",
       "      <td>2.459467e+06</td>\n",
       "      <td>26.490993</td>\n",
       "      <td>-0.07777</td>\n",
       "      <td>-0.07037</td>\n",
       "      <td>-0.07830</td>\n",
       "      <td>1.899</td>\n",
       "      <td>2.459467e+06</td>\n",
       "      <td>2021-09-08 25:13</td>\n",
       "      <td>30.3, cloud passage</td>\n",
       "      <td>1.0</td>\n",
       "    </tr>\n",
       "    <tr>\n",
       "      <th>2</th>\n",
       "      <td>50954</td>\n",
       "      <td>-9.16800</td>\n",
       "      <td>0.00702</td>\n",
       "      <td>50954</td>\n",
       "      <td>2.459488e+06</td>\n",
       "      <td>24.024074</td>\n",
       "      <td>-0.02351</td>\n",
       "      <td>-0.02079</td>\n",
       "      <td>-0.02358</td>\n",
       "      <td>1.619</td>\n",
       "      <td>2.459488e+06</td>\n",
       "      <td>2021-09-29 24:30</td>\n",
       "      <td>&gt;31.2</td>\n",
       "      <td>0.0</td>\n",
       "    </tr>\n",
       "    <tr>\n",
       "      <th>3</th>\n",
       "      <td>51246</td>\n",
       "      <td>-5.22509</td>\n",
       "      <td>0.01689</td>\n",
       "      <td>51246</td>\n",
       "      <td>2.459503e+06</td>\n",
       "      <td>20.319288</td>\n",
       "      <td>-0.21377</td>\n",
       "      <td>-0.20164</td>\n",
       "      <td>-0.21090</td>\n",
       "      <td>1.548</td>\n",
       "      <td>2.459503e+06</td>\n",
       "      <td>2021-10-14 23:44</td>\n",
       "      <td>instrument trouble</td>\n",
       "      <td>0.5</td>\n",
       "    </tr>\n",
       "    <tr>\n",
       "      <th>4</th>\n",
       "      <td>51252</td>\n",
       "      <td>-5.08293</td>\n",
       "      <td>0.02543</td>\n",
       "      <td>51252</td>\n",
       "      <td>2.459503e+06</td>\n",
       "      <td>20.056578</td>\n",
       "      <td>-0.20616</td>\n",
       "      <td>-0.19399</td>\n",
       "      <td>-0.20375</td>\n",
       "      <td>1.144</td>\n",
       "      <td>2.459503e+06</td>\n",
       "      <td>2021-10-14 27:00</td>\n",
       "      <td>useless</td>\n",
       "      <td>1.0</td>\n",
       "    </tr>\n",
       "    <tr>\n",
       "      <th>5</th>\n",
       "      <td>51852</td>\n",
       "      <td>-3.89811</td>\n",
       "      <td>0.00929</td>\n",
       "      <td>51852</td>\n",
       "      <td>2.459508e+06</td>\n",
       "      <td>18.764927</td>\n",
       "      <td>-0.24670</td>\n",
       "      <td>-0.23403</td>\n",
       "      <td>-0.24379</td>\n",
       "      <td>1.512</td>\n",
       "      <td>2.459508e+06</td>\n",
       "      <td>2021-10-19 23:31</td>\n",
       "      <td>29.0</td>\n",
       "      <td>0.0</td>\n",
       "    </tr>\n",
       "    <tr>\n",
       "      <th>6</th>\n",
       "      <td>51864</td>\n",
       "      <td>-3.63186</td>\n",
       "      <td>0.00704</td>\n",
       "      <td>51864</td>\n",
       "      <td>2.459508e+06</td>\n",
       "      <td>18.467185</td>\n",
       "      <td>-0.24586</td>\n",
       "      <td>-0.22734</td>\n",
       "      <td>-0.24140</td>\n",
       "      <td>1.147</td>\n",
       "      <td>2.459508e+06</td>\n",
       "      <td>2021-10-19 27:07</td>\n",
       "      <td>34.3</td>\n",
       "      <td>0.0</td>\n",
       "    </tr>\n",
       "    <tr>\n",
       "      <th>7</th>\n",
       "      <td>52480</td>\n",
       "      <td>-3.26557</td>\n",
       "      <td>0.00891</td>\n",
       "      <td>52480</td>\n",
       "      <td>2.459510e+06</td>\n",
       "      <td>18.138292</td>\n",
       "      <td>-0.21938</td>\n",
       "      <td>-0.20220</td>\n",
       "      <td>-0.21673</td>\n",
       "      <td>1.665</td>\n",
       "      <td>2.459510e+06</td>\n",
       "      <td>2021-10-21 22:56</td>\n",
       "      <td>27.2</td>\n",
       "      <td>0.0</td>\n",
       "    </tr>\n",
       "    <tr>\n",
       "      <th>8</th>\n",
       "      <td>52494</td>\n",
       "      <td>-2.99783</td>\n",
       "      <td>0.00732</td>\n",
       "      <td>52494</td>\n",
       "      <td>2.459510e+06</td>\n",
       "      <td>17.807326</td>\n",
       "      <td>-0.21927</td>\n",
       "      <td>-0.20936</td>\n",
       "      <td>-0.21426</td>\n",
       "      <td>1.147</td>\n",
       "      <td>2.459510e+06</td>\n",
       "      <td>2021-10-21 27:00</td>\n",
       "      <td>34.5</td>\n",
       "      <td>0.0</td>\n",
       "    </tr>\n",
       "    <tr>\n",
       "      <th>9</th>\n",
       "      <td>53058</td>\n",
       "      <td>-1.53390</td>\n",
       "      <td>0.00818</td>\n",
       "      <td>53058</td>\n",
       "      <td>2.459515e+06</td>\n",
       "      <td>16.329037</td>\n",
       "      <td>-0.04850</td>\n",
       "      <td>-0.04493</td>\n",
       "      <td>-0.04738</td>\n",
       "      <td>1.374</td>\n",
       "      <td>2.459515e+06</td>\n",
       "      <td>2021-10-26 23:39</td>\n",
       "      <td>29.9</td>\n",
       "      <td>0.0</td>\n",
       "    </tr>\n",
       "    <tr>\n",
       "      <th>10</th>\n",
       "      <td>53076</td>\n",
       "      <td>-1.13998</td>\n",
       "      <td>0.00720</td>\n",
       "      <td>53076</td>\n",
       "      <td>2.459515e+06</td>\n",
       "      <td>15.919851</td>\n",
       "      <td>-0.03036</td>\n",
       "      <td>-0.02711</td>\n",
       "      <td>-0.03027</td>\n",
       "      <td>1.274</td>\n",
       "      <td>2.459515e+06</td>\n",
       "      <td>2021-10-26 28:25</td>\n",
       "      <td>37.6</td>\n",
       "      <td>0.0</td>\n",
       "    </tr>\n",
       "    <tr>\n",
       "      <th>11</th>\n",
       "      <td>53484</td>\n",
       "      <td>4.74341</td>\n",
       "      <td>0.00825</td>\n",
       "      <td>53484</td>\n",
       "      <td>2.459531e+06</td>\n",
       "      <td>9.986872</td>\n",
       "      <td>-0.12457</td>\n",
       "      <td>-0.11598</td>\n",
       "      <td>-0.12197</td>\n",
       "      <td>1.605</td>\n",
       "      <td>2.459531e+06</td>\n",
       "      <td>2021-11-11 21:43</td>\n",
       "      <td>28.6</td>\n",
       "      <td>0.0</td>\n",
       "    </tr>\n",
       "    <tr>\n",
       "      <th>12</th>\n",
       "      <td>53498</td>\n",
       "      <td>5.02706</td>\n",
       "      <td>0.01247</td>\n",
       "      <td>53498</td>\n",
       "      <td>2.459531e+06</td>\n",
       "      <td>9.623672</td>\n",
       "      <td>-0.12145</td>\n",
       "      <td>-0.11384</td>\n",
       "      <td>-0.11956</td>\n",
       "      <td>1.155</td>\n",
       "      <td>2.459531e+06</td>\n",
       "      <td>2021-11-11 25:55</td>\n",
       "      <td>22.0, cloud passage</td>\n",
       "      <td>1.0</td>\n",
       "    </tr>\n",
       "  </tbody>\n",
       "</table>\n",
       "</div>"
      ],
      "text/plain": [
       "        0         1        2      3             4          5        6  \\\n",
       "0   40952  37.78741  0.00817  40952  2.459245e+06 -23.059901  0.00176   \n",
       "1   49800 -11.63099  0.00701  49800  2.459467e+06  26.490993 -0.07777   \n",
       "2   50954  -9.16800  0.00702  50954  2.459488e+06  24.024074 -0.02351   \n",
       "3   51246  -5.22509  0.01689  51246  2.459503e+06  20.319288 -0.21377   \n",
       "4   51252  -5.08293  0.02543  51252  2.459503e+06  20.056578 -0.20616   \n",
       "5   51852  -3.89811  0.00929  51852  2.459508e+06  18.764927 -0.24670   \n",
       "6   51864  -3.63186  0.00704  51864  2.459508e+06  18.467185 -0.24586   \n",
       "7   52480  -3.26557  0.00891  52480  2.459510e+06  18.138292 -0.21938   \n",
       "8   52494  -2.99783  0.00732  52494  2.459510e+06  17.807326 -0.21927   \n",
       "9   53058  -1.53390  0.00818  53058  2.459515e+06  16.329037 -0.04850   \n",
       "10  53076  -1.13998  0.00720  53076  2.459515e+06  15.919851 -0.03036   \n",
       "11  53484   4.74341  0.00825  53484  2.459531e+06   9.986872 -0.12457   \n",
       "12  53498   5.02706  0.01247  53498  2.459531e+06   9.623672 -0.12145   \n",
       "\n",
       "          7        8      9           BJD         date_time  \\\n",
       "0   0.00194  0.00087  1.399  2.459245e+06  2021-01-29 22:53   \n",
       "1  -0.07037 -0.07830  1.899  2.459467e+06  2021-09-08 25:13   \n",
       "2  -0.02079 -0.02358  1.619  2.459488e+06  2021-09-29 24:30   \n",
       "3  -0.20164 -0.21090  1.548  2.459503e+06  2021-10-14 23:44   \n",
       "4  -0.19399 -0.20375  1.144  2.459503e+06  2021-10-14 27:00   \n",
       "5  -0.23403 -0.24379  1.512  2.459508e+06  2021-10-19 23:31   \n",
       "6  -0.22734 -0.24140  1.147  2.459508e+06  2021-10-19 27:07   \n",
       "7  -0.20220 -0.21673  1.665  2.459510e+06  2021-10-21 22:56   \n",
       "8  -0.20936 -0.21426  1.147  2.459510e+06  2021-10-21 27:00   \n",
       "9  -0.04493 -0.04738  1.374  2.459515e+06  2021-10-26 23:39   \n",
       "10 -0.02711 -0.03027  1.274  2.459515e+06  2021-10-26 28:25   \n",
       "11 -0.11598 -0.12197  1.605  2.459531e+06  2021-11-11 21:43   \n",
       "12 -0.11384 -0.11956  1.155  2.459531e+06  2021-11-11 25:55   \n",
       "\n",
       "                   memo  caution_flag  \n",
       "0                  32.9           0.0  \n",
       "1   30.3, cloud passage           1.0  \n",
       "2                 >31.2           0.0  \n",
       "3    instrument trouble           0.5  \n",
       "4               useless           1.0  \n",
       "5                  29.0           0.0  \n",
       "6                  34.3           0.0  \n",
       "7                  27.2           0.0  \n",
       "8                  34.5           0.0  \n",
       "9                  29.9           0.0  \n",
       "10                 37.6           0.0  \n",
       "11                 28.6           0.0  \n",
       "12  22.0, cloud passage           1.0  "
      ]
     },
     "execution_count": 55,
     "metadata": {},
     "output_type": "execute_result"
    }
   ],
   "source": [
    "date_time=['2021-01-29 22:53', '2021-09-08 25:13', '2021-09-29 24:30', '2021-10-14 23:44', '2021-10-14 27:00',\\\n",
    "          '2021-10-19 23:31', '2021-10-19 27:07', '2021-10-21 22:56', '2021-10-21 27:00',\\\n",
    "          '2021-10-26 23:39', '2021-10-26 28:25','2021-11-11 21:43', '2021-11-11 25:55']\n",
    "memo = ['32.9', '30.3, cloud passage', '>31.2', 'instrument trouble', 'useless',\\\n",
    "       '29.0', '34.3', '27.2', '34.5', '29.9', '37.6', '28.6', '22.0, cloud passage']\n",
    "caution_flag = [0, 1, 0, 0.5, 1, 0, 0, 0, 0, 0, 0, 0, 1]\n",
    "\n",
    "df_all['date_time']=date_time\n",
    "df_yj['date_time']=date_time\n",
    "\n",
    "df_all['memo']=memo\n",
    "df_yj['memo']=memo\n",
    "\n",
    "df_all['caution_flag']=caution_flag\n",
    "df_yj['caution_flag']=caution_flag\n",
    "\n",
    "df_all"
   ]
  },
  {
   "cell_type": "code",
   "execution_count": 56,
   "metadata": {},
   "outputs": [
    {
     "data": {
      "image/png": "[encoded data removed]",
      "text/plain": [
       "<Figure size 432x288 with 1 Axes>"
      ]
     },
     "metadata": {
      "needs_background": "light"
     },
     "output_type": "display_data"
    }
   ],
   "source": [
    "df_valid = df_all[df_all['caution_flag']<0.5]\n",
    "df_cut = df_all[df_all['caution_flag']>=0.5]\n",
    "\n",
    "for df, mark, col in zip([df_valid, df_cut], ['.','x'], ['b', 'r']):\n",
    "    bjd = df['BJD']\n",
    "    rv = df[1]+  df[5]  #relative rv[km/s]\n",
    "    rv_err = df[2]\n",
    "    pl.errorbar(bjd, rv, rv_err, fmt=mark, label=col)"
   ]
  },
  {
   "cell_type": "code",
   "execution_count": 57,
   "metadata": {},
   "outputs": [
    {
     "data": {
      "image/png": "[encoded data removed]",
      "text/plain": [
       "<Figure size 432x288 with 1 Axes>"
      ]
     },
     "metadata": {
      "needs_background": "light"
     },
     "output_type": "display_data"
    }
   ],
   "source": [
    "df_valid = df_yj[df_yj['caution_flag']<0.5]\n",
    "df_cut = df_yj[df_yj['caution_flag']>=0.5]\n",
    "\n",
    "for df, mark, col in zip([df_valid, df_cut], ['.','x'], ['b', 'r']):\n",
    "    bjd = df['BJD']\n",
    "    rv = df[1]+  df[5]  #relative rv[km/s]\n",
    "    rv_err = df[2]\n",
    "    pl.errorbar(bjd, rv, rv_err, fmt=mark, label=col)"
   ]
  },
  {
   "cell_type": "code",
   "execution_count": 58,
   "metadata": {},
   "outputs": [
    {
     "data": {
      "text/plain": [
       "<matplotlib.legend.Legend at 0x7f20e1041eb0>"
      ]
     },
     "execution_count": 58,
     "metadata": {},
     "output_type": "execute_result"
    },
    {
     "data": {
      "image/png": "[encoded data removed]",
      "text/plain": [
       "<Figure size 432x288 with 1 Axes>"
      ]
     },
     "metadata": {
      "needs_background": "light"
     },
     "output_type": "display_data"
    }
   ],
   "source": [
    "labels=['all', 'YJ']\n",
    "\n",
    "for df, lb in zip([df_all, df_yj], labels):\n",
    "    df = df[df['caution_flag']<0.5]\n",
    "    \n",
    "    bjd = df['BJD']\n",
    "    rv = df[1]+  df[5]  #relative rv[km/s]\n",
    "    rv_err = df[2]\n",
    "\n",
    "    pl.errorbar(bjd, rv, rv_err, fmt='.', label=lb)\n",
    "    \n",
    "\n",
    "pl.legend()"
   ]
  },
  {
   "cell_type": "code",
   "execution_count": 67,
   "metadata": {},
   "outputs": [],
   "source": [
    "df = df_all\n",
    "df = df[df['caution_flag']<0.5]\n",
    "\n",
    "bjd = df['BJD']\n",
    "rv = df[1]+  df[5]  #relative rv[km/s]\n",
    "rv_err = df[2]\n",
    "\n",
    "\n",
    "df_save = pd.DataFrame({'bjd':bjd, 'rv':rv, 'rv_err':rv_err})\n",
    "\n",
    "df_save.to_csv('TOI1696_rv_all.dat',sep=',', index=False)"
   ]
  },
  {
   "cell_type": "code",
   "execution_count": 68,
   "metadata": {},
   "outputs": [],
   "source": [
    "df = df_yj\n",
    "df = df[df['caution_flag']<0.5]\n",
    "\n",
    "bjd = df['BJD']\n",
    "rv = df[1]+  df[5]  #relative rv[km/s]\n",
    "rv_err = df[2]\n",
    "\n",
    "\n",
    "df_save = pd.DataFrame({'bjd':bjd, 'rv':rv, 'rv_err':rv_err})\n",
    "\n",
    "df_save.to_csv('TOI1696_rv_yj.dat',sep=',', index=False)"
   ]
  },
  {
   "cell_type": "markdown",
   "metadata": {},
   "source": [
    "### RV fit"
   ]
  },
  {
   "cell_type": "code",
   "execution_count": 59,
   "metadata": {},
   "outputs": [
    {
     "name": "stdout",
     "output_type": "stream",
     "text": [
      "Collecting allesfitter\n",
      "  Downloading allesfitter-1.2.8-py3-none-any.whl (1.2 MB)\n",
      "\u001b[K     |████████████████████████████████| 1.2 MB 16.5 MB/s eta 0:00:01     |█████████████████████████       | 972 kB 16.5 MB/s eta 0:00:01\n",
      "\u001b[?25hInstalling collected packages: allesfitter\n",
      "Successfully installed allesfitter-1.2.8\n"
     ]
    }
   ],
   "source": [
    "!pip install allesfitter "
   ]
  }
 ],
 "metadata": {
  "kernelspec": {
   "display_name": "Python 3",
   "language": "python",
   "name": "python3"
  },
  "language_info": {
   "codemirror_mode": {
    "name": "ipython",
    "version": 3
   },
   "file_extension": ".py",
   "mimetype": "text/x-python",
   "name": "python",
   "nbconvert_exporter": "python",
   "pygments_lexer": "ipython3",
   "version": "3.8.5"
  }
 },
 "nbformat": 4,
 "nbformat_minor": 4
}
