{
 "cells": [
  {
   "cell_type": "code",
   "execution_count": 2,
   "metadata": {},
   "outputs": [],
   "source": [
    "import os\n",
    "import numpy as np\n",
    "import matplotlib.pyplot as pl\n",
    "import pandas as pd\n",
    "from astropy.time import Time\n",
    "from astropy import units as u\n",
    "from astropy.coordinates import SkyCoord\n",
    "\n",
    "import subprocess\n",
    "from tqdm import tqdm"
   ]
  },
  {
   "cell_type": "code",
   "execution_count": 9,
   "metadata": {},
   "outputs": [
    {
     "data": {
      "text/html": [
       "<div>\n",
       "<style scoped>\n",
       "    .dataframe tbody tr th:only-of-type {\n",
       "        vertical-align: middle;\n",
       "    }\n",
       "\n",
       "    .dataframe tbody tr th {\n",
       "        vertical-align: top;\n",
       "    }\n",
       "\n",
       "    .dataframe thead th {\n",
       "        text-align: right;\n",
       "    }\n",
       "</style>\n",
       "<table border=\"1\" class=\"dataframe\">\n",
       "  <thead>\n",
       "    <tr style=\"text-align: right;\">\n",
       "      <th></th>\n",
       "      <th>0</th>\n",
       "      <th>1</th>\n",
       "      <th>2</th>\n",
       "      <th>3</th>\n",
       "      <th>4</th>\n",
       "      <th>5</th>\n",
       "      <th>6</th>\n",
       "      <th>7</th>\n",
       "      <th>8</th>\n",
       "      <th>9</th>\n",
       "    </tr>\n",
       "  </thead>\n",
       "  <tbody>\n",
       "    <tr>\n",
       "      <th>0</th>\n",
       "      <td>40952</td>\n",
       "      <td>37.79800</td>\n",
       "      <td>0.01623</td>\n",
       "      <td>40952</td>\n",
       "      <td>2.459245e+06</td>\n",
       "      <td>-23.059901</td>\n",
       "      <td>0.00176</td>\n",
       "      <td>0.00194</td>\n",
       "      <td>0.00087</td>\n",
       "      <td>1.399</td>\n",
       "    </tr>\n",
       "    <tr>\n",
       "      <th>1</th>\n",
       "      <td>49800</td>\n",
       "      <td>-11.61193</td>\n",
       "      <td>0.01350</td>\n",
       "      <td>49800</td>\n",
       "      <td>2.459467e+06</td>\n",
       "      <td>26.490993</td>\n",
       "      <td>-0.07777</td>\n",
       "      <td>-0.07037</td>\n",
       "      <td>-0.07830</td>\n",
       "      <td>1.899</td>\n",
       "    </tr>\n",
       "    <tr>\n",
       "      <th>2</th>\n",
       "      <td>50954</td>\n",
       "      <td>-9.26227</td>\n",
       "      <td>0.01424</td>\n",
       "      <td>50954</td>\n",
       "      <td>2.459488e+06</td>\n",
       "      <td>24.024074</td>\n",
       "      <td>-0.02351</td>\n",
       "      <td>-0.02079</td>\n",
       "      <td>-0.02358</td>\n",
       "      <td>1.619</td>\n",
       "    </tr>\n",
       "    <tr>\n",
       "      <th>3</th>\n",
       "      <td>51246</td>\n",
       "      <td>-5.13495</td>\n",
       "      <td>0.03639</td>\n",
       "      <td>51246</td>\n",
       "      <td>2.459503e+06</td>\n",
       "      <td>20.319288</td>\n",
       "      <td>-0.21377</td>\n",
       "      <td>-0.20164</td>\n",
       "      <td>-0.21090</td>\n",
       "      <td>1.548</td>\n",
       "    </tr>\n",
       "    <tr>\n",
       "      <th>4</th>\n",
       "      <td>51252</td>\n",
       "      <td>-5.08602</td>\n",
       "      <td>0.03903</td>\n",
       "      <td>51252</td>\n",
       "      <td>2.459503e+06</td>\n",
       "      <td>20.056578</td>\n",
       "      <td>-0.20616</td>\n",
       "      <td>-0.19399</td>\n",
       "      <td>-0.20375</td>\n",
       "      <td>1.144</td>\n",
       "    </tr>\n",
       "    <tr>\n",
       "      <th>5</th>\n",
       "      <td>51852</td>\n",
       "      <td>-3.90510</td>\n",
       "      <td>0.01874</td>\n",
       "      <td>51852</td>\n",
       "      <td>2.459508e+06</td>\n",
       "      <td>18.764927</td>\n",
       "      <td>-0.24670</td>\n",
       "      <td>-0.23403</td>\n",
       "      <td>-0.24379</td>\n",
       "      <td>1.512</td>\n",
       "    </tr>\n",
       "    <tr>\n",
       "      <th>6</th>\n",
       "      <td>51864</td>\n",
       "      <td>-3.61436</td>\n",
       "      <td>0.01405</td>\n",
       "      <td>51864</td>\n",
       "      <td>2.459508e+06</td>\n",
       "      <td>18.467185</td>\n",
       "      <td>-0.24586</td>\n",
       "      <td>-0.22734</td>\n",
       "      <td>-0.24140</td>\n",
       "      <td>1.147</td>\n",
       "    </tr>\n",
       "    <tr>\n",
       "      <th>7</th>\n",
       "      <td>52480</td>\n",
       "      <td>-3.24096</td>\n",
       "      <td>0.01895</td>\n",
       "      <td>52480</td>\n",
       "      <td>2.459510e+06</td>\n",
       "      <td>18.138292</td>\n",
       "      <td>-0.21938</td>\n",
       "      <td>-0.20220</td>\n",
       "      <td>-0.21673</td>\n",
       "      <td>1.665</td>\n",
       "    </tr>\n",
       "    <tr>\n",
       "      <th>8</th>\n",
       "      <td>52494</td>\n",
       "      <td>-2.97022</td>\n",
       "      <td>0.01487</td>\n",
       "      <td>52494</td>\n",
       "      <td>2.459510e+06</td>\n",
       "      <td>17.807326</td>\n",
       "      <td>-0.21927</td>\n",
       "      <td>-0.20936</td>\n",
       "      <td>-0.21426</td>\n",
       "      <td>1.147</td>\n",
       "    </tr>\n",
       "    <tr>\n",
       "      <th>9</th>\n",
       "      <td>53058</td>\n",
       "      <td>-1.55725</td>\n",
       "      <td>0.01701</td>\n",
       "      <td>53058</td>\n",
       "      <td>2.459515e+06</td>\n",
       "      <td>16.329037</td>\n",
       "      <td>-0.04850</td>\n",
       "      <td>-0.04493</td>\n",
       "      <td>-0.04738</td>\n",
       "      <td>1.374</td>\n",
       "    </tr>\n",
       "    <tr>\n",
       "      <th>10</th>\n",
       "      <td>53076</td>\n",
       "      <td>-1.12836</td>\n",
       "      <td>0.01431</td>\n",
       "      <td>53076</td>\n",
       "      <td>2.459515e+06</td>\n",
       "      <td>15.919851</td>\n",
       "      <td>-0.03036</td>\n",
       "      <td>-0.02711</td>\n",
       "      <td>-0.03027</td>\n",
       "      <td>1.274</td>\n",
       "    </tr>\n",
       "    <tr>\n",
       "      <th>11</th>\n",
       "      <td>53484</td>\n",
       "      <td>4.75816</td>\n",
       "      <td>0.01720</td>\n",
       "      <td>53484</td>\n",
       "      <td>2.459531e+06</td>\n",
       "      <td>9.986872</td>\n",
       "      <td>-0.12457</td>\n",
       "      <td>-0.11598</td>\n",
       "      <td>-0.12197</td>\n",
       "      <td>1.605</td>\n",
       "    </tr>\n",
       "    <tr>\n",
       "      <th>12</th>\n",
       "      <td>53498</td>\n",
       "      <td>4.98185</td>\n",
       "      <td>0.02513</td>\n",
       "      <td>53498</td>\n",
       "      <td>2.459531e+06</td>\n",
       "      <td>9.623672</td>\n",
       "      <td>-0.12145</td>\n",
       "      <td>-0.11384</td>\n",
       "      <td>-0.11956</td>\n",
       "      <td>1.155</td>\n",
       "    </tr>\n",
       "  </tbody>\n",
       "</table>\n",
       "</div>"
      ],
      "text/plain": [
       "        0         1        2      3             4          5        6  \\\n",
       "0   40952  37.79800  0.01623  40952  2.459245e+06 -23.059901  0.00176   \n",
       "1   49800 -11.61193  0.01350  49800  2.459467e+06  26.490993 -0.07777   \n",
       "2   50954  -9.26227  0.01424  50954  2.459488e+06  24.024074 -0.02351   \n",
       "3   51246  -5.13495  0.03639  51246  2.459503e+06  20.319288 -0.21377   \n",
       "4   51252  -5.08602  0.03903  51252  2.459503e+06  20.056578 -0.20616   \n",
       "5   51852  -3.90510  0.01874  51852  2.459508e+06  18.764927 -0.24670   \n",
       "6   51864  -3.61436  0.01405  51864  2.459508e+06  18.467185 -0.24586   \n",
       "7   52480  -3.24096  0.01895  52480  2.459510e+06  18.138292 -0.21938   \n",
       "8   52494  -2.97022  0.01487  52494  2.459510e+06  17.807326 -0.21927   \n",
       "9   53058  -1.55725  0.01701  53058  2.459515e+06  16.329037 -0.04850   \n",
       "10  53076  -1.12836  0.01431  53076  2.459515e+06  15.919851 -0.03036   \n",
       "11  53484   4.75816  0.01720  53484  2.459531e+06   9.986872 -0.12457   \n",
       "12  53498   4.98185  0.02513  53498  2.459531e+06   9.623672 -0.12145   \n",
       "\n",
       "          7        8      9  \n",
       "0   0.00194  0.00087  1.399  \n",
       "1  -0.07037 -0.07830  1.899  \n",
       "2  -0.02079 -0.02358  1.619  \n",
       "3  -0.20164 -0.21090  1.548  \n",
       "4  -0.19399 -0.20375  1.144  \n",
       "5  -0.23403 -0.24379  1.512  \n",
       "6  -0.22734 -0.24140  1.147  \n",
       "7  -0.20220 -0.21673  1.665  \n",
       "8  -0.20936 -0.21426  1.147  \n",
       "9  -0.04493 -0.04738  1.374  \n",
       "10 -0.02711 -0.03027  1.274  \n",
       "11 -0.11598 -0.12197  1.605  \n",
       "12 -0.11384 -0.11956  1.155  "
      ]
     },
     "execution_count": 9,
     "metadata": {},
     "output_type": "execute_result"
    }
   ],
   "source": [
    "df_all=pd.read_csv('../data/rv/stat_TOI1696_rel_202111.dat', sep='\\s+', header=None)\n",
    "df_yj=pd.read_csv('../data/rv/stat_TOI1696_rel_202111_yj.dat', sep='\\s+', header=None)\n",
    "df_yj"
   ]
  },
  {
   "cell_type": "code",
   "execution_count": 11,
   "metadata": {},
   "outputs": [],
   "source": [
    "df = df_all"
   ]
  },
  {
   "cell_type": "code",
   "execution_count": 17,
   "metadata": {},
   "outputs": [
    {
     "data": {
      "text/plain": [
       "<ErrorbarContainer object of 3 artists>"
      ]
     },
     "execution_count": 17,
     "metadata": {},
     "output_type": "execute_result"
    },
    {
     "data": {
      "image/png": "[encoded data removed]",
      "text/plain": [
       "<Figure size 432x288 with 1 Axes>"
      ]
     },
     "metadata": {
      "needs_background": "light"
     },
     "output_type": "display_data"
    }
   ],
   "source": [
    "time = df[4]  #JD_UTC\n",
    "rv = df[1]+  df[5]  #relative rv[km/s]\n",
    "rv_err = df[8]\n",
    "\n",
    "pl.errorbar(time, rv, rv_err, fmt='.')"
   ]
  },
  {
   "cell_type": "markdown",
   "metadata": {},
   "source": [
    "### JD_UTC to BJD"
   ]
  },
  {
   "cell_type": "code",
   "execution_count": null,
   "metadata": {},
   "outputs": [],
   "source": []
  },
  {
   "cell_type": "code",
   "execution_count": null,
   "metadata": {},
   "outputs": [],
   "source": []
  },
  {
   "cell_type": "markdown",
   "metadata": {},
   "source": [
    "### remove data points with large systematic noise"
   ]
  },
  {
   "cell_type": "markdown",
   "metadata": {},
   "source": [
    "天気の悪い日を確認"
   ]
  },
  {
   "cell_type": "code",
   "execution_count": null,
   "metadata": {},
   "outputs": [],
   "source": []
  },
  {
   "cell_type": "code",
   "execution_count": null,
   "metadata": {},
   "outputs": [],
   "source": []
  },
  {
   "cell_type": "markdown",
   "metadata": {},
   "source": [
    "### RV fit"
   ]
  },
  {
   "cell_type": "code",
   "execution_count": null,
   "metadata": {},
   "outputs": [],
   "source": []
  }
 ],
 "metadata": {
  "kernelspec": {
   "display_name": "Python 3",
   "language": "python",
   "name": "python3"
  },
  "language_info": {
   "codemirror_mode": {
    "name": "ipython",
    "version": 3
   },
   "file_extension": ".py",
   "mimetype": "text/x-python",
   "name": "python",
   "nbconvert_exporter": "python",
   "pygments_lexer": "ipython3",
   "version": "3.8.5"
  }
 },
 "nbformat": 4,
 "nbformat_minor": 4
}
