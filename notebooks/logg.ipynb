{
 "cells": [
  {
   "cell_type": "code",
   "execution_count": 56,
   "id": "0d88870e",
   "metadata": {
    "ExecuteTime": {
     "end_time": "2022-01-27T08:31:06.093368Z",
     "start_time": "2022-01-27T08:31:06.068355Z"
    }
   },
   "outputs": [
    {
     "data": {
      "text/plain": [
       "(4.909395079622358, 6.5014102926649215)"
      ]
     },
     "execution_count": 56,
     "metadata": {},
     "output_type": "execute_result"
    }
   ],
   "source": [
    "import numpy as np\n",
    "from uncertainties import ufloat\n",
    "import astropy.units as u\n",
    "import astropy.constants as c\n",
    "\n",
    "Rstar = ufloat(0.307,0.011)*u.Rsun.to(u.cm) #rsun\n",
    "Mstar = ufloat(0.279,0.014)*u.Msun.to(u.g) #msun\n",
    "\n",
    "#Gm/r2\n",
    "g=c.G.cgs*Mstar.n*u.g/(Rstar.n*u.cm)**2\n",
    "gerr=c.G.cgs*Mstar.s*u.g/(Rstar.s*u.cm)**2\n",
    "np.log10(g.value), np.log10(gerr.value)"
   ]
  },
  {
   "cell_type": "code",
   "execution_count": 72,
   "id": "114dbb71",
   "metadata": {
    "ExecuteTime": {
     "end_time": "2022-01-27T08:51:02.026980Z",
     "start_time": "2022-01-27T08:51:02.021220Z"
    }
   },
   "outputs": [],
   "source": [
    "N=100_000\n",
    "Rs = np.random.rand(N)*Rstar.s+Rstar.n\n",
    "Ms = np.random.rand(N)*Mstar.s+Mstar.n"
   ]
  },
  {
   "cell_type": "code",
   "execution_count": 78,
   "id": "3c8278db",
   "metadata": {
    "ExecuteTime": {
     "end_time": "2022-01-27T08:51:32.775084Z",
     "start_time": "2022-01-27T08:51:32.765989Z"
    }
   },
   "outputs": [
    {
     "data": {
      "text/latex": [
       "$[79449.379,~81402.725,~83603.121,~\\dots,~81488.117,~77396.598,~78227.158] \\; \\mathrm{\\frac{cm}{s^{2}}}$"
      ],
      "text/plain": [
       "<Quantity [79449.37923251, 81402.72489776, 83603.1206254 , ...,\n",
       "           81488.11698342, 77396.59849772, 78227.15835256] cm / s2>"
      ]
     },
     "execution_count": 78,
     "metadata": {},
     "output_type": "execute_result"
    }
   ],
   "source": [
    "g=c.G.cgs*Ms*u.g/(Rs*u.cm)**2\n",
    "g"
   ]
  },
  {
   "cell_type": "code",
   "execution_count": 84,
   "id": "69b41fb9",
   "metadata": {
    "ExecuteTime": {
     "end_time": "2022-01-27T08:54:16.355386Z",
     "start_time": "2022-01-27T08:54:16.203007Z"
    }
   },
   "outputs": [
    {
     "name": "stdout",
     "output_type": "stream",
     "text": [
      "4.89\n",
      "4.90\n",
      "4.92\n"
     ]
    },
    {
     "data": {
      "image/png": "[encoded data removed]",
      "text/plain": [
       "<Figure size 432x288 with 1 Axes>"
      ]
     },
     "metadata": {
      "needs_background": "light"
     },
     "output_type": "display_data"
    }
   ],
   "source": [
    "import matplotlib.pyplot as pl\n",
    "\n",
    "logg=np.log10(g.value)\n",
    "l,m,u=np.percentile(logg, q=(14,50,84))\n",
    "pl.hist(logg)\n",
    "for x in [l,m,u]:\n",
    "    pl.axvline(x,0,1,ls='--',c='k')\n",
    "    print(f\"{x:.2f}\")"
   ]
  },
  {
   "cell_type": "code",
   "execution_count": 85,
   "id": "ceb728b8",
   "metadata": {
    "ExecuteTime": {
     "end_time": "2022-01-27T09:09:49.804407Z",
     "start_time": "2022-01-27T09:09:49.791064Z"
    }
   },
   "outputs": [
    {
     "data": {
      "text/plain": [
       "(4.904795566859133, 0.010745453528129167)"
      ]
     },
     "execution_count": 85,
     "metadata": {},
     "output_type": "execute_result"
    }
   ],
   "source": [
    "np.mean(logg), np.std(logg)"
   ]
  },
  {
   "cell_type": "code",
   "execution_count": null,
   "id": "05c9afec",
   "metadata": {},
   "outputs": [],
   "source": []
  }
 ],
 "metadata": {
  "kernelspec": {
   "display_name": "Python 3",
   "language": "python",
   "name": "python3"
  },
  "language_info": {
   "codemirror_mode": {
    "name": "ipython",
    "version": 3
   },
   "file_extension": ".py",
   "mimetype": "text/x-python",
   "name": "python",
   "nbconvert_exporter": "python",
   "pygments_lexer": "ipython3",
   "version": "3.6.13"
  },
  "toc": {
   "base_numbering": 1,
   "nav_menu": {},
   "number_sections": true,
   "sideBar": true,
   "skip_h1_title": false,
   "title_cell": "Table of Contents",
   "title_sidebar": "Contents",
   "toc_cell": false,
   "toc_position": {},
   "toc_section_display": true,
   "toc_window_display": false
  }
 },
 "nbformat": 4,
 "nbformat_minor": 5
}
