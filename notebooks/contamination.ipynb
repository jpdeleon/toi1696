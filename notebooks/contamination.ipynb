{
 "cells": [
  {
   "cell_type": "code",
   "execution_count": 1,
   "id": "lucky-difference",
   "metadata": {},
   "outputs": [],
   "source": [
    "from glob import glob "
   ]
  },
  {
   "cell_type": "code",
   "execution_count": 2,
   "id": "liberal-tolerance",
   "metadata": {},
   "outputs": [
    {
     "data": {
      "text/plain": [
       "['../data/lc/TIC470381900-01_20201223_LCO-Hal-M3_gp_10px_bjd-flux-err-am.dat',\n",
       " '../data/lc/TIC470381900-01_20201223_LCO-Hal-M3_ip_10px_bjd-flux-err-am.dat',\n",
       " '../data/lc/TIC470381900-01_20201223_LCO-Hal-M3_rp_10px_bjd-flux-err-am.dat',\n",
       " '../data/lc/TIC470381900-01_20201223_LCO-Hal-M3_zs_10px_bjd-flux-err-am.dat']"
      ]
     },
     "execution_count": 2,
     "metadata": {},
     "output_type": "execute_result"
    }
   ],
   "source": [
    "files = glob(\"../data/lc/*.dat\")\n",
    "files.sort()\n",
    "files"
   ]
  },
  {
   "cell_type": "code",
   "execution_count": 3,
   "id": "vocal-digit",
   "metadata": {},
   "outputs": [
    {
     "name": "stdout",
     "output_type": "stream",
     "text": [
      "gp: (35, 4)\n",
      "ip: (89, 4)\n",
      "rp: (41, 4)\n",
      "zs: (131, 4)\n"
     ]
    }
   ],
   "source": [
    "import pandas as pd\n",
    "\n",
    "lcs = {}\n",
    "for f in files:\n",
    "    b = f.split(\"_\")[-3]\n",
    "    lc = pd.read_csv(f, delimiter=\"\\t\")\n",
    "    lcs[b] = lc\n",
    "    print(f\"{b}: {lc.shape}\")"
   ]
  },
  {
   "cell_type": "code",
   "execution_count": 4,
   "id": "blessed-oklahoma",
   "metadata": {},
   "outputs": [
    {
     "data": {
      "text/html": [
       "<div>\n",
       "<style scoped>\n",
       "    .dataframe tbody tr th:only-of-type {\n",
       "        vertical-align: middle;\n",
       "    }\n",
       "\n",
       "    .dataframe tbody tr th {\n",
       "        vertical-align: top;\n",
       "    }\n",
       "\n",
       "    .dataframe thead th {\n",
       "        text-align: right;\n",
       "    }\n",
       "</style>\n",
       "<table border=\"1\" class=\"dataframe\">\n",
       "  <thead>\n",
       "    <tr style=\"text-align: right;\">\n",
       "      <th></th>\n",
       "      <th>#BJD_TDB</th>\n",
       "      <th>rel_flux_T1_n</th>\n",
       "      <th>rel_flux_err_T1_n</th>\n",
       "      <th>AIRMASS</th>\n",
       "    </tr>\n",
       "  </thead>\n",
       "  <tbody>\n",
       "    <tr>\n",
       "      <th>0</th>\n",
       "      <td>2.459207e+06</td>\n",
       "      <td>0.999639</td>\n",
       "      <td>0.005508</td>\n",
       "      <td>1.690677</td>\n",
       "    </tr>\n",
       "    <tr>\n",
       "      <th>1</th>\n",
       "      <td>2.459207e+06</td>\n",
       "      <td>0.998265</td>\n",
       "      <td>0.003878</td>\n",
       "      <td>1.628061</td>\n",
       "    </tr>\n",
       "    <tr>\n",
       "      <th>2</th>\n",
       "      <td>2.459207e+06</td>\n",
       "      <td>0.999853</td>\n",
       "      <td>0.003655</td>\n",
       "      <td>1.599124</td>\n",
       "    </tr>\n",
       "    <tr>\n",
       "      <th>3</th>\n",
       "      <td>2.459207e+06</td>\n",
       "      <td>1.000971</td>\n",
       "      <td>0.003558</td>\n",
       "      <td>1.571578</td>\n",
       "    </tr>\n",
       "    <tr>\n",
       "      <th>4</th>\n",
       "      <td>2.459207e+06</td>\n",
       "      <td>0.999497</td>\n",
       "      <td>0.003525</td>\n",
       "      <td>1.545440</td>\n",
       "    </tr>\n",
       "  </tbody>\n",
       "</table>\n",
       "</div>"
      ],
      "text/plain": [
       "       #BJD_TDB  rel_flux_T1_n  rel_flux_err_T1_n   AIRMASS\n",
       "0  2.459207e+06       0.999639           0.005508  1.690677\n",
       "1  2.459207e+06       0.998265           0.003878  1.628061\n",
       "2  2.459207e+06       0.999853           0.003655  1.599124\n",
       "3  2.459207e+06       1.000971           0.003558  1.571578\n",
       "4  2.459207e+06       0.999497           0.003525  1.545440"
      ]
     },
     "execution_count": 4,
     "metadata": {},
     "output_type": "execute_result"
    }
   ],
   "source": [
    "lcs['gp'].head()"
   ]
  },
  {
   "cell_type": "code",
   "execution_count": 5,
   "id": "junior-cocktail",
   "metadata": {},
   "outputs": [
    {
     "data": {
      "text/plain": [
       "<matplotlib.legend.Legend at 0x7f0ba6a986a0>"
      ]
     },
     "execution_count": 5,
     "metadata": {},
     "output_type": "execute_result"
    },
    {
     "data": {
      "image/png": "[encoded data removed]",
      "text/plain": [
       "<Figure size 432x288 with 1 Axes>"
      ]
     },
     "metadata": {
      "needs_background": "light"
     },
     "output_type": "display_data"
    }
   ],
   "source": [
    "import matplotlib.pyplot as pl\n",
    "\n",
    "colors = {\"gp\": \"b\",\n",
    "          \"rp\": \"g\", \n",
    "          \"ip\": \"y\", \n",
    "          \"zs\": \"r\"\n",
    "         }\n",
    "\n",
    "for b in lcs:\n",
    "    t = lcs[b]['#BJD_TDB']\n",
    "    f = lcs[b]['rel_flux_T1_n']\n",
    "#     pl.plot(t, f, c=colors[b], marker='.', ls='', label=b)\n",
    "    pl.plot(t, f, c=colors[b], drawstyle='steps-mid', label=b)\n",
    "pl.legend()"
   ]
  },
  {
   "cell_type": "markdown",
   "id": "color-independence",
   "metadata": {},
   "source": [
    "## LPF"
   ]
  },
  {
   "cell_type": "code",
   "execution_count": 6,
   "id": "polar-jones",
   "metadata": {},
   "outputs": [],
   "source": [
    "import math as mt\n",
    "import pandas as pd\n",
    "import seaborn as sb\n",
    "import warnings\n",
    "from numpy import log, pi, inf, atleast_2d, zeros, sqrt, isfinite, clip, where, random, array, ndarray, median, squeeze, seterr, asarray\n",
    "from matplotlib.pyplot import subplots, setp\n",
    "\n",
    "with warnings.catch_warnings():\n",
    "    cp = sb.color_palette()\n",
    "\n",
    "from pathlib import Path\n",
    "from IPython.display import display, HTML\n",
    "from numba import njit, prange\n",
    "from astropy.io import fits as pf\n",
    "from emcee import EnsembleSampler\n",
    "from tqdm.auto import tqdm\n",
    "from corner import corner\n",
    "\n",
    "# from ldtk import LDPSetCreator\n",
    "from pytransit import QuadraticModel\n",
    "from pytransit.utils.de import DiffEvol\n",
    "from pytransit.orbits.orbits_py import as_from_rhop,  i_from_ba\n",
    "from pytransit.param.parameter import (ParameterSet, GParameter, PParameter, LParameter,\n",
    "                                       NormalPrior as NP, \n",
    "                                       UniformPrior as UP)\n",
    "seterr('ignore')\n",
    "random.seed(0)"
   ]
  },
  {
   "cell_type": "code",
   "execution_count": 7,
   "id": "instrumental-guatemala",
   "metadata": {},
   "outputs": [],
   "source": [
    "@njit(parallel=True, cache=False, fastmath=True)\n",
    "def lnlike_normal_v(o, m, e):\n",
    "    m = atleast_2d(m)\n",
    "    npv = m.shape[0]\n",
    "    npt = o.size\n",
    "    lnl = zeros(npv)\n",
    "    for i in prange(npv):\n",
    "        for j in range(npt):\n",
    "            lnl[i] += -log(e[i]) - 0.5*log(2*pi) - 0.5*((o[j]-m[i,j])/e[i])**2\n",
    "    return lnl\n",
    "\n",
    "@njit\n",
    "def change_depth(relative_depth, flux, lcids, pbids):\n",
    "    npt = lcids.size\n",
    "    npop = relative_depth.shape[0]\n",
    "    flux = atleast_2d(flux)\n",
    "    flux2 = zeros_like(flux)\n",
    "    for ipv in range(npop):\n",
    "        for ipt in range(npt):\n",
    "            flux2[ipv, ipt] = (flux[ipv, ipt] - 1.) * relative_depth[ipv, pbids[lcids[ipt]]] + 1.\n",
    "    return flux2"
   ]
  },
  {
   "cell_type": "code",
   "execution_count": 8,
   "id": "derived-corner",
   "metadata": {},
   "outputs": [],
   "source": [
    "class LPFunction:\n",
    "    def __init__(self, name: str, times: ndarray = None, fluxes: ndarray = None,\n",
    "                 radius_ratio: str = 'achromatic', with_contamination=False\n",
    "                ):\n",
    "        assert radius_ratio in ('chromatic', 'achromatic')\n",
    "        \n",
    "        self.tm = QuadraticModel(klims=(0.05, 0.25), nk=512, nz=512)\n",
    "\n",
    "        # LPF name\n",
    "        # --------\n",
    "        self.name = name\n",
    "        \n",
    "        # Declare high-level objects\n",
    "        # --------------------------\n",
    "        self.ps = None          # Parametrisation\n",
    "        self.de = None          # Differential evolution optimiser\n",
    "        self.sampler = None     # MCMC sampler\n",
    "\n",
    "        # Initialize data\n",
    "        # ---------------\n",
    "        self.times = asarray(times)\n",
    "        self.fluxes = asarray(fluxes)\n",
    "        self.tm.set_data(self.times)\n",
    "\n",
    "        # Define the parametrisation\n",
    "        # --------------------------\n",
    "        self.ps = ParameterSet([\n",
    "            GParameter('tc',  'zero_epoch',       'd',      NP(0.0,  0.1), (-inf, inf)),\n",
    "            GParameter('pr',  'period',           'd',      NP(1.0, 1e-5), (0,    inf)),\n",
    "            GParameter('rho', 'stellar_density',  'g/cm^3', UP(0.1, 25.0), (0,    inf)),\n",
    "            GParameter('b',   'impact_parameter', 'R_s',    UP(0.0,  1.0), (0,      1)),\n",
    "            GParameter('k2', 'area_ratio', 'A_s', UP(0.05**2, 0.25**2), (0.05**2, 0.25**2)),\n",
    "            GParameter('q1', 'q1_coefficient', '', UP(0, 1), bounds=(0, 1)),\n",
    "            GParameter('q2', 'q2_coefficient', '', UP(0, 1), bounds=(0, 1)),\n",
    "            GParameter('loge', 'log10_error', '', UP(-4, 0), bounds=(-4, 0))])\n",
    "        self.ps.freeze()\n",
    "        \n",
    "        self.chromatic_transit = radius_ratio == 'chromatic'\n",
    "        self.radius_ratio = radius_ratio\n",
    "        self.with_contamination = with_contamination\n",
    "\n",
    "    def _init_p_planet(self):\n",
    "        \"\"\"Planet parameter initialisation.\n",
    "        \"\"\"\n",
    "        if self.radius_ratio == 'achromatic':\n",
    "            pk2 = [PParameter('k2', 'area_ratio', 'A_s', UP(0.005**2, 0.25**2), (0.005**2, 0.25**2))]\n",
    "            self.ps.add_passband_block('k2', 1, 1, pk2)\n",
    "            self._pid_k2 = repeat(self.ps.blocks[-1].start, self.npb)\n",
    "        else:\n",
    "            pk2 = [PParameter(f'k2_{pb}', f'area_ratio {pb}', 'A_s', UP(0.005**2, 0.25**2), (0.005**2, 0.25**2)) for pb in self.passbands]\n",
    "            self.ps.add_passband_block('k2', 1, self.npb, pk2)\n",
    "            self._pid_k2 = arange(self.npb) + self.ps.blocks[-1].start\n",
    "        self._start_k2 = self.ps.blocks[-1].start\n",
    "        self._sl_k2 = self.ps.blocks[-1].slice\n",
    "\n",
    "        if self.with_contamination:\n",
    "            pcn = [PParameter('cnt_ref', 'Reference contamination', '', UP(0., 1.), (0., 1.))]\n",
    "            pcn.extend([PParameter(f'cnt_{pb}', 'contamination', '', UP(-1., 1.), (-1., 1.)) for pb in self.passbands[1:]])\n",
    "            self.ps.add_passband_block('contamination', 1, self.npb, pcn)\n",
    "            self._pid_cn = arange(self.ps.blocks[-1].start, self.ps.blocks[-1].stop)\n",
    "            self._sl_cn = self.ps.blocks[-1].slice\n",
    "            \n",
    "    def create_pv_population(self, npop=50):\n",
    "        return self.ps.sample_from_prior(npop)\n",
    "        \n",
    "    def baseline(self, pv):\n",
    "        \"\"\"Multiplicative baseline\"\"\"\n",
    "        return 1.\n",
    "\n",
    "    def transit_model(self, pv, copy=True):\n",
    "        pv = atleast_2d(pv)\n",
    "        \n",
    "        # Map from sampling parametrisation to the transit model parametrisation\n",
    "        # ----------------------------------------------------------------------\n",
    "\n",
    "        if self.chromatic_transit:\n",
    "            mean_ar = pv[:, self._sl_k2].mean(1)\n",
    "            pvv = zeros((pv.shape[0], pv.shape[1]-self.npb+1))\n",
    "            pvv[:, :4] = pv[:, :4]\n",
    "            pvv[:, 4] = mean_ar\n",
    "            pvv[:, 5:] = pv[:, 4+self.npb:]\n",
    "\n",
    "            pvp = map_pv(pvv)\n",
    "            ldc = map_ldc(pvv[:, 5:5 + 2 * self.npb])\n",
    "            flux = self.tm.evaluate_pv(pvp, ldc, copy)\n",
    "            rel_ar = pv[:, self._sl_k2] / mean_ar[:,newaxis]\n",
    "            flux = change_depth(rel_ar, flux, self.lcids, self.pbids)\n",
    "        else:\n",
    "            k  = sqrt(pv[:, 4])                # Radius ratio\n",
    "            tc = pv[:, 0]                      # Zero epoch\n",
    "            p  = pv[:, 1]                      # Orbital period\n",
    "            sa = as_from_rhop(pv[:, 2], p)     # Scaled semi-major axis\n",
    "            i  = i_from_ba(pv[:, 3], sa)       # Orbital inclination\n",
    "\n",
    "            # Map the limb darkening\n",
    "            # ----------------------\n",
    "            ldc = zeros((pv.shape[0],2))\n",
    "            a, b = sqrt(pv[:,5]), 2.*pv[:,6]\n",
    "            ldc[:,0] = a * b\n",
    "            ldc[:,1] = a * (1. - b)\n",
    "            flux = squeeze(self.tm.evaluate(k, ldc, tc, p, sa, i))\n",
    "                \n",
    "        if self.with_contamination:\n",
    "            p = pv[:, self._sl_cn]\n",
    "            pv_cnt = zeros((pv.shape[0], self.npb))\n",
    "            pv_cnt[:,0] = p[:,0]\n",
    "            pv_cnt[:,1:] = p[:,1:] + p[:,0][:, newaxis]\n",
    "            bad = any(pv_cnt < 0.0, 1)\n",
    "            flux = contaminate(flux, pv_cnt, self.lcids, self.pbids)\n",
    "            flux[bad,0] = inf\n",
    "            \n",
    "        return flux\n",
    "\n",
    "    def add_t14_prior(self, mean: float, std: float) -> None:\n",
    "        \"\"\"Add a normal prior on the transit duration.\n",
    "        Parameters\n",
    "        ----------\n",
    "        mean\n",
    "        std\n",
    "        Returns\n",
    "        -------\n",
    "        \"\"\"\n",
    "        def T14(pv):\n",
    "            pv = atleast_2d(pv)\n",
    "            a = as_from_rhop(pv[:,2], pv[:,1])\n",
    "            t14 = duration_eccentric(pv[:,1], sqrt(pv[:,4]), a, arccos(pv[:,3] / a), 0, 0, 1)\n",
    "            return norm.logpdf(t14, mean, std)\n",
    "        self.lnpriors.append(T14)\n",
    "        \n",
    "#     def add_ldtk_prior(self, teff: tuple, logg: tuple, z: tuple,\n",
    "#                        uncertainty_multiplier: float = 3,\n",
    "#                        pbs: tuple = ('g', 'r', 'i', 'z')) -> None:\n",
    "#         \"\"\"Add a LDTk-based prior on the limb darkening.\n",
    "#         Parameters\n",
    "#         ----------\n",
    "#         teff\n",
    "#         logg\n",
    "#         z\n",
    "#         uncertainty_multiplier\n",
    "#         pbs\n",
    "#         Returns\n",
    "#         -------\n",
    "#         \"\"\"\n",
    "#         fs = {n: f for n, f in zip('g r i z'.split(), (sdss_g, sdss_r, sdss_i, sdss_z))}\n",
    "#         filters = [fs[k] for k in pbs]\n",
    "#         self.ldsc = LDPSetCreator(teff, logg, z, filters)\n",
    "#         self.ldps = self.ldsc.create_profiles(1000)\n",
    "#         self.ldps.resample_linear_z()\n",
    "#         self.ldps.set_uncertainty_multiplier(uncertainty_multiplier)\n",
    "#         def ldprior(pv):\n",
    "#             pv = atleast_2d(pv)\n",
    "#             lnl = zeros(pv.shape[0])\n",
    "#             for i in range(pv.shape[0]):\n",
    "#                 lnl[i] = self.ldps.lnlike_tq(pv[i, self._sl_ld])\n",
    "#             return lnl\n",
    "#         self.lnpriors.append(ldprior)\n",
    "        \n",
    "    def flux_model(self, pv):\n",
    "        return self.transit_model(pv) * self.baseline(pv)\n",
    "\n",
    "    def residuals(self, pv):\n",
    "        return self.fluxes - self.flux_model(pv)\n",
    "\n",
    "    def set_prior(self, pid: int, prior) -> None:\n",
    "            self.ps[pid].prior = prior\n",
    "\n",
    "    def lnprior(self, pv):\n",
    "        return self.ps.lnprior(pv)\n",
    "\n",
    "    def lnlikelihood(self, pv):\n",
    "        flux_m = self.flux_model(pv)\n",
    "        wn = 10**(atleast_2d(pv)[:, 7])\n",
    "        return lnlike_normal_v(self.fluxes, flux_m, wn)\n",
    "\n",
    "    def lnposterior(self, pv):\n",
    "        lnp = self.lnprior(pv) + self.lnlikelihood(pv)\n",
    "        return where(isfinite(lnp), lnp, -inf)\n",
    "\n",
    "    def __call__(self, pv):\n",
    "        return self.lnposterior(pv)\n",
    "\n",
    "    def optimize(self, niter=200, npop=50, population=None, label='Global optimisation', leave=False):\n",
    "        if self.de is None:\n",
    "            self.de = DiffEvol(self.lnposterior, clip(self.ps.bounds, -1, 1), npop, maximize=True, vectorize=True)\n",
    "            if population is None:\n",
    "                self.de._population[:, :] = self.create_pv_population(npop)\n",
    "            else:\n",
    "                self.de._population[:,:] = population\n",
    "        for _ in tqdm(self.de(niter), total=niter, desc=label, leave=leave):\n",
    "            pass\n",
    "\n",
    "    def sample(self, niter=500, thin=5, label='MCMC sampling', reset=True, leave=True):\n",
    "        if self.sampler is None:\n",
    "            self.sampler = EnsembleSampler(self.de.n_pop, self.de.n_par, self.lnposterior, vectorize=True)\n",
    "            pop0 = self.de.population\n",
    "        else:\n",
    "            pop0 = self.sampler.chain[:,-1,:].copy()\n",
    "        if reset:\n",
    "            self.sampler.reset()\n",
    "        for _ in tqdm(self.sampler.sample(pop0, iterations=niter, thin=thin), total=niter, desc=label, leave=False):\n",
    "            pass\n",
    "\n",
    "    def posterior_samples(self, burn: int=0, thin: int=1):\n",
    "        fc = self.sampler.chain[:, burn::thin, :].reshape([-1, self.de.n_par])\n",
    "        return pd.DataFrame(fc, columns=self.ps.names)\n",
    "\n",
    "    def plot_mcmc_chains(self, pid: int=0, alpha: float=0.1, thin: int=1, ax=None):\n",
    "        fig, ax = (None, ax) if ax is not None else subplots()\n",
    "        ax.plot(self.sampler.chain[:, ::thin, pid].T, 'k', alpha=alpha)\n",
    "        fig.tight_layout()\n",
    "        return fig\n",
    "\n",
    "    def plot_light_curve(self, model: str = 'de', figsize: tuple = (13, 4)):\n",
    "        fig, ax = subplots(figsize=figsize, constrained_layout=True)\n",
    "        cp = sb.color_palette()\n",
    "\n",
    "        if model == 'de':\n",
    "            pv = self.de.minimum_location\n",
    "            err = 10**pv[7]\n",
    "        elif model == 'mc':\n",
    "            fc = array(self.posterior_samples())\n",
    "            pv = random.permutation(fc)[:300]\n",
    "            err = 10**median(pv[:, 7], 0)\n",
    "\n",
    "        ax.errorbar(self.times, self.fluxes, err, fmt='.', c=cp[4], alpha=0.75)\n",
    "\n",
    "        if model == 'de':\n",
    "            ax.plot(self.times, self.flux_model(pv), c=cp[0])\n",
    "        if model == 'mc':\n",
    "            flux_pr = self.flux_model(fc[random.permutation(fc.shape[0])[:1000]])\n",
    "            flux_pc = array(percentile(flux_pr, [50, 0.15,99.85, 2.5,97.5, 16,84], 0))\n",
    "            [ax.fill_between(self.times, *flux_pc[i:i+2,:], alpha=0.2,facecolor=cp[0]) for i in range(1,6,2)]\n",
    "            ax.plot(self.times, flux_pc[0], c=cp[0])\n",
    "        setp(ax, xlim=self.times[[0,-1]], xlabel='Time', ylabel='Normalised flux')\n",
    "        return fig, ax\n"
   ]
  },
  {
   "cell_type": "code",
   "execution_count": 12,
   "id": "upper-excuse",
   "metadata": {},
   "outputs": [],
   "source": [
    "b = 'zs'\n",
    "time = lcs[b]['#BJD_TDB']\n",
    "flux = lcs[b]['rel_flux_T1_n']\n",
    "\n",
    "npop, de_iter, mc_reps, mc_iter, thin = 100, 200, 3, 500, 10\n",
    "lpf = LPFunction('Ks', time, flux, with_contamination=True)"
   ]
  },
  {
   "cell_type": "code",
   "execution_count": 13,
   "id": "subsequent-volleyball",
   "metadata": {},
   "outputs": [
    {
     "data": {
      "application/vnd.jupyter.widget-view+json": {
       "model_id": "902a08b95b62486caacde6fb1d27f56b",
       "version_major": 2,
       "version_minor": 0
      },
      "text/plain": [
       "HBox(children=(IntProgress(value=0, description='Global optimisation', max=200, style=ProgressStyle(descriptio…"
      ]
     },
     "metadata": {},
     "output_type": "display_data"
    },
    {
     "ename": "AttributeError",
     "evalue": "'LPFunction' object has no attribute '_sl_cn'",
     "output_type": "error",
     "traceback": [
      "\u001b[0;31m---------------------------------------------------------------------------\u001b[0m",
      "\u001b[0;31mAttributeError\u001b[0m                            Traceback (most recent call last)",
      "\u001b[0;32m<ipython-input-13-50a533ba4797>\u001b[0m in \u001b[0;36m<module>\u001b[0;34m\u001b[0m\n\u001b[0;32m----> 1\u001b[0;31m \u001b[0mlpf\u001b[0m\u001b[0;34m.\u001b[0m\u001b[0moptimize\u001b[0m\u001b[0;34m(\u001b[0m\u001b[0mde_iter\u001b[0m\u001b[0;34m,\u001b[0m \u001b[0mnpop\u001b[0m\u001b[0;34m)\u001b[0m\u001b[0;34m\u001b[0m\u001b[0;34m\u001b[0m\u001b[0m\n\u001b[0m",
      "\u001b[0;32m<ipython-input-8-43f4540a4f58>\u001b[0m in \u001b[0;36moptimize\u001b[0;34m(self, niter, npop, population, label, leave)\u001b[0m\n\u001b[1;32m    165\u001b[0m             \u001b[0;32melse\u001b[0m\u001b[0;34m:\u001b[0m\u001b[0;34m\u001b[0m\u001b[0;34m\u001b[0m\u001b[0m\n\u001b[1;32m    166\u001b[0m                 \u001b[0mself\u001b[0m\u001b[0;34m.\u001b[0m\u001b[0mde\u001b[0m\u001b[0;34m.\u001b[0m\u001b[0m_population\u001b[0m\u001b[0;34m[\u001b[0m\u001b[0;34m:\u001b[0m\u001b[0;34m,\u001b[0m\u001b[0;34m:\u001b[0m\u001b[0;34m]\u001b[0m \u001b[0;34m=\u001b[0m \u001b[0mpopulation\u001b[0m\u001b[0;34m\u001b[0m\u001b[0;34m\u001b[0m\u001b[0m\n\u001b[0;32m--> 167\u001b[0;31m         \u001b[0;32mfor\u001b[0m \u001b[0m_\u001b[0m \u001b[0;32min\u001b[0m \u001b[0mtqdm\u001b[0m\u001b[0;34m(\u001b[0m\u001b[0mself\u001b[0m\u001b[0;34m.\u001b[0m\u001b[0mde\u001b[0m\u001b[0;34m(\u001b[0m\u001b[0mniter\u001b[0m\u001b[0;34m)\u001b[0m\u001b[0;34m,\u001b[0m \u001b[0mtotal\u001b[0m\u001b[0;34m=\u001b[0m\u001b[0mniter\u001b[0m\u001b[0;34m,\u001b[0m \u001b[0mdesc\u001b[0m\u001b[0;34m=\u001b[0m\u001b[0mlabel\u001b[0m\u001b[0;34m,\u001b[0m \u001b[0mleave\u001b[0m\u001b[0;34m=\u001b[0m\u001b[0mleave\u001b[0m\u001b[0;34m)\u001b[0m\u001b[0;34m:\u001b[0m\u001b[0;34m\u001b[0m\u001b[0;34m\u001b[0m\u001b[0m\n\u001b[0m\u001b[1;32m    168\u001b[0m             \u001b[0;32mpass\u001b[0m\u001b[0;34m\u001b[0m\u001b[0;34m\u001b[0m\u001b[0m\n\u001b[1;32m    169\u001b[0m \u001b[0;34m\u001b[0m\u001b[0m\n",
      "\u001b[0;32m~/miniconda3/envs/py3/lib/python3.8/site-packages/tqdm/_tqdm_notebook.py\u001b[0m in \u001b[0;36m__iter__\u001b[0;34m(self, *args, **kwargs)\u001b[0m\n\u001b[1;32m    219\u001b[0m     \u001b[0;32mdef\u001b[0m \u001b[0m__iter__\u001b[0m\u001b[0;34m(\u001b[0m\u001b[0mself\u001b[0m\u001b[0;34m,\u001b[0m \u001b[0;34m*\u001b[0m\u001b[0margs\u001b[0m\u001b[0;34m,\u001b[0m \u001b[0;34m**\u001b[0m\u001b[0mkwargs\u001b[0m\u001b[0;34m)\u001b[0m\u001b[0;34m:\u001b[0m\u001b[0;34m\u001b[0m\u001b[0;34m\u001b[0m\u001b[0m\n\u001b[1;32m    220\u001b[0m         \u001b[0;32mtry\u001b[0m\u001b[0;34m:\u001b[0m\u001b[0;34m\u001b[0m\u001b[0;34m\u001b[0m\u001b[0m\n\u001b[0;32m--> 221\u001b[0;31m             \u001b[0;32mfor\u001b[0m \u001b[0mobj\u001b[0m \u001b[0;32min\u001b[0m \u001b[0msuper\u001b[0m\u001b[0;34m(\u001b[0m\u001b[0mtqdm_notebook\u001b[0m\u001b[0;34m,\u001b[0m \u001b[0mself\u001b[0m\u001b[0;34m)\u001b[0m\u001b[0;34m.\u001b[0m\u001b[0m__iter__\u001b[0m\u001b[0;34m(\u001b[0m\u001b[0;34m*\u001b[0m\u001b[0margs\u001b[0m\u001b[0;34m,\u001b[0m \u001b[0;34m**\u001b[0m\u001b[0mkwargs\u001b[0m\u001b[0;34m)\u001b[0m\u001b[0;34m:\u001b[0m\u001b[0;34m\u001b[0m\u001b[0;34m\u001b[0m\u001b[0m\n\u001b[0m\u001b[1;32m    222\u001b[0m                 \u001b[0;31m# return super(tqdm...) will not catch exception\u001b[0m\u001b[0;34m\u001b[0m\u001b[0;34m\u001b[0m\u001b[0;34m\u001b[0m\u001b[0m\n\u001b[1;32m    223\u001b[0m                 \u001b[0;32myield\u001b[0m \u001b[0mobj\u001b[0m\u001b[0;34m\u001b[0m\u001b[0;34m\u001b[0m\u001b[0m\n",
      "\u001b[0;32m~/miniconda3/envs/py3/lib/python3.8/site-packages/tqdm/_tqdm.py\u001b[0m in \u001b[0;36m__iter__\u001b[0;34m(self)\u001b[0m\n\u001b[1;32m    977\u001b[0m \"\"\", fp_write=getattr(self.fp, 'write', sys.stderr.write))\n\u001b[1;32m    978\u001b[0m \u001b[0;34m\u001b[0m\u001b[0m\n\u001b[0;32m--> 979\u001b[0;31m             \u001b[0;32mfor\u001b[0m \u001b[0mobj\u001b[0m \u001b[0;32min\u001b[0m \u001b[0miterable\u001b[0m\u001b[0;34m:\u001b[0m\u001b[0;34m\u001b[0m\u001b[0;34m\u001b[0m\u001b[0m\n\u001b[0m\u001b[1;32m    980\u001b[0m                 \u001b[0;32myield\u001b[0m \u001b[0mobj\u001b[0m\u001b[0;34m\u001b[0m\u001b[0;34m\u001b[0m\u001b[0m\n\u001b[1;32m    981\u001b[0m                 \u001b[0;31m# Update and possibly print the progressbar.\u001b[0m\u001b[0;34m\u001b[0m\u001b[0;34m\u001b[0m\u001b[0;34m\u001b[0m\u001b[0m\n",
      "\u001b[0;32m/media/jerome/20BA47B9BA4789EC/github/research/transit/PyTransit/pytransit/utils/de.py\u001b[0m in \u001b[0;36m_eval_vfun\u001b[0;34m(self, ngen)\u001b[0m\n\u001b[1;32m    221\u001b[0m         \u001b[0mpopt\u001b[0m\u001b[0;34m,\u001b[0m \u001b[0mfitt\u001b[0m \u001b[0;34m=\u001b[0m \u001b[0mself\u001b[0m\u001b[0;34m.\u001b[0m\u001b[0m_trial_pop\u001b[0m\u001b[0;34m,\u001b[0m \u001b[0mself\u001b[0m\u001b[0;34m.\u001b[0m\u001b[0m_trial_fit\u001b[0m\u001b[0;34m\u001b[0m\u001b[0;34m\u001b[0m\u001b[0m\n\u001b[1;32m    222\u001b[0m \u001b[0;34m\u001b[0m\u001b[0m\n\u001b[0;32m--> 223\u001b[0;31m         \u001b[0mfitc\u001b[0m\u001b[0;34m[\u001b[0m\u001b[0;34m:\u001b[0m\u001b[0;34m]\u001b[0m \u001b[0;34m=\u001b[0m \u001b[0mself\u001b[0m\u001b[0;34m.\u001b[0m\u001b[0mm\u001b[0m \u001b[0;34m*\u001b[0m \u001b[0mself\u001b[0m\u001b[0;34m.\u001b[0m\u001b[0mminfun\u001b[0m\u001b[0;34m(\u001b[0m\u001b[0mself\u001b[0m\u001b[0;34m.\u001b[0m\u001b[0m_population\u001b[0m\u001b[0;34m)\u001b[0m\u001b[0;34m\u001b[0m\u001b[0;34m\u001b[0m\u001b[0m\n\u001b[0m\u001b[1;32m    224\u001b[0m \u001b[0;34m\u001b[0m\u001b[0m\n\u001b[1;32m    225\u001b[0m         \u001b[0;32mfor\u001b[0m \u001b[0migen\u001b[0m \u001b[0;32min\u001b[0m \u001b[0mrange\u001b[0m\u001b[0;34m(\u001b[0m\u001b[0mngen\u001b[0m\u001b[0;34m)\u001b[0m\u001b[0;34m:\u001b[0m\u001b[0;34m\u001b[0m\u001b[0;34m\u001b[0m\u001b[0m\n",
      "\u001b[0;32m/media/jerome/20BA47B9BA4789EC/github/research/transit/PyTransit/pytransit/utils/de.py\u001b[0m in \u001b[0;36m__call__\u001b[0;34m(self, x)\u001b[0m\n\u001b[1;32m    248\u001b[0m \u001b[0;34m\u001b[0m\u001b[0m\n\u001b[1;32m    249\u001b[0m     \u001b[0;32mdef\u001b[0m \u001b[0m__call__\u001b[0m\u001b[0;34m(\u001b[0m\u001b[0mself\u001b[0m\u001b[0;34m,\u001b[0m \u001b[0mx\u001b[0m\u001b[0;34m)\u001b[0m\u001b[0;34m:\u001b[0m\u001b[0;34m\u001b[0m\u001b[0;34m\u001b[0m\u001b[0m\n\u001b[0;32m--> 250\u001b[0;31m         \u001b[0;32mreturn\u001b[0m \u001b[0mself\u001b[0m\u001b[0;34m.\u001b[0m\u001b[0mf\u001b[0m\u001b[0;34m(\u001b[0m\u001b[0mx\u001b[0m\u001b[0;34m,\u001b[0m \u001b[0;34m*\u001b[0m\u001b[0mself\u001b[0m\u001b[0;34m.\u001b[0m\u001b[0margs\u001b[0m\u001b[0;34m,\u001b[0m \u001b[0;34m**\u001b[0m\u001b[0mself\u001b[0m\u001b[0;34m.\u001b[0m\u001b[0mkwargs\u001b[0m\u001b[0;34m)\u001b[0m\u001b[0;34m\u001b[0m\u001b[0;34m\u001b[0m\u001b[0m\n\u001b[0m",
      "\u001b[0;32m<ipython-input-8-43f4540a4f58>\u001b[0m in \u001b[0;36mlnposterior\u001b[0;34m(self, pv)\u001b[0m\n\u001b[1;32m    152\u001b[0m \u001b[0;34m\u001b[0m\u001b[0m\n\u001b[1;32m    153\u001b[0m     \u001b[0;32mdef\u001b[0m \u001b[0mlnposterior\u001b[0m\u001b[0;34m(\u001b[0m\u001b[0mself\u001b[0m\u001b[0;34m,\u001b[0m \u001b[0mpv\u001b[0m\u001b[0;34m)\u001b[0m\u001b[0;34m:\u001b[0m\u001b[0;34m\u001b[0m\u001b[0;34m\u001b[0m\u001b[0m\n\u001b[0;32m--> 154\u001b[0;31m         \u001b[0mlnp\u001b[0m \u001b[0;34m=\u001b[0m \u001b[0mself\u001b[0m\u001b[0;34m.\u001b[0m\u001b[0mlnprior\u001b[0m\u001b[0;34m(\u001b[0m\u001b[0mpv\u001b[0m\u001b[0;34m)\u001b[0m \u001b[0;34m+\u001b[0m \u001b[0mself\u001b[0m\u001b[0;34m.\u001b[0m\u001b[0mlnlikelihood\u001b[0m\u001b[0;34m(\u001b[0m\u001b[0mpv\u001b[0m\u001b[0;34m)\u001b[0m\u001b[0;34m\u001b[0m\u001b[0;34m\u001b[0m\u001b[0m\n\u001b[0m\u001b[1;32m    155\u001b[0m         \u001b[0;32mreturn\u001b[0m \u001b[0mwhere\u001b[0m\u001b[0;34m(\u001b[0m\u001b[0misfinite\u001b[0m\u001b[0;34m(\u001b[0m\u001b[0mlnp\u001b[0m\u001b[0;34m)\u001b[0m\u001b[0;34m,\u001b[0m \u001b[0mlnp\u001b[0m\u001b[0;34m,\u001b[0m \u001b[0;34m-\u001b[0m\u001b[0minf\u001b[0m\u001b[0;34m)\u001b[0m\u001b[0;34m\u001b[0m\u001b[0;34m\u001b[0m\u001b[0m\n\u001b[1;32m    156\u001b[0m \u001b[0;34m\u001b[0m\u001b[0m\n",
      "\u001b[0;32m<ipython-input-8-43f4540a4f58>\u001b[0m in \u001b[0;36mlnlikelihood\u001b[0;34m(self, pv)\u001b[0m\n\u001b[1;32m    147\u001b[0m \u001b[0;34m\u001b[0m\u001b[0m\n\u001b[1;32m    148\u001b[0m     \u001b[0;32mdef\u001b[0m \u001b[0mlnlikelihood\u001b[0m\u001b[0;34m(\u001b[0m\u001b[0mself\u001b[0m\u001b[0;34m,\u001b[0m \u001b[0mpv\u001b[0m\u001b[0;34m)\u001b[0m\u001b[0;34m:\u001b[0m\u001b[0;34m\u001b[0m\u001b[0;34m\u001b[0m\u001b[0m\n\u001b[0;32m--> 149\u001b[0;31m         \u001b[0mflux_m\u001b[0m \u001b[0;34m=\u001b[0m \u001b[0mself\u001b[0m\u001b[0;34m.\u001b[0m\u001b[0mflux_model\u001b[0m\u001b[0;34m(\u001b[0m\u001b[0mpv\u001b[0m\u001b[0;34m)\u001b[0m\u001b[0;34m\u001b[0m\u001b[0;34m\u001b[0m\u001b[0m\n\u001b[0m\u001b[1;32m    150\u001b[0m         \u001b[0mwn\u001b[0m \u001b[0;34m=\u001b[0m \u001b[0;36m10\u001b[0m\u001b[0;34m**\u001b[0m\u001b[0;34m(\u001b[0m\u001b[0matleast_2d\u001b[0m\u001b[0;34m(\u001b[0m\u001b[0mpv\u001b[0m\u001b[0;34m)\u001b[0m\u001b[0;34m[\u001b[0m\u001b[0;34m:\u001b[0m\u001b[0;34m,\u001b[0m \u001b[0;36m7\u001b[0m\u001b[0;34m]\u001b[0m\u001b[0;34m)\u001b[0m\u001b[0;34m\u001b[0m\u001b[0;34m\u001b[0m\u001b[0m\n\u001b[1;32m    151\u001b[0m         \u001b[0;32mreturn\u001b[0m \u001b[0mlnlike_normal_v\u001b[0m\u001b[0;34m(\u001b[0m\u001b[0mself\u001b[0m\u001b[0;34m.\u001b[0m\u001b[0mfluxes\u001b[0m\u001b[0;34m,\u001b[0m \u001b[0mflux_m\u001b[0m\u001b[0;34m,\u001b[0m \u001b[0mwn\u001b[0m\u001b[0;34m)\u001b[0m\u001b[0;34m\u001b[0m\u001b[0;34m\u001b[0m\u001b[0m\n",
      "\u001b[0;32m<ipython-input-8-43f4540a4f58>\u001b[0m in \u001b[0;36mflux_model\u001b[0;34m(self, pv)\u001b[0m\n\u001b[1;32m    135\u001b[0m \u001b[0;34m\u001b[0m\u001b[0m\n\u001b[1;32m    136\u001b[0m     \u001b[0;32mdef\u001b[0m \u001b[0mflux_model\u001b[0m\u001b[0;34m(\u001b[0m\u001b[0mself\u001b[0m\u001b[0;34m,\u001b[0m \u001b[0mpv\u001b[0m\u001b[0;34m)\u001b[0m\u001b[0;34m:\u001b[0m\u001b[0;34m\u001b[0m\u001b[0;34m\u001b[0m\u001b[0m\n\u001b[0;32m--> 137\u001b[0;31m         \u001b[0;32mreturn\u001b[0m \u001b[0mself\u001b[0m\u001b[0;34m.\u001b[0m\u001b[0mtransit_model\u001b[0m\u001b[0;34m(\u001b[0m\u001b[0mpv\u001b[0m\u001b[0;34m)\u001b[0m \u001b[0;34m*\u001b[0m \u001b[0mself\u001b[0m\u001b[0;34m.\u001b[0m\u001b[0mbaseline\u001b[0m\u001b[0;34m(\u001b[0m\u001b[0mpv\u001b[0m\u001b[0;34m)\u001b[0m\u001b[0;34m\u001b[0m\u001b[0;34m\u001b[0m\u001b[0m\n\u001b[0m\u001b[1;32m    138\u001b[0m \u001b[0;34m\u001b[0m\u001b[0m\n\u001b[1;32m    139\u001b[0m     \u001b[0;32mdef\u001b[0m \u001b[0mresiduals\u001b[0m\u001b[0;34m(\u001b[0m\u001b[0mself\u001b[0m\u001b[0;34m,\u001b[0m \u001b[0mpv\u001b[0m\u001b[0;34m)\u001b[0m\u001b[0;34m:\u001b[0m\u001b[0;34m\u001b[0m\u001b[0;34m\u001b[0m\u001b[0m\n",
      "\u001b[0;32m<ipython-input-8-43f4540a4f58>\u001b[0m in \u001b[0;36mtransit_model\u001b[0;34m(self, pv, copy)\u001b[0m\n\u001b[1;32m     81\u001b[0m \u001b[0;34m\u001b[0m\u001b[0m\n\u001b[1;32m     82\u001b[0m         \u001b[0;32mif\u001b[0m \u001b[0mself\u001b[0m\u001b[0;34m.\u001b[0m\u001b[0mwith_contamination\u001b[0m\u001b[0;34m:\u001b[0m\u001b[0;34m\u001b[0m\u001b[0;34m\u001b[0m\u001b[0m\n\u001b[0;32m---> 83\u001b[0;31m             \u001b[0mp\u001b[0m \u001b[0;34m=\u001b[0m \u001b[0mpv\u001b[0m\u001b[0;34m[\u001b[0m\u001b[0;34m:\u001b[0m\u001b[0;34m,\u001b[0m \u001b[0mself\u001b[0m\u001b[0;34m.\u001b[0m\u001b[0m_sl_cn\u001b[0m\u001b[0;34m]\u001b[0m\u001b[0;34m\u001b[0m\u001b[0;34m\u001b[0m\u001b[0m\n\u001b[0m\u001b[1;32m     84\u001b[0m             \u001b[0mpv_cnt\u001b[0m \u001b[0;34m=\u001b[0m \u001b[0mzeros\u001b[0m\u001b[0;34m(\u001b[0m\u001b[0;34m(\u001b[0m\u001b[0mpv\u001b[0m\u001b[0;34m.\u001b[0m\u001b[0mshape\u001b[0m\u001b[0;34m[\u001b[0m\u001b[0;36m0\u001b[0m\u001b[0;34m]\u001b[0m\u001b[0;34m,\u001b[0m \u001b[0mself\u001b[0m\u001b[0;34m.\u001b[0m\u001b[0mnpb\u001b[0m\u001b[0;34m)\u001b[0m\u001b[0;34m)\u001b[0m\u001b[0;34m\u001b[0m\u001b[0;34m\u001b[0m\u001b[0m\n\u001b[1;32m     85\u001b[0m             \u001b[0mpv_cnt\u001b[0m\u001b[0;34m[\u001b[0m\u001b[0;34m:\u001b[0m\u001b[0;34m,\u001b[0m\u001b[0;36m0\u001b[0m\u001b[0;34m]\u001b[0m \u001b[0;34m=\u001b[0m \u001b[0mp\u001b[0m\u001b[0;34m[\u001b[0m\u001b[0;34m:\u001b[0m\u001b[0;34m,\u001b[0m\u001b[0;36m0\u001b[0m\u001b[0;34m]\u001b[0m\u001b[0;34m\u001b[0m\u001b[0;34m\u001b[0m\u001b[0m\n",
      "\u001b[0;31mAttributeError\u001b[0m: 'LPFunction' object has no attribute '_sl_cn'"
     ]
    }
   ],
   "source": [
    "lpf.optimize(de_iter, npop)"
   ]
  },
  {
   "cell_type": "code",
   "execution_count": 11,
   "id": "instrumental-people",
   "metadata": {},
   "outputs": [
    {
     "data": {
      "image/png": "[encoded data removed]",
      "text/plain": [
       "<Figure size 936x288 with 1 Axes>"
      ]
     },
     "metadata": {
      "needs_background": "light"
     },
     "output_type": "display_data"
    }
   ],
   "source": [
    "lpf.plot_light_curve();"
   ]
  },
  {
   "cell_type": "code",
   "execution_count": null,
   "id": "subjective-graduate",
   "metadata": {},
   "outputs": [],
   "source": []
  }
 ],
 "metadata": {
  "kernelspec": {
   "display_name": "Python 3",
   "language": "python",
   "name": "python3"
  },
  "language_info": {
   "codemirror_mode": {
    "name": "ipython",
    "version": 3
   },
   "file_extension": ".py",
   "mimetype": "text/x-python",
   "name": "python",
   "nbconvert_exporter": "python",
   "pygments_lexer": "ipython3",
   "version": "3.8.5"
  }
 },
 "nbformat": 4,
 "nbformat_minor": 5
}
