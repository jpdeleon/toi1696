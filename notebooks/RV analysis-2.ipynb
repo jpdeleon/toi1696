{
 "cells": [
  {
   "cell_type": "markdown",
   "metadata": {},
   "source": [
    "Reference:\n",
    "https://github.com/jpdeleon/toi0179/blob/main/notebooks/fig_rv_model_mass_constraint.ipynb"
   ]
  },
  {
   "cell_type": "code",
   "execution_count": 1,
   "metadata": {},
   "outputs": [],
   "source": [
    "import os\n",
    "import numpy as np\n",
    "import matplotlib.pyplot as pl\n",
    "import pandas as pd\n",
    "from astropy.time import Time\n",
    "from astropy import units as u\n",
    "from astropy.coordinates import SkyCoord\n",
    "from astropy import constants as con\n",
    "\n",
    "import subprocess\n",
    "from tqdm import tqdm"
   ]
  },
  {
   "cell_type": "code",
   "execution_count": 2,
   "metadata": {},
   "outputs": [
    {
     "data": {
      "text/html": [
       "<div>\n",
       "<style scoped>\n",
       "    .dataframe tbody tr th:only-of-type {\n",
       "        vertical-align: middle;\n",
       "    }\n",
       "\n",
       "    .dataframe tbody tr th {\n",
       "        vertical-align: top;\n",
       "    }\n",
       "\n",
       "    .dataframe thead th {\n",
       "        text-align: right;\n",
       "    }\n",
       "</style>\n",
       "<table border=\"1\" class=\"dataframe\">\n",
       "  <thead>\n",
       "    <tr style=\"text-align: right;\">\n",
       "      <th></th>\n",
       "      <th>bjd</th>\n",
       "      <th>rv</th>\n",
       "      <th>rv_err</th>\n",
       "    </tr>\n",
       "  </thead>\n",
       "  <tbody>\n",
       "    <tr>\n",
       "      <th>0</th>\n",
       "      <td>2.459245e+06</td>\n",
       "      <td>-0.053392</td>\n",
       "      <td>0.01623</td>\n",
       "    </tr>\n",
       "    <tr>\n",
       "      <th>1</th>\n",
       "      <td>2.459488e+06</td>\n",
       "      <td>-0.029687</td>\n",
       "      <td>0.01424</td>\n",
       "    </tr>\n",
       "    <tr>\n",
       "      <th>2</th>\n",
       "      <td>2.459508e+06</td>\n",
       "      <td>0.068336</td>\n",
       "      <td>0.01874</td>\n",
       "    </tr>\n",
       "    <tr>\n",
       "      <th>3</th>\n",
       "      <td>2.459508e+06</td>\n",
       "      <td>0.061334</td>\n",
       "      <td>0.01405</td>\n",
       "    </tr>\n",
       "    <tr>\n",
       "      <th>4</th>\n",
       "      <td>2.459510e+06</td>\n",
       "      <td>0.105841</td>\n",
       "      <td>0.01895</td>\n",
       "    </tr>\n",
       "    <tr>\n",
       "      <th>5</th>\n",
       "      <td>2.459510e+06</td>\n",
       "      <td>0.045615</td>\n",
       "      <td>0.01487</td>\n",
       "    </tr>\n",
       "    <tr>\n",
       "      <th>6</th>\n",
       "      <td>2.459515e+06</td>\n",
       "      <td>-0.019704</td>\n",
       "      <td>0.01701</td>\n",
       "    </tr>\n",
       "    <tr>\n",
       "      <th>7</th>\n",
       "      <td>2.459515e+06</td>\n",
       "      <td>0.000000</td>\n",
       "      <td>0.01431</td>\n",
       "    </tr>\n",
       "    <tr>\n",
       "      <th>8</th>\n",
       "      <td>2.459531e+06</td>\n",
       "      <td>-0.046459</td>\n",
       "      <td>0.01720</td>\n",
       "    </tr>\n",
       "  </tbody>\n",
       "</table>\n",
       "</div>"
      ],
      "text/plain": [
       "            bjd        rv   rv_err\n",
       "0  2.459245e+06 -0.053392  0.01623\n",
       "1  2.459488e+06 -0.029687  0.01424\n",
       "2  2.459508e+06  0.068336  0.01874\n",
       "3  2.459508e+06  0.061334  0.01405\n",
       "4  2.459510e+06  0.105841  0.01895\n",
       "5  2.459510e+06  0.045615  0.01487\n",
       "6  2.459515e+06 -0.019704  0.01701\n",
       "7  2.459515e+06  0.000000  0.01431\n",
       "8  2.459531e+06 -0.046459  0.01720"
      ]
     },
     "execution_count": 2,
     "metadata": {},
     "output_type": "execute_result"
    }
   ],
   "source": [
    "df_all=pd.read_csv('../data/rv/TOI1696_rv_all.dat', sep=',')\n",
    "df_yj=pd.read_csv('../data/rv/TOI1696_rv_yj.dat', sep=',')\n",
    "df_yj"
   ]
  },
  {
   "cell_type": "code",
   "execution_count": 3,
   "metadata": {},
   "outputs": [],
   "source": [
    "df = df_all"
   ]
  },
  {
   "cell_type": "code",
   "execution_count": 4,
   "metadata": {},
   "outputs": [
    {
     "data": {
      "text/plain": [
       "[<matplotlib.lines.Line2D at 0x7f0e175a2190>]"
      ]
     },
     "execution_count": 4,
     "metadata": {},
     "output_type": "execute_result"
    },
    {
     "data": {
      "image/png": "[encoded data removed]",
      "text/plain": [
       "<Figure size 432x288 with 1 Axes>"
      ]
     },
     "metadata": {
      "needs_background": "light"
     },
     "output_type": "display_data"
    }
   ],
   "source": [
    "pl.plot(df['bjd'],df['rv'], '.')"
   ]
  },
  {
   "cell_type": "code",
   "execution_count": 5,
   "metadata": {},
   "outputs": [],
   "source": [
    "T0 = 2459206.74743\n",
    "P = 2.50079 #day\n",
    "Ms = 0.261#solar mass\n",
    "Mp = 68 #earth mass, tentative\n",
    "\n",
    "a_rs = (0.023 * con.au/ (0.268 * con.R_sun)).value\n",
    "\n",
    "b = 0.49\n",
    "inc = np.arccos(b / a_rs)#rad"
   ]
  },
  {
   "cell_type": "code",
   "execution_count": 6,
   "metadata": {},
   "outputs": [],
   "source": [
    "def rv_model_circle(params, tm):  \n",
    "    t0, p, ms, mp, i = params\n",
    "    p_u = p * u.day\n",
    "    mp_u = mp * con.M_earth\n",
    "    ms_u = ms * con.M_sun\n",
    "    \n",
    "    K = (2 * np.pi * con.G / p_u)**(1/3.)* mp_u*np.sin(i)/(ms_u+mp_u)**(2/3.)\n",
    "    rv = K.si * np.sin(2 * np.pi / p * (tm-t0))\n",
    "    return rv.value/1000"
   ]
  },
  {
   "cell_type": "code",
   "execution_count": 7,
   "metadata": {},
   "outputs": [],
   "source": [
    "params_pr=[T0, P, Ms, Mp, inc]"
   ]
  },
  {
   "cell_type": "code",
   "execution_count": 8,
   "metadata": {},
   "outputs": [
    {
     "data": {
      "text/plain": [
       "[<matplotlib.lines.Line2D at 0x7f0e174d1a60>]"
      ]
     },
     "execution_count": 8,
     "metadata": {},
     "output_type": "execute_result"
    },
    {
     "data": {
      "image/png": "[encoded data removed]",
      "text/plain": [
       "<Figure size 432x288 with 1 Axes>"
      ]
     },
     "metadata": {
      "needs_background": "light"
     },
     "output_type": "display_data"
    }
   ],
   "source": [
    "time = np.linspace(df['bjd'][1], df['bjd'][len(df)-1], 1000)\n",
    "RV_model = rv_model_circle(params_pr,time)\n",
    "pl.plot(df['bjd'][1:],df['rv'][1:], '.')\n",
    "pl.plot(time, RV_model)"
   ]
  },
  {
   "cell_type": "code",
   "execution_count": 9,
   "metadata": {},
   "outputs": [],
   "source": [
    "# 横軸phaseでやる\n",
    "\n",
    "def phase(OBS_JD, T0, P):\n",
    "    n = np.floor((OBS_JD-T0)/P)\n",
    "    tr_before = T0 + n * P             #the JD of the last transit (phase=0) before the observation\n",
    "    ph = (OBS_JD - tr_before)/P\n",
    "    return ph"
   ]
  },
  {
   "cell_type": "code",
   "execution_count": 10,
   "metadata": {},
   "outputs": [
    {
     "data": {
      "text/plain": [
       "[<matplotlib.lines.Line2D at 0x7f0e17466730>]"
      ]
     },
     "execution_count": 10,
     "metadata": {},
     "output_type": "execute_result"
    },
    {
     "data": {
      "image/png": "[encoded data removed]",
      "text/plain": [
       "<Figure size 432x288 with 1 Axes>"
      ]
     },
     "metadata": {
      "needs_background": "light"
     },
     "output_type": "display_data"
    }
   ],
   "source": [
    "pl.plot(phase(df['bjd'], T0, P), df['rv'], '.')\n",
    "pl.plot(phase(time, T0, P), RV_model, '.')"
   ]
  },
  {
   "cell_type": "markdown",
   "metadata": {},
   "source": [
    "iとbを対応付けて、トランジットとRVを同時フィットできた方がいいのかなぁ…\n",
    "RVの精度が悪いことを考えると、iとかMsとかは固定がいいのかな？"
   ]
  },
  {
   "cell_type": "markdown",
   "metadata": {},
   "source": [
    "# Fitting"
   ]
  },
  {
   "cell_type": "markdown",
   "metadata": {},
   "source": [
    "- params_setにする\n",
    "- 何を動かすか\n",
    "- MCMC\n",
    "- 最終的には横軸phaseにする"
   ]
  },
  {
   "cell_type": "markdown",
   "metadata": {},
   "source": [
    "# まずはKだけを動かす"
   ]
  },
  {
   "cell_type": "code",
   "execution_count": 21,
   "metadata": {},
   "outputs": [],
   "source": [
    "def rv_model_K(K, t0, p, tm):  \n",
    "    rv = K* np.sin(2 * np.pi / p * (tm-t0))\n",
    "    return rv"
   ]
  },
  {
   "cell_type": "code",
   "execution_count": 22,
   "metadata": {},
   "outputs": [
    {
     "data": {
      "text/plain": [
       "0    0.080000\n",
       "1    0.026684\n",
       "2    0.035064\n",
       "3    0.006157\n",
       "4    0.078341\n",
       "5    0.078004\n",
       "6    0.079317\n",
       "7    0.074655\n",
       "8   -0.045049\n",
       "Name: bjd, dtype: float64"
      ]
     },
     "execution_count": 22,
     "metadata": {},
     "output_type": "execute_result"
    }
   ],
   "source": [
    "RV_model_dot=rv_model_K(0.08, T0, P, df['bjd'])\n",
    "RV_model_dot"
   ]
  },
  {
   "cell_type": "code",
   "execution_count": 23,
   "metadata": {},
   "outputs": [
    {
     "data": {
      "text/plain": [
       "[<matplotlib.lines.Line2D at 0x7f0e17164d00>]"
      ]
     },
     "execution_count": 23,
     "metadata": {},
     "output_type": "execute_result"
    },
    {
     "data": {
      "image/png": "[encoded data removed]",
      "text/plain": [
       "<Figure size 432x288 with 1 Axes>"
      ]
     },
     "metadata": {
      "needs_background": "light"
     },
     "output_type": "display_data"
    }
   ],
   "source": [
    "pl.plot(df['bjd'], df['rv'], '.')\n",
    "pl.plot(df['bjd'], RV_model_dot, '.')"
   ]
  },
  {
   "cell_type": "code",
   "execution_count": 27,
   "metadata": {},
   "outputs": [
    {
     "data": {
      "text/plain": [
       "[<matplotlib.lines.Line2D at 0x7f0e17014f10>]"
      ]
     },
     "execution_count": 27,
     "metadata": {},
     "output_type": "execute_result"
    },
    {
     "data": {
      "image/png": "[encoded data removed]",
      "text/plain": [
       "<Figure size 432x288 with 1 Axes>"
      ]
     },
     "metadata": {
      "needs_background": "light"
     },
     "output_type": "display_data"
    }
   ],
   "source": [
    "pl.plot(phase(df['bjd'], T0, P), df['rv'], '.')\n",
    "pl.plot(phase(df['bjd'], T0, P), RV_model_dot, '.')\n",
    "\n",
    "RV_model=rv_model_K(0.08, T0, P, time)\n",
    "pl.plot(phase(time, T0, P), RV_model, '-', lw=0.1)"
   ]
  },
  {
   "cell_type": "code",
   "execution_count": 33,
   "metadata": {},
   "outputs": [],
   "source": [
    "time_obs = df['bjd']\n",
    "rv_obs = df['rv']\n",
    "rv_e_obs = df['rv_err']\n",
    "\n",
    "time_pr = np.linspace(df['bjd'][0], df['bjd'][len(df)-1], 10000)"
   ]
  },
  {
   "cell_type": "code",
   "execution_count": null,
   "metadata": {},
   "outputs": [],
   "source": [
    "def logprob()"
   ]
  },
  {
   "cell_type": "code",
   "execution_count": null,
   "metadata": {},
   "outputs": [],
   "source": []
  }
 ],
 "metadata": {
  "kernelspec": {
   "display_name": "Python 3",
   "language": "python",
   "name": "python3"
  },
  "language_info": {
   "codemirror_mode": {
    "name": "ipython",
    "version": 3
   },
   "file_extension": ".py",
   "mimetype": "text/x-python",
   "name": "python",
   "nbconvert_exporter": "python",
   "pygments_lexer": "ipython3",
   "version": "3.8.5"
  }
 },
 "nbformat": 4,
 "nbformat_minor": 4
}
