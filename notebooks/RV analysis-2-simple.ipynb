{
 "cells": [
  {
   "cell_type": "code",
   "execution_count": 1,
   "metadata": {},
   "outputs": [],
   "source": [
    "import os\n",
    "import numpy as np\n",
    "import matplotlib.pyplot as pl\n",
    "import pandas as pd\n",
    "from astropy.time import Time\n",
    "from astropy import units as u\n",
    "from astropy.coordinates import SkyCoord\n",
    "from astropy import constants as con\n",
    "from tqdm import tqdm"
   ]
  },
  {
   "cell_type": "code",
   "execution_count": 13,
   "metadata": {},
   "outputs": [
    {
     "data": {
      "text/html": [
       "<div>\n",
       "<style scoped>\n",
       "    .dataframe tbody tr th:only-of-type {\n",
       "        vertical-align: middle;\n",
       "    }\n",
       "\n",
       "    .dataframe tbody tr th {\n",
       "        vertical-align: top;\n",
       "    }\n",
       "\n",
       "    .dataframe thead th {\n",
       "        text-align: right;\n",
       "    }\n",
       "</style>\n",
       "<table border=\"1\" class=\"dataframe\">\n",
       "  <thead>\n",
       "    <tr style=\"text-align: right;\">\n",
       "      <th></th>\n",
       "      <th>bjd</th>\n",
       "      <th>rv</th>\n",
       "      <th>rv_err</th>\n",
       "    </tr>\n",
       "  </thead>\n",
       "  <tbody>\n",
       "    <tr>\n",
       "      <th>1</th>\n",
       "      <td>2.459488e+06</td>\n",
       "      <td>-0.029687</td>\n",
       "      <td>0.01424</td>\n",
       "    </tr>\n",
       "    <tr>\n",
       "      <th>2</th>\n",
       "      <td>2.459508e+06</td>\n",
       "      <td>0.068336</td>\n",
       "      <td>0.01874</td>\n",
       "    </tr>\n",
       "    <tr>\n",
       "      <th>3</th>\n",
       "      <td>2.459508e+06</td>\n",
       "      <td>0.061334</td>\n",
       "      <td>0.01405</td>\n",
       "    </tr>\n",
       "    <tr>\n",
       "      <th>4</th>\n",
       "      <td>2.459510e+06</td>\n",
       "      <td>0.105841</td>\n",
       "      <td>0.01895</td>\n",
       "    </tr>\n",
       "    <tr>\n",
       "      <th>5</th>\n",
       "      <td>2.459510e+06</td>\n",
       "      <td>0.045615</td>\n",
       "      <td>0.01487</td>\n",
       "    </tr>\n",
       "    <tr>\n",
       "      <th>6</th>\n",
       "      <td>2.459515e+06</td>\n",
       "      <td>-0.019704</td>\n",
       "      <td>0.01701</td>\n",
       "    </tr>\n",
       "    <tr>\n",
       "      <th>7</th>\n",
       "      <td>2.459515e+06</td>\n",
       "      <td>0.000000</td>\n",
       "      <td>0.01431</td>\n",
       "    </tr>\n",
       "    <tr>\n",
       "      <th>8</th>\n",
       "      <td>2.459531e+06</td>\n",
       "      <td>-0.046459</td>\n",
       "      <td>0.01720</td>\n",
       "    </tr>\n",
       "  </tbody>\n",
       "</table>\n",
       "</div>"
      ],
      "text/plain": [
       "            bjd        rv   rv_err\n",
       "1  2.459488e+06 -0.029687  0.01424\n",
       "2  2.459508e+06  0.068336  0.01874\n",
       "3  2.459508e+06  0.061334  0.01405\n",
       "4  2.459510e+06  0.105841  0.01895\n",
       "5  2.459510e+06  0.045615  0.01487\n",
       "6  2.459515e+06 -0.019704  0.01701\n",
       "7  2.459515e+06  0.000000  0.01431\n",
       "8  2.459531e+06 -0.046459  0.01720"
      ]
     },
     "execution_count": 13,
     "metadata": {},
     "output_type": "execute_result"
    }
   ],
   "source": [
    "df_h=pd.read_csv('../data/rv/TOI1696_rv_h_new.dat', sep=',')[1:]\n",
    "df_yj=pd.read_csv('../data/rv/TOI1696_rv_yj_new.dat', sep=',')[1:]\n",
    "df_yj"
   ]
  },
  {
   "cell_type": "code",
   "execution_count": 14,
   "metadata": {},
   "outputs": [
    {
     "data": {
      "text/plain": [
       "0.04714023349565296"
      ]
     },
     "execution_count": 14,
     "metadata": {},
     "output_type": "execute_result"
    }
   ],
   "source": [
    "np.std(df_h['rv'])*"
   ]
  },
  {
   "cell_type": "code",
   "execution_count": 16,
   "metadata": {},
   "outputs": [
    {
     "data": {
      "text/plain": [
       "0.05105367114860615"
      ]
     },
     "execution_count": 16,
     "metadata": {},
     "output_type": "execute_result"
    }
   ],
   "source": [
    "np.std(df_yj['rv'])"
   ]
  },
  {
   "cell_type": "code",
   "execution_count": null,
   "metadata": {},
   "outputs": [],
   "source": []
  },
  {
   "cell_type": "code",
   "execution_count": null,
   "metadata": {},
   "outputs": [],
   "source": []
  },
  {
   "cell_type": "code",
   "execution_count": 3,
   "metadata": {},
   "outputs": [],
   "source": [
    "df = df_yj"
   ]
  },
  {
   "cell_type": "code",
   "execution_count": 4,
   "metadata": {},
   "outputs": [
    {
     "data": {
      "text/plain": [
       "[<matplotlib.lines.Line2D at 0x7fcd6339ce80>]"
      ]
     },
     "execution_count": 4,
     "metadata": {},
     "output_type": "execute_result"
    },
    {
     "data": {
      "image/png": "[encoded data removed]",
      "text/plain": [
       "<Figure size 432x288 with 1 Axes>"
      ]
     },
     "metadata": {
      "needs_background": "light"
     },
     "output_type": "display_data"
    }
   ],
   "source": [
    "pl.plot(df['bjd'],df['rv'], '.')"
   ]
  },
  {
   "cell_type": "code",
   "execution_count": 5,
   "metadata": {},
   "outputs": [],
   "source": [
    "T0 = 2458834.2011\n",
    "P = 2.5003 #day\n",
    "#Ms = 0.261#solar mass\n",
    "#Mp = 68 #earth mass, tentative\n",
    "\n",
    "#a_rs = (0.023 * con.au/ (0.268 * con.R_sun)).value\n",
    "\n",
    "#b = 0.49\n",
    "#inc = np.arccos(b / a_rs)#rad"
   ]
  },
  {
   "cell_type": "code",
   "execution_count": 6,
   "metadata": {},
   "outputs": [],
   "source": [
    "def rv_model_K(K, t0, p, tm):  \n",
    "    rv = -K* np.sin(2 * np.pi / p * (tm-t0))\n",
    "    return rv\n",
    "def rv_model_K_phase(K, ph):\n",
    "    rv = -K*np.sin(ph*np.pi*2)\n",
    "    return rv"
   ]
  },
  {
   "cell_type": "code",
   "execution_count": 7,
   "metadata": {},
   "outputs": [],
   "source": [
    "# 横軸phaseでplotするために\n",
    "\n",
    "def phase(OBS_JD, T0, P):\n",
    "    n = np.floor((OBS_JD-T0)/P)\n",
    "    tr_before = T0 + n * P             #the JD of the last transit (phase=0) before the observation\n",
    "    ph = (OBS_JD - tr_before)/P\n",
    "    return ph"
   ]
  },
  {
   "cell_type": "code",
   "execution_count": 8,
   "metadata": {},
   "outputs": [
    {
     "data": {
      "text/plain": [
       "[<matplotlib.lines.Line2D at 0x7fcd63283970>]"
      ]
     },
     "execution_count": 8,
     "metadata": {},
     "output_type": "execute_result"
    },
    {
     "data": {
      "image/png": "[encoded data removed]",
      "text/plain": [
       "<Figure size 432x288 with 1 Axes>"
      ]
     },
     "metadata": {
      "needs_background": "light"
     },
     "output_type": "display_data"
    }
   ],
   "source": [
    "phase_obs = phase(df['bjd'], T0, P)\n",
    "phase_pr = np.linspace(0,1,10000)\n",
    "\n",
    "pl.plot(phase_obs, df['rv'], '.')\n",
    "pl.plot(phase_pr, rv_model_K_phase(0.08, phase_pr), '-')"
   ]
  },
  {
   "cell_type": "code",
   "execution_count": 9,
   "metadata": {},
   "outputs": [
    {
     "data": {
      "text/plain": [
       "[<matplotlib.lines.Line2D at 0x7fcd6326ca90>]"
      ]
     },
     "execution_count": 9,
     "metadata": {},
     "output_type": "execute_result"
    },
    {
     "data": {
      "image/png": "[encoded data removed]",
      "text/plain": [
       "<Figure size 432x288 with 1 Axes>"
      ]
     },
     "metadata": {
      "needs_background": "light"
     },
     "output_type": "display_data"
    }
   ],
   "source": [
    "pl.plot(phase_obs, df['rv'], '.')\n",
    "pl.plot(phase_obs, rv_model_K_phase(0.08, phase_obs), '.')\n",
    "pl.plot(phase_pr, rv_model_K_phase(0.08, phase_pr), '-')"
   ]
  },
  {
   "cell_type": "code",
   "execution_count": 10,
   "metadata": {},
   "outputs": [
    {
     "data": {
      "text/html": [
       "<div>\n",
       "<style scoped>\n",
       "    .dataframe tbody tr th:only-of-type {\n",
       "        vertical-align: middle;\n",
       "    }\n",
       "\n",
       "    .dataframe tbody tr th {\n",
       "        vertical-align: top;\n",
       "    }\n",
       "\n",
       "    .dataframe thead th {\n",
       "        text-align: right;\n",
       "    }\n",
       "</style>\n",
       "<table border=\"1\" class=\"dataframe\">\n",
       "  <thead>\n",
       "    <tr style=\"text-align: right;\">\n",
       "      <th></th>\n",
       "      <th>phase</th>\n",
       "      <th>rv_obs</th>\n",
       "      <th>rv_model</th>\n",
       "    </tr>\n",
       "  </thead>\n",
       "  <tbody>\n",
       "    <tr>\n",
       "      <th>1</th>\n",
       "      <td>0.468565</td>\n",
       "      <td>-0.029687</td>\n",
       "      <td>-0.015699</td>\n",
       "    </tr>\n",
       "    <tr>\n",
       "      <th>2</th>\n",
       "      <td>0.452044</td>\n",
       "      <td>0.068336</td>\n",
       "      <td>-0.023742</td>\n",
       "    </tr>\n",
       "    <tr>\n",
       "      <th>3</th>\n",
       "      <td>0.512003</td>\n",
       "      <td>0.061334</td>\n",
       "      <td>0.006027</td>\n",
       "    </tr>\n",
       "    <tr>\n",
       "      <th>4</th>\n",
       "      <td>0.241942</td>\n",
       "      <td>0.105841</td>\n",
       "      <td>-0.079897</td>\n",
       "    </tr>\n",
       "    <tr>\n",
       "      <th>5</th>\n",
       "      <td>0.310048</td>\n",
       "      <td>0.045615</td>\n",
       "      <td>-0.074373</td>\n",
       "    </tr>\n",
       "    <tr>\n",
       "      <th>6</th>\n",
       "      <td>0.253989</td>\n",
       "      <td>-0.019704</td>\n",
       "      <td>-0.079975</td>\n",
       "    </tr>\n",
       "    <tr>\n",
       "      <th>7</th>\n",
       "      <td>0.333323</td>\n",
       "      <td>0.000000</td>\n",
       "      <td>-0.069285</td>\n",
       "    </tr>\n",
       "    <tr>\n",
       "      <th>8</th>\n",
       "      <td>0.621247</td>\n",
       "      <td>-0.046459</td>\n",
       "      <td>0.055219</td>\n",
       "    </tr>\n",
       "  </tbody>\n",
       "</table>\n",
       "</div>"
      ],
      "text/plain": [
       "      phase    rv_obs  rv_model\n",
       "1  0.468565 -0.029687 -0.015699\n",
       "2  0.452044  0.068336 -0.023742\n",
       "3  0.512003  0.061334  0.006027\n",
       "4  0.241942  0.105841 -0.079897\n",
       "5  0.310048  0.045615 -0.074373\n",
       "6  0.253989 -0.019704 -0.079975\n",
       "7  0.333323  0.000000 -0.069285\n",
       "8  0.621247 -0.046459  0.055219"
      ]
     },
     "execution_count": 10,
     "metadata": {},
     "output_type": "execute_result"
    }
   ],
   "source": [
    "pd.DataFrame({'phase':phase_obs, 'rv_obs':df['rv'], 'rv_model':rv_model_K_phase(0.08, phase_obs)})"
   ]
  },
  {
   "cell_type": "code",
   "execution_count": 11,
   "metadata": {},
   "outputs": [],
   "source": [
    "def logprob(K):\n",
    "    rv_o = df['rv']\n",
    "    rv_e = df['rv_err']\n",
    "    rv_m = rv_model_K_phase(K, phase_obs)\n",
    "    \n",
    "    return -0.5 * np.sum(((rv_o - rv_m)/rv_e)**2)"
   ]
  },
  {
   "cell_type": "code",
   "execution_count": 12,
   "metadata": {},
   "outputs": [
    {
     "name": "stderr",
     "output_type": "stream",
     "text": [
      "100%|██████████| 1000/1000 [01:02<00:00, 16.40it/s]\n"
     ]
    },
    {
     "data": {
      "text/plain": [
       "State([[-0.02540408]\n",
       " [-0.02344816]\n",
       " [-0.03342809]\n",
       " [-0.03059407]\n",
       " [-0.03196959]\n",
       " [-0.01654594]\n",
       " [-0.03682775]\n",
       " [-0.02245153]\n",
       " [-0.04472589]\n",
       " [-0.03285478]\n",
       " [-0.0308526 ]\n",
       " [-0.03702332]\n",
       " [-0.04639085]\n",
       " [-0.0427667 ]\n",
       " [-0.04432539]\n",
       " [-0.03576773]\n",
       " [-0.02727201]\n",
       " [-0.03186029]\n",
       " [-0.02318532]\n",
       " [-0.0355552 ]\n",
       " [-0.02511179]\n",
       " [-0.03962838]\n",
       " [-0.03559028]\n",
       " [-0.03799476]\n",
       " [-0.0263018 ]\n",
       " [-0.03571851]\n",
       " [-0.03071607]\n",
       " [-0.03217671]\n",
       " [-0.0307531 ]\n",
       " [-0.02657644]\n",
       " [-0.03791211]\n",
       " [-0.02850859]\n",
       " [-0.03965809]\n",
       " [-0.02334534]\n",
       " [-0.03678752]\n",
       " [-0.02709058]\n",
       " [-0.03297558]\n",
       " [-0.03571958]\n",
       " [-0.03923064]\n",
       " [-0.03928866]\n",
       " [-0.03061084]\n",
       " [-0.03656458]\n",
       " [-0.03446604]\n",
       " [-0.03087806]\n",
       " [-0.02939547]\n",
       " [-0.03903686]\n",
       " [-0.03573312]\n",
       " [-0.02804024]\n",
       " [-0.04297807]\n",
       " [-0.03506277]\n",
       " [-0.0255284 ]\n",
       " [-0.0295641 ]\n",
       " [-0.01817554]\n",
       " [-0.02915174]\n",
       " [-0.03240401]\n",
       " [-0.03851304]\n",
       " [-0.03356188]\n",
       " [-0.0373157 ]\n",
       " [-0.02892989]\n",
       " [-0.02491647]\n",
       " [-0.03879171]\n",
       " [-0.03132058]\n",
       " [-0.03597251]\n",
       " [-0.01734755]\n",
       " [-0.03605916]\n",
       " [-0.0230325 ]\n",
       " [-0.03396884]\n",
       " [-0.03843349]\n",
       " [-0.02965188]\n",
       " [-0.02066407]\n",
       " [-0.03915318]\n",
       " [-0.02877869]\n",
       " [-0.04075777]\n",
       " [-0.03786905]\n",
       " [-0.02726276]\n",
       " [-0.02145556]\n",
       " [-0.0336487 ]\n",
       " [-0.01704545]\n",
       " [-0.02769057]\n",
       " [-0.04455001]\n",
       " [-0.03387828]\n",
       " [-0.03966878]\n",
       " [-0.04106151]\n",
       " [-0.01926495]\n",
       " [-0.02775878]\n",
       " [-0.03610089]\n",
       " [-0.03416287]\n",
       " [-0.03374877]\n",
       " [-0.03700535]\n",
       " [-0.04428017]\n",
       " [-0.02794147]\n",
       " [-0.03487246]\n",
       " [-0.03039305]\n",
       " [-0.04102829]\n",
       " [-0.03713611]\n",
       " [-0.0405301 ]\n",
       " [-0.04322248]\n",
       " [-0.02592108]\n",
       " [-0.0233475 ]\n",
       " [-0.03025446]], log_prob=[-34.58008547 -34.8619593  -34.05966296 -34.12666466 -34.07821277\n",
       " -36.34220799 -34.14758671 -35.02895464 -35.06048159 -34.06292434\n",
       " -34.11526489 -34.15822844 -35.37936967 -34.74162883 -34.99034482\n",
       " -34.10047659 -34.36761488 -34.08096363 -34.90446932 -34.09317895\n",
       " -34.6183459  -34.3579192  -34.09433416 -34.22009144 -34.47105565\n",
       " -34.09872269 -34.12115303 -34.07352025 -34.11952655 -34.44025761\n",
       " -34.21424458 -34.25744551 -34.36081798 -34.87845853 -34.14547289\n",
       " -34.38582181 -34.06180307 -34.09876045 -34.32045875 -34.32576629\n",
       " -34.12589329 -34.13422536 -34.06703974 -34.11419989 -34.1933872\n",
       " -34.3031176  -34.09923925 -34.29631409 -34.77309451 -34.07902729\n",
       " -34.56422273 -34.18262056 -35.92448865 -34.20974697 -34.06915453\n",
       " -34.2592277  -34.05965316 -34.17527123 -34.22545781 -34.6446707\n",
       " -34.28203461 -34.09732923 -34.10818683 -36.13145996 -34.11164986\n",
       " -34.92969039 -34.061371   -34.25294371 -34.17719537 -35.36798346\n",
       " -34.31345484 -34.23661365 -34.47798646 -34.21124135 -34.36853093\n",
       " -35.21160193 -34.0597989  -36.20968657 -34.3276054  -35.02936718\n",
       " -34.06076118 -34.36186464 -34.51373559 -35.66876258 -34.32134933\n",
       " -34.1133601  -34.06311607 -34.0601154  -34.15722547 -34.98258467\n",
       " -34.30495588 -34.07459003 -34.13626231 -34.50975418 -34.16464183\n",
       " -34.45215233 -34.81036379 -34.51573134 -34.87811013 -34.14325321], blobs=None, random_state=('MT19937', array([3604265789, 1492056081, 2730834260,  542137893, 2780058454,\n",
       "       3954613526,  600022102,  235952657, 1039667738, 2642653563,\n",
       "       2570471413, 2962900005, 4174498152, 1937560545,   82871635,\n",
       "       3350344856, 2040559369, 2142572342, 1168542969,  162155417,\n",
       "       1860105486, 3350511643, 4194234769, 2323845142, 1297180678,\n",
       "       1050133901, 4100973455, 1223986872, 2958926718, 2406406810,\n",
       "       2063072907,  984141750,  988778786,  904423312, 2279335786,\n",
       "       1343054764, 2018656030,  768719033, 1609653695, 3150070819,\n",
       "       2883079938, 2687931298, 3897481674, 3718683204, 3409773536,\n",
       "       4144459450, 3055417675,  579944135, 3931413656, 2930733001,\n",
       "        400064972, 3677613896, 1342966190, 2482464928, 3468468466,\n",
       "       2364046668,  869299701, 2012610842, 1855134277,  173704944,\n",
       "       1385507957, 2999412740, 1247501149, 2060489137,  953289699,\n",
       "        395647391,  697033939, 1072309093, 1220072862,   25602798,\n",
       "       3549670586, 2047203141, 3286490048, 2054982162, 3100648297,\n",
       "       1762191048, 2219368719, 4108233476, 4152947050, 2297989751,\n",
       "       2368956221, 1143530452, 1762569341, 4122390711, 2738662970,\n",
       "       3191104739,  260598210, 3172266911, 4144673552, 1548250561,\n",
       "       2703558984,  110961193,  461685057, 3070316946, 1244424823,\n",
       "       1392991360, 2594202304, 1715623496, 3694646568, 3624403037,\n",
       "       2988961800, 2141054959, 4256408637,   66754873, 1880087009,\n",
       "        408993853,  275694451, 1522183613,  355997047, 1227387397,\n",
       "       2559595997, 2428669050, 3474158951, 1485600608, 2559668651,\n",
       "       3308872511, 1985708284, 1464532863, 2836101306, 3302085967,\n",
       "       3679693494,  962226588, 2598502451, 3771852204,  330717993,\n",
       "       1715374645, 2082648355,  829205104,  370428085, 2258761037,\n",
       "       2375784812, 1015522434, 1679013463, 3730298504,  345357879,\n",
       "       3280224691, 1641524486, 2943167427,  481926038, 1918823865,\n",
       "       2466028281, 2562420745, 1644365646, 3107181545, 2633057537,\n",
       "       1254617367,  786076191, 3737903722, 4140172883, 1504854749,\n",
       "       2066030932, 4114620884, 2447232751,  867868731, 4009529047,\n",
       "       3002939874, 2337091213, 2048780069, 1135945858, 3237549031,\n",
       "       1510712719, 2279464990, 2759197275, 1092097880,  697543433,\n",
       "       1154382214,  903581661,  496093686, 1429651956, 3401232277,\n",
       "       2278556423,  811554011, 2474509900,  718769916, 2415422388,\n",
       "         94994578, 2420184652, 4121591921, 1410084809,  613926286,\n",
       "       4254270144, 2236503039, 1279004615, 3045556102, 1549388579,\n",
       "       2651139098,  129014889, 4256754208, 2221827960, 2429338325,\n",
       "       2611312109, 3336394754, 2745140703, 1659942964, 3212290866,\n",
       "       1027757469, 3209152378,  254662839, 1864603102, 1467483660,\n",
       "       1249049777, 1478218835, 3714601047, 1092791259, 3659668426,\n",
       "       2596884259, 1915963433, 2353489068,  794933631,  467741162,\n",
       "       2299109462, 3757075896, 1026712698, 1681254326, 2572847418,\n",
       "       3163618463, 4152387133, 2386913269, 1302892325, 1692039803,\n",
       "       3787851403, 1056262815, 4120528170, 2908048276, 1674154822,\n",
       "       4248756906, 3161102852, 2893094234, 2817012728, 3929196423,\n",
       "        496655744, 1535971573, 2391129163,  863161706,  815162810,\n",
       "        413225234, 3495896759, 1114369601, 2808975115, 3249701429,\n",
       "       2002848135, 1104926050, 1230551016,  779393840,   29296165,\n",
       "       2916683161, 2067485180,  358634659,  746941181, 2075436011,\n",
       "        390254977,  861960183,  464249862, 1140143965,  397899700,\n",
       "        146923430, 1535006559, 1183262317,  707197865, 3866927581,\n",
       "       3409015528,  518118277, 3365445383, 2057758823, 2555759993,\n",
       "       3997369259, 1493107042, 1990894106, 1075571648,  402300061,\n",
       "       2039661591, 3073308032, 3580769111, 3360205091,   10392843,\n",
       "       2482363980, 2368012556, 4260835357, 3346002538, 4231592689,\n",
       "        979134357,  904682037,  575313895,  324858428,  835383311,\n",
       "       3474510147, 2695225090, 3772760066,  130017202, 2974803857,\n",
       "       1295494928, 1699913304, 3665788809, 2066671158, 4151248700,\n",
       "        469461775, 2991096252, 2820058192,  788655191, 3916487194,\n",
       "        806233790,  833277264, 3323737049, 3267328678, 2768411095,\n",
       "       4073905849, 1778092703,  647585226, 1549264646, 1313462720,\n",
       "       3231682503, 1977817430,  197011980, 4246949626, 4054979949,\n",
       "       1535841359, 3143632403,  772491567, 3444242641, 1141654956,\n",
       "        492342224, 1063922315,  252926796, 2330910957, 1765552526,\n",
       "       2132819703,  814570173, 1735552766, 3434762502, 2580287278,\n",
       "       3315561427, 3724450037, 2124218384, 2902847263,  580405546,\n",
       "       1745071239,  208708005,   86711696, 1351519543,  268953727,\n",
       "       3268539795, 3778278152, 1352478356, 3318820176, 1744295083,\n",
       "       2524499938, 1089586822, 1955012311, 3067521506, 2431833757,\n",
       "        959158028, 3218342538, 2525112361, 2901901697, 1088101571,\n",
       "       1096200385, 3917527815, 3572128668, 3958678846, 3842510570,\n",
       "       2485166421, 3017736305, 3823623723,  666159294,  286545897,\n",
       "       3435282046, 1138145809, 1600516200,  212385122,  569164132,\n",
       "        889687507, 2445823456, 1612518294, 3964870395, 2628077176,\n",
       "       2541498787, 2823911267, 1373289126, 3764116715,  778947421,\n",
       "       1706536350, 2061384494, 1885762270, 1124220897, 4035105067,\n",
       "       1196112913, 1350446282, 2803428984, 3081878879, 1802705203,\n",
       "        253679404, 1254131128, 4013928100, 1301536581, 1408338815,\n",
       "       3959372987,  343930789, 2342360573, 1033575934,  622127907,\n",
       "       3348229778, 2858248524,  658998410, 1871984984,  187794195,\n",
       "       1769737784, 3843320012, 1990269083,  607307819, 2626838143,\n",
       "       4236114807, 1745898548,  247222967,  487042234,  859662601,\n",
       "        634153618, 3024705325,  626296064, 3711756430, 3361551882,\n",
       "       3354373821, 2229650565, 2067540022, 1530936623,  111181066,\n",
       "       2792669548, 3402334368, 3327556532, 1453663374,  939389524,\n",
       "       4252309909, 4144601385, 3021975178, 3435909944,  960782972,\n",
       "       1232442319, 4251987390,  658313828, 2886451303, 3426448850,\n",
       "        164321158,  237481580, 4253053288, 1894051182,  299949765,\n",
       "       2722360305,  913632063, 1254771361, 2239914209, 2189834507,\n",
       "       2650495649, 2454655952, 1408231371, 1940118089, 3410022034,\n",
       "        675621950, 3638300189,    5121341, 2229360402, 1754277916,\n",
       "       4214713471, 3737444419, 3527981615, 3045235900, 3752073011,\n",
       "       2286427928, 2216606225, 3817283281, 1723385301,  526873570,\n",
       "       3864220729, 2358168786,  886436040,  487807010, 2617121581,\n",
       "       1604660133, 1464943580,  311038342,  205435574, 3269958676,\n",
       "        215060036, 1554933218, 1189924001, 2829689870, 3785553389,\n",
       "        749563716,  565268667, 2124396915, 2428810887, 1769551253,\n",
       "       1474975100, 3305526755,   32119929,  446551164,  217788043,\n",
       "       2981694745, 3562151000, 1944768219, 1816569670, 1395855345,\n",
       "        912036918, 2392214812, 3531199281,  316651024, 1053293033,\n",
       "        400922874, 3241260867, 1111517765, 2889101900, 1500885457,\n",
       "       2733043474, 3116188469, 2635427495,  670547180,  769892011,\n",
       "       3083465260, 1645951310, 3573103004, 1377824163, 1599192037,\n",
       "         75609607, 2430714984, 3738985519, 2347326198,  323393496,\n",
       "       3692950432, 2915274229, 1444833591, 3200489807, 4109228348,\n",
       "       3593983911, 2642419695, 4283605312, 3359640682, 4014696098,\n",
       "        440565625, 2663118751,  354195350,  573680321, 1374968535,\n",
       "       1483118588, 1397778229, 1896525565, 1255566272, 3201066768,\n",
       "       3265540332,   69618081, 2993235010, 3959014082, 3239252030,\n",
       "       2283559444, 3897636016, 2863581544, 1226185371,  713862867,\n",
       "       2553847092,   46773991, 1425678286,  897013646,  909451627,\n",
       "       3732335421, 1987299859, 4007376782, 3822080796,   70066503,\n",
       "       4293575023, 1173451693, 3722872604,  192841640,   40941141,\n",
       "       3946382733, 1867196643,  403699028, 2057914733,  768778598,\n",
       "       4036486094,  402000363,  285025533, 1068242534, 1525827633,\n",
       "       3205809983, 2282281237,  600923731, 3381923942, 1761319405,\n",
       "        201162589,  506944433,  720092272, 3171794894, 4218508754,\n",
       "        826289078, 1953154088, 2221293707, 3657431639,  830201804,\n",
       "       3696882253, 1375467093, 3761540163, 3680740503, 1093214678,\n",
       "       1481091935, 4114106673, 3058303509, 4180205435, 1299301737,\n",
       "        174964791,  770288444, 3810381844, 2159314942, 2149309297,\n",
       "       1847101214,  569318686, 3386875052, 3169748631, 1755800654,\n",
       "       1177076125, 3326334408, 2249499962, 1330819893,  388006368,\n",
       "       1689358053,  720502138, 3561208416, 3860667108], dtype=uint32), 294, 0, 0.0))"
      ]
     },
     "execution_count": 12,
     "metadata": {},
     "output_type": "execute_result"
    }
   ],
   "source": [
    "import emcee\n",
    "\n",
    "K=[0.05]\n",
    "\n",
    "dim = 1\n",
    "nwalkers = 100\n",
    "nsteps=1000\n",
    "pos0 = [K + 1e-4 * np.random.randn(dim) for i in range(nwalkers)]\n",
    "\n",
    "sampler = emcee.EnsembleSampler(nwalkers, dim, logprob)\n",
    "sampler.run_mcmc(pos0, nsteps, progress=True)"
   ]
  },
  {
   "cell_type": "markdown",
   "metadata": {},
   "source": [
    "how to add jitter term?"
   ]
  },
  {
   "cell_type": "code",
   "execution_count": 51,
   "metadata": {},
   "outputs": [
    {
     "data": {
      "text/plain": [
       "(100, 1000, 1)"
      ]
     },
     "execution_count": 51,
     "metadata": {},
     "output_type": "execute_result"
    }
   ],
   "source": [
    "sampler.chain[:,:].shape"
   ]
  },
  {
   "cell_type": "code",
   "execution_count": 52,
   "metadata": {},
   "outputs": [
    {
     "data": {
      "text/plain": [
       "[<matplotlib.lines.Line2D at 0x7fb927884340>,\n",
       " <matplotlib.lines.Line2D at 0x7fb9278843a0>,\n",
       " <matplotlib.lines.Line2D at 0x7fb927884460>,\n",
       " <matplotlib.lines.Line2D at 0x7fb927884520>,\n",
       " <matplotlib.lines.Line2D at 0x7fb9278845e0>,\n",
       " <matplotlib.lines.Line2D at 0x7fb9278846a0>,\n",
       " <matplotlib.lines.Line2D at 0x7fb927884760>,\n",
       " <matplotlib.lines.Line2D at 0x7fb927884820>,\n",
       " <matplotlib.lines.Line2D at 0x7fb9278848e0>,\n",
       " <matplotlib.lines.Line2D at 0x7fb9278849a0>,\n",
       " <matplotlib.lines.Line2D at 0x7fb927884a60>,\n",
       " <matplotlib.lines.Line2D at 0x7fb927884b20>,\n",
       " <matplotlib.lines.Line2D at 0x7fb927884be0>,\n",
       " <matplotlib.lines.Line2D at 0x7fb927884ca0>,\n",
       " <matplotlib.lines.Line2D at 0x7fb927884d60>,\n",
       " <matplotlib.lines.Line2D at 0x7fb927884e20>,\n",
       " <matplotlib.lines.Line2D at 0x7fb927884ee0>,\n",
       " <matplotlib.lines.Line2D at 0x7fb927884fa0>,\n",
       " <matplotlib.lines.Line2D at 0x7fb92788b0a0>,\n",
       " <matplotlib.lines.Line2D at 0x7fb92788b160>,\n",
       " <matplotlib.lines.Line2D at 0x7fb92788b220>,\n",
       " <matplotlib.lines.Line2D at 0x7fb92788b2e0>,\n",
       " <matplotlib.lines.Line2D at 0x7fb92788b3a0>,\n",
       " <matplotlib.lines.Line2D at 0x7fb92788b460>,\n",
       " <matplotlib.lines.Line2D at 0x7fb92788b520>,\n",
       " <matplotlib.lines.Line2D at 0x7fb92788b5e0>,\n",
       " <matplotlib.lines.Line2D at 0x7fb92788b6a0>,\n",
       " <matplotlib.lines.Line2D at 0x7fb92788b760>,\n",
       " <matplotlib.lines.Line2D at 0x7fb92788b820>,\n",
       " <matplotlib.lines.Line2D at 0x7fb92788b8e0>,\n",
       " <matplotlib.lines.Line2D at 0x7fb92788b9a0>,\n",
       " <matplotlib.lines.Line2D at 0x7fb92788ba60>,\n",
       " <matplotlib.lines.Line2D at 0x7fb92788bb20>,\n",
       " <matplotlib.lines.Line2D at 0x7fb92788bbe0>,\n",
       " <matplotlib.lines.Line2D at 0x7fb92788bca0>,\n",
       " <matplotlib.lines.Line2D at 0x7fb92788bd60>,\n",
       " <matplotlib.lines.Line2D at 0x7fb92788be20>,\n",
       " <matplotlib.lines.Line2D at 0x7fb92788bee0>,\n",
       " <matplotlib.lines.Line2D at 0x7fb92788bfa0>,\n",
       " <matplotlib.lines.Line2D at 0x7fb9278900a0>,\n",
       " <matplotlib.lines.Line2D at 0x7fb927890160>,\n",
       " <matplotlib.lines.Line2D at 0x7fb927890220>,\n",
       " <matplotlib.lines.Line2D at 0x7fb9278902e0>,\n",
       " <matplotlib.lines.Line2D at 0x7fb9278903a0>,\n",
       " <matplotlib.lines.Line2D at 0x7fb927890460>,\n",
       " <matplotlib.lines.Line2D at 0x7fb927890520>,\n",
       " <matplotlib.lines.Line2D at 0x7fb9278905e0>,\n",
       " <matplotlib.lines.Line2D at 0x7fb9278906a0>,\n",
       " <matplotlib.lines.Line2D at 0x7fb927890760>,\n",
       " <matplotlib.lines.Line2D at 0x7fb927890820>,\n",
       " <matplotlib.lines.Line2D at 0x7fb9278908e0>,\n",
       " <matplotlib.lines.Line2D at 0x7fb9278909a0>,\n",
       " <matplotlib.lines.Line2D at 0x7fb927890a60>,\n",
       " <matplotlib.lines.Line2D at 0x7fb927890b20>,\n",
       " <matplotlib.lines.Line2D at 0x7fb927890be0>,\n",
       " <matplotlib.lines.Line2D at 0x7fb927890ca0>,\n",
       " <matplotlib.lines.Line2D at 0x7fb927890d60>,\n",
       " <matplotlib.lines.Line2D at 0x7fb927890e20>,\n",
       " <matplotlib.lines.Line2D at 0x7fb927890ee0>,\n",
       " <matplotlib.lines.Line2D at 0x7fb927890fa0>,\n",
       " <matplotlib.lines.Line2D at 0x7fb9278960a0>,\n",
       " <matplotlib.lines.Line2D at 0x7fb927896160>,\n",
       " <matplotlib.lines.Line2D at 0x7fb927896220>,\n",
       " <matplotlib.lines.Line2D at 0x7fb9278962e0>,\n",
       " <matplotlib.lines.Line2D at 0x7fb9278963a0>,\n",
       " <matplotlib.lines.Line2D at 0x7fb927896460>,\n",
       " <matplotlib.lines.Line2D at 0x7fb927896520>,\n",
       " <matplotlib.lines.Line2D at 0x7fb9278965e0>,\n",
       " <matplotlib.lines.Line2D at 0x7fb9278966a0>,\n",
       " <matplotlib.lines.Line2D at 0x7fb927896760>,\n",
       " <matplotlib.lines.Line2D at 0x7fb927896820>,\n",
       " <matplotlib.lines.Line2D at 0x7fb9278968e0>,\n",
       " <matplotlib.lines.Line2D at 0x7fb9278969a0>,\n",
       " <matplotlib.lines.Line2D at 0x7fb927896a60>,\n",
       " <matplotlib.lines.Line2D at 0x7fb927896b20>,\n",
       " <matplotlib.lines.Line2D at 0x7fb927896be0>,\n",
       " <matplotlib.lines.Line2D at 0x7fb927896ca0>,\n",
       " <matplotlib.lines.Line2D at 0x7fb927896d60>,\n",
       " <matplotlib.lines.Line2D at 0x7fb927896e20>,\n",
       " <matplotlib.lines.Line2D at 0x7fb927896ee0>,\n",
       " <matplotlib.lines.Line2D at 0x7fb927896fa0>,\n",
       " <matplotlib.lines.Line2D at 0x7fb92789c0a0>,\n",
       " <matplotlib.lines.Line2D at 0x7fb92789c160>,\n",
       " <matplotlib.lines.Line2D at 0x7fb92789c220>,\n",
       " <matplotlib.lines.Line2D at 0x7fb92789c2e0>,\n",
       " <matplotlib.lines.Line2D at 0x7fb92789c3a0>,\n",
       " <matplotlib.lines.Line2D at 0x7fb92789c460>,\n",
       " <matplotlib.lines.Line2D at 0x7fb92789c520>,\n",
       " <matplotlib.lines.Line2D at 0x7fb92789c5e0>,\n",
       " <matplotlib.lines.Line2D at 0x7fb92789c6a0>,\n",
       " <matplotlib.lines.Line2D at 0x7fb92789c760>,\n",
       " <matplotlib.lines.Line2D at 0x7fb92789c820>,\n",
       " <matplotlib.lines.Line2D at 0x7fb92789c8e0>,\n",
       " <matplotlib.lines.Line2D at 0x7fb92789c9a0>,\n",
       " <matplotlib.lines.Line2D at 0x7fb92789ca60>,\n",
       " <matplotlib.lines.Line2D at 0x7fb92789cb20>,\n",
       " <matplotlib.lines.Line2D at 0x7fb92789cbe0>,\n",
       " <matplotlib.lines.Line2D at 0x7fb92789cca0>,\n",
       " <matplotlib.lines.Line2D at 0x7fb92789cd60>,\n",
       " <matplotlib.lines.Line2D at 0x7fb92789ce20>]"
      ]
     },
     "execution_count": 52,
     "metadata": {},
     "output_type": "execute_result"
    },
    {
     "data": {
      "image/png": "[encoded data removed]",
      "text/plain": [
       "<Figure size 432x288 with 1 Axes>"
      ]
     },
     "metadata": {
      "needs_background": "light"
     },
     "output_type": "display_data"
    }
   ],
   "source": [
    "pl.plot(sampler.chain[:,:,0].T, color='k', alpha=0.1)"
   ]
  },
  {
   "cell_type": "code",
   "execution_count": 53,
   "metadata": {},
   "outputs": [
    {
     "data": {
      "text/plain": [
       "(array([2.000e+00, 4.000e+00, 2.000e+00, 6.000e+00, 7.000e+00, 1.200e+01,\n",
       "        3.500e+01, 6.700e+01, 1.220e+02, 1.970e+02, 2.970e+02, 4.210e+02,\n",
       "        6.040e+02, 8.140e+02, 1.158e+03, 1.590e+03, 1.900e+03, 2.495e+03,\n",
       "        2.780e+03, 3.474e+03, 3.886e+03, 4.398e+03, 4.865e+03, 5.295e+03,\n",
       "        5.593e+03, 5.386e+03, 5.233e+03, 4.907e+03, 4.657e+03, 4.034e+03,\n",
       "        3.586e+03, 2.920e+03, 2.477e+03, 1.820e+03, 1.438e+03, 1.068e+03,\n",
       "        8.470e+02, 5.910e+02, 4.020e+02, 2.570e+02, 1.380e+02, 9.100e+01,\n",
       "        5.900e+01, 2.600e+01, 2.700e+01, 4.000e+00, 5.000e+00, 2.000e+00,\n",
       "        0.000e+00, 1.000e+00]),\n",
       " array([-0.00055539,  0.0007993 ,  0.00215398,  0.00350866,  0.00486334,\n",
       "         0.00621802,  0.00757271,  0.00892739,  0.01028207,  0.01163675,\n",
       "         0.01299143,  0.01434612,  0.0157008 ,  0.01705548,  0.01841016,\n",
       "         0.01976485,  0.02111953,  0.02247421,  0.02382889,  0.02518357,\n",
       "         0.02653826,  0.02789294,  0.02924762,  0.0306023 ,  0.03195698,\n",
       "         0.03331167,  0.03466635,  0.03602103,  0.03737571,  0.03873039,\n",
       "         0.04008508,  0.04143976,  0.04279444,  0.04414912,  0.0455038 ,\n",
       "         0.04685849,  0.04821317,  0.04956785,  0.05092253,  0.05227721,\n",
       "         0.0536319 ,  0.05498658,  0.05634126,  0.05769594,  0.05905062,\n",
       "         0.06040531,  0.06175999,  0.06311467,  0.06446935,  0.06582403,\n",
       "         0.06717872]),\n",
       " <BarContainer object of 50 artists>)"
      ]
     },
     "execution_count": 53,
     "metadata": {},
     "output_type": "execute_result"
    },
    {
     "data": {
      "image/png": "[encoded data removed]",
      "text/plain": [
       "<Figure size 432x288 with 1 Axes>"
      ]
     },
     "metadata": {
      "needs_background": "light"
     },
     "output_type": "display_data"
    }
   ],
   "source": [
    "samples=sampler.chain[:,200:, :].reshape(-1)\n",
    "df_chain= pd.DataFrame(samples)\n",
    "pl.hist(samples, bins=50)"
   ]
  },
  {
   "cell_type": "code",
   "execution_count": 54,
   "metadata": {},
   "outputs": [
    {
     "name": "stdout",
     "output_type": "stream",
     "text": [
      "0.03330654255130501 0.008014834149377034 0.015808392810092418\n"
     ]
    }
   ],
   "source": [
    "A,B,C,D,E=np.percentile(df_chain[0], [ 2.5, 16, 50, 84, 97.5], axis=0)\n",
    "del1l =C-B   #1sigma\n",
    "del1h=D-C\n",
    "del2l=C-A   #2sigma\n",
    "del2h=E-C \n",
    "\n",
    "best_K = C\n",
    "best_K_err1=max(del1l,del1h)\n",
    "best_K_err2=max(del2l,del2h)\n",
    "\n",
    "print(best_K, best_K_err1, best_K_err2)"
   ]
  },
  {
   "cell_type": "markdown",
   "metadata": {},
   "source": [
    "収束判定まだしてないよ！"
   ]
  },
  {
   "cell_type": "code",
   "execution_count": 55,
   "metadata": {},
   "outputs": [
    {
     "data": {
      "text/plain": [
       "<matplotlib.collections.PolyCollection at 0x7fb927651a00>"
      ]
     },
     "execution_count": 55,
     "metadata": {},
     "output_type": "execute_result"
    },
    {
     "data": {
      "image/png": "[encoded data removed]",
      "text/plain": [
       "<Figure size 432x288 with 1 Axes>"
      ]
     },
     "metadata": {
      "needs_background": "light"
     },
     "output_type": "display_data"
    }
   ],
   "source": [
    "fig, ax = pl.subplots()\n",
    "\n",
    "ax.plot(phase_obs, df['rv'], '.')\n",
    "\n",
    "ax.plot(phase_pr, rv_model_K_phase(best_K, phase_pr), '-', color='k')\n",
    "\n",
    "y1 = rv_model_K_phase(best_K+best_K_err1, phase_pr)\n",
    "y2 = rv_model_K_phase(best_K-best_K_err1, phase_pr)\n",
    "\n",
    "ax.fill_between(phase_pr, y1, y2, color='k', alpha=0.2)"
   ]
  },
  {
   "cell_type": "code",
   "execution_count": null,
   "metadata": {},
   "outputs": [],
   "source": []
  }
 ],
 "metadata": {
  "kernelspec": {
   "display_name": "Python 3",
   "language": "python",
   "name": "python3"
  },
  "language_info": {
   "codemirror_mode": {
    "name": "ipython",
    "version": 3
   },
   "file_extension": ".py",
   "mimetype": "text/x-python",
   "name": "python",
   "nbconvert_exporter": "python",
   "pygments_lexer": "ipython3",
   "version": "3.8.5"
  }
 },
 "nbformat": 4,
 "nbformat_minor": 4
}
