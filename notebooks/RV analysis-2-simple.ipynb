{
 "cells": [
  {
   "cell_type": "code",
   "execution_count": 35,
   "metadata": {},
   "outputs": [],
   "source": [
    "import os\n",
    "import numpy as np\n",
    "import matplotlib.pyplot as pl\n",
    "import pandas as pd\n",
    "from astropy.time import Time\n",
    "from astropy import units as u\n",
    "from astropy.coordinates import SkyCoord\n",
    "from astropy import constants as con\n",
    "from tqdm import tqdm"
   ]
  },
  {
   "cell_type": "code",
   "execution_count": 40,
   "metadata": {},
   "outputs": [
    {
     "data": {
      "text/html": [
       "<div>\n",
       "<style scoped>\n",
       "    .dataframe tbody tr th:only-of-type {\n",
       "        vertical-align: middle;\n",
       "    }\n",
       "\n",
       "    .dataframe tbody tr th {\n",
       "        vertical-align: top;\n",
       "    }\n",
       "\n",
       "    .dataframe thead th {\n",
       "        text-align: right;\n",
       "    }\n",
       "</style>\n",
       "<table border=\"1\" class=\"dataframe\">\n",
       "  <thead>\n",
       "    <tr style=\"text-align: right;\">\n",
       "      <th></th>\n",
       "      <th>bjd</th>\n",
       "      <th>rv</th>\n",
       "      <th>rv_err</th>\n",
       "    </tr>\n",
       "  </thead>\n",
       "  <tbody>\n",
       "    <tr>\n",
       "      <th>1</th>\n",
       "      <td>2.459488e+06</td>\n",
       "      <td>-0.029687</td>\n",
       "      <td>0.01424</td>\n",
       "    </tr>\n",
       "    <tr>\n",
       "      <th>2</th>\n",
       "      <td>2.459508e+06</td>\n",
       "      <td>0.068336</td>\n",
       "      <td>0.01874</td>\n",
       "    </tr>\n",
       "    <tr>\n",
       "      <th>3</th>\n",
       "      <td>2.459508e+06</td>\n",
       "      <td>0.061334</td>\n",
       "      <td>0.01405</td>\n",
       "    </tr>\n",
       "    <tr>\n",
       "      <th>4</th>\n",
       "      <td>2.459510e+06</td>\n",
       "      <td>0.105841</td>\n",
       "      <td>0.01895</td>\n",
       "    </tr>\n",
       "    <tr>\n",
       "      <th>5</th>\n",
       "      <td>2.459510e+06</td>\n",
       "      <td>0.045615</td>\n",
       "      <td>0.01487</td>\n",
       "    </tr>\n",
       "    <tr>\n",
       "      <th>6</th>\n",
       "      <td>2.459515e+06</td>\n",
       "      <td>-0.019704</td>\n",
       "      <td>0.01701</td>\n",
       "    </tr>\n",
       "    <tr>\n",
       "      <th>7</th>\n",
       "      <td>2.459515e+06</td>\n",
       "      <td>0.000000</td>\n",
       "      <td>0.01431</td>\n",
       "    </tr>\n",
       "    <tr>\n",
       "      <th>8</th>\n",
       "      <td>2.459531e+06</td>\n",
       "      <td>-0.046459</td>\n",
       "      <td>0.01720</td>\n",
       "    </tr>\n",
       "  </tbody>\n",
       "</table>\n",
       "</div>"
      ],
      "text/plain": [
       "            bjd        rv   rv_err\n",
       "1  2.459488e+06 -0.029687  0.01424\n",
       "2  2.459508e+06  0.068336  0.01874\n",
       "3  2.459508e+06  0.061334  0.01405\n",
       "4  2.459510e+06  0.105841  0.01895\n",
       "5  2.459510e+06  0.045615  0.01487\n",
       "6  2.459515e+06 -0.019704  0.01701\n",
       "7  2.459515e+06  0.000000  0.01431\n",
       "8  2.459531e+06 -0.046459  0.01720"
      ]
     },
     "execution_count": 40,
     "metadata": {},
     "output_type": "execute_result"
    }
   ],
   "source": [
    "df_h=pd.read_csv('../data/rv/TOI1696_rv_h_new.dat', sep=',')[1:]\n",
    "df_yj=pd.read_csv('../data/rv/TOI1696_rv_yj_new.dat', sep=',')[1:]\n",
    "df_yj"
   ]
  },
  {
   "cell_type": "code",
   "execution_count": 41,
   "metadata": {},
   "outputs": [],
   "source": [
    "df = df_yj"
   ]
  },
  {
   "cell_type": "code",
   "execution_count": 42,
   "metadata": {},
   "outputs": [
    {
     "data": {
      "text/plain": [
       "[<matplotlib.lines.Line2D at 0x7fb9279e35b0>]"
      ]
     },
     "execution_count": 42,
     "metadata": {},
     "output_type": "execute_result"
    },
    {
     "data": {
      "image/png": "[encoded data removed]",
      "text/plain": [
       "<Figure size 432x288 with 1 Axes>"
      ]
     },
     "metadata": {
      "needs_background": "light"
     },
     "output_type": "display_data"
    }
   ],
   "source": [
    "pl.plot(df['bjd'],df['rv'], '.')"
   ]
  },
  {
   "cell_type": "code",
   "execution_count": 43,
   "metadata": {},
   "outputs": [],
   "source": [
    "T0 = 2458834.2011\n",
    "P = 2.5003 #day\n",
    "#Ms = 0.261#solar mass\n",
    "#Mp = 68 #earth mass, tentative\n",
    "\n",
    "#a_rs = (0.023 * con.au/ (0.268 * con.R_sun)).value\n",
    "\n",
    "#b = 0.49\n",
    "#inc = np.arccos(b / a_rs)#rad"
   ]
  },
  {
   "cell_type": "code",
   "execution_count": 44,
   "metadata": {},
   "outputs": [],
   "source": [
    "def rv_model_K(K, t0, p, tm):  \n",
    "    rv = K* np.sin(2 * np.pi / p * (tm-t0))\n",
    "    return rv\n",
    "def rv_model_K_phase(K, ph):\n",
    "    rv = K*np.sin(ph*np.pi*2)\n",
    "    return rv"
   ]
  },
  {
   "cell_type": "code",
   "execution_count": 45,
   "metadata": {},
   "outputs": [],
   "source": [
    "# 横軸phaseでplotするために\n",
    "\n",
    "def phase(OBS_JD, T0, P):\n",
    "    n = np.floor((OBS_JD-T0)/P)\n",
    "    tr_before = T0 + n * P             #the JD of the last transit (phase=0) before the observation\n",
    "    ph = (OBS_JD - tr_before)/P\n",
    "    return ph"
   ]
  },
  {
   "cell_type": "code",
   "execution_count": 46,
   "metadata": {},
   "outputs": [
    {
     "data": {
      "text/plain": [
       "[<matplotlib.lines.Line2D at 0x7fb9279bcac0>]"
      ]
     },
     "execution_count": 46,
     "metadata": {},
     "output_type": "execute_result"
    },
    {
     "data": {
      "image/png": "[encoded data removed]",
      "text/plain": [
       "<Figure size 432x288 with 1 Axes>"
      ]
     },
     "metadata": {
      "needs_background": "light"
     },
     "output_type": "display_data"
    }
   ],
   "source": [
    "phase_obs = phase(df['bjd'], T0, P)\n",
    "phase_pr = np.linspace(0,1,10000)\n",
    "\n",
    "pl.plot(phase_obs, df['rv'], '.')\n",
    "pl.plot(phase_pr, rv_model_K_phase(0.08, phase_pr), '-')"
   ]
  },
  {
   "cell_type": "code",
   "execution_count": 47,
   "metadata": {},
   "outputs": [
    {
     "data": {
      "text/plain": [
       "[<matplotlib.lines.Line2D at 0x7fb9279223a0>]"
      ]
     },
     "execution_count": 47,
     "metadata": {},
     "output_type": "execute_result"
    },
    {
     "data": {
      "image/png": "[encoded data removed]",
      "text/plain": [
       "<Figure size 432x288 with 1 Axes>"
      ]
     },
     "metadata": {
      "needs_background": "light"
     },
     "output_type": "display_data"
    }
   ],
   "source": [
    "pl.plot(phase_obs, df['rv'], '.')\n",
    "pl.plot(phase_obs, rv_model_K_phase(0.08, phase_obs), '.')\n",
    "pl.plot(phase_pr, rv_model_K_phase(0.08, phase_pr), '-')"
   ]
  },
  {
   "cell_type": "code",
   "execution_count": 48,
   "metadata": {},
   "outputs": [
    {
     "data": {
      "text/html": [
       "<div>\n",
       "<style scoped>\n",
       "    .dataframe tbody tr th:only-of-type {\n",
       "        vertical-align: middle;\n",
       "    }\n",
       "\n",
       "    .dataframe tbody tr th {\n",
       "        vertical-align: top;\n",
       "    }\n",
       "\n",
       "    .dataframe thead th {\n",
       "        text-align: right;\n",
       "    }\n",
       "</style>\n",
       "<table border=\"1\" class=\"dataframe\">\n",
       "  <thead>\n",
       "    <tr style=\"text-align: right;\">\n",
       "      <th></th>\n",
       "      <th>phase</th>\n",
       "      <th>rv_obs</th>\n",
       "      <th>rv_model</th>\n",
       "    </tr>\n",
       "  </thead>\n",
       "  <tbody>\n",
       "    <tr>\n",
       "      <th>1</th>\n",
       "      <td>0.468565</td>\n",
       "      <td>-0.029687</td>\n",
       "      <td>0.015699</td>\n",
       "    </tr>\n",
       "    <tr>\n",
       "      <th>2</th>\n",
       "      <td>0.452044</td>\n",
       "      <td>0.068336</td>\n",
       "      <td>0.023742</td>\n",
       "    </tr>\n",
       "    <tr>\n",
       "      <th>3</th>\n",
       "      <td>0.512003</td>\n",
       "      <td>0.061334</td>\n",
       "      <td>-0.006027</td>\n",
       "    </tr>\n",
       "    <tr>\n",
       "      <th>4</th>\n",
       "      <td>0.241942</td>\n",
       "      <td>0.105841</td>\n",
       "      <td>0.079897</td>\n",
       "    </tr>\n",
       "    <tr>\n",
       "      <th>5</th>\n",
       "      <td>0.310048</td>\n",
       "      <td>0.045615</td>\n",
       "      <td>0.074373</td>\n",
       "    </tr>\n",
       "    <tr>\n",
       "      <th>6</th>\n",
       "      <td>0.253989</td>\n",
       "      <td>-0.019704</td>\n",
       "      <td>0.079975</td>\n",
       "    </tr>\n",
       "    <tr>\n",
       "      <th>7</th>\n",
       "      <td>0.333323</td>\n",
       "      <td>0.000000</td>\n",
       "      <td>0.069285</td>\n",
       "    </tr>\n",
       "    <tr>\n",
       "      <th>8</th>\n",
       "      <td>0.621247</td>\n",
       "      <td>-0.046459</td>\n",
       "      <td>-0.055219</td>\n",
       "    </tr>\n",
       "  </tbody>\n",
       "</table>\n",
       "</div>"
      ],
      "text/plain": [
       "      phase    rv_obs  rv_model\n",
       "1  0.468565 -0.029687  0.015699\n",
       "2  0.452044  0.068336  0.023742\n",
       "3  0.512003  0.061334 -0.006027\n",
       "4  0.241942  0.105841  0.079897\n",
       "5  0.310048  0.045615  0.074373\n",
       "6  0.253989 -0.019704  0.079975\n",
       "7  0.333323  0.000000  0.069285\n",
       "8  0.621247 -0.046459 -0.055219"
      ]
     },
     "execution_count": 48,
     "metadata": {},
     "output_type": "execute_result"
    }
   ],
   "source": [
    "pd.DataFrame({'phase':phase_obs, 'rv_obs':df['rv'], 'rv_model':rv_model_K_phase(0.08, phase_obs)})"
   ]
  },
  {
   "cell_type": "code",
   "execution_count": 49,
   "metadata": {},
   "outputs": [],
   "source": [
    "def logprob(K):\n",
    "    rv_o = df['rv']\n",
    "    rv_e = df['rv_err']\n",
    "    rv_m = rv_model_K_phase(K, phase_obs)\n",
    "    \n",
    "    return -0.5 * np.sum(((rv_o - rv_m)/rv_e)**2)"
   ]
  },
  {
   "cell_type": "code",
   "execution_count": 50,
   "metadata": {},
   "outputs": [
    {
     "name": "stderr",
     "output_type": "stream",
     "text": [
      "100%|██████████| 1000/1000 [01:31<00:00,  9.80it/s]\n"
     ]
    },
    {
     "data": {
      "text/plain": [
       "State([[0.02134745]\n",
       " [0.03901063]\n",
       " [0.03801081]\n",
       " [0.03427952]\n",
       " [0.02940515]\n",
       " [0.04557347]\n",
       " [0.03681656]\n",
       " [0.02911041]\n",
       " [0.02890091]\n",
       " [0.02530149]\n",
       " [0.02444472]\n",
       " [0.03116291]\n",
       " [0.04985341]\n",
       " [0.02856178]\n",
       " [0.0454314 ]\n",
       " [0.0330619 ]\n",
       " [0.03664749]\n",
       " [0.03556853]\n",
       " [0.02747653]\n",
       " [0.02440665]\n",
       " [0.02661569]\n",
       " [0.04425386]\n",
       " [0.03639134]\n",
       " [0.02126319]\n",
       " [0.02735924]\n",
       " [0.03757646]\n",
       " [0.03650089]\n",
       " [0.03896318]\n",
       " [0.03826339]\n",
       " [0.02699734]\n",
       " [0.02083133]\n",
       " [0.03198611]\n",
       " [0.02319116]\n",
       " [0.03005305]\n",
       " [0.03773479]\n",
       " [0.03308677]\n",
       " [0.02946275]\n",
       " [0.03968305]\n",
       " [0.03072956]\n",
       " [0.02142027]\n",
       " [0.03636645]\n",
       " [0.03378983]\n",
       " [0.03975107]\n",
       " [0.03242189]\n",
       " [0.03813489]\n",
       " [0.0314879 ]\n",
       " [0.02874268]\n",
       " [0.04429338]\n",
       " [0.01404674]\n",
       " [0.04082989]\n",
       " [0.03830427]\n",
       " [0.01187835]\n",
       " [0.02446578]\n",
       " [0.0415459 ]\n",
       " [0.03558394]\n",
       " [0.03165113]\n",
       " [0.02957876]\n",
       " [0.03574179]\n",
       " [0.02507207]\n",
       " [0.02278327]\n",
       " [0.0387235 ]\n",
       " [0.02189534]\n",
       " [0.02858372]\n",
       " [0.02704789]\n",
       " [0.03018094]\n",
       " [0.04148235]\n",
       " [0.00960166]\n",
       " [0.03188943]\n",
       " [0.02543037]\n",
       " [0.02265062]\n",
       " [0.02846348]\n",
       " [0.04162516]\n",
       " [0.03901085]\n",
       " [0.04349932]\n",
       " [0.02748542]\n",
       " [0.02169826]\n",
       " [0.03260621]\n",
       " [0.03219769]\n",
       " [0.03064596]\n",
       " [0.04762099]\n",
       " [0.02188716]\n",
       " [0.02983158]\n",
       " [0.02464381]\n",
       " [0.03244587]\n",
       " [0.02899334]\n",
       " [0.03502364]\n",
       " [0.04327359]\n",
       " [0.03364572]\n",
       " [0.03933766]\n",
       " [0.0472012 ]\n",
       " [0.03268554]\n",
       " [0.02668572]\n",
       " [0.04133616]\n",
       " [0.02122933]\n",
       " [0.0493207 ]\n",
       " [0.03099619]\n",
       " [0.03038611]\n",
       " [0.0202478 ]\n",
       " [0.04005465]\n",
       " [0.02403118]], log_prob=[-35.2323742  -34.30081652 -34.22123959 -34.06445301 -34.19275718\n",
       " -35.21731534 -34.14699629 -34.21261452 -34.22756809 -34.5933592\n",
       " -34.71074852 -34.10298354 -36.18354438 -34.25325174 -35.19023193\n",
       " -34.06114379 -34.13831626 -34.09361576 -34.34771786 -34.71623652\n",
       " -34.43595323 -34.9780846  -34.12603036 -35.24869535 -34.35904732\n",
       " -34.19161584 -34.13115687 -34.29668113 -34.2398433  -34.39538221\n",
       " -35.33410779 -34.07781351 -34.90351237 -34.15395639 -34.20206699\n",
       " -34.06097579 -34.18903774 -34.36326489 -34.12055805 -35.21836179\n",
       " -34.12489202 -34.0602913  -34.36998155 -34.06884599 -34.23025207\n",
       " -34.09176071 -34.23932373 -34.98484842 -37.06477894 -34.48634197\n",
       " -34.24294999 -37.77208341 -34.70772407 -34.57377618 -34.09412376\n",
       " -34.08675697 -34.18170632 -34.0995475  -34.62365058 -34.97161656\n",
       " -34.27633796 -35.12901081 -34.25153489 -34.39018217 -34.14708539\n",
       " -34.56568651 -38.59507989 -34.08021165 -34.5767108  -34.99433491\n",
       " -34.26103774 -34.5839555  -34.30083565 -34.85372389 -34.34686797\n",
       " -35.1656423  -34.06596073 -34.0730829  -34.12429184 -35.64325911\n",
       " -35.13051854 -34.16646977 -34.68243089 -34.06844005 -34.22088443\n",
       " -34.07806807 -34.81827677 -34.0597919  -34.33029086 -35.55050319\n",
       " -34.06488507 -34.42833569 -34.54732114 -35.25528524 -36.04742869\n",
       " -34.10939186 -34.13660546 -35.45422258 -34.40085712 -34.77158126], blobs=None, random_state=('MT19937', array([2612240348, 1486662461, 1965528314,  630071687, 1679955626,\n",
       "       3373565231,  488899371, 3016965845, 3883227559, 3726763442,\n",
       "       1761700828, 1459356356, 3779309409,  634822930, 2758307134,\n",
       "       3537187359, 1555724956, 3615944227, 4240466211, 4245855630,\n",
       "       1614242619, 2096556429,  429131713, 2020076209, 2702518231,\n",
       "       1330319440, 1371873334, 4157475550, 1193722367, 3000723292,\n",
       "        900202582, 2401758059, 4246729256, 3537470237, 3646874778,\n",
       "       2177362773, 2663567902, 3093140892, 1947357297,  715520644,\n",
       "       3407404377,  803211708, 2542069509, 3090197790, 1455718301,\n",
       "       3149606885, 3809167027,  497913532, 1081289433, 3113831518,\n",
       "       1410523060, 3966263801, 1627234557, 1746252989, 1816922199,\n",
       "       3396268966, 1163569119, 3225244379, 1487211767, 3128886766,\n",
       "       2911485753, 2190058655, 3853822434, 3841714308,  613491487,\n",
       "       3834868428, 3533220939,  985968673, 2129874636, 1967676598,\n",
       "       3431750012,  926473685, 3647480514, 1251658702, 2675580979,\n",
       "       1110661326, 3343896355, 2269648569, 1420445213, 4035540238,\n",
       "       1234583811, 3328899243, 4068264973,  794136844,  546325639,\n",
       "       1965070851, 2748150959, 1421665430, 1682710956, 1190832608,\n",
       "       1847906668,  381054821,  720856999, 3355657208, 1213155370,\n",
       "       1012388832, 2080856977, 2403870429,  268959122, 1964694695,\n",
       "       2184621142, 3132633300, 1809125652, 2414025710, 2786280793,\n",
       "       3234673214,  900202048, 2875508815, 2424025484, 3883254995,\n",
       "         95426855, 2450044675, 1167238885, 2210287186, 2608291000,\n",
       "       4046144074, 2816869472,  884320221, 4220648926,   11291598,\n",
       "       1843122401,  301252613, 2131617383, 1865732919, 1652016286,\n",
       "       1493641255, 2702794776, 2530947511, 3347976815, 2917298345,\n",
       "       2810475722, 4127766829, 1715470206,  781252460, 1663749285,\n",
       "       3303396592,  623395533,  134440675, 3490827682, 2775084395,\n",
       "       4144207088, 3292191892,  738727490, 4138244416, 2580295404,\n",
       "       2571316091,  856669289, 3216186203, 4001177944, 2545035404,\n",
       "       1514092850,  625461116, 2414315478, 3415230068, 3675916034,\n",
       "       2032773437,  556339904, 2085389188, 2887918985, 3350965235,\n",
       "       3733328668,  961764038, 1175315428, 3508874554, 1320981294,\n",
       "       1624655498, 1170766435, 2565104371, 3866748543, 1368165398,\n",
       "       2979896964,  582598445, 2853303603, 2335106735, 3160324576,\n",
       "       4193754683, 1845830858, 1505345421, 1124952788, 3623417202,\n",
       "       4194650678, 3984043042, 2248898060, 2497090831, 1066093564,\n",
       "       4096365876, 3142680940,  529735320, 4064582692, 1660951173,\n",
       "        267080760,  837639468, 2207360219, 1539384703, 3234565420,\n",
       "       1307704095, 2118364481, 1032003605, 1572953022,  585550967,\n",
       "       3921159458, 4084308695, 1993486256,  255141777,  973872709,\n",
       "        820316276, 2449029904, 3805316217, 3165006482, 2699908976,\n",
       "       1755497766, 1793038130, 4018220524,  537023906, 2145062457,\n",
       "       1887858678,   40005572,  284460024, 2134961480, 1196841515,\n",
       "       2182511526,  546656379, 3348961980, 2231465013, 3265324505,\n",
       "       3255569606, 4284618774, 1484492644, 3480183343, 4121368546,\n",
       "       1492931138, 3857682179, 1458754340, 3666832040, 1334160651,\n",
       "       4031582265, 1477715356, 3152787938, 3648434517,  839006585,\n",
       "       2485086004,  915021155,  888447587, 3804906853, 3020672333,\n",
       "       4064294491,  161812694, 2104700046, 2787720328, 1745228407,\n",
       "        670638699, 3375715269,  925806344,  949969318, 4113257017,\n",
       "       3138326451, 3385368959, 3648199698, 1688942112, 1258326147,\n",
       "       1686690031, 1960728142, 3487152167,   68540212, 2543769789,\n",
       "       1812258020, 1769599278, 3478278244,  271057240, 2619432610,\n",
       "       3571123933, 1301775179, 4181892865, 3656713780,  431994344,\n",
       "       1618093024, 3937236868, 3527107868,  213461440,  139633635,\n",
       "       2597442408,  716274171,  536034115, 3597953249, 2496581992,\n",
       "       3982924299, 4169178396, 1408218180,   80030942, 1088472450,\n",
       "       3690196455, 4139079231,  520567425, 2761520724, 3752880485,\n",
       "       3603842439, 1927029383, 3461775494, 1686637801,  720782397,\n",
       "       1450060380,  587478344, 3099550940,   18422406, 2100996741,\n",
       "        984977433, 1043108632, 4125795687, 2904890737, 3316269014,\n",
       "        503957837,  522065638, 3062890000, 1180862788, 4211103213,\n",
       "       1525261854,   11151258, 1672274584,  714967299,  996062616,\n",
       "       3548025056, 4045249377, 1433125486, 2994938605, 1874016743,\n",
       "       1089413300,  501224471,  508034386, 3957345425, 3004816122,\n",
       "       1760865507,  896064099, 1731504187, 1685826857, 1913552528,\n",
       "       2052856285,  381601552, 3269944407, 2389827970, 2146063413,\n",
       "       1134685515, 4148300495,  652813624,  300295838, 1780698811,\n",
       "       1661287294, 1946553547, 1081514591, 4050932231, 1392442589,\n",
       "        428320465, 3447317983, 3002436416,  766376192, 3362690447,\n",
       "       2747527372, 3862488250,  674812112, 2892746868, 1290326581,\n",
       "       2798272632, 3426888332, 3223452978,  257913303, 1007594856,\n",
       "       3449777456, 3091854519,   79952636,  484716863, 4134081607,\n",
       "       2103587598,  730038713,  829811309, 2905637091, 3377982066,\n",
       "       2379892864, 2159452615, 1062331394, 1629076275, 3291549752,\n",
       "       3537588624, 2610488343, 4204526234, 2598113862, 3304347571,\n",
       "        416701256, 3877780763, 2412755600,  583305682, 3626132675,\n",
       "       1445880174, 3473141463,  226986201, 2967256364, 2486639561,\n",
       "       2561048934, 1185838786, 2089800631, 1585687699, 1814608370,\n",
       "       1725509786,  408149443, 3467886607, 2608851676, 1673719017,\n",
       "        154287903, 3472598739, 2843508278, 4125415195, 3537059077,\n",
       "       2528052131,  300145164, 3222976695, 3661363064, 3697250507,\n",
       "       1677486108, 1763728501, 3745784231, 2448935795,  659721557,\n",
       "        400500351,  634479501, 1033517931, 3815371134, 2639872267,\n",
       "       3475974591, 3940690825, 3408790021, 4073788150, 4224597987,\n",
       "       2940949986, 3226714727, 1474267796, 1948554287, 2404228976,\n",
       "       2323715729,  596946342, 2878875508, 4120855120, 2762450999,\n",
       "        502402382, 1355116274, 3914747490, 2776121612, 1135262957,\n",
       "        681489336,  685721761, 2193125254, 2078504640, 3305420235,\n",
       "       3441248434, 3382362576, 3295038948, 4265921098, 2933574025,\n",
       "       2422759609,   15929965, 4113299420, 2636037000,  319965369,\n",
       "       2455335332, 1283691485, 1686427590, 1756222532,  174168985,\n",
       "       1357388340, 1978059932, 4050878085, 1615015183,  997219327,\n",
       "       3233768489, 1430230784, 3437354889, 3311831888, 3263296394,\n",
       "       1865891051, 1857340331, 1483528615, 2256590077, 1335726986,\n",
       "        957182514, 1676583591, 2090453638,  439228062, 2420242714,\n",
       "        650148702, 4123512580, 3375956136, 1377626185, 3841694861,\n",
       "       1344030849, 4140065584,   17968544, 1134796991, 2398166251,\n",
       "       1336832887,  148497299,  828563748, 2800947383,  254722458,\n",
       "         66060668, 2048355283,  165927948,  852632679, 3627773100,\n",
       "       4060754416, 3506063580, 2649197685, 2134998125, 2715259317,\n",
       "       1637939650, 3447331199, 2109931319, 3493996860,  708524277,\n",
       "        968006821, 2039638090,  120469476, 1688136186, 3298679648,\n",
       "        560534608, 3073151506, 2234997726,  892660205,  403407823,\n",
       "       2317305172, 2588224847, 1589282770,  755523007, 1974994633,\n",
       "        523958224, 1331932575, 4054185361, 2018324078, 1058622642,\n",
       "       2488027042, 2771810297, 4158619500,  457404134, 3012445833,\n",
       "       2897718776, 3483677606,  799264829, 2353459648, 1090535089,\n",
       "       3548343402, 2482683576, 3025940857, 3373520063, 1039424753,\n",
       "       3384936333, 1608165077, 3734217006, 1056512116,  977290931,\n",
       "       4059794790, 3200057234,  622577810, 1538736505, 1511308040,\n",
       "       3729760184, 3411193588, 1761463889, 4126156243, 3292325348,\n",
       "        986466774,  813921051, 3685627569, 3529721115, 3223367670,\n",
       "       2305361626, 3791033483,  322323543, 4073802988, 2245275244,\n",
       "       4286289903,  200142220, 1212017935, 1498482731, 2735057513,\n",
       "       3013183034, 1701323365,  535407711, 1827921016, 3151424517,\n",
       "        742425081, 1358000765, 3693841997,  442218856, 1286752799,\n",
       "       1398770491, 2016931491,  312318032, 3646426478, 3920312113,\n",
       "       2839411187,  711030255, 1728139900,  611217349, 2579395564,\n",
       "       1048503012, 2107106541,  818643523, 3517679032, 2952912559,\n",
       "       3369232915, 4254443028, 2007748459, 1867229892, 1230842423,\n",
       "       1859249969,  335804103, 1997292589, 1966613824,  526468375,\n",
       "       2651055652, 3315309565, 2539397775, 2502360070,  944459807,\n",
       "        433007599, 2265642057, 3292697521, 1266137388], dtype=uint32), 94, 0, 0.0))"
      ]
     },
     "execution_count": 50,
     "metadata": {},
     "output_type": "execute_result"
    }
   ],
   "source": [
    "import emcee\n",
    "\n",
    "K=[0.05]\n",
    "\n",
    "dim = 1\n",
    "nwalkers = 100\n",
    "nsteps=1000\n",
    "pos0 = [K + 1e-4 * np.random.randn(dim) for i in range(nwalkers)]\n",
    "\n",
    "sampler = emcee.EnsembleSampler(nwalkers, dim, logprob)\n",
    "sampler.run_mcmc(pos0, nsteps, progress=True)"
   ]
  },
  {
   "cell_type": "markdown",
   "metadata": {},
   "source": [
    "how to add jitter term?"
   ]
  },
  {
   "cell_type": "code",
   "execution_count": 51,
   "metadata": {},
   "outputs": [
    {
     "data": {
      "text/plain": [
       "(100, 1000, 1)"
      ]
     },
     "execution_count": 51,
     "metadata": {},
     "output_type": "execute_result"
    }
   ],
   "source": [
    "sampler.chain[:,:].shape"
   ]
  },
  {
   "cell_type": "code",
   "execution_count": 52,
   "metadata": {},
   "outputs": [
    {
     "data": {
      "text/plain": [
       "[<matplotlib.lines.Line2D at 0x7fb927884340>,\n",
       " <matplotlib.lines.Line2D at 0x7fb9278843a0>,\n",
       " <matplotlib.lines.Line2D at 0x7fb927884460>,\n",
       " <matplotlib.lines.Line2D at 0x7fb927884520>,\n",
       " <matplotlib.lines.Line2D at 0x7fb9278845e0>,\n",
       " <matplotlib.lines.Line2D at 0x7fb9278846a0>,\n",
       " <matplotlib.lines.Line2D at 0x7fb927884760>,\n",
       " <matplotlib.lines.Line2D at 0x7fb927884820>,\n",
       " <matplotlib.lines.Line2D at 0x7fb9278848e0>,\n",
       " <matplotlib.lines.Line2D at 0x7fb9278849a0>,\n",
       " <matplotlib.lines.Line2D at 0x7fb927884a60>,\n",
       " <matplotlib.lines.Line2D at 0x7fb927884b20>,\n",
       " <matplotlib.lines.Line2D at 0x7fb927884be0>,\n",
       " <matplotlib.lines.Line2D at 0x7fb927884ca0>,\n",
       " <matplotlib.lines.Line2D at 0x7fb927884d60>,\n",
       " <matplotlib.lines.Line2D at 0x7fb927884e20>,\n",
       " <matplotlib.lines.Line2D at 0x7fb927884ee0>,\n",
       " <matplotlib.lines.Line2D at 0x7fb927884fa0>,\n",
       " <matplotlib.lines.Line2D at 0x7fb92788b0a0>,\n",
       " <matplotlib.lines.Line2D at 0x7fb92788b160>,\n",
       " <matplotlib.lines.Line2D at 0x7fb92788b220>,\n",
       " <matplotlib.lines.Line2D at 0x7fb92788b2e0>,\n",
       " <matplotlib.lines.Line2D at 0x7fb92788b3a0>,\n",
       " <matplotlib.lines.Line2D at 0x7fb92788b460>,\n",
       " <matplotlib.lines.Line2D at 0x7fb92788b520>,\n",
       " <matplotlib.lines.Line2D at 0x7fb92788b5e0>,\n",
       " <matplotlib.lines.Line2D at 0x7fb92788b6a0>,\n",
       " <matplotlib.lines.Line2D at 0x7fb92788b760>,\n",
       " <matplotlib.lines.Line2D at 0x7fb92788b820>,\n",
       " <matplotlib.lines.Line2D at 0x7fb92788b8e0>,\n",
       " <matplotlib.lines.Line2D at 0x7fb92788b9a0>,\n",
       " <matplotlib.lines.Line2D at 0x7fb92788ba60>,\n",
       " <matplotlib.lines.Line2D at 0x7fb92788bb20>,\n",
       " <matplotlib.lines.Line2D at 0x7fb92788bbe0>,\n",
       " <matplotlib.lines.Line2D at 0x7fb92788bca0>,\n",
       " <matplotlib.lines.Line2D at 0x7fb92788bd60>,\n",
       " <matplotlib.lines.Line2D at 0x7fb92788be20>,\n",
       " <matplotlib.lines.Line2D at 0x7fb92788bee0>,\n",
       " <matplotlib.lines.Line2D at 0x7fb92788bfa0>,\n",
       " <matplotlib.lines.Line2D at 0x7fb9278900a0>,\n",
       " <matplotlib.lines.Line2D at 0x7fb927890160>,\n",
       " <matplotlib.lines.Line2D at 0x7fb927890220>,\n",
       " <matplotlib.lines.Line2D at 0x7fb9278902e0>,\n",
       " <matplotlib.lines.Line2D at 0x7fb9278903a0>,\n",
       " <matplotlib.lines.Line2D at 0x7fb927890460>,\n",
       " <matplotlib.lines.Line2D at 0x7fb927890520>,\n",
       " <matplotlib.lines.Line2D at 0x7fb9278905e0>,\n",
       " <matplotlib.lines.Line2D at 0x7fb9278906a0>,\n",
       " <matplotlib.lines.Line2D at 0x7fb927890760>,\n",
       " <matplotlib.lines.Line2D at 0x7fb927890820>,\n",
       " <matplotlib.lines.Line2D at 0x7fb9278908e0>,\n",
       " <matplotlib.lines.Line2D at 0x7fb9278909a0>,\n",
       " <matplotlib.lines.Line2D at 0x7fb927890a60>,\n",
       " <matplotlib.lines.Line2D at 0x7fb927890b20>,\n",
       " <matplotlib.lines.Line2D at 0x7fb927890be0>,\n",
       " <matplotlib.lines.Line2D at 0x7fb927890ca0>,\n",
       " <matplotlib.lines.Line2D at 0x7fb927890d60>,\n",
       " <matplotlib.lines.Line2D at 0x7fb927890e20>,\n",
       " <matplotlib.lines.Line2D at 0x7fb927890ee0>,\n",
       " <matplotlib.lines.Line2D at 0x7fb927890fa0>,\n",
       " <matplotlib.lines.Line2D at 0x7fb9278960a0>,\n",
       " <matplotlib.lines.Line2D at 0x7fb927896160>,\n",
       " <matplotlib.lines.Line2D at 0x7fb927896220>,\n",
       " <matplotlib.lines.Line2D at 0x7fb9278962e0>,\n",
       " <matplotlib.lines.Line2D at 0x7fb9278963a0>,\n",
       " <matplotlib.lines.Line2D at 0x7fb927896460>,\n",
       " <matplotlib.lines.Line2D at 0x7fb927896520>,\n",
       " <matplotlib.lines.Line2D at 0x7fb9278965e0>,\n",
       " <matplotlib.lines.Line2D at 0x7fb9278966a0>,\n",
       " <matplotlib.lines.Line2D at 0x7fb927896760>,\n",
       " <matplotlib.lines.Line2D at 0x7fb927896820>,\n",
       " <matplotlib.lines.Line2D at 0x7fb9278968e0>,\n",
       " <matplotlib.lines.Line2D at 0x7fb9278969a0>,\n",
       " <matplotlib.lines.Line2D at 0x7fb927896a60>,\n",
       " <matplotlib.lines.Line2D at 0x7fb927896b20>,\n",
       " <matplotlib.lines.Line2D at 0x7fb927896be0>,\n",
       " <matplotlib.lines.Line2D at 0x7fb927896ca0>,\n",
       " <matplotlib.lines.Line2D at 0x7fb927896d60>,\n",
       " <matplotlib.lines.Line2D at 0x7fb927896e20>,\n",
       " <matplotlib.lines.Line2D at 0x7fb927896ee0>,\n",
       " <matplotlib.lines.Line2D at 0x7fb927896fa0>,\n",
       " <matplotlib.lines.Line2D at 0x7fb92789c0a0>,\n",
       " <matplotlib.lines.Line2D at 0x7fb92789c160>,\n",
       " <matplotlib.lines.Line2D at 0x7fb92789c220>,\n",
       " <matplotlib.lines.Line2D at 0x7fb92789c2e0>,\n",
       " <matplotlib.lines.Line2D at 0x7fb92789c3a0>,\n",
       " <matplotlib.lines.Line2D at 0x7fb92789c460>,\n",
       " <matplotlib.lines.Line2D at 0x7fb92789c520>,\n",
       " <matplotlib.lines.Line2D at 0x7fb92789c5e0>,\n",
       " <matplotlib.lines.Line2D at 0x7fb92789c6a0>,\n",
       " <matplotlib.lines.Line2D at 0x7fb92789c760>,\n",
       " <matplotlib.lines.Line2D at 0x7fb92789c820>,\n",
       " <matplotlib.lines.Line2D at 0x7fb92789c8e0>,\n",
       " <matplotlib.lines.Line2D at 0x7fb92789c9a0>,\n",
       " <matplotlib.lines.Line2D at 0x7fb92789ca60>,\n",
       " <matplotlib.lines.Line2D at 0x7fb92789cb20>,\n",
       " <matplotlib.lines.Line2D at 0x7fb92789cbe0>,\n",
       " <matplotlib.lines.Line2D at 0x7fb92789cca0>,\n",
       " <matplotlib.lines.Line2D at 0x7fb92789cd60>,\n",
       " <matplotlib.lines.Line2D at 0x7fb92789ce20>]"
      ]
     },
     "execution_count": 52,
     "metadata": {},
     "output_type": "execute_result"
    },
    {
     "data": {
      "image/png": "[encoded data removed]",
      "text/plain": [
       "<Figure size 432x288 with 1 Axes>"
      ]
     },
     "metadata": {
      "needs_background": "light"
     },
     "output_type": "display_data"
    }
   ],
   "source": [
    "pl.plot(sampler.chain[:,:,0].T, color='k', alpha=0.1)"
   ]
  },
  {
   "cell_type": "code",
   "execution_count": 53,
   "metadata": {},
   "outputs": [
    {
     "data": {
      "text/plain": [
       "(array([2.000e+00, 4.000e+00, 2.000e+00, 6.000e+00, 7.000e+00, 1.200e+01,\n",
       "        3.500e+01, 6.700e+01, 1.220e+02, 1.970e+02, 2.970e+02, 4.210e+02,\n",
       "        6.040e+02, 8.140e+02, 1.158e+03, 1.590e+03, 1.900e+03, 2.495e+03,\n",
       "        2.780e+03, 3.474e+03, 3.886e+03, 4.398e+03, 4.865e+03, 5.295e+03,\n",
       "        5.593e+03, 5.386e+03, 5.233e+03, 4.907e+03, 4.657e+03, 4.034e+03,\n",
       "        3.586e+03, 2.920e+03, 2.477e+03, 1.820e+03, 1.438e+03, 1.068e+03,\n",
       "        8.470e+02, 5.910e+02, 4.020e+02, 2.570e+02, 1.380e+02, 9.100e+01,\n",
       "        5.900e+01, 2.600e+01, 2.700e+01, 4.000e+00, 5.000e+00, 2.000e+00,\n",
       "        0.000e+00, 1.000e+00]),\n",
       " array([-0.00055539,  0.0007993 ,  0.00215398,  0.00350866,  0.00486334,\n",
       "         0.00621802,  0.00757271,  0.00892739,  0.01028207,  0.01163675,\n",
       "         0.01299143,  0.01434612,  0.0157008 ,  0.01705548,  0.01841016,\n",
       "         0.01976485,  0.02111953,  0.02247421,  0.02382889,  0.02518357,\n",
       "         0.02653826,  0.02789294,  0.02924762,  0.0306023 ,  0.03195698,\n",
       "         0.03331167,  0.03466635,  0.03602103,  0.03737571,  0.03873039,\n",
       "         0.04008508,  0.04143976,  0.04279444,  0.04414912,  0.0455038 ,\n",
       "         0.04685849,  0.04821317,  0.04956785,  0.05092253,  0.05227721,\n",
       "         0.0536319 ,  0.05498658,  0.05634126,  0.05769594,  0.05905062,\n",
       "         0.06040531,  0.06175999,  0.06311467,  0.06446935,  0.06582403,\n",
       "         0.06717872]),\n",
       " <BarContainer object of 50 artists>)"
      ]
     },
     "execution_count": 53,
     "metadata": {},
     "output_type": "execute_result"
    },
    {
     "data": {
      "image/png": "[encoded data removed]",
      "text/plain": [
       "<Figure size 432x288 with 1 Axes>"
      ]
     },
     "metadata": {
      "needs_background": "light"
     },
     "output_type": "display_data"
    }
   ],
   "source": [
    "samples=sampler.chain[:,200:, :].reshape(-1)\n",
    "df_chain= pd.DataFrame(samples)\n",
    "pl.hist(samples, bins=50)"
   ]
  },
  {
   "cell_type": "code",
   "execution_count": 54,
   "metadata": {},
   "outputs": [
    {
     "name": "stdout",
     "output_type": "stream",
     "text": [
      "0.03330654255130501 0.008014834149377034 0.015808392810092418\n"
     ]
    }
   ],
   "source": [
    "A,B,C,D,E=np.percentile(df_chain[0], [ 2.5, 16, 50, 84, 97.5], axis=0)\n",
    "del1l =C-B   #1sigma\n",
    "del1h=D-C\n",
    "del2l=C-A   #2sigma\n",
    "del2h=E-C \n",
    "\n",
    "best_K = C\n",
    "best_K_err1=max(del1l,del1h)\n",
    "best_K_err2=max(del2l,del2h)\n",
    "\n",
    "print(best_K, best_K_err1, best_K_err2)"
   ]
  },
  {
   "cell_type": "markdown",
   "metadata": {},
   "source": [
    "収束判定まだしてないよ！"
   ]
  },
  {
   "cell_type": "code",
   "execution_count": 55,
   "metadata": {},
   "outputs": [
    {
     "data": {
      "text/plain": [
       "<matplotlib.collections.PolyCollection at 0x7fb927651a00>"
      ]
     },
     "execution_count": 55,
     "metadata": {},
     "output_type": "execute_result"
    },
    {
     "data": {
      "image/png": "[encoded data removed]",
      "text/plain": [
       "<Figure size 432x288 with 1 Axes>"
      ]
     },
     "metadata": {
      "needs_background": "light"
     },
     "output_type": "display_data"
    }
   ],
   "source": [
    "fig, ax = pl.subplots()\n",
    "\n",
    "ax.plot(phase_obs, df['rv'], '.')\n",
    "\n",
    "ax.plot(phase_pr, rv_model_K_phase(best_K, phase_pr), '-', color='k')\n",
    "\n",
    "y1 = rv_model_K_phase(best_K+best_K_err1, phase_pr)\n",
    "y2 = rv_model_K_phase(best_K-best_K_err1, phase_pr)\n",
    "\n",
    "ax.fill_between(phase_pr, y1, y2, color='k', alpha=0.2)"
   ]
  },
  {
   "cell_type": "code",
   "execution_count": null,
   "metadata": {},
   "outputs": [],
   "source": []
  }
 ],
 "metadata": {
  "kernelspec": {
   "display_name": "Python 3",
   "language": "python",
   "name": "python3"
  },
  "language_info": {
   "codemirror_mode": {
    "name": "ipython",
    "version": 3
   },
   "file_extension": ".py",
   "mimetype": "text/x-python",
   "name": "python",
   "nbconvert_exporter": "python",
   "pygments_lexer": "ipython3",
   "version": "3.8.5"
  }
 },
 "nbformat": 4,
 "nbformat_minor": 4
}
