{
 "cells": [
  {
   "cell_type": "code",
   "execution_count": 1,
   "metadata": {},
   "outputs": [],
   "source": [
    "import os\n",
    "import numpy as np\n",
    "import matplotlib.pyplot as pl\n",
    "import pandas as pd\n",
    "from astropy.time import Time\n",
    "from astropy import units as u\n",
    "from astropy.coordinates import SkyCoord\n",
    "from astropy import constants as con\n",
    "from tqdm import tqdm"
   ]
  },
  {
   "cell_type": "code",
   "execution_count": 2,
   "metadata": {},
   "outputs": [
    {
     "data": {
      "text/html": [
       "<div>\n",
       "<style scoped>\n",
       "    .dataframe tbody tr th:only-of-type {\n",
       "        vertical-align: middle;\n",
       "    }\n",
       "\n",
       "    .dataframe tbody tr th {\n",
       "        vertical-align: top;\n",
       "    }\n",
       "\n",
       "    .dataframe thead th {\n",
       "        text-align: right;\n",
       "    }\n",
       "</style>\n",
       "<table border=\"1\" class=\"dataframe\">\n",
       "  <thead>\n",
       "    <tr style=\"text-align: right;\">\n",
       "      <th></th>\n",
       "      <th>bjd</th>\n",
       "      <th>rv</th>\n",
       "      <th>rv_err</th>\n",
       "    </tr>\n",
       "  </thead>\n",
       "  <tbody>\n",
       "    <tr>\n",
       "      <th>0</th>\n",
       "      <td>2.459245e+06</td>\n",
       "      <td>-0.053392</td>\n",
       "      <td>0.01623</td>\n",
       "    </tr>\n",
       "    <tr>\n",
       "      <th>1</th>\n",
       "      <td>2.459488e+06</td>\n",
       "      <td>-0.029687</td>\n",
       "      <td>0.01424</td>\n",
       "    </tr>\n",
       "    <tr>\n",
       "      <th>2</th>\n",
       "      <td>2.459508e+06</td>\n",
       "      <td>0.068336</td>\n",
       "      <td>0.01874</td>\n",
       "    </tr>\n",
       "    <tr>\n",
       "      <th>3</th>\n",
       "      <td>2.459508e+06</td>\n",
       "      <td>0.061334</td>\n",
       "      <td>0.01405</td>\n",
       "    </tr>\n",
       "    <tr>\n",
       "      <th>4</th>\n",
       "      <td>2.459510e+06</td>\n",
       "      <td>0.105841</td>\n",
       "      <td>0.01895</td>\n",
       "    </tr>\n",
       "    <tr>\n",
       "      <th>5</th>\n",
       "      <td>2.459510e+06</td>\n",
       "      <td>0.045615</td>\n",
       "      <td>0.01487</td>\n",
       "    </tr>\n",
       "    <tr>\n",
       "      <th>6</th>\n",
       "      <td>2.459515e+06</td>\n",
       "      <td>-0.019704</td>\n",
       "      <td>0.01701</td>\n",
       "    </tr>\n",
       "    <tr>\n",
       "      <th>7</th>\n",
       "      <td>2.459515e+06</td>\n",
       "      <td>0.000000</td>\n",
       "      <td>0.01431</td>\n",
       "    </tr>\n",
       "    <tr>\n",
       "      <th>8</th>\n",
       "      <td>2.459531e+06</td>\n",
       "      <td>-0.046459</td>\n",
       "      <td>0.01720</td>\n",
       "    </tr>\n",
       "  </tbody>\n",
       "</table>\n",
       "</div>"
      ],
      "text/plain": [
       "            bjd        rv   rv_err\n",
       "0  2.459245e+06 -0.053392  0.01623\n",
       "1  2.459488e+06 -0.029687  0.01424\n",
       "2  2.459508e+06  0.068336  0.01874\n",
       "3  2.459508e+06  0.061334  0.01405\n",
       "4  2.459510e+06  0.105841  0.01895\n",
       "5  2.459510e+06  0.045615  0.01487\n",
       "6  2.459515e+06 -0.019704  0.01701\n",
       "7  2.459515e+06  0.000000  0.01431\n",
       "8  2.459531e+06 -0.046459  0.01720"
      ]
     },
     "execution_count": 2,
     "metadata": {},
     "output_type": "execute_result"
    }
   ],
   "source": [
    "df_all=pd.read_csv('../data/rv/TOI1696_rv_all.dat', sep=',')\n",
    "df_yj=pd.read_csv('../data/rv/TOI1696_rv_yj.dat', sep=',')\n",
    "df_yj"
   ]
  },
  {
   "cell_type": "code",
   "execution_count": 3,
   "metadata": {},
   "outputs": [],
   "source": [
    "df = df_yj"
   ]
  },
  {
   "cell_type": "code",
   "execution_count": 4,
   "metadata": {},
   "outputs": [
    {
     "data": {
      "text/plain": [
       "[<matplotlib.lines.Line2D at 0x7fb9317708e0>]"
      ]
     },
     "execution_count": 4,
     "metadata": {},
     "output_type": "execute_result"
    },
    {
     "data": {
      "image/png": "[encoded data removed]",
      "text/plain": [
       "<Figure size 432x288 with 1 Axes>"
      ]
     },
     "metadata": {
      "needs_background": "light"
     },
     "output_type": "display_data"
    }
   ],
   "source": [
    "pl.plot(df['bjd'],df['rv'], '.')"
   ]
  },
  {
   "cell_type": "code",
   "execution_count": 5,
   "metadata": {},
   "outputs": [],
   "source": [
    "T0 = 2459206.74743\n",
    "P = 2.50079 #day\n",
    "Ms = 0.261#solar mass\n",
    "Mp = 68 #earth mass, tentative\n",
    "\n",
    "a_rs = (0.023 * con.au/ (0.268 * con.R_sun)).value\n",
    "\n",
    "b = 0.49\n",
    "inc = np.arccos(b / a_rs)#rad"
   ]
  },
  {
   "cell_type": "code",
   "execution_count": 6,
   "metadata": {},
   "outputs": [],
   "source": [
    "def rv_model_K(K, t0, p, tm):  \n",
    "    rv = K* np.sin(2 * np.pi / p * (tm-t0))\n",
    "    return rv\n",
    "def rv_model_K_phase(K, ph):\n",
    "    rv = K*np.sin(ph*np.pi*2)\n",
    "    return rv"
   ]
  },
  {
   "cell_type": "code",
   "execution_count": 7,
   "metadata": {},
   "outputs": [],
   "source": [
    "# 横軸phaseでplotするために\n",
    "\n",
    "def phase(OBS_JD, T0, P):\n",
    "    n = np.floor((OBS_JD-T0)/P)\n",
    "    tr_before = T0 + n * P             #the JD of the last transit (phase=0) before the observation\n",
    "    ph = (OBS_JD - tr_before)/P\n",
    "    return ph"
   ]
  },
  {
   "cell_type": "code",
   "execution_count": 8,
   "metadata": {},
   "outputs": [
    {
     "data": {
      "text/plain": [
       "[<matplotlib.lines.Line2D at 0x7fb931653e80>]"
      ]
     },
     "execution_count": 8,
     "metadata": {},
     "output_type": "execute_result"
    },
    {
     "data": {
      "image/png": "[encoded data removed]",
      "text/plain": [
       "<Figure size 432x288 with 1 Axes>"
      ]
     },
     "metadata": {
      "needs_background": "light"
     },
     "output_type": "display_data"
    }
   ],
   "source": [
    "phase_obs = phase(df['bjd'], T0, P)\n",
    "phase_pr = np.linspace(0,1,10000)\n",
    "\n",
    "pl.plot(phase_obs, df['rv'], '.')\n",
    "pl.plot(phase_pr, rv_model_K_phase(0.08, phase_pr), '-')"
   ]
  },
  {
   "cell_type": "code",
   "execution_count": 9,
   "metadata": {},
   "outputs": [
    {
     "data": {
      "text/plain": [
       "[<matplotlib.lines.Line2D at 0x7fb93163bdf0>]"
      ]
     },
     "execution_count": 9,
     "metadata": {},
     "output_type": "execute_result"
    },
    {
     "data": {
      "image/png": "[encoded data removed]",
      "text/plain": [
       "<Figure size 432x288 with 1 Axes>"
      ]
     },
     "metadata": {
      "needs_background": "light"
     },
     "output_type": "display_data"
    }
   ],
   "source": [
    "pl.plot(phase_obs, df['rv'], '.')\n",
    "pl.plot(phase_obs, rv_model_K_phase(0.08, phase_obs), '.')\n",
    "pl.plot(phase_pr, rv_model_K_phase(0.08, phase_pr), '-')"
   ]
  },
  {
   "cell_type": "code",
   "execution_count": 10,
   "metadata": {},
   "outputs": [
    {
     "data": {
      "text/html": [
       "<div>\n",
       "<style scoped>\n",
       "    .dataframe tbody tr th:only-of-type {\n",
       "        vertical-align: middle;\n",
       "    }\n",
       "\n",
       "    .dataframe tbody tr th {\n",
       "        vertical-align: top;\n",
       "    }\n",
       "\n",
       "    .dataframe thead th {\n",
       "        text-align: right;\n",
       "    }\n",
       "</style>\n",
       "<table border=\"1\" class=\"dataframe\">\n",
       "  <thead>\n",
       "    <tr style=\"text-align: right;\">\n",
       "      <th></th>\n",
       "      <th>phase</th>\n",
       "      <th>rv_obs</th>\n",
       "      <th>rv_model</th>\n",
       "    </tr>\n",
       "  </thead>\n",
       "  <tbody>\n",
       "    <tr>\n",
       "      <th>0</th>\n",
       "      <td>0.250090</td>\n",
       "      <td>-0.053392</td>\n",
       "      <td>0.080000</td>\n",
       "    </tr>\n",
       "    <tr>\n",
       "      <th>1</th>\n",
       "      <td>0.445876</td>\n",
       "      <td>-0.029687</td>\n",
       "      <td>0.026684</td>\n",
       "    </tr>\n",
       "    <tr>\n",
       "      <th>2</th>\n",
       "      <td>0.427791</td>\n",
       "      <td>0.068336</td>\n",
       "      <td>0.035064</td>\n",
       "    </tr>\n",
       "    <tr>\n",
       "      <th>3</th>\n",
       "      <td>0.487738</td>\n",
       "      <td>0.061334</td>\n",
       "      <td>0.006157</td>\n",
       "    </tr>\n",
       "    <tr>\n",
       "      <th>4</th>\n",
       "      <td>0.217534</td>\n",
       "      <td>0.105841</td>\n",
       "      <td>0.078341</td>\n",
       "    </tr>\n",
       "    <tr>\n",
       "      <th>5</th>\n",
       "      <td>0.285627</td>\n",
       "      <td>0.045615</td>\n",
       "      <td>0.078004</td>\n",
       "    </tr>\n",
       "    <tr>\n",
       "      <th>6</th>\n",
       "      <td>0.229187</td>\n",
       "      <td>-0.019704</td>\n",
       "      <td>0.079317</td>\n",
       "    </tr>\n",
       "    <tr>\n",
       "      <th>7</th>\n",
       "      <td>0.308506</td>\n",
       "      <td>0.000000</td>\n",
       "      <td>0.074655</td>\n",
       "    </tr>\n",
       "    <tr>\n",
       "      <th>8</th>\n",
       "      <td>0.595197</td>\n",
       "      <td>-0.046459</td>\n",
       "      <td>-0.045049</td>\n",
       "    </tr>\n",
       "  </tbody>\n",
       "</table>\n",
       "</div>"
      ],
      "text/plain": [
       "      phase    rv_obs  rv_model\n",
       "0  0.250090 -0.053392  0.080000\n",
       "1  0.445876 -0.029687  0.026684\n",
       "2  0.427791  0.068336  0.035064\n",
       "3  0.487738  0.061334  0.006157\n",
       "4  0.217534  0.105841  0.078341\n",
       "5  0.285627  0.045615  0.078004\n",
       "6  0.229187 -0.019704  0.079317\n",
       "7  0.308506  0.000000  0.074655\n",
       "8  0.595197 -0.046459 -0.045049"
      ]
     },
     "execution_count": 10,
     "metadata": {},
     "output_type": "execute_result"
    }
   ],
   "source": [
    "pd.DataFrame({'phase':phase_obs, 'rv_obs':df['rv'], 'rv_model':rv_model_K_phase(0.08, phase_obs)})"
   ]
  },
  {
   "cell_type": "code",
   "execution_count": 11,
   "metadata": {},
   "outputs": [],
   "source": [
    "def logprob(K):\n",
    "    rv_o = df['rv']\n",
    "    rv_e = df['rv_err']\n",
    "    rv_m = rv_model_K_phase(K, phase_obs)\n",
    "    \n",
    "    return -0.5 * np.sum(((rv_o - rv_m)/rv_e)**2)"
   ]
  },
  {
   "cell_type": "code",
   "execution_count": 12,
   "metadata": {},
   "outputs": [
    {
     "name": "stderr",
     "output_type": "stream",
     "text": [
      "100%|██████████| 1000/1000 [00:58<00:00, 16.10it/s]\n"
     ]
    },
    {
     "data": {
      "text/plain": [
       "State([[ 0.02611394]\n",
       " [ 0.0118273 ]\n",
       " [ 0.0148424 ]\n",
       " [ 0.01944604]\n",
       " [ 0.01443824]\n",
       " [ 0.01138697]\n",
       " [ 0.02516232]\n",
       " [ 0.01476693]\n",
       " [ 0.01953983]\n",
       " [ 0.02782361]\n",
       " [ 0.03000146]\n",
       " [ 0.02569741]\n",
       " [ 0.00640531]\n",
       " [ 0.02148824]\n",
       " [ 0.01158473]\n",
       " [ 0.0221591 ]\n",
       " [ 0.02438978]\n",
       " [ 0.02420231]\n",
       " [ 0.02132529]\n",
       " [ 0.01631359]\n",
       " [ 0.01495863]\n",
       " [ 0.00392162]\n",
       " [ 0.02297775]\n",
       " [ 0.02340966]\n",
       " [ 0.02488705]\n",
       " [ 0.0105471 ]\n",
       " [ 0.01078886]\n",
       " [ 0.00870365]\n",
       " [ 0.01591749]\n",
       " [ 0.01888431]\n",
       " [ 0.02083293]\n",
       " [ 0.00632378]\n",
       " [ 0.02091117]\n",
       " [ 0.02090093]\n",
       " [ 0.01890507]\n",
       " [ 0.02819914]\n",
       " [ 0.01389372]\n",
       " [ 0.01247103]\n",
       " [ 0.01665161]\n",
       " [ 0.02968888]\n",
       " [ 0.01625795]\n",
       " [ 0.01637405]\n",
       " [ 0.01624574]\n",
       " [ 0.02525748]\n",
       " [ 0.02108802]\n",
       " [ 0.01763343]\n",
       " [ 0.00990587]\n",
       " [ 0.01052569]\n",
       " [ 0.00068022]\n",
       " [ 0.01221401]\n",
       " [ 0.00810034]\n",
       " [-0.00012883]\n",
       " [ 0.01995257]\n",
       " [ 0.02548968]\n",
       " [ 0.01441311]\n",
       " [ 0.01339582]\n",
       " [ 0.01725778]\n",
       " [ 0.01669437]\n",
       " [ 0.00450931]\n",
       " [ 0.01980082]\n",
       " [ 0.01349659]\n",
       " [ 0.01307104]\n",
       " [ 0.00954431]\n",
       " [ 0.01459486]\n",
       " [ 0.02482016]\n",
       " [ 0.00901841]\n",
       " [ 0.02225387]\n",
       " [ 0.01828119]\n",
       " [ 0.01610153]\n",
       " [ 0.01113831]\n",
       " [ 0.02338488]\n",
       " [ 0.01233819]\n",
       " [ 0.0189384 ]\n",
       " [ 0.02413391]\n",
       " [ 0.02282104]\n",
       " [ 0.02220066]\n",
       " [ 0.00991517]\n",
       " [ 0.01794525]\n",
       " [ 0.01908266]\n",
       " [ 0.01293284]\n",
       " [ 0.01338905]\n",
       " [ 0.01787462]\n",
       " [ 0.02286585]\n",
       " [ 0.01626699]\n",
       " [ 0.02308511]\n",
       " [ 0.02923094]\n",
       " [ 0.00910017]\n",
       " [ 0.02267012]\n",
       " [ 0.01232275]\n",
       " [ 0.02846004]\n",
       " [ 0.00979302]\n",
       " [ 0.01268523]\n",
       " [ 0.01820837]\n",
       " [ 0.01393528]\n",
       " [ 0.0301117 ]\n",
       " [ 0.01626379]\n",
       " [ 0.01634475]\n",
       " [ 0.02831874]\n",
       " [ 0.01185817]\n",
       " [ 0.02652755]], log_prob=[-45.79218568 -45.46789073 -45.18604979 -45.11722455 -45.21295332\n",
       " -45.52473395 -45.63979015 -45.19081773 -45.1203633  -46.11287329\n",
       " -46.60864308 -45.72318394 -46.44621987 -45.22658082 -45.49870989\n",
       " -45.28126385 -45.52980201 -45.50496655 -45.21469945 -45.11655641\n",
       " -45.17893668 -47.09675302 -45.36056256 -45.40796565 -45.59918923\n",
       " -45.64423654 -45.60834616 -45.95751906 -45.13087753 -45.10222093\n",
       " -45.18212299 -46.46555616 -45.1869658  -45.18632482 -45.10265972\n",
       " -46.19138282 -45.25452387 -45.39198384 -45.10689263 -46.53147751\n",
       " -45.11837269 -45.1146549  -45.1187798  -45.65418907 -45.19837674\n",
       " -45.09217991 -45.74526302 -45.64747172 -48.13701295 -45.42126627\n",
       " -46.07526127 -48.43043561 -45.13633094 -45.69010875 -45.21473684\n",
       " -45.29788485 -45.09546216 -45.10583806 -46.93133774 -45.13005193\n",
       " -45.28869628 -45.32892277 -45.80596425 -45.20212791 -45.58955781\n",
       " -45.89906806 -45.28973655 -45.09335292 -45.12382131 -45.55859972\n",
       " -45.40514223 -45.40694782 -45.10338259 -45.49608586 -45.34431367\n",
       " -45.28495702 -45.74373667 -45.09166488 -45.10677593 -45.34278938\n",
       " -45.29850957 -45.09160595 -45.34890824 -45.11807338 -45.37198645\n",
       " -46.4220625  -45.88421882 -45.32914351 -45.40871101 -46.24764055\n",
       " -45.7639192  -45.36861952 -45.09278951 -45.25113529 -46.63633809\n",
       " -45.11817921 -45.11556698 -46.21699886 -45.46405529 -45.86424187], blobs=None, random_state=('MT19937', array([2612240348, 1486662461, 1965528314,  630071687, 1679955626,\n",
       "       3373565231,  488899371, 3016965845, 3883227559, 3726763442,\n",
       "       1761700828, 1459356356, 3779309409,  634822930, 2758307134,\n",
       "       3537187359, 1555724956, 3615944227, 4240466211, 4245855630,\n",
       "       1614242619, 2096556429,  429131713, 2020076209, 2702518231,\n",
       "       1330319440, 1371873334, 4157475550, 1193722367, 3000723292,\n",
       "        900202582, 2401758059, 4246729256, 3537470237, 3646874778,\n",
       "       2177362773, 2663567902, 3093140892, 1947357297,  715520644,\n",
       "       3407404377,  803211708, 2542069509, 3090197790, 1455718301,\n",
       "       3149606885, 3809167027,  497913532, 1081289433, 3113831518,\n",
       "       1410523060, 3966263801, 1627234557, 1746252989, 1816922199,\n",
       "       3396268966, 1163569119, 3225244379, 1487211767, 3128886766,\n",
       "       2911485753, 2190058655, 3853822434, 3841714308,  613491487,\n",
       "       3834868428, 3533220939,  985968673, 2129874636, 1967676598,\n",
       "       3431750012,  926473685, 3647480514, 1251658702, 2675580979,\n",
       "       1110661326, 3343896355, 2269648569, 1420445213, 4035540238,\n",
       "       1234583811, 3328899243, 4068264973,  794136844,  546325639,\n",
       "       1965070851, 2748150959, 1421665430, 1682710956, 1190832608,\n",
       "       1847906668,  381054821,  720856999, 3355657208, 1213155370,\n",
       "       1012388832, 2080856977, 2403870429,  268959122, 1964694695,\n",
       "       2184621142, 3132633300, 1809125652, 2414025710, 2786280793,\n",
       "       3234673214,  900202048, 2875508815, 2424025484, 3883254995,\n",
       "         95426855, 2450044675, 1167238885, 2210287186, 2608291000,\n",
       "       4046144074, 2816869472,  884320221, 4220648926,   11291598,\n",
       "       1843122401,  301252613, 2131617383, 1865732919, 1652016286,\n",
       "       1493641255, 2702794776, 2530947511, 3347976815, 2917298345,\n",
       "       2810475722, 4127766829, 1715470206,  781252460, 1663749285,\n",
       "       3303396592,  623395533,  134440675, 3490827682, 2775084395,\n",
       "       4144207088, 3292191892,  738727490, 4138244416, 2580295404,\n",
       "       2571316091,  856669289, 3216186203, 4001177944, 2545035404,\n",
       "       1514092850,  625461116, 2414315478, 3415230068, 3675916034,\n",
       "       2032773437,  556339904, 2085389188, 2887918985, 3350965235,\n",
       "       3733328668,  961764038, 1175315428, 3508874554, 1320981294,\n",
       "       1624655498, 1170766435, 2565104371, 3866748543, 1368165398,\n",
       "       2979896964,  582598445, 2853303603, 2335106735, 3160324576,\n",
       "       4193754683, 1845830858, 1505345421, 1124952788, 3623417202,\n",
       "       4194650678, 3984043042, 2248898060, 2497090831, 1066093564,\n",
       "       4096365876, 3142680940,  529735320, 4064582692, 1660951173,\n",
       "        267080760,  837639468, 2207360219, 1539384703, 3234565420,\n",
       "       1307704095, 2118364481, 1032003605, 1572953022,  585550967,\n",
       "       3921159458, 4084308695, 1993486256,  255141777,  973872709,\n",
       "        820316276, 2449029904, 3805316217, 3165006482, 2699908976,\n",
       "       1755497766, 1793038130, 4018220524,  537023906, 2145062457,\n",
       "       1887858678,   40005572,  284460024, 2134961480, 1196841515,\n",
       "       2182511526,  546656379, 3348961980, 2231465013, 3265324505,\n",
       "       3255569606, 4284618774, 1484492644, 3480183343, 4121368546,\n",
       "       1492931138, 3857682179, 1458754340, 3666832040, 1334160651,\n",
       "       4031582265, 1477715356, 3152787938, 3648434517,  839006585,\n",
       "       2485086004,  915021155,  888447587, 3804906853, 3020672333,\n",
       "       4064294491,  161812694, 2104700046, 2787720328, 1745228407,\n",
       "        670638699, 3375715269,  925806344,  949969318, 4113257017,\n",
       "       3138326451, 3385368959, 3648199698, 1688942112, 1258326147,\n",
       "       1686690031, 1960728142, 3487152167,   68540212, 2543769789,\n",
       "       1812258020, 1769599278, 3478278244,  271057240, 2619432610,\n",
       "       3571123933, 1301775179, 4181892865, 3656713780,  431994344,\n",
       "       1618093024, 3937236868, 3527107868,  213461440,  139633635,\n",
       "       2597442408,  716274171,  536034115, 3597953249, 2496581992,\n",
       "       3982924299, 4169178396, 1408218180,   80030942, 1088472450,\n",
       "       3690196455, 4139079231,  520567425, 2761520724, 3752880485,\n",
       "       3603842439, 1927029383, 3461775494, 1686637801,  720782397,\n",
       "       1450060380,  587478344, 3099550940,   18422406, 2100996741,\n",
       "        984977433, 1043108632, 4125795687, 2904890737, 3316269014,\n",
       "        503957837,  522065638, 3062890000, 1180862788, 4211103213,\n",
       "       1525261854,   11151258, 1672274584,  714967299,  996062616,\n",
       "       3548025056, 4045249377, 1433125486, 2994938605, 1874016743,\n",
       "       1089413300,  501224471,  508034386, 3957345425, 3004816122,\n",
       "       1760865507,  896064099, 1731504187, 1685826857, 1913552528,\n",
       "       2052856285,  381601552, 3269944407, 2389827970, 2146063413,\n",
       "       1134685515, 4148300495,  652813624,  300295838, 1780698811,\n",
       "       1661287294, 1946553547, 1081514591, 4050932231, 1392442589,\n",
       "        428320465, 3447317983, 3002436416,  766376192, 3362690447,\n",
       "       2747527372, 3862488250,  674812112, 2892746868, 1290326581,\n",
       "       2798272632, 3426888332, 3223452978,  257913303, 1007594856,\n",
       "       3449777456, 3091854519,   79952636,  484716863, 4134081607,\n",
       "       2103587598,  730038713,  829811309, 2905637091, 3377982066,\n",
       "       2379892864, 2159452615, 1062331394, 1629076275, 3291549752,\n",
       "       3537588624, 2610488343, 4204526234, 2598113862, 3304347571,\n",
       "        416701256, 3877780763, 2412755600,  583305682, 3626132675,\n",
       "       1445880174, 3473141463,  226986201, 2967256364, 2486639561,\n",
       "       2561048934, 1185838786, 2089800631, 1585687699, 1814608370,\n",
       "       1725509786,  408149443, 3467886607, 2608851676, 1673719017,\n",
       "        154287903, 3472598739, 2843508278, 4125415195, 3537059077,\n",
       "       2528052131,  300145164, 3222976695, 3661363064, 3697250507,\n",
       "       1677486108, 1763728501, 3745784231, 2448935795,  659721557,\n",
       "        400500351,  634479501, 1033517931, 3815371134, 2639872267,\n",
       "       3475974591, 3940690825, 3408790021, 4073788150, 4224597987,\n",
       "       2940949986, 3226714727, 1474267796, 1948554287, 2404228976,\n",
       "       2323715729,  596946342, 2878875508, 4120855120, 2762450999,\n",
       "        502402382, 1355116274, 3914747490, 2776121612, 1135262957,\n",
       "        681489336,  685721761, 2193125254, 2078504640, 3305420235,\n",
       "       3441248434, 3382362576, 3295038948, 4265921098, 2933574025,\n",
       "       2422759609,   15929965, 4113299420, 2636037000,  319965369,\n",
       "       2455335332, 1283691485, 1686427590, 1756222532,  174168985,\n",
       "       1357388340, 1978059932, 4050878085, 1615015183,  997219327,\n",
       "       3233768489, 1430230784, 3437354889, 3311831888, 3263296394,\n",
       "       1865891051, 1857340331, 1483528615, 2256590077, 1335726986,\n",
       "        957182514, 1676583591, 2090453638,  439228062, 2420242714,\n",
       "        650148702, 4123512580, 3375956136, 1377626185, 3841694861,\n",
       "       1344030849, 4140065584,   17968544, 1134796991, 2398166251,\n",
       "       1336832887,  148497299,  828563748, 2800947383,  254722458,\n",
       "         66060668, 2048355283,  165927948,  852632679, 3627773100,\n",
       "       4060754416, 3506063580, 2649197685, 2134998125, 2715259317,\n",
       "       1637939650, 3447331199, 2109931319, 3493996860,  708524277,\n",
       "        968006821, 2039638090,  120469476, 1688136186, 3298679648,\n",
       "        560534608, 3073151506, 2234997726,  892660205,  403407823,\n",
       "       2317305172, 2588224847, 1589282770,  755523007, 1974994633,\n",
       "        523958224, 1331932575, 4054185361, 2018324078, 1058622642,\n",
       "       2488027042, 2771810297, 4158619500,  457404134, 3012445833,\n",
       "       2897718776, 3483677606,  799264829, 2353459648, 1090535089,\n",
       "       3548343402, 2482683576, 3025940857, 3373520063, 1039424753,\n",
       "       3384936333, 1608165077, 3734217006, 1056512116,  977290931,\n",
       "       4059794790, 3200057234,  622577810, 1538736505, 1511308040,\n",
       "       3729760184, 3411193588, 1761463889, 4126156243, 3292325348,\n",
       "        986466774,  813921051, 3685627569, 3529721115, 3223367670,\n",
       "       2305361626, 3791033483,  322323543, 4073802988, 2245275244,\n",
       "       4286289903,  200142220, 1212017935, 1498482731, 2735057513,\n",
       "       3013183034, 1701323365,  535407711, 1827921016, 3151424517,\n",
       "        742425081, 1358000765, 3693841997,  442218856, 1286752799,\n",
       "       1398770491, 2016931491,  312318032, 3646426478, 3920312113,\n",
       "       2839411187,  711030255, 1728139900,  611217349, 2579395564,\n",
       "       1048503012, 2107106541,  818643523, 3517679032, 2952912559,\n",
       "       3369232915, 4254443028, 2007748459, 1867229892, 1230842423,\n",
       "       1859249969,  335804103, 1997292589, 1966613824,  526468375,\n",
       "       2651055652, 3315309565, 2539397775, 2502360070,  944459807,\n",
       "        433007599, 2265642057, 3292697521, 1266137388], dtype=uint32), 94, 0, 0.0))"
      ]
     },
     "execution_count": 12,
     "metadata": {},
     "output_type": "execute_result"
    }
   ],
   "source": [
    "import emcee\n",
    "\n",
    "K=[0.05]\n",
    "\n",
    "dim = 1\n",
    "nwalkers = 100\n",
    "nsteps=1000\n",
    "pos0 = [K + 1e-4 * np.random.randn(dim) for i in range(nwalkers)]\n",
    "\n",
    "sampler = emcee.EnsembleSampler(nwalkers, dim, logprob)\n",
    "sampler.run_mcmc(pos0, nsteps, progress=True)"
   ]
  },
  {
   "cell_type": "code",
   "execution_count": 13,
   "metadata": {},
   "outputs": [
    {
     "data": {
      "text/plain": [
       "(100, 1000, 1)"
      ]
     },
     "execution_count": 13,
     "metadata": {},
     "output_type": "execute_result"
    }
   ],
   "source": [
    "sampler.chain[:,:].shape"
   ]
  },
  {
   "cell_type": "code",
   "execution_count": 14,
   "metadata": {},
   "outputs": [
    {
     "data": {
      "text/plain": [
       "[<matplotlib.lines.Line2D at 0x7fb92e651280>,\n",
       " <matplotlib.lines.Line2D at 0x7fb92e6512e0>,\n",
       " <matplotlib.lines.Line2D at 0x7fb92e6513a0>,\n",
       " <matplotlib.lines.Line2D at 0x7fb92e651460>,\n",
       " <matplotlib.lines.Line2D at 0x7fb92e651520>,\n",
       " <matplotlib.lines.Line2D at 0x7fb92e6515e0>,\n",
       " <matplotlib.lines.Line2D at 0x7fb92e6516a0>,\n",
       " <matplotlib.lines.Line2D at 0x7fb92e651760>,\n",
       " <matplotlib.lines.Line2D at 0x7fb92e651820>,\n",
       " <matplotlib.lines.Line2D at 0x7fb92e6518e0>,\n",
       " <matplotlib.lines.Line2D at 0x7fb92e6519a0>,\n",
       " <matplotlib.lines.Line2D at 0x7fb92e651a60>,\n",
       " <matplotlib.lines.Line2D at 0x7fb92e651b20>,\n",
       " <matplotlib.lines.Line2D at 0x7fb92e651be0>,\n",
       " <matplotlib.lines.Line2D at 0x7fb92e651ca0>,\n",
       " <matplotlib.lines.Line2D at 0x7fb92e651d60>,\n",
       " <matplotlib.lines.Line2D at 0x7fb92e651e20>,\n",
       " <matplotlib.lines.Line2D at 0x7fb92e651ee0>,\n",
       " <matplotlib.lines.Line2D at 0x7fb92e651fa0>,\n",
       " <matplotlib.lines.Line2D at 0x7fb92e6570a0>,\n",
       " <matplotlib.lines.Line2D at 0x7fb92e657160>,\n",
       " <matplotlib.lines.Line2D at 0x7fb92e657220>,\n",
       " <matplotlib.lines.Line2D at 0x7fb92e6572e0>,\n",
       " <matplotlib.lines.Line2D at 0x7fb92e6573a0>,\n",
       " <matplotlib.lines.Line2D at 0x7fb92e657460>,\n",
       " <matplotlib.lines.Line2D at 0x7fb92e657520>,\n",
       " <matplotlib.lines.Line2D at 0x7fb92e6575e0>,\n",
       " <matplotlib.lines.Line2D at 0x7fb92e6576a0>,\n",
       " <matplotlib.lines.Line2D at 0x7fb92e657760>,\n",
       " <matplotlib.lines.Line2D at 0x7fb92e657850>,\n",
       " <matplotlib.lines.Line2D at 0x7fb92e657910>,\n",
       " <matplotlib.lines.Line2D at 0x7fb92e6579d0>,\n",
       " <matplotlib.lines.Line2D at 0x7fb92e657a90>,\n",
       " <matplotlib.lines.Line2D at 0x7fb92e657b50>,\n",
       " <matplotlib.lines.Line2D at 0x7fb92e657c10>,\n",
       " <matplotlib.lines.Line2D at 0x7fb92e657cd0>,\n",
       " <matplotlib.lines.Line2D at 0x7fb92e657d90>,\n",
       " <matplotlib.lines.Line2D at 0x7fb92e657e50>,\n",
       " <matplotlib.lines.Line2D at 0x7fb92e657f10>,\n",
       " <matplotlib.lines.Line2D at 0x7fb92e657fd0>,\n",
       " <matplotlib.lines.Line2D at 0x7fb92e65c0d0>,\n",
       " <matplotlib.lines.Line2D at 0x7fb92e65c190>,\n",
       " <matplotlib.lines.Line2D at 0x7fb92e65c250>,\n",
       " <matplotlib.lines.Line2D at 0x7fb92e65c310>,\n",
       " <matplotlib.lines.Line2D at 0x7fb92e65c3d0>,\n",
       " <matplotlib.lines.Line2D at 0x7fb92e65c490>,\n",
       " <matplotlib.lines.Line2D at 0x7fb92e65c550>,\n",
       " <matplotlib.lines.Line2D at 0x7fb92e65c610>,\n",
       " <matplotlib.lines.Line2D at 0x7fb92e65c6d0>,\n",
       " <matplotlib.lines.Line2D at 0x7fb92e65c790>,\n",
       " <matplotlib.lines.Line2D at 0x7fb92e65c850>,\n",
       " <matplotlib.lines.Line2D at 0x7fb92e65c910>,\n",
       " <matplotlib.lines.Line2D at 0x7fb92e65c9d0>,\n",
       " <matplotlib.lines.Line2D at 0x7fb92e65ca90>,\n",
       " <matplotlib.lines.Line2D at 0x7fb92e65cb50>,\n",
       " <matplotlib.lines.Line2D at 0x7fb92e65cc10>,\n",
       " <matplotlib.lines.Line2D at 0x7fb92e65ccd0>,\n",
       " <matplotlib.lines.Line2D at 0x7fb92e65cd90>,\n",
       " <matplotlib.lines.Line2D at 0x7fb92e65ce50>,\n",
       " <matplotlib.lines.Line2D at 0x7fb92e65cf10>,\n",
       " <matplotlib.lines.Line2D at 0x7fb92e65cfd0>,\n",
       " <matplotlib.lines.Line2D at 0x7fb92e662100>,\n",
       " <matplotlib.lines.Line2D at 0x7fb92e6621c0>,\n",
       " <matplotlib.lines.Line2D at 0x7fb92e662280>,\n",
       " <matplotlib.lines.Line2D at 0x7fb92e662340>,\n",
       " <matplotlib.lines.Line2D at 0x7fb92e662400>,\n",
       " <matplotlib.lines.Line2D at 0x7fb92e6624c0>,\n",
       " <matplotlib.lines.Line2D at 0x7fb92e662580>,\n",
       " <matplotlib.lines.Line2D at 0x7fb92e662640>,\n",
       " <matplotlib.lines.Line2D at 0x7fb92e662700>,\n",
       " <matplotlib.lines.Line2D at 0x7fb92e6627c0>,\n",
       " <matplotlib.lines.Line2D at 0x7fb92e662880>,\n",
       " <matplotlib.lines.Line2D at 0x7fb92e662940>,\n",
       " <matplotlib.lines.Line2D at 0x7fb92e662a00>,\n",
       " <matplotlib.lines.Line2D at 0x7fb92e662ac0>,\n",
       " <matplotlib.lines.Line2D at 0x7fb92e662b80>,\n",
       " <matplotlib.lines.Line2D at 0x7fb92e662c40>,\n",
       " <matplotlib.lines.Line2D at 0x7fb92e662d00>,\n",
       " <matplotlib.lines.Line2D at 0x7fb92e662dc0>,\n",
       " <matplotlib.lines.Line2D at 0x7fb92e662e80>,\n",
       " <matplotlib.lines.Line2D at 0x7fb92e662f40>,\n",
       " <matplotlib.lines.Line2D at 0x7fb92e667040>,\n",
       " <matplotlib.lines.Line2D at 0x7fb92e667100>,\n",
       " <matplotlib.lines.Line2D at 0x7fb92e6671c0>,\n",
       " <matplotlib.lines.Line2D at 0x7fb92e667280>,\n",
       " <matplotlib.lines.Line2D at 0x7fb92e667340>,\n",
       " <matplotlib.lines.Line2D at 0x7fb92e667400>,\n",
       " <matplotlib.lines.Line2D at 0x7fb92e6674c0>,\n",
       " <matplotlib.lines.Line2D at 0x7fb92e667580>,\n",
       " <matplotlib.lines.Line2D at 0x7fb92e667640>,\n",
       " <matplotlib.lines.Line2D at 0x7fb92e667700>,\n",
       " <matplotlib.lines.Line2D at 0x7fb92e6677c0>,\n",
       " <matplotlib.lines.Line2D at 0x7fb92e667880>,\n",
       " <matplotlib.lines.Line2D at 0x7fb92e667940>,\n",
       " <matplotlib.lines.Line2D at 0x7fb92e667a00>,\n",
       " <matplotlib.lines.Line2D at 0x7fb92e667ac0>,\n",
       " <matplotlib.lines.Line2D at 0x7fb92e667b80>,\n",
       " <matplotlib.lines.Line2D at 0x7fb92e667c40>,\n",
       " <matplotlib.lines.Line2D at 0x7fb92e667d00>,\n",
       " <matplotlib.lines.Line2D at 0x7fb92e667dc0>]"
      ]
     },
     "execution_count": 14,
     "metadata": {},
     "output_type": "execute_result"
    },
    {
     "data": {
      "image/png": "[encoded data removed]",
      "text/plain": [
       "<Figure size 432x288 with 1 Axes>"
      ]
     },
     "metadata": {
      "needs_background": "light"
     },
     "output_type": "display_data"
    }
   ],
   "source": [
    "pl.plot(sampler.chain[:,:,0].T, color='k', alpha=0.1)"
   ]
  },
  {
   "cell_type": "code",
   "execution_count": 24,
   "metadata": {},
   "outputs": [
    {
     "data": {
      "text/plain": [
       "(array([4.000e+00, 1.000e+00, 1.000e+00, 6.000e+00, 2.300e+01, 2.300e+01,\n",
       "        1.900e+01, 6.700e+01, 1.190e+02, 1.530e+02, 2.590e+02, 4.280e+02,\n",
       "        7.130e+02, 1.028e+03, 1.353e+03, 1.875e+03, 2.539e+03, 2.886e+03,\n",
       "        3.537e+03, 4.025e+03, 4.795e+03, 4.955e+03, 5.586e+03, 5.651e+03,\n",
       "        5.756e+03, 5.553e+03, 5.125e+03, 4.732e+03, 4.210e+03, 3.610e+03,\n",
       "        2.897e+03, 2.227e+03, 1.737e+03, 1.411e+03, 9.270e+02, 6.250e+02,\n",
       "        4.220e+02, 2.840e+02, 2.030e+02, 1.090e+02, 5.400e+01, 3.200e+01,\n",
       "        1.800e+01, 8.000e+00, 6.000e+00, 6.000e+00, 0.000e+00, 0.000e+00,\n",
       "        0.000e+00, 2.000e+00]),\n",
       " array([-0.0124442 , -0.01118147, -0.00991874, -0.00865601, -0.00739328,\n",
       "        -0.00613055, -0.00486782, -0.00360509, -0.00234236, -0.00107963,\n",
       "         0.0001831 ,  0.00144583,  0.00270856,  0.00397129,  0.00523402,\n",
       "         0.00649676,  0.00775949,  0.00902222,  0.01028495,  0.01154768,\n",
       "         0.01281041,  0.01407314,  0.01533587,  0.0165986 ,  0.01786133,\n",
       "         0.01912406,  0.02038679,  0.02164952,  0.02291225,  0.02417498,\n",
       "         0.02543771,  0.02670044,  0.02796317,  0.0292259 ,  0.03048863,\n",
       "         0.03175137,  0.0330141 ,  0.03427683,  0.03553956,  0.03680229,\n",
       "         0.03806502,  0.03932775,  0.04059048,  0.04185321,  0.04311594,\n",
       "         0.04437867,  0.0456414 ,  0.04690413,  0.04816686,  0.04942959,\n",
       "         0.05069232]),\n",
       " <BarContainer object of 50 artists>)"
      ]
     },
     "execution_count": 24,
     "metadata": {},
     "output_type": "execute_result"
    },
    {
     "data": {
      "image/png": "[encoded data removed]",
      "text/plain": [
       "<Figure size 432x288 with 1 Axes>"
      ]
     },
     "metadata": {
      "needs_background": "light"
     },
     "output_type": "display_data"
    }
   ],
   "source": [
    "samples=sampler.chain[:,200:, :].reshape(-1)\n",
    "df_chain= pd.DataFrame(samples)\n",
    "pl.hist(samples, bins=50)"
   ]
  },
  {
   "cell_type": "code",
   "execution_count": 28,
   "metadata": {},
   "outputs": [
    {
     "name": "stdout",
     "output_type": "stream",
     "text": [
      "0.017852617328719303 0.007063806358682137 0.01364976245693221\n"
     ]
    }
   ],
   "source": [
    "A,B,C,D,E=np.percentile(df_chain[0], [ 2.5, 16, 50, 84, 97.5], axis=0)\n",
    "del1l =C-B   #1sigma\n",
    "del1h=D-C\n",
    "del2l=C-A   #2sigma\n",
    "del2h=E-C \n",
    "\n",
    "best_K = C\n",
    "best_K_err1=max(del1l,del1h)\n",
    "best_K_err2=max(del2l,del2h)\n",
    "\n",
    "print(best_K, best_K_err1, best_K_err2)"
   ]
  },
  {
   "cell_type": "markdown",
   "metadata": {},
   "source": [
    "収束判定まだしてないよ！"
   ]
  },
  {
   "cell_type": "code",
   "execution_count": 34,
   "metadata": {},
   "outputs": [
    {
     "data": {
      "text/plain": [
       "<matplotlib.collections.PolyCollection at 0x7fb927b36fd0>"
      ]
     },
     "execution_count": 34,
     "metadata": {},
     "output_type": "execute_result"
    },
    {
     "data": {
      "image/png": "[encoded data removed]",
      "text/plain": [
       "<Figure size 432x288 with 1 Axes>"
      ]
     },
     "metadata": {
      "needs_background": "light"
     },
     "output_type": "display_data"
    }
   ],
   "source": [
    "fig, ax = pl.subplots()\n",
    "\n",
    "ax.plot(phase_obs, df['rv'], '.')\n",
    "\n",
    "ax.plot(phase_pr, rv_model_K_phase(best_K, phase_pr), '-', color='k')\n",
    "\n",
    "y1 = rv_model_K_phase(best_K+best_K_err1, phase_pr)\n",
    "y2 = rv_model_K_phase(best_K-best_K_err1, phase_pr)\n",
    "\n",
    "ax.fill_between(phase_pr, y1, y2, color='k', alpha=0.2)"
   ]
  },
  {
   "cell_type": "code",
   "execution_count": null,
   "metadata": {},
   "outputs": [],
   "source": []
  }
 ],
 "metadata": {
  "kernelspec": {
   "display_name": "Python 3",
   "language": "python",
   "name": "python3"
  },
  "language_info": {
   "codemirror_mode": {
    "name": "ipython",
    "version": 3
   },
   "file_extension": ".py",
   "mimetype": "text/x-python",
   "name": "python",
   "nbconvert_exporter": "python",
   "pygments_lexer": "ipython3",
   "version": "3.8.5"
  }
 },
 "nbformat": 4,
 "nbformat_minor": 4
}
